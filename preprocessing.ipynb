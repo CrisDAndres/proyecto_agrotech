{
 "cells": [
  {
   "cell_type": "markdown",
   "metadata": {},
   "source": [
    "*Data source:*\n",
    "\n",
    "- [*FAOSTAT: Food and Agriculture Organization of the United Nations*](https://www.fao.org/faostat/en/#release_calendar)\n",
    "- [*The world bank*](https://databank.worldbank.org/)\n",
    "- *https://www.worldeconomics.com/*"
   ]
  },
  {
   "cell_type": "markdown",
   "metadata": {},
   "source": [
    "**Table of contents**<a id='toc0_'></a>    \n",
    "1. [Import libraries and other useful code.](#toc1_)    \n",
    "2. [Read, clean and arrange datasets.](#toc2_)    \n",
    "2.1. [Crop dataset](#toc2_1_)    \n",
    "2.2. [Precipitations dataset](#toc2_2_)    \n",
    "2.2.1. [Preprocessing](#toc2_2_1_) \n",
    "2.2.1.1. [NaN values](#toc2_2_1_1_)\n",
    "2.3. [Pesticides dataset](#toc2_3_)  \n",
    "2.3.1. [Preprocessing](#toc2_3_1_) \n",
    "2.3.1.1. [Outliers](#toc2_3_1_1_)   \n",
    "2.4. [Fertilizers dataset](#toc2_4_)    \n",
    "2.4.1. [Preprocessing](#toc2_4_1_)\n",
    "2.4.1.1. [NaN values](#toc2_4_1_1_) \n",
    "2.4.1.2. [Outliers](#toc2_4_1_2_) \n",
    "2.5. [Temperature dataset](#toc2_5_)    \n",
    "3. [Create final dataframe.](#toc3_)    \n",
    "3.1. [Preprocessing](#toc3_1_) \n",
    "3.1.1. [NaN values](#toc3_1_1_) \n",
    "3.1.2. [Outliers](#toc3_1_2_) "
   ]
  },
  {
   "cell_type": "markdown",
   "metadata": {},
   "source": [
    "---\n",
    "## 1. <a id='toc1_'></a>[Import libraries and other useful code](#toc0_)"
   ]
  },
  {
   "cell_type": "code",
   "execution_count": 114,
   "metadata": {},
   "outputs": [],
   "source": [
    "import numpy as np \n",
    "import pandas as pd\n",
    "import matplotlib.pyplot as plt\n",
    "import seaborn as sns\n",
    "import plotly_express as px\n",
    "from plotly.subplots import make_subplots\n",
    "import plotly.graph_objects as go"
   ]
  },
  {
   "cell_type": "code",
   "execution_count": 200,
   "metadata": {},
   "outputs": [],
   "source": [
    "# define color palette\n",
    "agro = ['#b2cb91','#9bc27e','#7fa465','#668f4f','#4e6f43','#59533e','#bf9000','#ffd966','#ffe599']"
   ]
  },
  {
   "cell_type": "code",
   "execution_count": 201,
   "metadata": {},
   "outputs": [],
   "source": [
    "sns.set(style=\"whitegrid\")  # Seaborn Grid Style"
   ]
  },
  {
   "cell_type": "code",
   "execution_count": null,
   "metadata": {},
   "outputs": [],
   "source": [
    "# Set the display of numbers in decimal notation\n",
    "pd.set_option('display.float_format', lambda x: '%.2f' % x)"
   ]
  },
  {
   "cell_type": "markdown",
   "metadata": {},
   "source": [
    "## 2. <a id='toc2_'></a>[Read, clean and arrange datasets](#toc0_)"
   ]
  },
  {
   "cell_type": "markdown",
   "metadata": {},
   "source": [
    "### 2.1. <a id='toc2_1_'></a>[Crop dataset](#toc0_)"
   ]
  },
  {
   "cell_type": "code",
   "execution_count": 388,
   "metadata": {},
   "outputs": [],
   "source": [
    "crop = pd.read_csv('Data/crop_yield/Production_Crops_Livestock_E_All_Data_Normalized.csv',encoding='latin-1', low_memory=False) # low_memory = False to avoid Dtypewarning"
   ]
  },
  {
   "cell_type": "code",
   "execution_count": 389,
   "metadata": {},
   "outputs": [
    {
     "data": {
      "text/plain": [
       "(4127584, 14)"
      ]
     },
     "execution_count": 389,
     "metadata": {},
     "output_type": "execute_result"
    }
   ],
   "source": [
    "crop.shape"
   ]
  },
  {
   "cell_type": "code",
   "execution_count": 390,
   "metadata": {},
   "outputs": [],
   "source": [
    "# To have the same years in the datasets, filter the datasets from year 1990\n",
    "crop = crop[crop['Year']>=1990]"
   ]
  },
  {
   "cell_type": "code",
   "execution_count": 391,
   "metadata": {},
   "outputs": [
    {
     "data": {
      "text/html": [
       "<div>\n",
       "<style scoped>\n",
       "    .dataframe tbody tr th:only-of-type {\n",
       "        vertical-align: middle;\n",
       "    }\n",
       "\n",
       "    .dataframe tbody tr th {\n",
       "        vertical-align: top;\n",
       "    }\n",
       "\n",
       "    .dataframe thead th {\n",
       "        text-align: right;\n",
       "    }\n",
       "</style>\n",
       "<table border=\"1\" class=\"dataframe\">\n",
       "  <thead>\n",
       "    <tr style=\"text-align: right;\">\n",
       "      <th></th>\n",
       "      <th>Area Code</th>\n",
       "      <th>Area Code (M49)</th>\n",
       "      <th>Area</th>\n",
       "      <th>Item Code</th>\n",
       "      <th>Item Code (CPC)</th>\n",
       "      <th>Item</th>\n",
       "      <th>Element Code</th>\n",
       "      <th>Element</th>\n",
       "      <th>Year Code</th>\n",
       "      <th>Year</th>\n",
       "      <th>Unit</th>\n",
       "      <th>Value</th>\n",
       "      <th>Flag</th>\n",
       "      <th>Note</th>\n",
       "    </tr>\n",
       "  </thead>\n",
       "  <tbody>\n",
       "    <tr>\n",
       "      <th>29</th>\n",
       "      <td>2</td>\n",
       "      <td>'004</td>\n",
       "      <td>Afghanistan</td>\n",
       "      <td>221</td>\n",
       "      <td>'01371</td>\n",
       "      <td>Almonds, in shell</td>\n",
       "      <td>5312</td>\n",
       "      <td>Area harvested</td>\n",
       "      <td>1990</td>\n",
       "      <td>1990</td>\n",
       "      <td>ha</td>\n",
       "      <td>6037.00</td>\n",
       "      <td>E</td>\n",
       "      <td>NaN</td>\n",
       "    </tr>\n",
       "    <tr>\n",
       "      <th>30</th>\n",
       "      <td>2</td>\n",
       "      <td>'004</td>\n",
       "      <td>Afghanistan</td>\n",
       "      <td>221</td>\n",
       "      <td>'01371</td>\n",
       "      <td>Almonds, in shell</td>\n",
       "      <td>5312</td>\n",
       "      <td>Area harvested</td>\n",
       "      <td>1991</td>\n",
       "      <td>1991</td>\n",
       "      <td>ha</td>\n",
       "      <td>5500.00</td>\n",
       "      <td>A</td>\n",
       "      <td>NaN</td>\n",
       "    </tr>\n",
       "    <tr>\n",
       "      <th>31</th>\n",
       "      <td>2</td>\n",
       "      <td>'004</td>\n",
       "      <td>Afghanistan</td>\n",
       "      <td>221</td>\n",
       "      <td>'01371</td>\n",
       "      <td>Almonds, in shell</td>\n",
       "      <td>5312</td>\n",
       "      <td>Area harvested</td>\n",
       "      <td>1992</td>\n",
       "      <td>1992</td>\n",
       "      <td>ha</td>\n",
       "      <td>5500.00</td>\n",
       "      <td>A</td>\n",
       "      <td>NaN</td>\n",
       "    </tr>\n",
       "    <tr>\n",
       "      <th>32</th>\n",
       "      <td>2</td>\n",
       "      <td>'004</td>\n",
       "      <td>Afghanistan</td>\n",
       "      <td>221</td>\n",
       "      <td>'01371</td>\n",
       "      <td>Almonds, in shell</td>\n",
       "      <td>5312</td>\n",
       "      <td>Area harvested</td>\n",
       "      <td>1993</td>\n",
       "      <td>1993</td>\n",
       "      <td>ha</td>\n",
       "      <td>5500.00</td>\n",
       "      <td>A</td>\n",
       "      <td>NaN</td>\n",
       "    </tr>\n",
       "    <tr>\n",
       "      <th>33</th>\n",
       "      <td>2</td>\n",
       "      <td>'004</td>\n",
       "      <td>Afghanistan</td>\n",
       "      <td>221</td>\n",
       "      <td>'01371</td>\n",
       "      <td>Almonds, in shell</td>\n",
       "      <td>5312</td>\n",
       "      <td>Area harvested</td>\n",
       "      <td>1994</td>\n",
       "      <td>1994</td>\n",
       "      <td>ha</td>\n",
       "      <td>5500.00</td>\n",
       "      <td>A</td>\n",
       "      <td>NaN</td>\n",
       "    </tr>\n",
       "  </tbody>\n",
       "</table>\n",
       "</div>"
      ],
      "text/plain": [
       "    Area Code Area Code (M49)         Area  Item Code Item Code (CPC)  \\\n",
       "29          2            '004  Afghanistan        221          '01371   \n",
       "30          2            '004  Afghanistan        221          '01371   \n",
       "31          2            '004  Afghanistan        221          '01371   \n",
       "32          2            '004  Afghanistan        221          '01371   \n",
       "33          2            '004  Afghanistan        221          '01371   \n",
       "\n",
       "                 Item  Element Code         Element  Year Code  Year Unit  \\\n",
       "29  Almonds, in shell          5312  Area harvested       1990  1990   ha   \n",
       "30  Almonds, in shell          5312  Area harvested       1991  1991   ha   \n",
       "31  Almonds, in shell          5312  Area harvested       1992  1992   ha   \n",
       "32  Almonds, in shell          5312  Area harvested       1993  1993   ha   \n",
       "33  Almonds, in shell          5312  Area harvested       1994  1994   ha   \n",
       "\n",
       "     Value Flag Note  \n",
       "29 6037.00    E  NaN  \n",
       "30 5500.00    A  NaN  \n",
       "31 5500.00    A  NaN  \n",
       "32 5500.00    A  NaN  \n",
       "33 5500.00    A  NaN  "
      ]
     },
     "execution_count": 391,
     "metadata": {},
     "output_type": "execute_result"
    }
   ],
   "source": [
    "crop.head()"
   ]
  },
  {
   "cell_type": "code",
   "execution_count": 392,
   "metadata": {},
   "outputs": [],
   "source": [
    "# Delete innecessary columns\n",
    "crop.drop(columns=['Area Code', 'Area Code (M49)','Item Code (CPC)','Element Code','Unit','Year Code','Flag','Note'], inplace=True)"
   ]
  },
  {
   "cell_type": "code",
   "execution_count": 393,
   "metadata": {},
   "outputs": [
    {
     "data": {
      "text/plain": [
       "array(['Area harvested', 'Yield', 'Production', 'Stocks',\n",
       "       'Producing Animals/Slaughtered', 'Laying', 'Yield/Carcass Weight',\n",
       "       'Milk Animals', 'Prod Popultn'], dtype=object)"
      ]
     },
     "execution_count": 393,
     "metadata": {},
     "output_type": "execute_result"
    }
   ],
   "source": [
    "crop['Element'].unique()"
   ]
  },
  {
   "cell_type": "code",
   "execution_count": 394,
   "metadata": {},
   "outputs": [],
   "source": [
    "# delete element types\n",
    "delete_elements = ['Stocks', 'Laying', 'Milk Animals', 'Prod Popultn', 'Producing Animals/Slaughtered', 'Yield/Carcass Weight']\n",
    "\n",
    "# Filter the DataFrame to exclude the rows with the specified elements, and keep area harvested, yield and production\n",
    "crop = crop[~crop['Element'].isin(delete_elements)]"
   ]
  },
  {
   "cell_type": "code",
   "execution_count": 395,
   "metadata": {},
   "outputs": [],
   "source": [
    "# Change the name to Elements type\n",
    "crop['Element'] = crop['Element'].replace('Area harvested', 'area_harvested_ha')\n",
    "crop['Element'] = crop['Element'].replace('Yield', 'yield_hg/ha')\n",
    "crop['Element'] = crop['Element'].replace('Production', 'production_tonnes')"
   ]
  },
  {
   "cell_type": "code",
   "execution_count": 396,
   "metadata": {},
   "outputs": [
    {
     "data": {
      "text/plain": [
       "Element\n",
       "production_tonnes    903506\n",
       "yield_hg/ha          548517\n",
       "area_harvested_ha    505826\n",
       "Name: count, dtype: int64"
      ]
     },
     "execution_count": 396,
     "metadata": {},
     "output_type": "execute_result"
    }
   ],
   "source": [
    "crop['Element'].value_counts()"
   ]
  },
  {
   "cell_type": "code",
   "execution_count": 397,
   "metadata": {},
   "outputs": [],
   "source": [
    "# pivot.table creates a DataFrame where the items are separated into columns according to the type of item, keeping the relationship with the columns Area, Item and Year.\n",
    "\n",
    "crop = crop.pivot_table(index=['Area', 'Item Code', 'Item', 'Year'], columns='Element', values='Value').reset_index()\n",
    "# index: The columns we want to keep unchanged in the resulting DataFrame.\n",
    "# columns: The column whose values will be used to create the new columns in the resulting DataFrame.\n",
    "# values: The column whose values will be used to populate the resulting DataFrame. "
   ]
  },
  {
   "cell_type": "code",
   "execution_count": 398,
   "metadata": {},
   "outputs": [],
   "source": [
    "# Change the name to the Item column\n",
    "crop.rename(columns={'Item': 'Crop'}, inplace=True)"
   ]
  },
  {
   "cell_type": "code",
   "execution_count": 127,
   "metadata": {},
   "outputs": [
    {
     "data": {
      "text/html": [
       "<div>\n",
       "<style scoped>\n",
       "    .dataframe tbody tr th:only-of-type {\n",
       "        vertical-align: middle;\n",
       "    }\n",
       "\n",
       "    .dataframe tbody tr th {\n",
       "        vertical-align: top;\n",
       "    }\n",
       "\n",
       "    .dataframe thead th {\n",
       "        text-align: right;\n",
       "    }\n",
       "</style>\n",
       "<table border=\"1\" class=\"dataframe\">\n",
       "  <thead>\n",
       "    <tr style=\"text-align: right;\">\n",
       "      <th>Element</th>\n",
       "      <th>Area</th>\n",
       "      <th>Item Code</th>\n",
       "      <th>Crop</th>\n",
       "      <th>Year</th>\n",
       "      <th>area_harvested_ha</th>\n",
       "      <th>production_tonnes</th>\n",
       "      <th>yield_hg/ha</th>\n",
       "    </tr>\n",
       "  </thead>\n",
       "  <tbody>\n",
       "    <tr>\n",
       "      <th>0</th>\n",
       "      <td>Afghanistan</td>\n",
       "      <td>15</td>\n",
       "      <td>Wheat</td>\n",
       "      <td>1990</td>\n",
       "      <td>1570000.0</td>\n",
       "      <td>1650000.0</td>\n",
       "      <td>10510.0</td>\n",
       "    </tr>\n",
       "    <tr>\n",
       "      <th>1</th>\n",
       "      <td>Afghanistan</td>\n",
       "      <td>15</td>\n",
       "      <td>Wheat</td>\n",
       "      <td>1991</td>\n",
       "      <td>1690000.0</td>\n",
       "      <td>1726000.0</td>\n",
       "      <td>10213.0</td>\n",
       "    </tr>\n",
       "    <tr>\n",
       "      <th>2</th>\n",
       "      <td>Afghanistan</td>\n",
       "      <td>15</td>\n",
       "      <td>Wheat</td>\n",
       "      <td>1992</td>\n",
       "      <td>1600000.0</td>\n",
       "      <td>1650000.0</td>\n",
       "      <td>10313.0</td>\n",
       "    </tr>\n",
       "    <tr>\n",
       "      <th>3</th>\n",
       "      <td>Afghanistan</td>\n",
       "      <td>15</td>\n",
       "      <td>Wheat</td>\n",
       "      <td>1993</td>\n",
       "      <td>1900000.0</td>\n",
       "      <td>1940000.0</td>\n",
       "      <td>10211.0</td>\n",
       "    </tr>\n",
       "    <tr>\n",
       "      <th>4</th>\n",
       "      <td>Afghanistan</td>\n",
       "      <td>15</td>\n",
       "      <td>Wheat</td>\n",
       "      <td>1994</td>\n",
       "      <td>2000000.0</td>\n",
       "      <td>2050000.0</td>\n",
       "      <td>10250.0</td>\n",
       "    </tr>\n",
       "  </tbody>\n",
       "</table>\n",
       "</div>"
      ],
      "text/plain": [
       "Element         Area  Item Code   Crop  Year  area_harvested_ha  \\\n",
       "0        Afghanistan         15  Wheat  1990          1570000.0   \n",
       "1        Afghanistan         15  Wheat  1991          1690000.0   \n",
       "2        Afghanistan         15  Wheat  1992          1600000.0   \n",
       "3        Afghanistan         15  Wheat  1993          1900000.0   \n",
       "4        Afghanistan         15  Wheat  1994          2000000.0   \n",
       "\n",
       "Element  production_tonnes  yield_hg/ha  \n",
       "0                1650000.0      10510.0  \n",
       "1                1726000.0      10213.0  \n",
       "2                1650000.0      10313.0  \n",
       "3                1940000.0      10211.0  \n",
       "4                2050000.0      10250.0  "
      ]
     },
     "execution_count": 127,
     "metadata": {},
     "output_type": "execute_result"
    }
   ],
   "source": [
    "crop.head()"
   ]
  },
  {
   "cell_type": "markdown",
   "metadata": {},
   "source": [
    "### 2.2. <a id='toc2_2_'></a>[Precipitations dataset](#toc0_)"
   ]
  },
  {
   "cell_type": "code",
   "execution_count": 399,
   "metadata": {},
   "outputs": [],
   "source": [
    "prec = pd.read_csv('Data/TWB_avg_precip/0b1dbe54-6204-43c1-8bd8-dbbc6763a4dd_Series - Metadata.csv',encoding='latin-1') # Average precipitation in depth (mm per year)"
   ]
  },
  {
   "cell_type": "code",
   "execution_count": 400,
   "metadata": {},
   "outputs": [],
   "source": [
    "# Delete innecessary columns\n",
    "prec.drop(columns=['Series Name', 'Series Code','Country Code'], inplace=True)"
   ]
  },
  {
   "cell_type": "code",
   "execution_count": 401,
   "metadata": {},
   "outputs": [],
   "source": [
    "# Change name columns\n",
    "col = prec.columns\n",
    "# Apply the regular expression using comprehension lists\n",
    "years = [re.search(r'\\d{4}', x).group() if re.search(r'\\d{4}', x) else 'Area' for x in col]\n",
    "# Change name columns with the new list years\n",
    "prec.columns = years"
   ]
  },
  {
   "cell_type": "code",
   "execution_count": 402,
   "metadata": {},
   "outputs": [
    {
     "data": {
      "text/html": [
       "<div>\n",
       "<style scoped>\n",
       "    .dataframe tbody tr th:only-of-type {\n",
       "        vertical-align: middle;\n",
       "    }\n",
       "\n",
       "    .dataframe tbody tr th {\n",
       "        vertical-align: top;\n",
       "    }\n",
       "\n",
       "    .dataframe thead th {\n",
       "        text-align: right;\n",
       "    }\n",
       "</style>\n",
       "<table border=\"1\" class=\"dataframe\">\n",
       "  <thead>\n",
       "    <tr style=\"text-align: right;\">\n",
       "      <th></th>\n",
       "      <th>Area</th>\n",
       "      <th>1990</th>\n",
       "      <th>1991</th>\n",
       "      <th>1999</th>\n",
       "      <th>2000</th>\n",
       "      <th>2001</th>\n",
       "      <th>2002</th>\n",
       "      <th>2003</th>\n",
       "      <th>2004</th>\n",
       "      <th>2005</th>\n",
       "      <th>...</th>\n",
       "      <th>2014</th>\n",
       "      <th>2015</th>\n",
       "      <th>2016</th>\n",
       "      <th>2017</th>\n",
       "      <th>2018</th>\n",
       "      <th>2019</th>\n",
       "      <th>2020</th>\n",
       "      <th>2021</th>\n",
       "      <th>2022</th>\n",
       "      <th>2023</th>\n",
       "    </tr>\n",
       "  </thead>\n",
       "  <tbody>\n",
       "    <tr>\n",
       "      <th>0</th>\n",
       "      <td>Afghanistan</td>\n",
       "      <td>327</td>\n",
       "      <td>327</td>\n",
       "      <td>327</td>\n",
       "      <td>327</td>\n",
       "      <td>327</td>\n",
       "      <td>327</td>\n",
       "      <td>327</td>\n",
       "      <td>327</td>\n",
       "      <td>327</td>\n",
       "      <td>...</td>\n",
       "      <td>327</td>\n",
       "      <td>327</td>\n",
       "      <td>327</td>\n",
       "      <td>327</td>\n",
       "      <td>327</td>\n",
       "      <td>327</td>\n",
       "      <td>327</td>\n",
       "      <td>..</td>\n",
       "      <td>..</td>\n",
       "      <td>..</td>\n",
       "    </tr>\n",
       "    <tr>\n",
       "      <th>1</th>\n",
       "      <td>Albania</td>\n",
       "      <td>1485</td>\n",
       "      <td>1485</td>\n",
       "      <td>1485</td>\n",
       "      <td>1485</td>\n",
       "      <td>1485</td>\n",
       "      <td>1485</td>\n",
       "      <td>1485</td>\n",
       "      <td>1485</td>\n",
       "      <td>1485</td>\n",
       "      <td>...</td>\n",
       "      <td>1485</td>\n",
       "      <td>1485</td>\n",
       "      <td>1485</td>\n",
       "      <td>1485</td>\n",
       "      <td>1485</td>\n",
       "      <td>1485</td>\n",
       "      <td>1485</td>\n",
       "      <td>..</td>\n",
       "      <td>..</td>\n",
       "      <td>..</td>\n",
       "    </tr>\n",
       "    <tr>\n",
       "      <th>2</th>\n",
       "      <td>Algeria</td>\n",
       "      <td>89</td>\n",
       "      <td>89</td>\n",
       "      <td>89</td>\n",
       "      <td>89</td>\n",
       "      <td>89</td>\n",
       "      <td>89</td>\n",
       "      <td>89</td>\n",
       "      <td>89</td>\n",
       "      <td>89</td>\n",
       "      <td>...</td>\n",
       "      <td>89</td>\n",
       "      <td>89</td>\n",
       "      <td>89</td>\n",
       "      <td>89</td>\n",
       "      <td>89</td>\n",
       "      <td>89</td>\n",
       "      <td>89</td>\n",
       "      <td>..</td>\n",
       "      <td>..</td>\n",
       "      <td>..</td>\n",
       "    </tr>\n",
       "    <tr>\n",
       "      <th>3</th>\n",
       "      <td>American Samoa</td>\n",
       "      <td>..</td>\n",
       "      <td>..</td>\n",
       "      <td>..</td>\n",
       "      <td>..</td>\n",
       "      <td>..</td>\n",
       "      <td>..</td>\n",
       "      <td>..</td>\n",
       "      <td>..</td>\n",
       "      <td>..</td>\n",
       "      <td>...</td>\n",
       "      <td>..</td>\n",
       "      <td>..</td>\n",
       "      <td>..</td>\n",
       "      <td>..</td>\n",
       "      <td>..</td>\n",
       "      <td>..</td>\n",
       "      <td>..</td>\n",
       "      <td>..</td>\n",
       "      <td>..</td>\n",
       "      <td>..</td>\n",
       "    </tr>\n",
       "    <tr>\n",
       "      <th>4</th>\n",
       "      <td>Andorra</td>\n",
       "      <td>..</td>\n",
       "      <td>..</td>\n",
       "      <td>..</td>\n",
       "      <td>..</td>\n",
       "      <td>..</td>\n",
       "      <td>..</td>\n",
       "      <td>..</td>\n",
       "      <td>..</td>\n",
       "      <td>..</td>\n",
       "      <td>...</td>\n",
       "      <td>..</td>\n",
       "      <td>..</td>\n",
       "      <td>..</td>\n",
       "      <td>..</td>\n",
       "      <td>..</td>\n",
       "      <td>..</td>\n",
       "      <td>..</td>\n",
       "      <td>..</td>\n",
       "      <td>..</td>\n",
       "      <td>..</td>\n",
       "    </tr>\n",
       "  </tbody>\n",
       "</table>\n",
       "<p>5 rows × 22 columns</p>\n",
       "</div>"
      ],
      "text/plain": [
       "             Area  1990  1991  1999  2000  2001  2002  2003  2004  2005  ...  \\\n",
       "0     Afghanistan   327   327   327   327   327   327   327   327   327  ...   \n",
       "1         Albania  1485  1485  1485  1485  1485  1485  1485  1485  1485  ...   \n",
       "2         Algeria    89    89    89    89    89    89    89    89    89  ...   \n",
       "3  American Samoa    ..    ..    ..    ..    ..    ..    ..    ..    ..  ...   \n",
       "4         Andorra    ..    ..    ..    ..    ..    ..    ..    ..    ..  ...   \n",
       "\n",
       "   2014  2015  2016  2017  2018  2019  2020 2021 2022 2023  \n",
       "0   327   327   327   327   327   327   327   ..   ..   ..  \n",
       "1  1485  1485  1485  1485  1485  1485  1485   ..   ..   ..  \n",
       "2    89    89    89    89    89    89    89   ..   ..   ..  \n",
       "3    ..    ..    ..    ..    ..    ..    ..   ..   ..   ..  \n",
       "4    ..    ..    ..    ..    ..    ..    ..   ..   ..   ..  \n",
       "\n",
       "[5 rows x 22 columns]"
      ]
     },
     "execution_count": 402,
     "metadata": {},
     "output_type": "execute_result"
    }
   ],
   "source": [
    "prec.head()"
   ]
  },
  {
   "cell_type": "code",
   "execution_count": 403,
   "metadata": {},
   "outputs": [
    {
     "data": {
      "text/html": [
       "<div>\n",
       "<style scoped>\n",
       "    .dataframe tbody tr th:only-of-type {\n",
       "        vertical-align: middle;\n",
       "    }\n",
       "\n",
       "    .dataframe tbody tr th {\n",
       "        vertical-align: top;\n",
       "    }\n",
       "\n",
       "    .dataframe thead th {\n",
       "        text-align: right;\n",
       "    }\n",
       "</style>\n",
       "<table border=\"1\" class=\"dataframe\">\n",
       "  <thead>\n",
       "    <tr style=\"text-align: right;\">\n",
       "      <th></th>\n",
       "      <th>Area</th>\n",
       "      <th>1990</th>\n",
       "      <th>1991</th>\n",
       "      <th>1999</th>\n",
       "      <th>2000</th>\n",
       "      <th>2001</th>\n",
       "      <th>2002</th>\n",
       "      <th>2003</th>\n",
       "      <th>2004</th>\n",
       "      <th>2005</th>\n",
       "      <th>...</th>\n",
       "      <th>2014</th>\n",
       "      <th>2015</th>\n",
       "      <th>2016</th>\n",
       "      <th>2017</th>\n",
       "      <th>2018</th>\n",
       "      <th>2019</th>\n",
       "      <th>2020</th>\n",
       "      <th>2021</th>\n",
       "      <th>2022</th>\n",
       "      <th>2023</th>\n",
       "    </tr>\n",
       "  </thead>\n",
       "  <tbody>\n",
       "    <tr>\n",
       "      <th>268</th>\n",
       "      <td>NaN</td>\n",
       "      <td>NaN</td>\n",
       "      <td>NaN</td>\n",
       "      <td>NaN</td>\n",
       "      <td>NaN</td>\n",
       "      <td>NaN</td>\n",
       "      <td>NaN</td>\n",
       "      <td>NaN</td>\n",
       "      <td>NaN</td>\n",
       "      <td>NaN</td>\n",
       "      <td>...</td>\n",
       "      <td>NaN</td>\n",
       "      <td>NaN</td>\n",
       "      <td>NaN</td>\n",
       "      <td>NaN</td>\n",
       "      <td>NaN</td>\n",
       "      <td>NaN</td>\n",
       "      <td>NaN</td>\n",
       "      <td>NaN</td>\n",
       "      <td>NaN</td>\n",
       "      <td>NaN</td>\n",
       "    </tr>\n",
       "    <tr>\n",
       "      <th>269</th>\n",
       "      <td>NaN</td>\n",
       "      <td>NaN</td>\n",
       "      <td>NaN</td>\n",
       "      <td>NaN</td>\n",
       "      <td>NaN</td>\n",
       "      <td>NaN</td>\n",
       "      <td>NaN</td>\n",
       "      <td>NaN</td>\n",
       "      <td>NaN</td>\n",
       "      <td>NaN</td>\n",
       "      <td>...</td>\n",
       "      <td>NaN</td>\n",
       "      <td>NaN</td>\n",
       "      <td>NaN</td>\n",
       "      <td>NaN</td>\n",
       "      <td>NaN</td>\n",
       "      <td>NaN</td>\n",
       "      <td>NaN</td>\n",
       "      <td>NaN</td>\n",
       "      <td>NaN</td>\n",
       "      <td>NaN</td>\n",
       "    </tr>\n",
       "    <tr>\n",
       "      <th>270</th>\n",
       "      <td>NaN</td>\n",
       "      <td>NaN</td>\n",
       "      <td>NaN</td>\n",
       "      <td>NaN</td>\n",
       "      <td>NaN</td>\n",
       "      <td>NaN</td>\n",
       "      <td>NaN</td>\n",
       "      <td>NaN</td>\n",
       "      <td>NaN</td>\n",
       "      <td>NaN</td>\n",
       "      <td>...</td>\n",
       "      <td>NaN</td>\n",
       "      <td>NaN</td>\n",
       "      <td>NaN</td>\n",
       "      <td>NaN</td>\n",
       "      <td>NaN</td>\n",
       "      <td>NaN</td>\n",
       "      <td>NaN</td>\n",
       "      <td>NaN</td>\n",
       "      <td>NaN</td>\n",
       "      <td>NaN</td>\n",
       "    </tr>\n",
       "    <tr>\n",
       "      <th>271</th>\n",
       "      <td>Indicator Name</td>\n",
       "      <td>Source</td>\n",
       "      <td>Topic</td>\n",
       "      <td>Periodicity</td>\n",
       "      <td>Development relevance</td>\n",
       "      <td>Limitations and exceptions</td>\n",
       "      <td>License URL</td>\n",
       "      <td>NaN</td>\n",
       "      <td>NaN</td>\n",
       "      <td>NaN</td>\n",
       "      <td>...</td>\n",
       "      <td>NaN</td>\n",
       "      <td>NaN</td>\n",
       "      <td>NaN</td>\n",
       "      <td>NaN</td>\n",
       "      <td>NaN</td>\n",
       "      <td>NaN</td>\n",
       "      <td>NaN</td>\n",
       "      <td>NaN</td>\n",
       "      <td>NaN</td>\n",
       "      <td>NaN</td>\n",
       "    </tr>\n",
       "    <tr>\n",
       "      <th>272</th>\n",
       "      <td>Average precipitation in depth (mm per year)</td>\n",
       "      <td>Food and Agriculture Organization, electronic ...</td>\n",
       "      <td>Environment: Land use</td>\n",
       "      <td>Annual</td>\n",
       "      <td>The agriculture sector is the most water-inten...</td>\n",
       "      <td>The data are collected by the Food and Agricul...</td>\n",
       "      <td>https://datacatalog.worldbank.org/public-licen...</td>\n",
       "      <td>NaN</td>\n",
       "      <td>NaN</td>\n",
       "      <td>NaN</td>\n",
       "      <td>...</td>\n",
       "      <td>NaN</td>\n",
       "      <td>NaN</td>\n",
       "      <td>NaN</td>\n",
       "      <td>NaN</td>\n",
       "      <td>NaN</td>\n",
       "      <td>NaN</td>\n",
       "      <td>NaN</td>\n",
       "      <td>NaN</td>\n",
       "      <td>NaN</td>\n",
       "      <td>NaN</td>\n",
       "    </tr>\n",
       "  </tbody>\n",
       "</table>\n",
       "<p>5 rows × 22 columns</p>\n",
       "</div>"
      ],
      "text/plain": [
       "                                             Area  \\\n",
       "268                                           NaN   \n",
       "269                                           NaN   \n",
       "270                                           NaN   \n",
       "271                                Indicator Name   \n",
       "272  Average precipitation in depth (mm per year)   \n",
       "\n",
       "                                                  1990                   1991  \\\n",
       "268                                                NaN                    NaN   \n",
       "269                                                NaN                    NaN   \n",
       "270                                                NaN                    NaN   \n",
       "271                                             Source                  Topic   \n",
       "272  Food and Agriculture Organization, electronic ...  Environment: Land use   \n",
       "\n",
       "            1999                                               2000  \\\n",
       "268          NaN                                                NaN   \n",
       "269          NaN                                                NaN   \n",
       "270          NaN                                                NaN   \n",
       "271  Periodicity                              Development relevance   \n",
       "272       Annual  The agriculture sector is the most water-inten...   \n",
       "\n",
       "                                                  2001  \\\n",
       "268                                                NaN   \n",
       "269                                                NaN   \n",
       "270                                                NaN   \n",
       "271                         Limitations and exceptions   \n",
       "272  The data are collected by the Food and Agricul...   \n",
       "\n",
       "                                                  2002 2003 2004 2005  ...  \\\n",
       "268                                                NaN  NaN  NaN  NaN  ...   \n",
       "269                                                NaN  NaN  NaN  NaN  ...   \n",
       "270                                                NaN  NaN  NaN  NaN  ...   \n",
       "271                                        License URL  NaN  NaN  NaN  ...   \n",
       "272  https://datacatalog.worldbank.org/public-licen...  NaN  NaN  NaN  ...   \n",
       "\n",
       "    2014 2015 2016 2017 2018 2019 2020 2021 2022 2023  \n",
       "268  NaN  NaN  NaN  NaN  NaN  NaN  NaN  NaN  NaN  NaN  \n",
       "269  NaN  NaN  NaN  NaN  NaN  NaN  NaN  NaN  NaN  NaN  \n",
       "270  NaN  NaN  NaN  NaN  NaN  NaN  NaN  NaN  NaN  NaN  \n",
       "271  NaN  NaN  NaN  NaN  NaN  NaN  NaN  NaN  NaN  NaN  \n",
       "272  NaN  NaN  NaN  NaN  NaN  NaN  NaN  NaN  NaN  NaN  \n",
       "\n",
       "[5 rows x 22 columns]"
      ]
     },
     "execution_count": 403,
     "metadata": {},
     "output_type": "execute_result"
    }
   ],
   "source": [
    "prec.tail()"
   ]
  },
  {
   "cell_type": "code",
   "execution_count": 404,
   "metadata": {},
   "outputs": [],
   "source": [
    "# delete the last two rows\n",
    "prec = prec.iloc[:-2]"
   ]
  },
  {
   "cell_type": "markdown",
   "metadata": {},
   "source": [
    "There are a lot of nan in the back rows, this will be addressed in the preprocessing section."
   ]
  },
  {
   "cell_type": "code",
   "execution_count": 405,
   "metadata": {},
   "outputs": [
    {
     "name": "stdout",
     "output_type": "stream",
     "text": [
      "<class 'pandas.core.frame.DataFrame'>\n",
      "RangeIndex: 271 entries, 0 to 270\n",
      "Data columns (total 22 columns):\n",
      " #   Column  Non-Null Count  Dtype \n",
      "---  ------  --------------  ----- \n",
      " 0   Area    266 non-null    object\n",
      " 1   1990    266 non-null    object\n",
      " 2   1991    266 non-null    object\n",
      " 3   1999    266 non-null    object\n",
      " 4   2000    266 non-null    object\n",
      " 5   2001    266 non-null    object\n",
      " 6   2002    266 non-null    object\n",
      " 7   2003    266 non-null    object\n",
      " 8   2004    266 non-null    object\n",
      " 9   2005    266 non-null    object\n",
      " 10  2006    266 non-null    object\n",
      " 11  2007    266 non-null    object\n",
      " 12  2014    266 non-null    object\n",
      " 13  2015    266 non-null    object\n",
      " 14  2016    266 non-null    object\n",
      " 15  2017    266 non-null    object\n",
      " 16  2018    266 non-null    object\n",
      " 17  2019    266 non-null    object\n",
      " 18  2020    266 non-null    object\n",
      " 19  2021    266 non-null    object\n",
      " 20  2022    266 non-null    object\n",
      " 21  2023    266 non-null    object\n",
      "dtypes: object(22)\n",
      "memory usage: 46.7+ KB\n"
     ]
    }
   ],
   "source": [
    "prec.info()"
   ]
  },
  {
   "cell_type": "markdown",
   "metadata": {},
   "source": [
    "#### 2.2.1. <a id='toc2_2_1_'></a>[Preprocessing](#toc0_)"
   ]
  },
  {
   "cell_type": "markdown",
   "metadata": {},
   "source": [
    "##### 2.2.1.1. <a id='toc2_2_1_1_'></a>[NaN values](#toc2_2_1_1_)"
   ]
  },
  {
   "cell_type": "code",
   "execution_count": 406,
   "metadata": {},
   "outputs": [
    {
     "name": "stderr",
     "output_type": "stream",
     "text": [
      "C:\\Users\\kina5\\AppData\\Local\\Temp\\ipykernel_18204\\2314844775.py:2: FutureWarning: Downcasting behavior in `replace` is deprecated and will be removed in a future version. To retain the old behavior, explicitly call `result.infer_objects(copy=False)`. To opt-in to the future behavior, set `pd.set_option('future.no_silent_downcasting', True)`\n",
      "  prec.replace('..', np.nan, inplace=True)\n"
     ]
    }
   ],
   "source": [
    "# replace .. by NaN\n",
    "prec.replace('..', np.nan, inplace=True)"
   ]
  },
  {
   "cell_type": "code",
   "execution_count": 407,
   "metadata": {},
   "outputs": [
    {
     "data": {
      "text/plain": [
       "<Axes: >"
      ]
     },
     "execution_count": 407,
     "metadata": {},
     "output_type": "execute_result"
    },
    {
     "data": {
      "image/png": "[encoded data removed]",
      "text/plain": [
       "<Figure size 640x480 with 1 Axes>"
      ]
     },
     "metadata": {},
     "output_type": "display_data"
    }
   ],
   "source": [
    "sns.heatmap(prec.isnull(), cbar=False) # Visualize null values with a heatmap"
   ]
  },
  {
   "cell_type": "code",
   "execution_count": 408,
   "metadata": {},
   "outputs": [
    {
     "data": {
      "text/plain": [
       "Area     1.85\n",
       "1990    42.07\n",
       "1991    42.07\n",
       "1999    33.58\n",
       "2000    33.58\n",
       "2001    33.58\n",
       "2002    33.58\n",
       "2003    33.58\n",
       "2004    33.58\n",
       "2005    33.58\n",
       "2006    33.58\n",
       "2007    33.58\n",
       "2014    32.84\n",
       "2015    32.84\n",
       "2016    32.84\n",
       "2017    32.84\n",
       "2018    32.84\n",
       "2019    32.84\n",
       "2020    32.84\n",
       "2021   100.00\n",
       "2022   100.00\n",
       "2023   100.00\n",
       "dtype: float64"
      ]
     },
     "execution_count": 408,
     "metadata": {},
     "output_type": "execute_result"
    }
   ],
   "source": [
    "# percentage of nan values (columns)\n",
    "prec.isnull().sum() / len(prec) * 100"
   ]
  },
  {
   "cell_type": "code",
   "execution_count": 409,
   "metadata": {},
   "outputs": [
    {
     "data": {
      "text/plain": [
       "0      13.64\n",
       "1      13.64\n",
       "2      13.64\n",
       "3      95.45\n",
       "4      95.45\n",
       "       ...  \n",
       "266   100.00\n",
       "267   100.00\n",
       "268   100.00\n",
       "269   100.00\n",
       "270   100.00\n",
       "Length: 271, dtype: float64"
      ]
     },
     "execution_count": 409,
     "metadata": {},
     "output_type": "execute_result"
    }
   ],
   "source": [
    "# percentage of nan values (rows)\n",
    "prec.isnull().sum(axis=1) / prec.shape[1] * 100"
   ]
  },
  {
   "cell_type": "code",
   "execution_count": 410,
   "metadata": {},
   "outputs": [],
   "source": [
    "# # Calculate the percentage of null values in each row\n",
    "percent_missing_rows = prec.isnull().sum(axis=1) / prec.shape[1] * 100\n",
    "\n",
    "# Filter out rows with a percentage of nulls = 100\n",
    "missing_rows = percent_missing_rows[percent_missing_rows==100].index\n",
    "\n",
    "# Display rows with a percentage of nulls = 100\n",
    "prec.loc[missing_rows]\n",
    "\n",
    "# delete missing_rows\n",
    "prec.drop(missing_rows, inplace=True)"
   ]
  },
  {
   "cell_type": "code",
   "execution_count": 411,
   "metadata": {},
   "outputs": [],
   "source": [
    "# no information of the columns 2021, 2022, 2023. Delete\n",
    "\n",
    "prec.drop(columns=['2021', '2022','2023'], inplace=True)"
   ]
  },
  {
   "cell_type": "code",
   "execution_count": 412,
   "metadata": {},
   "outputs": [
    {
     "data": {
      "text/plain": [
       "Area    0.00\n",
       "1990   40.98\n",
       "1991   40.98\n",
       "1999   32.33\n",
       "2000   32.33\n",
       "2001   32.33\n",
       "2002   32.33\n",
       "2003   32.33\n",
       "2004   32.33\n",
       "2005   32.33\n",
       "2006   32.33\n",
       "2007   32.33\n",
       "2014   31.58\n",
       "2015   31.58\n",
       "2016   31.58\n",
       "2017   31.58\n",
       "2018   31.58\n",
       "2019   31.58\n",
       "2020   31.58\n",
       "dtype: float64"
      ]
     },
     "execution_count": 412,
     "metadata": {},
     "output_type": "execute_result"
    }
   ],
   "source": [
    "# percentage of nan values (columns)\n",
    "prec.isnull().sum() / len(prec) * 100"
   ]
  },
  {
   "cell_type": "code",
   "execution_count": 413,
   "metadata": {},
   "outputs": [
    {
     "name": "stdout",
     "output_type": "stream",
     "text": [
      "<class 'pandas.core.frame.DataFrame'>\n",
      "RangeIndex: 266 entries, 0 to 265\n",
      "Data columns (total 19 columns):\n",
      " #   Column  Non-Null Count  Dtype \n",
      "---  ------  --------------  ----- \n",
      " 0   Area    266 non-null    object\n",
      " 1   1990    157 non-null    object\n",
      " 2   1991    157 non-null    object\n",
      " 3   1999    180 non-null    object\n",
      " 4   2000    180 non-null    object\n",
      " 5   2001    180 non-null    object\n",
      " 6   2002    180 non-null    object\n",
      " 7   2003    180 non-null    object\n",
      " 8   2004    180 non-null    object\n",
      " 9   2005    180 non-null    object\n",
      " 10  2006    180 non-null    object\n",
      " 11  2007    180 non-null    object\n",
      " 12  2014    182 non-null    object\n",
      " 13  2015    182 non-null    object\n",
      " 14  2016    182 non-null    object\n",
      " 15  2017    182 non-null    object\n",
      " 16  2018    182 non-null    object\n",
      " 17  2019    182 non-null    object\n",
      " 18  2020    182 non-null    object\n",
      "dtypes: object(19)\n",
      "memory usage: 39.6+ KB\n"
     ]
    }
   ],
   "source": [
    "prec.info()"
   ]
  },
  {
   "cell_type": "code",
   "execution_count": 414,
   "metadata": {},
   "outputs": [
    {
     "data": {
      "text/plain": [
       "Index(['Area', '1990', '1991', '1999', '2000', '2001', '2002', '2003', '2004',\n",
       "       '2005', '2006', '2007', '2014', '2015', '2016', '2017', '2018', '2019',\n",
       "       '2020'],\n",
       "      dtype='object')"
      ]
     },
     "execution_count": 414,
     "metadata": {},
     "output_type": "execute_result"
    }
   ],
   "source": [
    "prec.columns"
   ]
  },
  {
   "cell_type": "code",
   "execution_count": 415,
   "metadata": {},
   "outputs": [],
   "source": [
    "# Change the number columns type to float\n",
    "year_col = ['1990', '1991', '1999', '2000', '2001', '2002', '2003', '2004',\n",
    "       '2005', '2006', '2007', '2014', '2015', '2016', '2017', '2018', '2019',\n",
    "       '2020']\n",
    "prec[year_col]= prec[year_col].astype(float)"
   ]
  },
  {
   "cell_type": "markdown",
   "metadata": {},
   "source": [
    "As the rainfall values are mm per year and they are continuous variables, we will do the imputation with the mean value of mm per year:"
   ]
  },
  {
   "cell_type": "code",
   "execution_count": 416,
   "metadata": {},
   "outputs": [
    {
     "data": {
      "text/plain": [
       "Area   0.00\n",
       "1990   0.00\n",
       "1991   0.00\n",
       "1999   0.00\n",
       "2000   0.00\n",
       "2001   0.00\n",
       "2002   0.00\n",
       "2003   0.00\n",
       "2004   0.00\n",
       "2005   0.00\n",
       "2006   0.00\n",
       "2007   0.00\n",
       "2014   0.00\n",
       "2015   0.00\n",
       "2016   0.00\n",
       "2017   0.00\n",
       "2018   0.00\n",
       "2019   0.00\n",
       "2020   0.00\n",
       "dtype: float64"
      ]
     },
     "execution_count": 416,
     "metadata": {},
     "output_type": "execute_result"
    }
   ],
   "source": [
    "def repair_null(df, col):\n",
    "    if df[col].dtype == 'int64' or df[col].dtype == 'float64':\n",
    "        df[col] = df[col].fillna(df[col].mean())\n",
    "    else:\n",
    "        df[col] = df[col].fillna(df[col].mode()[0])\n",
    "    return df \n",
    "\n",
    "for col in prec.columns:\n",
    "    repair_null(prec, col)\n",
    "\n",
    "prec.isnull().sum()/len(prec)*100"
   ]
  },
  {
   "cell_type": "code",
   "execution_count": 417,
   "metadata": {},
   "outputs": [],
   "source": [
    "# calculation of the average rain fall from 1990-present in a new column\n",
    "\n",
    "prec['avg_rainfall_mm_year'] = prec[year_col].mean(axis=1).round(2)"
   ]
  },
  {
   "cell_type": "code",
   "execution_count": 418,
   "metadata": {},
   "outputs": [],
   "source": [
    "# create a new df with Area and average columns\n",
    "prec_filtered = prec[['Area','avg_rainfall_mm_year']].copy()"
   ]
  },
  {
   "cell_type": "code",
   "execution_count": 170,
   "metadata": {},
   "outputs": [
    {
     "data": {
      "text/html": [
       "<div>\n",
       "<style scoped>\n",
       "    .dataframe tbody tr th:only-of-type {\n",
       "        vertical-align: middle;\n",
       "    }\n",
       "\n",
       "    .dataframe tbody tr th {\n",
       "        vertical-align: top;\n",
       "    }\n",
       "\n",
       "    .dataframe thead th {\n",
       "        text-align: right;\n",
       "    }\n",
       "</style>\n",
       "<table border=\"1\" class=\"dataframe\">\n",
       "  <thead>\n",
       "    <tr style=\"text-align: right;\">\n",
       "      <th></th>\n",
       "      <th>Area</th>\n",
       "      <th>avg_rainfall_mm_year</th>\n",
       "    </tr>\n",
       "  </thead>\n",
       "  <tbody>\n",
       "    <tr>\n",
       "      <th>0</th>\n",
       "      <td>Afghanistan</td>\n",
       "      <td>327.00</td>\n",
       "    </tr>\n",
       "    <tr>\n",
       "      <th>1</th>\n",
       "      <td>Albania</td>\n",
       "      <td>1485.00</td>\n",
       "    </tr>\n",
       "    <tr>\n",
       "      <th>2</th>\n",
       "      <td>Algeria</td>\n",
       "      <td>89.00</td>\n",
       "    </tr>\n",
       "    <tr>\n",
       "      <th>3</th>\n",
       "      <td>American Samoa</td>\n",
       "      <td>1183.25</td>\n",
       "    </tr>\n",
       "    <tr>\n",
       "      <th>4</th>\n",
       "      <td>Andorra</td>\n",
       "      <td>1183.25</td>\n",
       "    </tr>\n",
       "    <tr>\n",
       "      <th>...</th>\n",
       "      <td>...</td>\n",
       "      <td>...</td>\n",
       "    </tr>\n",
       "    <tr>\n",
       "      <th>261</th>\n",
       "      <td>Sub-Saharan Africa</td>\n",
       "      <td>1183.25</td>\n",
       "    </tr>\n",
       "    <tr>\n",
       "      <th>262</th>\n",
       "      <td>Sub-Saharan Africa (excluding high income)</td>\n",
       "      <td>1183.25</td>\n",
       "    </tr>\n",
       "    <tr>\n",
       "      <th>263</th>\n",
       "      <td>Sub-Saharan Africa (IDA &amp; IBRD countries)</td>\n",
       "      <td>1183.25</td>\n",
       "    </tr>\n",
       "    <tr>\n",
       "      <th>264</th>\n",
       "      <td>Upper middle income</td>\n",
       "      <td>1183.25</td>\n",
       "    </tr>\n",
       "    <tr>\n",
       "      <th>265</th>\n",
       "      <td>World</td>\n",
       "      <td>1183.25</td>\n",
       "    </tr>\n",
       "  </tbody>\n",
       "</table>\n",
       "<p>266 rows × 2 columns</p>\n",
       "</div>"
      ],
      "text/plain": [
       "                                           Area  avg_rainfall_mm_year\n",
       "0                                   Afghanistan                327.00\n",
       "1                                       Albania               1485.00\n",
       "2                                       Algeria                 89.00\n",
       "3                                American Samoa               1183.25\n",
       "4                                       Andorra               1183.25\n",
       "..                                          ...                   ...\n",
       "261                          Sub-Saharan Africa               1183.25\n",
       "262  Sub-Saharan Africa (excluding high income)               1183.25\n",
       "263   Sub-Saharan Africa (IDA & IBRD countries)               1183.25\n",
       "264                         Upper middle income               1183.25\n",
       "265                                       World               1183.25\n",
       "\n",
       "[266 rows x 2 columns]"
      ]
     },
     "execution_count": 170,
     "metadata": {},
     "output_type": "execute_result"
    }
   ],
   "source": [
    "prec_filtered"
   ]
  },
  {
   "cell_type": "markdown",
   "metadata": {},
   "source": [
    "### 2.3. <a id='toc2_3_'></a>[Pesticides dataset](#toc0_)"
   ]
  },
  {
   "cell_type": "code",
   "execution_count": 434,
   "metadata": {},
   "outputs": [],
   "source": [
    "pest = pd.read_csv('Data/pesticides_use/Inputs_Pesticides_Use_E_All_Data_(Normalized).csv',encoding='latin-1',low_memory=False)"
   ]
  },
  {
   "cell_type": "code",
   "execution_count": 435,
   "metadata": {},
   "outputs": [],
   "source": [
    "# To have the same years in the datasets, filter the datasets from year 1990\n",
    "pest = pest[pest['Year']>=1990]"
   ]
  },
  {
   "cell_type": "code",
   "execution_count": 436,
   "metadata": {},
   "outputs": [
    {
     "data": {
      "text/html": [
       "<div>\n",
       "<style scoped>\n",
       "    .dataframe tbody tr th:only-of-type {\n",
       "        vertical-align: middle;\n",
       "    }\n",
       "\n",
       "    .dataframe tbody tr th {\n",
       "        vertical-align: top;\n",
       "    }\n",
       "\n",
       "    .dataframe thead th {\n",
       "        text-align: right;\n",
       "    }\n",
       "</style>\n",
       "<table border=\"1\" class=\"dataframe\">\n",
       "  <thead>\n",
       "    <tr style=\"text-align: right;\">\n",
       "      <th></th>\n",
       "      <th>Area Code</th>\n",
       "      <th>Area Code (M49)</th>\n",
       "      <th>Area</th>\n",
       "      <th>Item Code</th>\n",
       "      <th>Item</th>\n",
       "      <th>Element Code</th>\n",
       "      <th>Element</th>\n",
       "      <th>Year Code</th>\n",
       "      <th>Year</th>\n",
       "      <th>Unit</th>\n",
       "      <th>Value</th>\n",
       "      <th>Flag</th>\n",
       "      <th>Note</th>\n",
       "    </tr>\n",
       "  </thead>\n",
       "  <tbody>\n",
       "    <tr>\n",
       "      <th>0</th>\n",
       "      <td>3</td>\n",
       "      <td>'008</td>\n",
       "      <td>Albania</td>\n",
       "      <td>1357</td>\n",
       "      <td>Pesticides (total)</td>\n",
       "      <td>5157</td>\n",
       "      <td>Agricultural Use</td>\n",
       "      <td>1990</td>\n",
       "      <td>1990</td>\n",
       "      <td>t</td>\n",
       "      <td>121.00</td>\n",
       "      <td>E</td>\n",
       "      <td>NaN</td>\n",
       "    </tr>\n",
       "    <tr>\n",
       "      <th>1</th>\n",
       "      <td>3</td>\n",
       "      <td>'008</td>\n",
       "      <td>Albania</td>\n",
       "      <td>1357</td>\n",
       "      <td>Pesticides (total)</td>\n",
       "      <td>5157</td>\n",
       "      <td>Agricultural Use</td>\n",
       "      <td>1991</td>\n",
       "      <td>1991</td>\n",
       "      <td>t</td>\n",
       "      <td>121.00</td>\n",
       "      <td>E</td>\n",
       "      <td>NaN</td>\n",
       "    </tr>\n",
       "    <tr>\n",
       "      <th>2</th>\n",
       "      <td>3</td>\n",
       "      <td>'008</td>\n",
       "      <td>Albania</td>\n",
       "      <td>1357</td>\n",
       "      <td>Pesticides (total)</td>\n",
       "      <td>5157</td>\n",
       "      <td>Agricultural Use</td>\n",
       "      <td>1992</td>\n",
       "      <td>1992</td>\n",
       "      <td>t</td>\n",
       "      <td>121.00</td>\n",
       "      <td>E</td>\n",
       "      <td>NaN</td>\n",
       "    </tr>\n",
       "    <tr>\n",
       "      <th>3</th>\n",
       "      <td>3</td>\n",
       "      <td>'008</td>\n",
       "      <td>Albania</td>\n",
       "      <td>1357</td>\n",
       "      <td>Pesticides (total)</td>\n",
       "      <td>5157</td>\n",
       "      <td>Agricultural Use</td>\n",
       "      <td>1993</td>\n",
       "      <td>1993</td>\n",
       "      <td>t</td>\n",
       "      <td>121.00</td>\n",
       "      <td>E</td>\n",
       "      <td>NaN</td>\n",
       "    </tr>\n",
       "    <tr>\n",
       "      <th>4</th>\n",
       "      <td>3</td>\n",
       "      <td>'008</td>\n",
       "      <td>Albania</td>\n",
       "      <td>1357</td>\n",
       "      <td>Pesticides (total)</td>\n",
       "      <td>5157</td>\n",
       "      <td>Agricultural Use</td>\n",
       "      <td>1994</td>\n",
       "      <td>1994</td>\n",
       "      <td>t</td>\n",
       "      <td>201.00</td>\n",
       "      <td>E</td>\n",
       "      <td>NaN</td>\n",
       "    </tr>\n",
       "  </tbody>\n",
       "</table>\n",
       "</div>"
      ],
      "text/plain": [
       "   Area Code Area Code (M49)     Area  Item Code                Item  \\\n",
       "0          3            '008  Albania       1357  Pesticides (total)   \n",
       "1          3            '008  Albania       1357  Pesticides (total)   \n",
       "2          3            '008  Albania       1357  Pesticides (total)   \n",
       "3          3            '008  Albania       1357  Pesticides (total)   \n",
       "4          3            '008  Albania       1357  Pesticides (total)   \n",
       "\n",
       "   Element Code           Element  Year Code  Year Unit  Value Flag Note  \n",
       "0          5157  Agricultural Use       1990  1990    t 121.00    E  NaN  \n",
       "1          5157  Agricultural Use       1991  1991    t 121.00    E  NaN  \n",
       "2          5157  Agricultural Use       1992  1992    t 121.00    E  NaN  \n",
       "3          5157  Agricultural Use       1993  1993    t 121.00    E  NaN  \n",
       "4          5157  Agricultural Use       1994  1994    t 201.00    E  NaN  "
      ]
     },
     "execution_count": 436,
     "metadata": {},
     "output_type": "execute_result"
    }
   ],
   "source": [
    "pest.head()"
   ]
  },
  {
   "cell_type": "code",
   "execution_count": 437,
   "metadata": {},
   "outputs": [
    {
     "data": {
      "text/plain": [
       "array(['Agricultural Use', 'Use per area of cropland', 'Use per capita',\n",
       "       'Use per value of agricultural production'], dtype=object)"
      ]
     },
     "execution_count": 437,
     "metadata": {},
     "output_type": "execute_result"
    }
   ],
   "source": [
    "pest['Element'].unique()"
   ]
  },
  {
   "cell_type": "code",
   "execution_count": 438,
   "metadata": {},
   "outputs": [],
   "source": [
    "# delete element types\n",
    "delete_elements = ['Use per capita','Use per area of cropland','Use per value of agricultural production']\n",
    "\n",
    "# Filter the DataFrame to exclude the rows with the specified elements, and keep production, agricultural use and Use per area of cropland\n",
    "pest = pest[~pest['Element'].isin(delete_elements)]"
   ]
  },
  {
   "cell_type": "code",
   "execution_count": 439,
   "metadata": {},
   "outputs": [],
   "source": [
    "# create new filtered df\n",
    "pest_filtered = pest[['Area','Item','Element','Year','Value']].copy()\n",
    "# Change the name to the new column\n",
    "pest_filtered.rename(columns={'Item': 'pesticides_type'}, inplace=True)\n",
    "pest_filtered.rename(columns={'Value': 'agricultural_use_tonnes'}, inplace=True)\n",
    "# Delete Element column\n",
    "pest_filtered.drop(columns=['Element'], inplace=True)"
   ]
  },
  {
   "cell_type": "code",
   "execution_count": 440,
   "metadata": {},
   "outputs": [
    {
     "data": {
      "text/plain": [
       "array(['Pesticides (total)', 'Insecticides',\n",
       "       'Insecticides \\x96 Chlorinated Hydrocarbons',\n",
       "       'Insecticides \\x96 Organo-phosphates',\n",
       "       'Insecticides \\x96 Carbamates', 'Insecticides \\x96 Pyrethroids',\n",
       "       'Insecticides \\x96 Other', 'Herbicides',\n",
       "       'Herbicides \\x96 Phenoxy hormone products',\n",
       "       'Herbicides \\x96 Triazines', 'Herbicides \\x96 Amides',\n",
       "       'Herbicides \\x96 Carbamates', 'Herbicides \\x96 Dinitroanilines',\n",
       "       'Herbicides \\x96 Sulfonyl ureas', 'Herbicides \\x96 Bipiridils',\n",
       "       'Herbicides \\x96 Other', 'Fungicides and Bactericides',\n",
       "       'Fung & Bact \\x96 Inorganics', 'Fung & Bact \\x96 Dithiocarbamates',\n",
       "       'Fung & Bact \\x96 Benzimidazoles',\n",
       "       'Fung & Bact \\x96 Triazoles, diazoles', 'Fung & Bact \\x96 Other',\n",
       "       'Fungicides \\x96 Seed treatments',\n",
       "       'Insecticides \\x96 Seed Treatments', 'Plant Growth Regulators',\n",
       "       'Rodenticides', 'Rodenticides \\x96 Anti-coagulants',\n",
       "       'Rodenticides \\x96 Other', 'Other Pesticides nes', 'Mineral Oils',\n",
       "       'Disinfectants',\n",
       "       'Insecticides \\x96 Botanical products and biologicals',\n",
       "       'Herbicides \\x96 Urea derivates', 'Herbicides \\x96 Uracil',\n",
       "       'Fung & Bact \\x96 Diazines, morpholines',\n",
       "       'Seed Treat Fung \\x96 Dithiocarbamates',\n",
       "       'Seed Treat Fung \\x96 Triazoles, diazoles',\n",
       "       'Seed Treat Fung \\x96 Other',\n",
       "       'Seed Treat Insect \\x96 Organo-phosphates',\n",
       "       'Seed Treat Insect \\x96 Other',\n",
       "       'Seed Treat Fung \\x96 Benzimidazoles',\n",
       "       'Seed Treat Fung \\x96 Botanical products and biologicals',\n",
       "       'Seed Treat Insect \\x96 Carbamates',\n",
       "       'Seed Treat Insect \\x96 Pyrethroids',\n",
       "       'Rodenticides \\x96 Cyanide Generators',\n",
       "       'Rodenticides \\x96 Hypercalcaemics', 'Rodenticides \\x96 Narcotics'],\n",
       "      dtype=object)"
      ]
     },
     "execution_count": 440,
     "metadata": {},
     "output_type": "execute_result"
    }
   ],
   "source": [
    "pest_filtered['pesticides_type'].unique()"
   ]
  },
  {
   "cell_type": "code",
   "execution_count": 441,
   "metadata": {},
   "outputs": [],
   "source": [
    "# Clean pesticides_type column\n",
    "pest_filtered['pesticides_type'] = pest_filtered['pesticides_type'].str.replace('\\x96', ':')"
   ]
  },
  {
   "cell_type": "code",
   "execution_count": 442,
   "metadata": {},
   "outputs": [],
   "source": [
    "#Create a new column grouping pesticides_type:\n",
    "\n",
    "# Iterate over the rows of the DataFrame \n",
    "for index, row in pest_filtered.iterrows():\n",
    "    pesticide_type = row['pesticides_type']\n",
    "    \n",
    "    if pesticide_type.startswith('Insecticides'):\n",
    "        pest_filtered.at[index, 'pesticides_group'] = 'Insecticides' #  to assign the value to the pesticide group to each cell individually in the column 'pesticides_group' \n",
    "    elif pesticide_type.startswith('Herbicides'):\n",
    "        pest_filtered.at[index, 'pesticides_group'] = 'Herbicides'\n",
    "    elif pesticide_type.startswith('Fung & Bact') or pesticide_type.startswith('Fungicides'):\n",
    "        pest_filtered.at[index, 'pesticides_group'] = 'Fungicides and Bactericides'\n",
    "    elif pesticide_type.startswith('Rodenticides'):\n",
    "        pest_filtered.at[index, 'pesticides_group'] = 'Rodenticides'\n",
    "    elif pesticide_type.startswith('Seed Treat'):\n",
    "        pest_filtered.at[index, 'pesticides_group'] = 'Seed Treatments'\n",
    "    else:\n",
    "        pest_filtered.at[index, 'pesticides_group'] = pesticide_type"
   ]
  },
  {
   "cell_type": "code",
   "execution_count": 443,
   "metadata": {},
   "outputs": [
    {
     "data": {
      "text/plain": [
       "array(['Pesticides (total)', 'Insecticides', 'Herbicides',\n",
       "       'Fungicides and Bactericides', 'Plant Growth Regulators',\n",
       "       'Rodenticides', 'Other Pesticides nes', 'Mineral Oils',\n",
       "       'Disinfectants', 'Seed Treatments'], dtype=object)"
      ]
     },
     "execution_count": 443,
     "metadata": {},
     "output_type": "execute_result"
    }
   ],
   "source": [
    "pest_filtered['pesticides_group'].unique()"
   ]
  },
  {
   "cell_type": "markdown",
   "metadata": {},
   "source": [
    "#### 2.3.1. <a id='toc2_3_1_'></a>[Preprocessing](#toc0_)"
   ]
  },
  {
   "cell_type": "code",
   "execution_count": 444,
   "metadata": {},
   "outputs": [
    {
     "data": {
      "text/plain": [
       "Area                       0\n",
       "pesticides_type            0\n",
       "Year                       0\n",
       "agricultural_use_tonnes    0\n",
       "pesticides_group           0\n",
       "dtype: int64"
      ]
     },
     "execution_count": 444,
     "metadata": {},
     "output_type": "execute_result"
    }
   ],
   "source": [
    "pest_filtered.isnull().sum()"
   ]
  },
  {
   "cell_type": "markdown",
   "metadata": {},
   "source": [
    "#### 2.3.1.1. <a id='toc2_3_1_1_'></a>[Outliers](#toc0_)"
   ]
  },
  {
   "cell_type": "code",
   "execution_count": 445,
   "metadata": {},
   "outputs": [
    {
     "name": "stdout",
     "output_type": "stream",
     "text": [
      "<class 'pandas.core.frame.DataFrame'>\n",
      "Index: 91564 entries, 0 to 112332\n",
      "Data columns (total 5 columns):\n",
      " #   Column                   Non-Null Count  Dtype  \n",
      "---  ------                   --------------  -----  \n",
      " 0   Area                     91564 non-null  object \n",
      " 1   pesticides_type          91564 non-null  object \n",
      " 2   Year                     91564 non-null  int64  \n",
      " 3   agricultural_use_tonnes  91564 non-null  float64\n",
      " 4   pesticides_group         91564 non-null  object \n",
      "dtypes: float64(1), int64(1), object(3)\n",
      "memory usage: 6.2+ MB\n"
     ]
    }
   ],
   "source": [
    "pest_filtered.info()"
   ]
  },
  {
   "cell_type": "code",
   "execution_count": 446,
   "metadata": {},
   "outputs": [
    {
     "data": {
      "text/plain": [
       "count     91564.00\n",
       "mean       8054.67\n",
       "std       71881.59\n",
       "min           0.00\n",
       "25%           0.63\n",
       "50%          32.01\n",
       "75%         504.50\n",
       "max     3531959.08\n",
       "Name: agricultural_use_tonnes, dtype: float64"
      ]
     },
     "execution_count": 446,
     "metadata": {},
     "output_type": "execute_result"
    }
   ],
   "source": [
    "pest_filtered['agricultural_use_tonnes'].describe().T.round(2)"
   ]
  },
  {
   "cell_type": "code",
   "execution_count": 463,
   "metadata": {},
   "outputs": [
    {
     "data": {
      "image/png": "[encoded data removed]",
      "text/plain": [
       "<Figure size 640x480 with 1 Axes>"
      ]
     },
     "metadata": {},
     "output_type": "display_data"
    }
   ],
   "source": [
    "# Create boxplot\n",
    "pest_var = pest_filtered['agricultural_use_tonnes']\n",
    "ax = sns.boxplot(y=pest_var, data=pest_filtered, color = agro[3]) \n",
    "ax.set_title('Agricultural use (tonnes)')\n",
    "ax.set_ylabel('')  \n",
    "\n",
    "plt.show()"
   ]
  },
  {
   "cell_type": "code",
   "execution_count": 464,
   "metadata": {},
   "outputs": [
    {
     "data": {
      "text/html": [
       "<div>\n",
       "<style scoped>\n",
       "    .dataframe tbody tr th:only-of-type {\n",
       "        vertical-align: middle;\n",
       "    }\n",
       "\n",
       "    .dataframe tbody tr th {\n",
       "        vertical-align: top;\n",
       "    }\n",
       "\n",
       "    .dataframe thead th {\n",
       "        text-align: right;\n",
       "    }\n",
       "</style>\n",
       "<table border=\"1\" class=\"dataframe\">\n",
       "  <thead>\n",
       "    <tr style=\"text-align: right;\">\n",
       "      <th></th>\n",
       "      <th>Area</th>\n",
       "      <th>pesticides_type</th>\n",
       "      <th>Year</th>\n",
       "      <th>agricultural_use_tonnes</th>\n",
       "      <th>pesticides_group</th>\n",
       "    </tr>\n",
       "  </thead>\n",
       "  <tbody>\n",
       "    <tr>\n",
       "      <th>0</th>\n",
       "      <td>Albania</td>\n",
       "      <td>Pesticides (total)</td>\n",
       "      <td>1990</td>\n",
       "      <td>121.00</td>\n",
       "      <td>Pesticides (total)</td>\n",
       "    </tr>\n",
       "    <tr>\n",
       "      <th>1</th>\n",
       "      <td>Albania</td>\n",
       "      <td>Pesticides (total)</td>\n",
       "      <td>1991</td>\n",
       "      <td>121.00</td>\n",
       "      <td>Pesticides (total)</td>\n",
       "    </tr>\n",
       "    <tr>\n",
       "      <th>2</th>\n",
       "      <td>Albania</td>\n",
       "      <td>Pesticides (total)</td>\n",
       "      <td>1992</td>\n",
       "      <td>121.00</td>\n",
       "      <td>Pesticides (total)</td>\n",
       "    </tr>\n",
       "    <tr>\n",
       "      <th>3</th>\n",
       "      <td>Albania</td>\n",
       "      <td>Pesticides (total)</td>\n",
       "      <td>1993</td>\n",
       "      <td>121.00</td>\n",
       "      <td>Pesticides (total)</td>\n",
       "    </tr>\n",
       "    <tr>\n",
       "      <th>4</th>\n",
       "      <td>Albania</td>\n",
       "      <td>Pesticides (total)</td>\n",
       "      <td>1994</td>\n",
       "      <td>201.00</td>\n",
       "      <td>Pesticides (total)</td>\n",
       "    </tr>\n",
       "    <tr>\n",
       "      <th>...</th>\n",
       "      <td>...</td>\n",
       "      <td>...</td>\n",
       "      <td>...</td>\n",
       "      <td>...</td>\n",
       "      <td>...</td>\n",
       "    </tr>\n",
       "    <tr>\n",
       "      <th>112328</th>\n",
       "      <td>Net Food Importing Developing Countries</td>\n",
       "      <td>Other Pesticides nes</td>\n",
       "      <td>2017</td>\n",
       "      <td>1603.95</td>\n",
       "      <td>Other Pesticides nes</td>\n",
       "    </tr>\n",
       "    <tr>\n",
       "      <th>112329</th>\n",
       "      <td>Net Food Importing Developing Countries</td>\n",
       "      <td>Other Pesticides nes</td>\n",
       "      <td>2018</td>\n",
       "      <td>1419.14</td>\n",
       "      <td>Other Pesticides nes</td>\n",
       "    </tr>\n",
       "    <tr>\n",
       "      <th>112330</th>\n",
       "      <td>Net Food Importing Developing Countries</td>\n",
       "      <td>Other Pesticides nes</td>\n",
       "      <td>2019</td>\n",
       "      <td>1457.76</td>\n",
       "      <td>Other Pesticides nes</td>\n",
       "    </tr>\n",
       "    <tr>\n",
       "      <th>112331</th>\n",
       "      <td>Net Food Importing Developing Countries</td>\n",
       "      <td>Other Pesticides nes</td>\n",
       "      <td>2020</td>\n",
       "      <td>1845.11</td>\n",
       "      <td>Other Pesticides nes</td>\n",
       "    </tr>\n",
       "    <tr>\n",
       "      <th>112332</th>\n",
       "      <td>Net Food Importing Developing Countries</td>\n",
       "      <td>Other Pesticides nes</td>\n",
       "      <td>2021</td>\n",
       "      <td>2002.36</td>\n",
       "      <td>Other Pesticides nes</td>\n",
       "    </tr>\n",
       "  </tbody>\n",
       "</table>\n",
       "<p>91564 rows × 5 columns</p>\n",
       "</div>"
      ],
      "text/plain": [
       "                                           Area       pesticides_type  Year  \\\n",
       "0                                       Albania    Pesticides (total)  1990   \n",
       "1                                       Albania    Pesticides (total)  1991   \n",
       "2                                       Albania    Pesticides (total)  1992   \n",
       "3                                       Albania    Pesticides (total)  1993   \n",
       "4                                       Albania    Pesticides (total)  1994   \n",
       "...                                         ...                   ...   ...   \n",
       "112328  Net Food Importing Developing Countries  Other Pesticides nes  2017   \n",
       "112329  Net Food Importing Developing Countries  Other Pesticides nes  2018   \n",
       "112330  Net Food Importing Developing Countries  Other Pesticides nes  2019   \n",
       "112331  Net Food Importing Developing Countries  Other Pesticides nes  2020   \n",
       "112332  Net Food Importing Developing Countries  Other Pesticides nes  2021   \n",
       "\n",
       "        agricultural_use_tonnes      pesticides_group  \n",
       "0                        121.00    Pesticides (total)  \n",
       "1                        121.00    Pesticides (total)  \n",
       "2                        121.00    Pesticides (total)  \n",
       "3                        121.00    Pesticides (total)  \n",
       "4                        201.00    Pesticides (total)  \n",
       "...                         ...                   ...  \n",
       "112328                  1603.95  Other Pesticides nes  \n",
       "112329                  1419.14  Other Pesticides nes  \n",
       "112330                  1457.76  Other Pesticides nes  \n",
       "112331                  1845.11  Other Pesticides nes  \n",
       "112332                  2002.36  Other Pesticides nes  \n",
       "\n",
       "[91564 rows x 5 columns]"
      ]
     },
     "execution_count": 464,
     "metadata": {},
     "output_type": "execute_result"
    }
   ],
   "source": [
    "# repair outliers: This function imputes the outliers in each column with the value of the IQR limit * 1.5 +- Q3.\n",
    "def repair_outliers(df, col):\n",
    "    Q1 = col.quantile(0.25)\n",
    "    Q3 = col.quantile(0.75)\n",
    "    IQR = Q3 - Q1\n",
    "    \n",
    "    outlier_lower = Q1 - (1.5 * IQR)\n",
    "    outlier_upper = Q3 + (1.5 * IQR)\n",
    "    \n",
    "    for i in range(len(df[col.name])): \n",
    "        if i in df.index:  \n",
    "            element = df.loc[i, col.name] \n",
    "            if element > outlier_upper: \n",
    "                df.loc[i, col.name] = outlier_upper\n",
    "            elif element < outlier_lower: \n",
    "                df.loc[i, col.name] = outlier_lower\n",
    "            \n",
    "    return df  \n",
    "\n",
    "repair_outliers(pest_filtered, pest_var)"
   ]
  },
  {
   "cell_type": "code",
   "execution_count": 465,
   "metadata": {},
   "outputs": [
    {
     "data": {
      "image/png": "[encoded data removed]",
      "text/plain": [
       "<Figure size 640x480 with 1 Axes>"
      ]
     },
     "metadata": {},
     "output_type": "display_data"
    }
   ],
   "source": [
    "# Create boxplot\n",
    "\n",
    "ax = sns.boxplot(y=pest_var, data=pest_filtered, color = agro[3]) \n",
    "ax.set_title('Agricultural use (tonnes)')\n",
    "ax.set_ylabel('')  \n",
    "\n",
    "plt.show()"
   ]
  },
  {
   "cell_type": "code",
   "execution_count": 191,
   "metadata": {},
   "outputs": [],
   "source": [
    "# Save pest_filtered in csv:\n",
    "# pest_filtered.to_csv('Data/pest_preprocessed.csv', index=False)"
   ]
  },
  {
   "cell_type": "markdown",
   "metadata": {},
   "source": [
    "### 2.4. <a id='toc2_4_'></a>[Fertilizers dataset](#toc0_)"
   ]
  },
  {
   "cell_type": "code",
   "execution_count": 372,
   "metadata": {},
   "outputs": [],
   "source": [
    "fert = pd.read_csv('Data/fertilizers/Inputs_FertilizersNutrient_E_All_Data_Normalized.csv',encoding='latin-1',low_memory=False)"
   ]
  },
  {
   "cell_type": "code",
   "execution_count": 373,
   "metadata": {},
   "outputs": [],
   "source": [
    "# To have the same years in the datasets, filter the datasets from year 1990\n",
    "fert_filtered = fert[fert['Year']>=1990]"
   ]
  },
  {
   "cell_type": "code",
   "execution_count": 155,
   "metadata": {},
   "outputs": [
    {
     "data": {
      "text/html": [
       "<div>\n",
       "<style scoped>\n",
       "    .dataframe tbody tr th:only-of-type {\n",
       "        vertical-align: middle;\n",
       "    }\n",
       "\n",
       "    .dataframe tbody tr th {\n",
       "        vertical-align: top;\n",
       "    }\n",
       "\n",
       "    .dataframe thead th {\n",
       "        text-align: right;\n",
       "    }\n",
       "</style>\n",
       "<table border=\"1\" class=\"dataframe\">\n",
       "  <thead>\n",
       "    <tr style=\"text-align: right;\">\n",
       "      <th></th>\n",
       "      <th>Area Code</th>\n",
       "      <th>Area Code (M49)</th>\n",
       "      <th>Area</th>\n",
       "      <th>Item Code</th>\n",
       "      <th>Item</th>\n",
       "      <th>Element Code</th>\n",
       "      <th>Element</th>\n",
       "      <th>Year Code</th>\n",
       "      <th>Year</th>\n",
       "      <th>Unit</th>\n",
       "      <th>Value</th>\n",
       "      <th>Flag</th>\n",
       "      <th>Note</th>\n",
       "    </tr>\n",
       "  </thead>\n",
       "  <tbody>\n",
       "    <tr>\n",
       "      <th>0</th>\n",
       "      <td>2</td>\n",
       "      <td>'004</td>\n",
       "      <td>Afghanistan</td>\n",
       "      <td>3102</td>\n",
       "      <td>Nutrient nitrogen N (total)</td>\n",
       "      <td>5510</td>\n",
       "      <td>Production</td>\n",
       "      <td>1974</td>\n",
       "      <td>1974</td>\n",
       "      <td>t</td>\n",
       "      <td>19117.0</td>\n",
       "      <td>A</td>\n",
       "      <td>Official data from questionnaire</td>\n",
       "    </tr>\n",
       "    <tr>\n",
       "      <th>1</th>\n",
       "      <td>2</td>\n",
       "      <td>'004</td>\n",
       "      <td>Afghanistan</td>\n",
       "      <td>3102</td>\n",
       "      <td>Nutrient nitrogen N (total)</td>\n",
       "      <td>5510</td>\n",
       "      <td>Production</td>\n",
       "      <td>1975</td>\n",
       "      <td>1975</td>\n",
       "      <td>t</td>\n",
       "      <td>14774.0</td>\n",
       "      <td>A</td>\n",
       "      <td>Official data from questionnaire</td>\n",
       "    </tr>\n",
       "    <tr>\n",
       "      <th>2</th>\n",
       "      <td>2</td>\n",
       "      <td>'004</td>\n",
       "      <td>Afghanistan</td>\n",
       "      <td>3102</td>\n",
       "      <td>Nutrient nitrogen N (total)</td>\n",
       "      <td>5510</td>\n",
       "      <td>Production</td>\n",
       "      <td>1976</td>\n",
       "      <td>1976</td>\n",
       "      <td>t</td>\n",
       "      <td>26203.0</td>\n",
       "      <td>A</td>\n",
       "      <td>Official data from questionnaire</td>\n",
       "    </tr>\n",
       "    <tr>\n",
       "      <th>3</th>\n",
       "      <td>2</td>\n",
       "      <td>'004</td>\n",
       "      <td>Afghanistan</td>\n",
       "      <td>3102</td>\n",
       "      <td>Nutrient nitrogen N (total)</td>\n",
       "      <td>5510</td>\n",
       "      <td>Production</td>\n",
       "      <td>1977</td>\n",
       "      <td>1977</td>\n",
       "      <td>t</td>\n",
       "      <td>37689.0</td>\n",
       "      <td>A</td>\n",
       "      <td>Official data from questionnaire</td>\n",
       "    </tr>\n",
       "    <tr>\n",
       "      <th>4</th>\n",
       "      <td>2</td>\n",
       "      <td>'004</td>\n",
       "      <td>Afghanistan</td>\n",
       "      <td>3102</td>\n",
       "      <td>Nutrient nitrogen N (total)</td>\n",
       "      <td>5510</td>\n",
       "      <td>Production</td>\n",
       "      <td>1978</td>\n",
       "      <td>1978</td>\n",
       "      <td>t</td>\n",
       "      <td>48300.0</td>\n",
       "      <td>A</td>\n",
       "      <td>Official data from questionnaire</td>\n",
       "    </tr>\n",
       "  </tbody>\n",
       "</table>\n",
       "</div>"
      ],
      "text/plain": [
       "   Area Code Area Code (M49)         Area  Item Code  \\\n",
       "0          2            '004  Afghanistan       3102   \n",
       "1          2            '004  Afghanistan       3102   \n",
       "2          2            '004  Afghanistan       3102   \n",
       "3          2            '004  Afghanistan       3102   \n",
       "4          2            '004  Afghanistan       3102   \n",
       "\n",
       "                          Item  Element Code     Element  Year Code  Year  \\\n",
       "0  Nutrient nitrogen N (total)          5510  Production       1974  1974   \n",
       "1  Nutrient nitrogen N (total)          5510  Production       1975  1975   \n",
       "2  Nutrient nitrogen N (total)          5510  Production       1976  1976   \n",
       "3  Nutrient nitrogen N (total)          5510  Production       1977  1977   \n",
       "4  Nutrient nitrogen N (total)          5510  Production       1978  1978   \n",
       "\n",
       "  Unit    Value Flag                              Note  \n",
       "0    t  19117.0    A  Official data from questionnaire  \n",
       "1    t  14774.0    A  Official data from questionnaire  \n",
       "2    t  26203.0    A  Official data from questionnaire  \n",
       "3    t  37689.0    A  Official data from questionnaire  \n",
       "4    t  48300.0    A  Official data from questionnaire  "
      ]
     },
     "execution_count": 155,
     "metadata": {},
     "output_type": "execute_result"
    }
   ],
   "source": [
    "fert.head()"
   ]
  },
  {
   "cell_type": "code",
   "execution_count": 156,
   "metadata": {},
   "outputs": [
    {
     "data": {
      "text/plain": [
       "array(['Production', 'Import Quantity', 'Export Quantity',\n",
       "       'Agricultural Use', 'Use per area of cropland', 'Use per capita',\n",
       "       'Use per value of agricultural production'], dtype=object)"
      ]
     },
     "execution_count": 156,
     "metadata": {},
     "output_type": "execute_result"
    }
   ],
   "source": [
    "fert['Element'].unique()"
   ]
  },
  {
   "cell_type": "code",
   "execution_count": 374,
   "metadata": {},
   "outputs": [],
   "source": [
    "# delete element types\n",
    "delete_elements = ['Import Quantity', 'Export Quantity', 'Use per capita','Use per value of agricultural production']\n",
    "\n",
    "# Filter the DataFrame to exclude the rows with the specified elements, and keep production, agricultural use and Use per area of cropland\n",
    "fert = fert[~fert['Element'].isin(delete_elements)]\n",
    "# Change the name to Elements type\n",
    "fert['Element'] = fert['Element'].replace('Production', 'production_tonnes')\n",
    "fert['Element'] = fert['Element'].replace('Agricultural Use', 'agricultural_use_tonnes')\n",
    "fert['Element'] = fert['Element'].replace('Use per area of cropland', 'use_per_area_kg/ha')"
   ]
  },
  {
   "cell_type": "code",
   "execution_count": 375,
   "metadata": {},
   "outputs": [],
   "source": [
    "# create new filtered df\n",
    "fert_filtered = fert[['Area','Item','Element','Year','Value']].copy()\n",
    "# Change the name to the new column\n",
    "fert_filtered.rename(columns={'Item': 'fertilizer_type'}, inplace=True)"
   ]
  },
  {
   "cell_type": "code",
   "execution_count": 159,
   "metadata": {},
   "outputs": [
    {
     "data": {
      "text/plain": [
       "Element\n",
       "agricultural use_tonnes    35760\n",
       "use per area_kg/ha         35655\n",
       "production_tonnes          19888\n",
       "Name: count, dtype: int64"
      ]
     },
     "execution_count": 159,
     "metadata": {},
     "output_type": "execute_result"
    }
   ],
   "source": [
    "fert_filtered['Element'].value_counts()"
   ]
  },
  {
   "cell_type": "code",
   "execution_count": 376,
   "metadata": {},
   "outputs": [],
   "source": [
    "# pivot.table creates a DataFrame where the items are separated into columns according to the type of item, keeping the relationship with the columns Area, fertilizer_type and Year.\n",
    "\n",
    "fert_filtered = fert_filtered.pivot_table(index=['Area', 'fertilizer_type', 'Year'], columns='Element', values='Value').reset_index()"
   ]
  },
  {
   "cell_type": "code",
   "execution_count": 306,
   "metadata": {},
   "outputs": [
    {
     "data": {
      "text/html": [
       "<div>\n",
       "<style scoped>\n",
       "    .dataframe tbody tr th:only-of-type {\n",
       "        vertical-align: middle;\n",
       "    }\n",
       "\n",
       "    .dataframe tbody tr th {\n",
       "        vertical-align: top;\n",
       "    }\n",
       "\n",
       "    .dataframe thead th {\n",
       "        text-align: right;\n",
       "    }\n",
       "</style>\n",
       "<table border=\"1\" class=\"dataframe\">\n",
       "  <thead>\n",
       "    <tr style=\"text-align: right;\">\n",
       "      <th>Element</th>\n",
       "      <th>Area</th>\n",
       "      <th>fertilizer_type</th>\n",
       "      <th>Year</th>\n",
       "      <th>agricultural_use_tonnes</th>\n",
       "      <th>production_tonnes</th>\n",
       "      <th>use_per_area_kg/ha</th>\n",
       "    </tr>\n",
       "  </thead>\n",
       "  <tbody>\n",
       "    <tr>\n",
       "      <th>0</th>\n",
       "      <td>Afghanistan</td>\n",
       "      <td>Nutrient nitrogen N (total)</td>\n",
       "      <td>1961</td>\n",
       "      <td>1000.00</td>\n",
       "      <td>NaN</td>\n",
       "      <td>0.13</td>\n",
       "    </tr>\n",
       "    <tr>\n",
       "      <th>1</th>\n",
       "      <td>Afghanistan</td>\n",
       "      <td>Nutrient nitrogen N (total)</td>\n",
       "      <td>1962</td>\n",
       "      <td>1000.00</td>\n",
       "      <td>NaN</td>\n",
       "      <td>0.13</td>\n",
       "    </tr>\n",
       "  </tbody>\n",
       "</table>\n",
       "</div>"
      ],
      "text/plain": [
       "Element         Area              fertilizer_type  Year  \\\n",
       "0        Afghanistan  Nutrient nitrogen N (total)  1961   \n",
       "1        Afghanistan  Nutrient nitrogen N (total)  1962   \n",
       "\n",
       "Element  agricultural_use_tonnes  production_tonnes  use_per_area_kg/ha  \n",
       "0                        1000.00                NaN                0.13  \n",
       "1                        1000.00                NaN                0.13  "
      ]
     },
     "execution_count": 306,
     "metadata": {},
     "output_type": "execute_result"
    }
   ],
   "source": [
    "fert_filtered.head(2)"
   ]
  },
  {
   "cell_type": "code",
   "execution_count": 307,
   "metadata": {},
   "outputs": [
    {
     "data": {
      "text/plain": [
       "fertilizer_type\n",
       "Nutrient nitrogen N (total)        12295\n",
       "Nutrient phosphate P2O5 (total)    11964\n",
       "Nutrient potash K2O (total)        11657\n",
       "Name: count, dtype: int64"
      ]
     },
     "execution_count": 307,
     "metadata": {},
     "output_type": "execute_result"
    }
   ],
   "source": [
    "fert_filtered['fertilizer_type'].value_counts()"
   ]
  },
  {
   "cell_type": "markdown",
   "metadata": {},
   "source": [
    "#### 2.4.1. <a id='toc2_4_1_'></a>[Preprocessing](#toc0_)"
   ]
  },
  {
   "cell_type": "markdown",
   "metadata": {},
   "source": [
    "##### 2.4.1.1. <a id='toc2_4_1_1_'></a>[NaN values](#toc0_)"
   ]
  },
  {
   "cell_type": "code",
   "execution_count": 377,
   "metadata": {},
   "outputs": [
    {
     "data": {
      "text/plain": [
       "Element\n",
       "Area                           0\n",
       "fertilizer_type                0\n",
       "Year                           0\n",
       "agricultural_use_tonnes      156\n",
       "production_tonnes          16028\n",
       "use_per_area_kg/ha           261\n",
       "dtype: int64"
      ]
     },
     "execution_count": 377,
     "metadata": {},
     "output_type": "execute_result"
    }
   ],
   "source": [
    "fert_filtered.isnull().sum()"
   ]
  },
  {
   "cell_type": "code",
   "execution_count": 378,
   "metadata": {},
   "outputs": [
    {
     "name": "stdout",
     "output_type": "stream",
     "text": [
      "<class 'pandas.core.frame.DataFrame'>\n",
      "RangeIndex: 35916 entries, 0 to 35915\n",
      "Data columns (total 6 columns):\n",
      " #   Column                   Non-Null Count  Dtype  \n",
      "---  ------                   --------------  -----  \n",
      " 0   Area                     35916 non-null  object \n",
      " 1   fertilizer_type          35916 non-null  object \n",
      " 2   Year                     35916 non-null  int64  \n",
      " 3   agricultural_use_tonnes  35760 non-null  float64\n",
      " 4   production_tonnes        19888 non-null  float64\n",
      " 5   use_per_area_kg/ha       35655 non-null  float64\n",
      "dtypes: float64(3), int64(1), object(2)\n",
      "memory usage: 1.6+ MB\n"
     ]
    }
   ],
   "source": [
    "fert_filtered.info()"
   ]
  },
  {
   "cell_type": "markdown",
   "metadata": {},
   "source": [
    "As the **agricultural use, production and use per area** are continuous variables, we will do the imputation with the mean value:"
   ]
  },
  {
   "cell_type": "code",
   "execution_count": 379,
   "metadata": {},
   "outputs": [
    {
     "data": {
      "text/plain": [
       "Element\n",
       "Area                      0.00\n",
       "fertilizer_type           0.00\n",
       "Year                      0.00\n",
       "agricultural_use_tonnes   0.00\n",
       "production_tonnes         0.00\n",
       "use_per_area_kg/ha        0.00\n",
       "dtype: float64"
      ]
     },
     "execution_count": 379,
     "metadata": {},
     "output_type": "execute_result"
    }
   ],
   "source": [
    "def repair_null(df, col):\n",
    "    if df[col].dtype == 'int64' or df[col].dtype == 'float64':\n",
    "        df[col] = df[col].fillna(df[col].mean())\n",
    "    else:\n",
    "        df[col] = df[col].fillna(df[col].mode()[0])\n",
    "    return df \n",
    "\n",
    "for col in fert_filtered.columns:\n",
    "    repair_null(fert_filtered, col)\n",
    "\n",
    "fert_filtered.isnull().sum()/len(prec)*100"
   ]
  },
  {
   "cell_type": "markdown",
   "metadata": {},
   "source": [
    "##### 2.4.1.2. <a id='toc2_4_1_2_'></a>[Outliers](#toc0_)"
   ]
  },
  {
   "cell_type": "code",
   "execution_count": 380,
   "metadata": {},
   "outputs": [],
   "source": [
    "# convert year variable to object type, because it's a discrete variable\n",
    "fert_filtered['Year'] = fert_filtered['Year'].astype(object)"
   ]
  },
  {
   "cell_type": "code",
   "execution_count": 381,
   "metadata": {},
   "outputs": [
    {
     "data": {
      "text/html": [
       "<div>\n",
       "<style scoped>\n",
       "    .dataframe tbody tr th:only-of-type {\n",
       "        vertical-align: middle;\n",
       "    }\n",
       "\n",
       "    .dataframe tbody tr th {\n",
       "        vertical-align: top;\n",
       "    }\n",
       "\n",
       "    .dataframe thead th {\n",
       "        text-align: right;\n",
       "    }\n",
       "</style>\n",
       "<table border=\"1\" class=\"dataframe\">\n",
       "  <thead>\n",
       "    <tr style=\"text-align: right;\">\n",
       "      <th></th>\n",
       "      <th>count</th>\n",
       "      <th>mean</th>\n",
       "      <th>std</th>\n",
       "      <th>min</th>\n",
       "      <th>25%</th>\n",
       "      <th>50%</th>\n",
       "      <th>75%</th>\n",
       "      <th>max</th>\n",
       "    </tr>\n",
       "    <tr>\n",
       "      <th>Element</th>\n",
       "      <th></th>\n",
       "      <th></th>\n",
       "      <th></th>\n",
       "      <th></th>\n",
       "      <th></th>\n",
       "      <th></th>\n",
       "      <th></th>\n",
       "      <th></th>\n",
       "    </tr>\n",
       "  </thead>\n",
       "  <tbody>\n",
       "    <tr>\n",
       "      <th>agricultural_use_tonnes</th>\n",
       "      <td>35916.00</td>\n",
       "      <td>960964.59</td>\n",
       "      <td>4638662.76</td>\n",
       "      <td>0.00</td>\n",
       "      <td>1739.51</td>\n",
       "      <td>24491.50</td>\n",
       "      <td>230637.25</td>\n",
       "      <td>110541658.96</td>\n",
       "    </tr>\n",
       "    <tr>\n",
       "      <th>production_tonnes</th>\n",
       "      <td>35916.00</td>\n",
       "      <td>1827674.20</td>\n",
       "      <td>4892066.96</td>\n",
       "      <td>0.00</td>\n",
       "      <td>55000.00</td>\n",
       "      <td>1827674.20</td>\n",
       "      <td>1827674.20</td>\n",
       "      <td>122741092.16</td>\n",
       "    </tr>\n",
       "    <tr>\n",
       "      <th>use_per_area_kg/ha</th>\n",
       "      <td>35916.00</td>\n",
       "      <td>28.16</td>\n",
       "      <td>40.82</td>\n",
       "      <td>0.00</td>\n",
       "      <td>2.41</td>\n",
       "      <td>12.40</td>\n",
       "      <td>36.38</td>\n",
       "      <td>412.29</td>\n",
       "    </tr>\n",
       "  </tbody>\n",
       "</table>\n",
       "</div>"
      ],
      "text/plain": [
       "                           count       mean        std  min      25%  \\\n",
       "Element                                                                \n",
       "agricultural_use_tonnes 35916.00  960964.59 4638662.76 0.00  1739.51   \n",
       "production_tonnes       35916.00 1827674.20 4892066.96 0.00 55000.00   \n",
       "use_per_area_kg/ha      35916.00      28.16      40.82 0.00     2.41   \n",
       "\n",
       "                               50%        75%          max  \n",
       "Element                                                     \n",
       "agricultural_use_tonnes   24491.50  230637.25 110541658.96  \n",
       "production_tonnes       1827674.20 1827674.20 122741092.16  \n",
       "use_per_area_kg/ha           12.40      36.38       412.29  "
      ]
     },
     "execution_count": 381,
     "metadata": {},
     "output_type": "execute_result"
    }
   ],
   "source": [
    "fert_filtered.describe().T.round(2)"
   ]
  },
  {
   "cell_type": "code",
   "execution_count": 382,
   "metadata": {},
   "outputs": [
    {
     "name": "stdout",
     "output_type": "stream",
     "text": [
      "Variable agricultural_use_tonnes has 5852 outliers\n",
      "Variable production_tonnes has 1920 outliers\n",
      "Variable use_per_area_kg/ha has 2932 outliers\n"
     ]
    }
   ],
   "source": [
    "# visualise outliers: This function prints the outliers for each column.\n",
    "\n",
    "def outliers (df):\n",
    "    for columns in df:\n",
    "        if df[columns].dtype in ['int64', 'float64']: \n",
    "\n",
    "            Q1 = df[columns].quantile(0.25)\n",
    "            Q3 = df[columns].quantile(0.75)\n",
    "            IQR = Q3 - Q1\n",
    "            outlierLeft = Q1-(1.5*IQR)\n",
    "            outlierRight = Q3+(1.5*IQR)\n",
    "            outliers = df[columns][(df[columns] < outlierLeft) | (df[columns] > outlierRight)]\n",
    "            print(\"Variable \" + columns + \" has \" + str(len(outliers)) + \" outliers\")\n",
    "\n",
    "    \n",
    "outliers(fert_filtered)"
   ]
  },
  {
   "cell_type": "code",
   "execution_count": 383,
   "metadata": {},
   "outputs": [
    {
     "data": {
      "image/png": "[encoded data removed]",
      "text/plain": [
       "<Figure size 1500x500 with 3 Axes>"
      ]
     },
     "metadata": {},
     "output_type": "display_data"
    }
   ],
   "source": [
    "# Create boxplot\n",
    "fert_var1 = fert_filtered['agricultural_use_tonnes']\n",
    "fert_var2 = fert_filtered['production_tonnes']\n",
    "fert_var3 = fert_filtered['use_per_area_kg/ha']\n",
    "\n",
    "# Create subplots\n",
    "fig, axes = plt.subplots(nrows=1, ncols=3,figsize=(15, 5))\n",
    "\n",
    "fig = sns.boxplot(y=fert_var1, data=df, ax=axes[0], color = agro[1]) \n",
    "axes[0].set_title('Agricultural use (tonnes)')\n",
    "axes[0].set_ylabel('')  \n",
    "\n",
    "fig = sns.boxplot(y=fert_var2, data=df, ax=axes[1], color = agro[2]) \n",
    "axes[1].set_title('Fertilizer production (tonnes)')\n",
    "axes[1].set_ylabel('') \n",
    "\n",
    "fig = sns.boxplot(y=fert_var3, data=df, ax=axes[2], color = agro[3])  \n",
    "axes[2].set_title('Use per area (kg/ha)')\n",
    "axes[2].set_ylabel('')  \n",
    "\n",
    "# Adjust the design\n",
    "plt.tight_layout()\n",
    "\n",
    "# Show\n",
    "plt.show()"
   ]
  },
  {
   "cell_type": "code",
   "execution_count": 384,
   "metadata": {},
   "outputs": [
    {
     "data": {
      "text/html": [
       "<div>\n",
       "<style scoped>\n",
       "    .dataframe tbody tr th:only-of-type {\n",
       "        vertical-align: middle;\n",
       "    }\n",
       "\n",
       "    .dataframe tbody tr th {\n",
       "        vertical-align: top;\n",
       "    }\n",
       "\n",
       "    .dataframe thead th {\n",
       "        text-align: right;\n",
       "    }\n",
       "</style>\n",
       "<table border=\"1\" class=\"dataframe\">\n",
       "  <thead>\n",
       "    <tr style=\"text-align: right;\">\n",
       "      <th>Element</th>\n",
       "      <th>Area</th>\n",
       "      <th>fertilizer_type</th>\n",
       "      <th>Year</th>\n",
       "      <th>agricultural_use_tonnes</th>\n",
       "      <th>production_tonnes</th>\n",
       "      <th>use_per_area_kg/ha</th>\n",
       "    </tr>\n",
       "  </thead>\n",
       "  <tbody>\n",
       "    <tr>\n",
       "      <th>0</th>\n",
       "      <td>Afghanistan</td>\n",
       "      <td>Nutrient nitrogen N (total)</td>\n",
       "      <td>1961</td>\n",
       "      <td>1000.00</td>\n",
       "      <td>1827674.20</td>\n",
       "      <td>0.13</td>\n",
       "    </tr>\n",
       "    <tr>\n",
       "      <th>1</th>\n",
       "      <td>Afghanistan</td>\n",
       "      <td>Nutrient nitrogen N (total)</td>\n",
       "      <td>1962</td>\n",
       "      <td>1000.00</td>\n",
       "      <td>1827674.20</td>\n",
       "      <td>0.13</td>\n",
       "    </tr>\n",
       "    <tr>\n",
       "      <th>2</th>\n",
       "      <td>Afghanistan</td>\n",
       "      <td>Nutrient nitrogen N (total)</td>\n",
       "      <td>1963</td>\n",
       "      <td>1000.00</td>\n",
       "      <td>1827674.20</td>\n",
       "      <td>0.13</td>\n",
       "    </tr>\n",
       "    <tr>\n",
       "      <th>3</th>\n",
       "      <td>Afghanistan</td>\n",
       "      <td>Nutrient nitrogen N (total)</td>\n",
       "      <td>1964</td>\n",
       "      <td>1000.00</td>\n",
       "      <td>1827674.20</td>\n",
       "      <td>0.13</td>\n",
       "    </tr>\n",
       "    <tr>\n",
       "      <th>4</th>\n",
       "      <td>Afghanistan</td>\n",
       "      <td>Nutrient nitrogen N (total)</td>\n",
       "      <td>1965</td>\n",
       "      <td>1000.00</td>\n",
       "      <td>1827674.20</td>\n",
       "      <td>0.13</td>\n",
       "    </tr>\n",
       "    <tr>\n",
       "      <th>...</th>\n",
       "      <td>...</td>\n",
       "      <td>...</td>\n",
       "      <td>...</td>\n",
       "      <td>...</td>\n",
       "      <td>...</td>\n",
       "      <td>...</td>\n",
       "    </tr>\n",
       "    <tr>\n",
       "      <th>35911</th>\n",
       "      <td>Zimbabwe</td>\n",
       "      <td>Nutrient potash K2O (total)</td>\n",
       "      <td>2017</td>\n",
       "      <td>40000.00</td>\n",
       "      <td>0.00</td>\n",
       "      <td>9.76</td>\n",
       "    </tr>\n",
       "    <tr>\n",
       "      <th>35912</th>\n",
       "      <td>Zimbabwe</td>\n",
       "      <td>Nutrient potash K2O (total)</td>\n",
       "      <td>2018</td>\n",
       "      <td>36900.00</td>\n",
       "      <td>0.00</td>\n",
       "      <td>9.00</td>\n",
       "    </tr>\n",
       "    <tr>\n",
       "      <th>35913</th>\n",
       "      <td>Zimbabwe</td>\n",
       "      <td>Nutrient potash K2O (total)</td>\n",
       "      <td>2019</td>\n",
       "      <td>36900.00</td>\n",
       "      <td>0.00</td>\n",
       "      <td>9.00</td>\n",
       "    </tr>\n",
       "    <tr>\n",
       "      <th>35914</th>\n",
       "      <td>Zimbabwe</td>\n",
       "      <td>Nutrient potash K2O (total)</td>\n",
       "      <td>2020</td>\n",
       "      <td>16700.00</td>\n",
       "      <td>0.00</td>\n",
       "      <td>4.07</td>\n",
       "    </tr>\n",
       "    <tr>\n",
       "      <th>35915</th>\n",
       "      <td>Zimbabwe</td>\n",
       "      <td>Nutrient potash K2O (total)</td>\n",
       "      <td>2021</td>\n",
       "      <td>16700.00</td>\n",
       "      <td>0.00</td>\n",
       "      <td>4.07</td>\n",
       "    </tr>\n",
       "  </tbody>\n",
       "</table>\n",
       "<p>35916 rows × 6 columns</p>\n",
       "</div>"
      ],
      "text/plain": [
       "Element         Area              fertilizer_type  Year  \\\n",
       "0        Afghanistan  Nutrient nitrogen N (total)  1961   \n",
       "1        Afghanistan  Nutrient nitrogen N (total)  1962   \n",
       "2        Afghanistan  Nutrient nitrogen N (total)  1963   \n",
       "3        Afghanistan  Nutrient nitrogen N (total)  1964   \n",
       "4        Afghanistan  Nutrient nitrogen N (total)  1965   \n",
       "...              ...                          ...   ...   \n",
       "35911       Zimbabwe  Nutrient potash K2O (total)  2017   \n",
       "35912       Zimbabwe  Nutrient potash K2O (total)  2018   \n",
       "35913       Zimbabwe  Nutrient potash K2O (total)  2019   \n",
       "35914       Zimbabwe  Nutrient potash K2O (total)  2020   \n",
       "35915       Zimbabwe  Nutrient potash K2O (total)  2021   \n",
       "\n",
       "Element  agricultural_use_tonnes  production_tonnes  use_per_area_kg/ha  \n",
       "0                        1000.00         1827674.20                0.13  \n",
       "1                        1000.00         1827674.20                0.13  \n",
       "2                        1000.00         1827674.20                0.13  \n",
       "3                        1000.00         1827674.20                0.13  \n",
       "4                        1000.00         1827674.20                0.13  \n",
       "...                          ...                ...                 ...  \n",
       "35911                   40000.00               0.00                9.76  \n",
       "35912                   36900.00               0.00                9.00  \n",
       "35913                   36900.00               0.00                9.00  \n",
       "35914                   16700.00               0.00                4.07  \n",
       "35915                   16700.00               0.00                4.07  \n",
       "\n",
       "[35916 rows x 6 columns]"
      ]
     },
     "execution_count": 384,
     "metadata": {},
     "output_type": "execute_result"
    }
   ],
   "source": [
    "# repair outliers: This function imputes the outliers in each column with the value of the IQR limit * 1.5 +- Q3.\n",
    "def repair_outliers(df, col):\n",
    "    Q1 = col.quantile(0.25)\n",
    "    Q3 = col.quantile(0.75)\n",
    "    IQR = Q3 - Q1\n",
    "    \n",
    "    outlier_lower = Q1 - (1.5 * IQR)\n",
    "    outlier_upper = Q3 + (1.5 * IQR)\n",
    "    \n",
    "    for i in range(len(df[col.name])): \n",
    "        if i in df.index:  \n",
    "            element = df.loc[i, col.name] \n",
    "            if element > outlier_upper: \n",
    "                df.loc[i, col.name] = outlier_upper\n",
    "            elif element < outlier_lower: \n",
    "                df.loc[i, col.name] = outlier_lower\n",
    "            \n",
    "    return df  \n",
    "\n",
    "repair_outliers(fert_filtered, fert_var1)\n",
    "repair_outliers(fert_filtered, fert_var2)\n",
    "repair_outliers(fert_filtered, fert_var3)"
   ]
  },
  {
   "cell_type": "code",
   "execution_count": 385,
   "metadata": {},
   "outputs": [
    {
     "data": {
      "image/png": "[encoded data removed]",
      "text/plain": [
       "<Figure size 1500x500 with 3 Axes>"
      ]
     },
     "metadata": {},
     "output_type": "display_data"
    }
   ],
   "source": [
    "# boxplot\n",
    "fig, axes = plt.subplots(nrows=1, ncols=3,figsize=(15, 5))\n",
    "\n",
    "fig = sns.boxplot(y=fert_var1, data=fert_filtered, ax=axes[0], color = agro[1]) \n",
    "axes[0].set_title('Agricultural use (tonnes)')\n",
    "axes[0].set_ylabel('')  \n",
    "\n",
    "fig = sns.boxplot(y=fert_var2, data=fert_filtered, ax=axes[1], color = agro[2]) \n",
    "axes[1].set_title('Fertilizer production (tonnes)')\n",
    "axes[1].set_ylabel('') \n",
    "\n",
    "fig = sns.boxplot(y=fert_var3, data=fert_filtered, ax=axes[2], color = agro[3])  \n",
    "axes[2].set_title('Use per area (kg/ha)')\n",
    "axes[2].set_ylabel('')  \n",
    "\n",
    "plt.tight_layout()\n",
    "plt.show()"
   ]
  },
  {
   "cell_type": "code",
   "execution_count": 386,
   "metadata": {},
   "outputs": [],
   "source": [
    "# Save fert_filtered in csv:\n",
    "fert_filtered.to_csv('Data/fert_preprocessed.csv', index=False)"
   ]
  },
  {
   "cell_type": "markdown",
   "metadata": {},
   "source": [
    "### 2.5. <a id='toc2_5_'></a>[Temperature dataset](#toc0_)"
   ]
  },
  {
   "cell_type": "code",
   "execution_count": 419,
   "metadata": {},
   "outputs": [
    {
     "data": {
      "text/html": [
       "<div>\n",
       "<style scoped>\n",
       "    .dataframe tbody tr th:only-of-type {\n",
       "        vertical-align: middle;\n",
       "    }\n",
       "\n",
       "    .dataframe tbody tr th {\n",
       "        vertical-align: top;\n",
       "    }\n",
       "\n",
       "    .dataframe thead th {\n",
       "        text-align: right;\n",
       "    }\n",
       "</style>\n",
       "<table border=\"1\" class=\"dataframe\">\n",
       "  <thead>\n",
       "    <tr style=\"text-align: right;\">\n",
       "      <th></th>\n",
       "      <th>Country</th>\n",
       "      <th>Last</th>\n",
       "      <th>Previous</th>\n",
       "    </tr>\n",
       "  </thead>\n",
       "  <tbody>\n",
       "    <tr>\n",
       "      <th>0</th>\n",
       "      <td>Burkina Faso</td>\n",
       "      <td>29.28</td>\n",
       "      <td>30.01</td>\n",
       "    </tr>\n",
       "    <tr>\n",
       "      <th>1</th>\n",
       "      <td>Mali</td>\n",
       "      <td>29.19</td>\n",
       "      <td>29.78</td>\n",
       "    </tr>\n",
       "    <tr>\n",
       "      <th>2</th>\n",
       "      <td>Qatar</td>\n",
       "      <td>29.11</td>\n",
       "      <td>29.42</td>\n",
       "    </tr>\n",
       "    <tr>\n",
       "      <th>3</th>\n",
       "      <td>Senegal</td>\n",
       "      <td>29.00</td>\n",
       "      <td>29.62</td>\n",
       "    </tr>\n",
       "    <tr>\n",
       "      <th>4</th>\n",
       "      <td>United Arab Emirates</td>\n",
       "      <td>28.93</td>\n",
       "      <td>29.09</td>\n",
       "    </tr>\n",
       "    <tr>\n",
       "      <th>...</th>\n",
       "      <td>...</td>\n",
       "      <td>...</td>\n",
       "      <td>...</td>\n",
       "    </tr>\n",
       "    <tr>\n",
       "      <th>200</th>\n",
       "      <td>Iceland</td>\n",
       "      <td>2.11</td>\n",
       "      <td>2.43</td>\n",
       "    </tr>\n",
       "    <tr>\n",
       "      <th>201</th>\n",
       "      <td>Mongolia</td>\n",
       "      <td>1.31</td>\n",
       "      <td>2.08</td>\n",
       "    </tr>\n",
       "    <tr>\n",
       "      <th>202</th>\n",
       "      <td>Russia</td>\n",
       "      <td>-2.87</td>\n",
       "      <td>-3.65</td>\n",
       "    </tr>\n",
       "    <tr>\n",
       "      <th>203</th>\n",
       "      <td>Canada</td>\n",
       "      <td>-4.22</td>\n",
       "      <td>-3.70</td>\n",
       "    </tr>\n",
       "    <tr>\n",
       "      <th>204</th>\n",
       "      <td>Greenland</td>\n",
       "      <td>-18.62</td>\n",
       "      <td>-17.60</td>\n",
       "    </tr>\n",
       "  </tbody>\n",
       "</table>\n",
       "<p>205 rows × 3 columns</p>\n",
       "</div>"
      ],
      "text/plain": [
       "                  Country   Last  Previous\n",
       "0            Burkina Faso  29.28     30.01\n",
       "1                    Mali  29.19     29.78\n",
       "2                   Qatar  29.11     29.42\n",
       "3                 Senegal  29.00     29.62\n",
       "4    United Arab Emirates  28.93     29.09\n",
       "..                    ...    ...       ...\n",
       "200               Iceland   2.11      2.43\n",
       "201              Mongolia   1.31      2.08\n",
       "202                Russia  -2.87     -3.65\n",
       "203                Canada  -4.22     -3.70\n",
       "204             Greenland -18.62    -17.60\n",
       "\n",
       "[205 rows x 3 columns]"
      ]
     },
     "execution_count": 419,
     "metadata": {},
     "output_type": "execute_result"
    }
   ],
   "source": [
    "# Data: https://tradingeconomics.com/country-list/temperature\n",
    "temp = {\n",
    "    'Country': [\n",
    "        'Burkina Faso', 'Mali', 'Qatar', 'Senegal', 'United Arab Emirates', 'Mauritania', 'Bahrain',\n",
    "        'Aruba', 'Djibouti', 'Gambia', 'Benin', 'Maldives', 'Guinea Bissau', 'Cayman Islands',\n",
    "        'Oman', 'Marshall Islands', 'Kiribati', 'Ghana', 'Singapore', 'Niger', 'Kuwait', 'Sudan',\n",
    "        'Guam', 'Palau', 'Samoa', 'Togo', 'Micronesia', 'St Kitts and Nevis', 'American Samoa',\n",
    "        'Chad', 'Cambodia', 'Northern Mariana Islands', 'Sri Lanka', 'Nigeria', 'Seychelles',\n",
    "        'Somalia', 'Antigua and Barbuda', 'Ivory Coast', 'Virgin Islands', 'St Lucia', 'Thailand',\n",
    "        'Dominica', 'Sierra Leone', 'Philippines', 'Suriname', 'Eritrea', 'Saudi Arabia',\n",
    "        'Trinidad and Tobago', 'Barbados', 'Malaysia', 'Grenada', 'Guyana', 'Cuba', 'Bahamas',\n",
    "        'Jamaica', 'St Vincent and the Grenadines', 'Indonesia', 'Guinea', 'Solomon Islands',\n",
    "        'Belize', 'Nicaragua', 'Bangladesh', 'Central African Republic', 'Brazil', 'Venezuela',\n",
    "        'Yemen', 'Liberia', 'Gabon', 'Panama', 'El Salvador', 'Kenya', 'India', 'Tonga',\n",
    "        'Republic of the Congo', 'Haiti', 'Fiji', 'Cameroon', 'Puerto Rico', 'Equatorial Guinea',\n",
    "        'Mayotte', 'Papua New Guinea', 'Vanuatu', 'Vietnam', 'Colombia', 'Honduras',\n",
    "        'Sao Tome and Principe', 'Costa Rica', 'Dominican Republic', 'Mozambique', 'Congo',\n",
    "        'Algeria', 'French Polynesia', 'Laos', 'Myanmar', 'Paraguay', 'Iraq', 'Guatemala',\n",
    "        'Comoros', 'Hong Kong', 'Ethiopia', 'Macau', 'New Caledonia', 'Mauritius', 'Egypt',\n",
    "        'Uganda', 'Tanzania', 'Libya', 'Madagascar', 'Cape Verde', 'Malawi', 'Pakistan',\n",
    "        'Botswana', 'Australia', 'Zambia', 'Zimbabwe', 'Mexico', 'Angola', 'Tunisia', 'Ecuador',\n",
    "        'Swaziland', 'Taiwan', 'Bolivia', 'Burundi', 'Malta', 'Namibia', 'Israel', 'Jordan',\n",
    "        'Palestine', 'Peru', 'Cyprus', 'Iran', 'Syria', 'Rwanda', 'Morocco', 'South Africa',\n",
    "        'Uruguay', 'Turkmenistan', 'Portugal', 'Lebanon', 'Spain', 'Argentina', 'Monaco',\n",
    "        'Greece', 'Uzbekistan', 'Afghanistan', 'Nepal', 'Italy', 'San Marino', 'Azerbaijan',\n",
    "        'Albania', 'Croatia', 'France', 'South Korea', 'Lesotho', 'Hungary', 'Serbia', 'Japan',\n",
    "        'Bulgaria', 'Turkey', 'Belgium', 'Moldova', 'Netherlands', 'Macedonia', 'New Zealand',\n",
    "        'Bosnia and Herzegovina', 'Luxembourg', 'Romania', 'Slovenia', 'Montenegro', 'Germany',\n",
    "        'Bhutan', 'Ireland', 'United Kingdom', 'Ukraine', 'Georgia', 'Isle of Man', 'Slovakia',\n",
    "        'Denmark', 'Andorra', 'United States', 'Czech Republic', 'Poland', 'Chile', 'Liechtenstein',\n",
    "        'Austria', 'Armenia', 'China', 'Switzerland', 'Kazakhstan', 'Belarus', 'Lithuania',\n",
    "        'North Korea', 'Latvia', 'Faroe Islands', 'Estonia', 'Tajikistan', 'Kyrgyzstan', 'Sweden',\n",
    "        'Finland', 'Norway', 'Iceland', 'Mongolia', 'Russia', 'Canada', 'Greenland'\n",
    "    ],\n",
    "    'Last': [\n",
    "    29.28, 29.19, 29.11, 29.00, 28.93, 28.9, 28.84, 28.82, 28.6, 28.46, 28.09, 28.08, 28.05, 28.01,\n",
    "    27.94, 27.9, 27.77, 27.73, 27.7, 27.61, 27.58, 27.57, 27.54, 27.54, 27.53, 27.47, 27.45, 27.34,\n",
    "    27.31, 27.28, 27.25, 27.25, 27.24, 27.15, 27.11, 27.1, 27.06, 26.84, 26.84, 26.83, 26.78, 26.68,\n",
    "    26.64, 26.61, 26.53, 26.49, 26.46, 26.46, 26.45, 26.35, 26.33, 26.16, 26.14, 26.05, 26.02, 25.98,\n",
    "    25.96, 25.95, 25.89, 25.83, 25.81, 25.74, 25.56, 25.54, 25.52, 25.51, 25.47, 25.46, 25.33, 25.23,\n",
    "    25.22, 25.2, 25.1, 25.05, 25.01, 24.98, 24.94, 24.94, 24.89, 24.87, 24.78, 24.76, 24.73, 24.71,\n",
    "    24.71, 24.66, 24.64, 24.57, 24.42, 24.38, 24.11, 24.05, 24.05, 23.96, 23.86, 23.81, 23.77, 23.74,\n",
    "    23.62, 23.45, 23.4, 23.37, 23.27, 23.23, 23.14, 22.9, 22.8, 22.7, 22.67, 22.55, 22.23, 22.00,\n",
    "    21.96, 21.92, 21.83, 21.7, 21.63, 21.44, 21.07, 20.92, 20.79, 20.68, 20.43, 20.26, 20.24, 20.23,\n",
    "    19.77, 19.7, 19.58, 19.33, 19.3, 19.17, 19.14, 19.1, 18.42, 17.73, 17.66, 16.9, 15.66, 15.3, 15.07,\n",
    "    15.01, 14.88, 14.86, 14.48, 14.39, 14.38, 14.14, 13.84, 13.31, 13.16, 13.16, 12.76, 12.64, 12.62,\n",
    "    12.56, 12.42, 12.28, 12.24, 11.98, 11.9, 11.72, 11.66, 11.66, 11.57, 11.43, 11.2, 11.04, 11.00,\n",
    "    10.83, 10.56, 10.35, 10.11, 10.04, 9.92, 9.89, 9.81, 9.77, 9.73, 9.73, 9.71, 9.7, 9.37, 9.05,\n",
    "    8.65, 8.64, 8.1, 8.08, 8.06, 7.98, 7.95, 7.46, 7.4, 7.1, 6.9, 5.09, 3.93, 3.84, 3.24, 2.88,\n",
    "    2.11, 1.31, -2.87, -4.22, -18.62\n",
    "],\n",
    "    'Previous': [\n",
    "    30.01, 29.78, 29.42, 29.62, 29.09, 29.3, 29.18, 29.03, 28.52, 29.03, 28.7, 28.14, 28.68, 27.99,\n",
    "    28.1, 28.16, 27.89, 28.3, 27.75, 28.09, 27.89, 28.17, 27.88, 27.58, 27.54, 28.04, 27.42, 27.6,\n",
    "    27.34, 27.7, 27.44, 27.65, 27.4, 27.67, 27.26, 26.93, 27.33, 27.37, 27.11, 27.03, 26.9, 26.9,\n",
    "    27.19, 26.7, 26.56, 26.88, 26.8, 26.58, 26.63, 26.47, 26.49, 26.15, 26.06, 25.87, 26.07, 26.16,\n",
    "    26.01, 26.6, 25.89, 26.15, 26.09, 25.7, 25.78, 25.57, 25.61, 25.64, 25.87, 25.66, 25.59, 25.53,\n",
    "    25.25, 25.09, 25.16, 25.23, 25.15, 25.03, 25.2, 25.17, 25.08, 25.08, 24.79, 24.66, 25.04, 24.97,\n",
    "    25.03, 24.93, 24.89, 24.75, 24.53, 24.46, 23.92, 24.45, 24.34, 24.11, 24.01, 24.21, 24.08, 23.92,\n",
    "    24.19, 23.41, 23.96, 23.09, 23.7, 23.88, 23.22, 23.0, 23.05, 22.87, 22.76, 22.8, 22.03, 21.74,\n",
    "    22.05, 22.11, 21.87, 21.85, 21.74, 21.33, 21.42, 20.52, 21.07, 20.8, 20.51, 20.22, 20.12, 20.86,\n",
    "    20.36, 20.34, 19.79, 19.87, 19.57, 19.67, 19.21, 18.48, 18.06, 18.06, 17.69, 16.1, 16.2, 14.31,\n",
    "    15.4, 13.62, 15.09, 14.76, 14.28, 14.29, 13.52, 13.16, 13.9, 12.89, 12.19, 11.58, 13.14, 12.28,\n",
    "    11.58, 11.7, 12.45, 11.97, 12.61, 10.48, 10.95, 10.41, 11.39, 11.18, 10.7, 9.77, 10.35, 10.0,\n",
    "    10.25, 9.49, 10.73, 9.94, 9.39, 9.37, 10.05, 9.92, 8.79, 8.96, 8.38, 10.01, 8.5, 8.75, 9.81,\n",
    "    7.44, 7.41, 8.81, 8.21, 6.39, 7.83, 7.33, 7.28, 7.81, 6.82, 6.7, 6.3, 4.61, 3.36, 3.08, 2.34,\n",
    "    2.11, 2.43, 2.08, -3.65, -3.7, -17.6\n",
    "]\n",
    "}\n",
    "\n",
    "temp = pd.DataFrame(temp)\n",
    "temp\n"
   ]
  },
  {
   "cell_type": "code",
   "execution_count": 420,
   "metadata": {},
   "outputs": [],
   "source": [
    "# calculation of the average temperature last & previous in a new column\n",
    "\n",
    "temp['avg_temp_ºC'] = temp[['Last','Previous']].mean(axis=1).round(2)\n",
    "\n",
    "# drop Last & previous columns\n",
    "temp = temp.drop(['Last','Previous'], axis=1)\n",
    "# Change the name to the new column\n",
    "temp.rename(columns={'Country': 'Area'}, inplace=True)"
   ]
  },
  {
   "cell_type": "code",
   "execution_count": 163,
   "metadata": {},
   "outputs": [
    {
     "data": {
      "text/html": [
       "<div>\n",
       "<style scoped>\n",
       "    .dataframe tbody tr th:only-of-type {\n",
       "        vertical-align: middle;\n",
       "    }\n",
       "\n",
       "    .dataframe tbody tr th {\n",
       "        vertical-align: top;\n",
       "    }\n",
       "\n",
       "    .dataframe thead th {\n",
       "        text-align: right;\n",
       "    }\n",
       "</style>\n",
       "<table border=\"1\" class=\"dataframe\">\n",
       "  <thead>\n",
       "    <tr style=\"text-align: right;\">\n",
       "      <th></th>\n",
       "      <th>Area</th>\n",
       "      <th>avg_temp_ºC</th>\n",
       "    </tr>\n",
       "  </thead>\n",
       "  <tbody>\n",
       "    <tr>\n",
       "      <th>0</th>\n",
       "      <td>Burkina Faso</td>\n",
       "      <td>29.65</td>\n",
       "    </tr>\n",
       "    <tr>\n",
       "      <th>1</th>\n",
       "      <td>Mali</td>\n",
       "      <td>29.48</td>\n",
       "    </tr>\n",
       "    <tr>\n",
       "      <th>2</th>\n",
       "      <td>Qatar</td>\n",
       "      <td>29.26</td>\n",
       "    </tr>\n",
       "    <tr>\n",
       "      <th>3</th>\n",
       "      <td>Senegal</td>\n",
       "      <td>29.31</td>\n",
       "    </tr>\n",
       "    <tr>\n",
       "      <th>4</th>\n",
       "      <td>United Arab Emirates</td>\n",
       "      <td>29.01</td>\n",
       "    </tr>\n",
       "  </tbody>\n",
       "</table>\n",
       "</div>"
      ],
      "text/plain": [
       "                   Area  avg_temp_ºC\n",
       "0          Burkina Faso        29.65\n",
       "1                  Mali        29.48\n",
       "2                 Qatar        29.26\n",
       "3               Senegal        29.31\n",
       "4  United Arab Emirates        29.01"
      ]
     },
     "execution_count": 163,
     "metadata": {},
     "output_type": "execute_result"
    }
   ],
   "source": [
    "temp.head()"
   ]
  },
  {
   "cell_type": "markdown",
   "metadata": {},
   "source": [
    "## 3. <a id='toc3_'></a>[Create final dataframe](#toc0_)"
   ]
  },
  {
   "cell_type": "markdown",
   "metadata": {},
   "source": [
    "Merge crop & prec_filtered & temp"
   ]
  },
  {
   "cell_type": "code",
   "execution_count": 421,
   "metadata": {},
   "outputs": [
    {
     "data": {
      "text/plain": [
       "(893871, 7)"
      ]
     },
     "execution_count": 421,
     "metadata": {},
     "output_type": "execute_result"
    }
   ],
   "source": [
    "crop.shape"
   ]
  },
  {
   "cell_type": "code",
   "execution_count": 422,
   "metadata": {},
   "outputs": [
    {
     "data": {
      "text/plain": [
       "245"
      ]
     },
     "execution_count": 422,
     "metadata": {},
     "output_type": "execute_result"
    }
   ],
   "source": [
    "crop['Area'].nunique()"
   ]
  },
  {
   "cell_type": "code",
   "execution_count": 423,
   "metadata": {},
   "outputs": [
    {
     "data": {
      "text/html": [
       "<div>\n",
       "<style scoped>\n",
       "    .dataframe tbody tr th:only-of-type {\n",
       "        vertical-align: middle;\n",
       "    }\n",
       "\n",
       "    .dataframe tbody tr th {\n",
       "        vertical-align: top;\n",
       "    }\n",
       "\n",
       "    .dataframe thead th {\n",
       "        text-align: right;\n",
       "    }\n",
       "</style>\n",
       "<table border=\"1\" class=\"dataframe\">\n",
       "  <thead>\n",
       "    <tr style=\"text-align: right;\">\n",
       "      <th>Element</th>\n",
       "      <th>Area</th>\n",
       "      <th>Item Code</th>\n",
       "      <th>Crop</th>\n",
       "      <th>Year</th>\n",
       "      <th>area_harvested_ha</th>\n",
       "      <th>production_tonnes</th>\n",
       "      <th>yield_hg/ha</th>\n",
       "    </tr>\n",
       "  </thead>\n",
       "  <tbody>\n",
       "    <tr>\n",
       "      <th>0</th>\n",
       "      <td>Afghanistan</td>\n",
       "      <td>15</td>\n",
       "      <td>Wheat</td>\n",
       "      <td>1990</td>\n",
       "      <td>1570000.00</td>\n",
       "      <td>1650000.00</td>\n",
       "      <td>10510.00</td>\n",
       "    </tr>\n",
       "    <tr>\n",
       "      <th>1</th>\n",
       "      <td>Afghanistan</td>\n",
       "      <td>15</td>\n",
       "      <td>Wheat</td>\n",
       "      <td>1991</td>\n",
       "      <td>1690000.00</td>\n",
       "      <td>1726000.00</td>\n",
       "      <td>10213.00</td>\n",
       "    </tr>\n",
       "  </tbody>\n",
       "</table>\n",
       "</div>"
      ],
      "text/plain": [
       "Element         Area  Item Code   Crop  Year  area_harvested_ha  \\\n",
       "0        Afghanistan         15  Wheat  1990         1570000.00   \n",
       "1        Afghanistan         15  Wheat  1991         1690000.00   \n",
       "\n",
       "Element  production_tonnes  yield_hg/ha  \n",
       "0               1650000.00     10510.00  \n",
       "1               1726000.00     10213.00  "
      ]
     },
     "execution_count": 423,
     "metadata": {},
     "output_type": "execute_result"
    }
   ],
   "source": [
    "crop.head(2)"
   ]
  },
  {
   "cell_type": "code",
   "execution_count": 338,
   "metadata": {},
   "outputs": [
    {
     "data": {
      "text/plain": [
       "(266, 2)"
      ]
     },
     "execution_count": 338,
     "metadata": {},
     "output_type": "execute_result"
    }
   ],
   "source": [
    "prec_filtered.shape"
   ]
  },
  {
   "cell_type": "code",
   "execution_count": 339,
   "metadata": {},
   "outputs": [
    {
     "data": {
      "text/plain": [
       "266"
      ]
     },
     "execution_count": 339,
     "metadata": {},
     "output_type": "execute_result"
    }
   ],
   "source": [
    "prec_filtered['Area'].nunique()"
   ]
  },
  {
   "cell_type": "code",
   "execution_count": 340,
   "metadata": {},
   "outputs": [
    {
     "data": {
      "text/html": [
       "<div>\n",
       "<style scoped>\n",
       "    .dataframe tbody tr th:only-of-type {\n",
       "        vertical-align: middle;\n",
       "    }\n",
       "\n",
       "    .dataframe tbody tr th {\n",
       "        vertical-align: top;\n",
       "    }\n",
       "\n",
       "    .dataframe thead th {\n",
       "        text-align: right;\n",
       "    }\n",
       "</style>\n",
       "<table border=\"1\" class=\"dataframe\">\n",
       "  <thead>\n",
       "    <tr style=\"text-align: right;\">\n",
       "      <th></th>\n",
       "      <th>Area</th>\n",
       "      <th>avg_rainfall_mm_year</th>\n",
       "    </tr>\n",
       "  </thead>\n",
       "  <tbody>\n",
       "    <tr>\n",
       "      <th>0</th>\n",
       "      <td>Afghanistan</td>\n",
       "      <td>327.00</td>\n",
       "    </tr>\n",
       "    <tr>\n",
       "      <th>1</th>\n",
       "      <td>Albania</td>\n",
       "      <td>1485.00</td>\n",
       "    </tr>\n",
       "  </tbody>\n",
       "</table>\n",
       "</div>"
      ],
      "text/plain": [
       "          Area  avg_rainfall_mm_year\n",
       "0  Afghanistan                327.00\n",
       "1      Albania               1485.00"
      ]
     },
     "execution_count": 340,
     "metadata": {},
     "output_type": "execute_result"
    }
   ],
   "source": [
    "prec_filtered.head(2)"
   ]
  },
  {
   "cell_type": "code",
   "execution_count": 341,
   "metadata": {},
   "outputs": [
    {
     "data": {
      "text/plain": [
       "(205, 2)"
      ]
     },
     "execution_count": 341,
     "metadata": {},
     "output_type": "execute_result"
    }
   ],
   "source": [
    "temp.shape"
   ]
  },
  {
   "cell_type": "code",
   "execution_count": 342,
   "metadata": {},
   "outputs": [
    {
     "data": {
      "text/plain": [
       "205"
      ]
     },
     "execution_count": 342,
     "metadata": {},
     "output_type": "execute_result"
    }
   ],
   "source": [
    "temp['Area'].nunique()"
   ]
  },
  {
   "cell_type": "code",
   "execution_count": 343,
   "metadata": {},
   "outputs": [
    {
     "data": {
      "text/html": [
       "<div>\n",
       "<style scoped>\n",
       "    .dataframe tbody tr th:only-of-type {\n",
       "        vertical-align: middle;\n",
       "    }\n",
       "\n",
       "    .dataframe tbody tr th {\n",
       "        vertical-align: top;\n",
       "    }\n",
       "\n",
       "    .dataframe thead th {\n",
       "        text-align: right;\n",
       "    }\n",
       "</style>\n",
       "<table border=\"1\" class=\"dataframe\">\n",
       "  <thead>\n",
       "    <tr style=\"text-align: right;\">\n",
       "      <th></th>\n",
       "      <th>Area</th>\n",
       "      <th>avg_temp_ºC</th>\n",
       "    </tr>\n",
       "  </thead>\n",
       "  <tbody>\n",
       "    <tr>\n",
       "      <th>0</th>\n",
       "      <td>Burkina Faso</td>\n",
       "      <td>29.65</td>\n",
       "    </tr>\n",
       "    <tr>\n",
       "      <th>1</th>\n",
       "      <td>Mali</td>\n",
       "      <td>29.48</td>\n",
       "    </tr>\n",
       "  </tbody>\n",
       "</table>\n",
       "</div>"
      ],
      "text/plain": [
       "           Area  avg_temp_ºC\n",
       "0  Burkina Faso        29.65\n",
       "1          Mali        29.48"
      ]
     },
     "execution_count": 343,
     "metadata": {},
     "output_type": "execute_result"
    }
   ],
   "source": [
    "temp.head(2)"
   ]
  },
  {
   "cell_type": "markdown",
   "metadata": {},
   "source": [
    "There are more countries in the df prec_filtered. Let's merge them and use an inner join so that only rows that have matches in both tables are included in the column you use to join. Rows that do not have matches in both tables will not be included in the resulting DataFrame."
   ]
  },
  {
   "cell_type": "code",
   "execution_count": 424,
   "metadata": {},
   "outputs": [],
   "source": [
    "df = crop.merge(prec_filtered, on='Area', how='inner')\n",
    "df = df.merge(temp, on='Area', how='inner')"
   ]
  },
  {
   "cell_type": "code",
   "execution_count": 425,
   "metadata": {},
   "outputs": [
    {
     "data": {
      "text/plain": [
       "154"
      ]
     },
     "execution_count": 425,
     "metadata": {},
     "output_type": "execute_result"
    }
   ],
   "source": [
    "df['Area'].nunique()"
   ]
  },
  {
   "cell_type": "code",
   "execution_count": 346,
   "metadata": {},
   "outputs": [
    {
     "data": {
      "text/html": [
       "<div>\n",
       "<style scoped>\n",
       "    .dataframe tbody tr th:only-of-type {\n",
       "        vertical-align: middle;\n",
       "    }\n",
       "\n",
       "    .dataframe tbody tr th {\n",
       "        vertical-align: top;\n",
       "    }\n",
       "\n",
       "    .dataframe thead th {\n",
       "        text-align: right;\n",
       "    }\n",
       "</style>\n",
       "<table border=\"1\" class=\"dataframe\">\n",
       "  <thead>\n",
       "    <tr style=\"text-align: right;\">\n",
       "      <th></th>\n",
       "      <th>Area</th>\n",
       "      <th>Item Code</th>\n",
       "      <th>Crop</th>\n",
       "      <th>Year</th>\n",
       "      <th>area_harvested_ha</th>\n",
       "      <th>production_tonnes</th>\n",
       "      <th>yield_hg/ha</th>\n",
       "      <th>avg_rainfall_mm_year</th>\n",
       "      <th>avg_temp_ºC</th>\n",
       "    </tr>\n",
       "  </thead>\n",
       "  <tbody>\n",
       "    <tr>\n",
       "      <th>0</th>\n",
       "      <td>Afghanistan</td>\n",
       "      <td>15</td>\n",
       "      <td>Wheat</td>\n",
       "      <td>1990</td>\n",
       "      <td>1570000.00</td>\n",
       "      <td>1650000.00</td>\n",
       "      <td>10510.00</td>\n",
       "      <td>327.00</td>\n",
       "      <td>14.38</td>\n",
       "    </tr>\n",
       "    <tr>\n",
       "      <th>1</th>\n",
       "      <td>Afghanistan</td>\n",
       "      <td>15</td>\n",
       "      <td>Wheat</td>\n",
       "      <td>1991</td>\n",
       "      <td>1690000.00</td>\n",
       "      <td>1726000.00</td>\n",
       "      <td>10213.00</td>\n",
       "      <td>327.00</td>\n",
       "      <td>14.38</td>\n",
       "    </tr>\n",
       "    <tr>\n",
       "      <th>2</th>\n",
       "      <td>Afghanistan</td>\n",
       "      <td>15</td>\n",
       "      <td>Wheat</td>\n",
       "      <td>1992</td>\n",
       "      <td>1600000.00</td>\n",
       "      <td>1650000.00</td>\n",
       "      <td>10313.00</td>\n",
       "      <td>327.00</td>\n",
       "      <td>14.38</td>\n",
       "    </tr>\n",
       "    <tr>\n",
       "      <th>3</th>\n",
       "      <td>Afghanistan</td>\n",
       "      <td>15</td>\n",
       "      <td>Wheat</td>\n",
       "      <td>1993</td>\n",
       "      <td>1900000.00</td>\n",
       "      <td>1940000.00</td>\n",
       "      <td>10211.00</td>\n",
       "      <td>327.00</td>\n",
       "      <td>14.38</td>\n",
       "    </tr>\n",
       "    <tr>\n",
       "      <th>4</th>\n",
       "      <td>Afghanistan</td>\n",
       "      <td>15</td>\n",
       "      <td>Wheat</td>\n",
       "      <td>1994</td>\n",
       "      <td>2000000.00</td>\n",
       "      <td>2050000.00</td>\n",
       "      <td>10250.00</td>\n",
       "      <td>327.00</td>\n",
       "      <td>14.38</td>\n",
       "    </tr>\n",
       "  </tbody>\n",
       "</table>\n",
       "</div>"
      ],
      "text/plain": [
       "          Area  Item Code   Crop  Year  area_harvested_ha  production_tonnes  \\\n",
       "0  Afghanistan         15  Wheat  1990         1570000.00         1650000.00   \n",
       "1  Afghanistan         15  Wheat  1991         1690000.00         1726000.00   \n",
       "2  Afghanistan         15  Wheat  1992         1600000.00         1650000.00   \n",
       "3  Afghanistan         15  Wheat  1993         1900000.00         1940000.00   \n",
       "4  Afghanistan         15  Wheat  1994         2000000.00         2050000.00   \n",
       "\n",
       "   yield_hg/ha  avg_rainfall_mm_year  avg_temp_ºC  \n",
       "0     10510.00                327.00        14.38  \n",
       "1     10213.00                327.00        14.38  \n",
       "2     10313.00                327.00        14.38  \n",
       "3     10211.00                327.00        14.38  \n",
       "4     10250.00                327.00        14.38  "
      ]
     },
     "execution_count": 346,
     "metadata": {},
     "output_type": "execute_result"
    }
   ],
   "source": [
    "df.head()"
   ]
  },
  {
   "cell_type": "code",
   "execution_count": 347,
   "metadata": {},
   "outputs": [
    {
     "data": {
      "text/plain": [
       "(517523, 9)"
      ]
     },
     "execution_count": 347,
     "metadata": {},
     "output_type": "execute_result"
    }
   ],
   "source": [
    "df.shape"
   ]
  },
  {
   "cell_type": "markdown",
   "metadata": {},
   "source": [
    "### 3.1. <a id='toc3_1_'></a>[Preprocessing](#toc0_)"
   ]
  },
  {
   "cell_type": "markdown",
   "metadata": {},
   "source": [
    "#### 3.1.1. <a id='toc3_1_1_'></a>[NaN values](#toc0_)"
   ]
  },
  {
   "cell_type": "code",
   "execution_count": 426,
   "metadata": {},
   "outputs": [
    {
     "data": {
      "text/plain": [
       "Area                         0\n",
       "Item Code                    0\n",
       "Crop                         0\n",
       "Year                         0\n",
       "area_harvested_ha       229775\n",
       "production_tonnes          182\n",
       "yield_hg/ha             212074\n",
       "avg_rainfall_mm_year         0\n",
       "avg_temp_ºC                  0\n",
       "dtype: int64"
      ]
     },
     "execution_count": 426,
     "metadata": {},
     "output_type": "execute_result"
    }
   ],
   "source": [
    "df.isnull().sum()"
   ]
  },
  {
   "cell_type": "code",
   "execution_count": 349,
   "metadata": {},
   "outputs": [
    {
     "name": "stdout",
     "output_type": "stream",
     "text": [
      "<class 'pandas.core.frame.DataFrame'>\n",
      "RangeIndex: 517523 entries, 0 to 517522\n",
      "Data columns (total 9 columns):\n",
      " #   Column                Non-Null Count   Dtype  \n",
      "---  ------                --------------   -----  \n",
      " 0   Area                  517523 non-null  object \n",
      " 1   Item Code             517523 non-null  int64  \n",
      " 2   Crop                  517523 non-null  object \n",
      " 3   Year                  517523 non-null  int64  \n",
      " 4   area_harvested_ha     287748 non-null  float64\n",
      " 5   production_tonnes     517341 non-null  float64\n",
      " 6   yield_hg/ha           305449 non-null  float64\n",
      " 7   avg_rainfall_mm_year  517523 non-null  float64\n",
      " 8   avg_temp_ºC           517523 non-null  float64\n",
      "dtypes: float64(5), int64(2), object(2)\n",
      "memory usage: 35.5+ MB\n"
     ]
    }
   ],
   "source": [
    "df.info()"
   ]
  },
  {
   "cell_type": "markdown",
   "metadata": {},
   "source": [
    "As the **area harvested, production and yield** are continuous variables, we will do the imputation with the mean value:"
   ]
  },
  {
   "cell_type": "code",
   "execution_count": 427,
   "metadata": {},
   "outputs": [
    {
     "data": {
      "text/plain": [
       "Area                   0.00\n",
       "Item Code              0.00\n",
       "Crop                   0.00\n",
       "Year                   0.00\n",
       "area_harvested_ha      0.00\n",
       "production_tonnes      0.00\n",
       "yield_hg/ha            0.00\n",
       "avg_rainfall_mm_year   0.00\n",
       "avg_temp_ºC            0.00\n",
       "dtype: float64"
      ]
     },
     "execution_count": 427,
     "metadata": {},
     "output_type": "execute_result"
    }
   ],
   "source": [
    "def repair_null(df, col):\n",
    "    if df[col].dtype == 'int64' or df[col].dtype == 'float64':\n",
    "        df[col] = df[col].fillna(df[col].mean())\n",
    "    else:\n",
    "        df[col] = df[col].fillna(df[col].mode()[0])\n",
    "    return df \n",
    "\n",
    "for col in df.columns:\n",
    "    repair_null(df, col)\n",
    "\n",
    "df.isnull().sum()/len(prec)*100"
   ]
  },
  {
   "cell_type": "markdown",
   "metadata": {},
   "source": [
    "#### 3.1.2. <a id='toc3_1_2_'></a>[Outliers](#toc0_)"
   ]
  },
  {
   "cell_type": "code",
   "execution_count": 428,
   "metadata": {},
   "outputs": [],
   "source": [
    "# convert item code and year variables to object type, because although they are numerical they are discrete variables.\n",
    "df['Item Code'] = df['Item Code'].astype(object)\n",
    "df['Year'] = df['Year'].astype(object)"
   ]
  },
  {
   "cell_type": "code",
   "execution_count": 352,
   "metadata": {},
   "outputs": [
    {
     "name": "stdout",
     "output_type": "stream",
     "text": [
      "<class 'pandas.core.frame.DataFrame'>\n",
      "RangeIndex: 517523 entries, 0 to 517522\n",
      "Data columns (total 9 columns):\n",
      " #   Column                Non-Null Count   Dtype  \n",
      "---  ------                --------------   -----  \n",
      " 0   Area                  517523 non-null  object \n",
      " 1   Item Code             517523 non-null  object \n",
      " 2   Crop                  517523 non-null  object \n",
      " 3   Year                  517523 non-null  object \n",
      " 4   area_harvested_ha     517523 non-null  float64\n",
      " 5   production_tonnes     517523 non-null  float64\n",
      " 6   yield_hg/ha           517523 non-null  float64\n",
      " 7   avg_rainfall_mm_year  517523 non-null  float64\n",
      " 8   avg_temp_ºC           517523 non-null  float64\n",
      "dtypes: float64(5), object(4)\n",
      "memory usage: 35.5+ MB\n"
     ]
    }
   ],
   "source": [
    "df.info()"
   ]
  },
  {
   "cell_type": "code",
   "execution_count": 353,
   "metadata": {},
   "outputs": [
    {
     "data": {
      "text/html": [
       "<div>\n",
       "<style scoped>\n",
       "    .dataframe tbody tr th:only-of-type {\n",
       "        vertical-align: middle;\n",
       "    }\n",
       "\n",
       "    .dataframe tbody tr th {\n",
       "        vertical-align: top;\n",
       "    }\n",
       "\n",
       "    .dataframe thead th {\n",
       "        text-align: right;\n",
       "    }\n",
       "</style>\n",
       "<table border=\"1\" class=\"dataframe\">\n",
       "  <thead>\n",
       "    <tr style=\"text-align: right;\">\n",
       "      <th></th>\n",
       "      <th>count</th>\n",
       "      <th>mean</th>\n",
       "      <th>std</th>\n",
       "      <th>min</th>\n",
       "      <th>25%</th>\n",
       "      <th>50%</th>\n",
       "      <th>75%</th>\n",
       "      <th>max</th>\n",
       "    </tr>\n",
       "  </thead>\n",
       "  <tbody>\n",
       "    <tr>\n",
       "      <th>area_harvested_ha</th>\n",
       "      <td>517523.00</td>\n",
       "      <td>249753.35</td>\n",
       "      <td>1585052.84</td>\n",
       "      <td>0.00</td>\n",
       "      <td>2483.00</td>\n",
       "      <td>220624.00</td>\n",
       "      <td>249753.35</td>\n",
       "      <td>103566966.00</td>\n",
       "    </tr>\n",
       "    <tr>\n",
       "      <th>production_tonnes</th>\n",
       "      <td>517523.00</td>\n",
       "      <td>902662.80</td>\n",
       "      <td>10808823.86</td>\n",
       "      <td>0.00</td>\n",
       "      <td>864.00</td>\n",
       "      <td>11000.00</td>\n",
       "      <td>100121.00</td>\n",
       "      <td>768594154.00</td>\n",
       "    </tr>\n",
       "    <tr>\n",
       "      <th>yield_hg/ha</th>\n",
       "      <td>517523.00</td>\n",
       "      <td>94999.91</td>\n",
       "      <td>147096.57</td>\n",
       "      <td>0.00</td>\n",
       "      <td>27586.00</td>\n",
       "      <td>94999.91</td>\n",
       "      <td>94999.91</td>\n",
       "      <td>8755278.00</td>\n",
       "    </tr>\n",
       "    <tr>\n",
       "      <th>avg_rainfall_mm_year</th>\n",
       "      <td>517523.00</td>\n",
       "      <td>1157.85</td>\n",
       "      <td>771.74</td>\n",
       "      <td>56.00</td>\n",
       "      <td>600.00</td>\n",
       "      <td>1020.00</td>\n",
       "      <td>1668.00</td>\n",
       "      <td>3205.11</td>\n",
       "    </tr>\n",
       "    <tr>\n",
       "      <th>avg_temp_ºC</th>\n",
       "      <td>517523.00</td>\n",
       "      <td>19.19</td>\n",
       "      <td>7.65</td>\n",
       "      <td>-3.96</td>\n",
       "      <td>12.37</td>\n",
       "      <td>21.85</td>\n",
       "      <td>25.56</td>\n",
       "      <td>29.65</td>\n",
       "    </tr>\n",
       "  </tbody>\n",
       "</table>\n",
       "</div>"
      ],
      "text/plain": [
       "                         count      mean         std   min      25%       50%  \\\n",
       "area_harvested_ha    517523.00 249753.35  1585052.84  0.00  2483.00 220624.00   \n",
       "production_tonnes    517523.00 902662.80 10808823.86  0.00   864.00  11000.00   \n",
       "yield_hg/ha          517523.00  94999.91   147096.57  0.00 27586.00  94999.91   \n",
       "avg_rainfall_mm_year 517523.00   1157.85      771.74 56.00   600.00   1020.00   \n",
       "avg_temp_ºC          517523.00     19.19        7.65 -3.96    12.37     21.85   \n",
       "\n",
       "                           75%          max  \n",
       "area_harvested_ha    249753.35 103566966.00  \n",
       "production_tonnes    100121.00 768594154.00  \n",
       "yield_hg/ha           94999.91   8755278.00  \n",
       "avg_rainfall_mm_year   1668.00      3205.11  \n",
       "avg_temp_ºC              25.56        29.65  "
      ]
     },
     "execution_count": 353,
     "metadata": {},
     "output_type": "execute_result"
    }
   ],
   "source": [
    "df.describe().T.round(2)"
   ]
  },
  {
   "cell_type": "code",
   "execution_count": 429,
   "metadata": {},
   "outputs": [
    {
     "name": "stdout",
     "output_type": "stream",
     "text": [
      "Variable area_harvested_ha has 15366 outliers\n",
      "Variable production_tonnes has 87185 outliers\n",
      "Variable yield_hg/ha has 38682 outliers\n",
      "Variable avg_rainfall_mm_year has 0 outliers\n",
      "Variable avg_temp_ºC has 0 outliers\n"
     ]
    }
   ],
   "source": [
    "# visualise outliers: This function prints the outliers for each column.\n",
    "\n",
    "def outliers (df):\n",
    "    for columns in df:\n",
    "        if df[columns].dtype in ['int64', 'float64']: \n",
    "\n",
    "            Q1 = df[columns].quantile(0.25)\n",
    "            Q3 = df[columns].quantile(0.75)\n",
    "            IQR = Q3 - Q1\n",
    "            outlierLeft = Q1-(1.5*IQR)\n",
    "            outlierRight = Q3+(1.5*IQR)\n",
    "            outliers = df[columns][(df[columns] < outlierLeft) | (df[columns] > outlierRight)]\n",
    "            print(\"Variable \" + columns + \" has \" + str(len(outliers)) + \" outliers\")\n",
    "\n",
    "    \n",
    "outliers(df)"
   ]
  },
  {
   "cell_type": "code",
   "execution_count": 430,
   "metadata": {},
   "outputs": [
    {
     "data": {
      "image/png": "[encoded data removed]",
      "text/plain": [
       "<Figure size 1500x500 with 3 Axes>"
      ]
     },
     "metadata": {},
     "output_type": "display_data"
    }
   ],
   "source": [
    "# Create boxplot\n",
    "df_var1 = df['area_harvested_ha']\n",
    "df_var2 = df['production_tonnes']\n",
    "df_var3 = df['yield_hg/ha']\n",
    "\n",
    "# Create subplots\n",
    "fig, axes = plt.subplots(nrows=1, ncols=3,figsize=(15, 5))\n",
    "\n",
    "fig = sns.boxplot(y=df_var1, data=df, ax=axes[0], color = agro[1]) \n",
    "axes[0].set_title('Area harvested (ha)')\n",
    "axes[0].set_ylabel('')  \n",
    "\n",
    "fig = sns.boxplot(y=df_var2, data=df, ax=axes[1], color = agro[2]) \n",
    "axes[1].set_title('Crop production (tonnes)')\n",
    "axes[1].set_ylabel('') \n",
    "\n",
    "fig = sns.boxplot(y=df_var3, data=df, ax=axes[2], color = agro[3])  \n",
    "axes[2].set_title('Crop yield (hg/ha)')\n",
    "axes[2].set_ylabel('')  \n",
    "\n",
    "# Adjust the design\n",
    "plt.tight_layout()\n",
    "\n",
    "# Show\n",
    "plt.show()"
   ]
  },
  {
   "cell_type": "code",
   "execution_count": 431,
   "metadata": {},
   "outputs": [
    {
     "data": {
      "text/html": [
       "<div>\n",
       "<style scoped>\n",
       "    .dataframe tbody tr th:only-of-type {\n",
       "        vertical-align: middle;\n",
       "    }\n",
       "\n",
       "    .dataframe tbody tr th {\n",
       "        vertical-align: top;\n",
       "    }\n",
       "\n",
       "    .dataframe thead th {\n",
       "        text-align: right;\n",
       "    }\n",
       "</style>\n",
       "<table border=\"1\" class=\"dataframe\">\n",
       "  <thead>\n",
       "    <tr style=\"text-align: right;\">\n",
       "      <th></th>\n",
       "      <th>Area</th>\n",
       "      <th>Item Code</th>\n",
       "      <th>Crop</th>\n",
       "      <th>Year</th>\n",
       "      <th>area_harvested_ha</th>\n",
       "      <th>production_tonnes</th>\n",
       "      <th>yield_hg/ha</th>\n",
       "      <th>avg_rainfall_mm_year</th>\n",
       "      <th>avg_temp_ºC</th>\n",
       "    </tr>\n",
       "  </thead>\n",
       "  <tbody>\n",
       "    <tr>\n",
       "      <th>0</th>\n",
       "      <td>Afghanistan</td>\n",
       "      <td>15</td>\n",
       "      <td>Wheat</td>\n",
       "      <td>1990</td>\n",
       "      <td>620658.88</td>\n",
       "      <td>249006.50</td>\n",
       "      <td>10510.00</td>\n",
       "      <td>327.00</td>\n",
       "      <td>14.38</td>\n",
       "    </tr>\n",
       "    <tr>\n",
       "      <th>1</th>\n",
       "      <td>Afghanistan</td>\n",
       "      <td>15</td>\n",
       "      <td>Wheat</td>\n",
       "      <td>1991</td>\n",
       "      <td>620658.88</td>\n",
       "      <td>249006.50</td>\n",
       "      <td>10213.00</td>\n",
       "      <td>327.00</td>\n",
       "      <td>14.38</td>\n",
       "    </tr>\n",
       "    <tr>\n",
       "      <th>2</th>\n",
       "      <td>Afghanistan</td>\n",
       "      <td>15</td>\n",
       "      <td>Wheat</td>\n",
       "      <td>1992</td>\n",
       "      <td>620658.88</td>\n",
       "      <td>249006.50</td>\n",
       "      <td>10313.00</td>\n",
       "      <td>327.00</td>\n",
       "      <td>14.38</td>\n",
       "    </tr>\n",
       "    <tr>\n",
       "      <th>3</th>\n",
       "      <td>Afghanistan</td>\n",
       "      <td>15</td>\n",
       "      <td>Wheat</td>\n",
       "      <td>1993</td>\n",
       "      <td>620658.88</td>\n",
       "      <td>249006.50</td>\n",
       "      <td>10211.00</td>\n",
       "      <td>327.00</td>\n",
       "      <td>14.38</td>\n",
       "    </tr>\n",
       "    <tr>\n",
       "      <th>4</th>\n",
       "      <td>Afghanistan</td>\n",
       "      <td>15</td>\n",
       "      <td>Wheat</td>\n",
       "      <td>1994</td>\n",
       "      <td>620658.88</td>\n",
       "      <td>249006.50</td>\n",
       "      <td>10250.00</td>\n",
       "      <td>327.00</td>\n",
       "      <td>14.38</td>\n",
       "    </tr>\n",
       "    <tr>\n",
       "      <th>...</th>\n",
       "      <td>...</td>\n",
       "      <td>...</td>\n",
       "      <td>...</td>\n",
       "      <td>...</td>\n",
       "      <td>...</td>\n",
       "      <td>...</td>\n",
       "      <td>...</td>\n",
       "      <td>...</td>\n",
       "      <td>...</td>\n",
       "    </tr>\n",
       "    <tr>\n",
       "      <th>517518</th>\n",
       "      <td>Zimbabwe</td>\n",
       "      <td>17530</td>\n",
       "      <td>Fibre Crops, Fibre Equivalent</td>\n",
       "      <td>2018</td>\n",
       "      <td>133850.00</td>\n",
       "      <td>59693.17</td>\n",
       "      <td>4460.00</td>\n",
       "      <td>658.94</td>\n",
       "      <td>21.85</td>\n",
       "    </tr>\n",
       "    <tr>\n",
       "      <th>517519</th>\n",
       "      <td>Zimbabwe</td>\n",
       "      <td>17530</td>\n",
       "      <td>Fibre Crops, Fibre Equivalent</td>\n",
       "      <td>2019</td>\n",
       "      <td>108612.00</td>\n",
       "      <td>35821.73</td>\n",
       "      <td>3298.00</td>\n",
       "      <td>658.94</td>\n",
       "      <td>21.85</td>\n",
       "    </tr>\n",
       "    <tr>\n",
       "      <th>517520</th>\n",
       "      <td>Zimbabwe</td>\n",
       "      <td>17530</td>\n",
       "      <td>Fibre Crops, Fibre Equivalent</td>\n",
       "      <td>2020</td>\n",
       "      <td>119651.00</td>\n",
       "      <td>53009.87</td>\n",
       "      <td>4430.00</td>\n",
       "      <td>658.94</td>\n",
       "      <td>21.85</td>\n",
       "    </tr>\n",
       "    <tr>\n",
       "      <th>517521</th>\n",
       "      <td>Zimbabwe</td>\n",
       "      <td>17530</td>\n",
       "      <td>Fibre Crops, Fibre Equivalent</td>\n",
       "      <td>2021</td>\n",
       "      <td>105266.00</td>\n",
       "      <td>69237.64</td>\n",
       "      <td>6577.00</td>\n",
       "      <td>658.94</td>\n",
       "      <td>21.85</td>\n",
       "    </tr>\n",
       "    <tr>\n",
       "      <th>517522</th>\n",
       "      <td>Zimbabwe</td>\n",
       "      <td>17530</td>\n",
       "      <td>Fibre Crops, Fibre Equivalent</td>\n",
       "      <td>2022</td>\n",
       "      <td>114785.00</td>\n",
       "      <td>58881.86</td>\n",
       "      <td>5130.00</td>\n",
       "      <td>658.94</td>\n",
       "      <td>21.85</td>\n",
       "    </tr>\n",
       "  </tbody>\n",
       "</table>\n",
       "<p>517523 rows × 9 columns</p>\n",
       "</div>"
      ],
      "text/plain": [
       "               Area Item Code                           Crop  Year  \\\n",
       "0       Afghanistan        15                          Wheat  1990   \n",
       "1       Afghanistan        15                          Wheat  1991   \n",
       "2       Afghanistan        15                          Wheat  1992   \n",
       "3       Afghanistan        15                          Wheat  1993   \n",
       "4       Afghanistan        15                          Wheat  1994   \n",
       "...             ...       ...                            ...   ...   \n",
       "517518     Zimbabwe     17530  Fibre Crops, Fibre Equivalent  2018   \n",
       "517519     Zimbabwe     17530  Fibre Crops, Fibre Equivalent  2019   \n",
       "517520     Zimbabwe     17530  Fibre Crops, Fibre Equivalent  2020   \n",
       "517521     Zimbabwe     17530  Fibre Crops, Fibre Equivalent  2021   \n",
       "517522     Zimbabwe     17530  Fibre Crops, Fibre Equivalent  2022   \n",
       "\n",
       "        area_harvested_ha  production_tonnes  yield_hg/ha  \\\n",
       "0               620658.88          249006.50     10510.00   \n",
       "1               620658.88          249006.50     10213.00   \n",
       "2               620658.88          249006.50     10313.00   \n",
       "3               620658.88          249006.50     10211.00   \n",
       "4               620658.88          249006.50     10250.00   \n",
       "...                   ...                ...          ...   \n",
       "517518          133850.00           59693.17      4460.00   \n",
       "517519          108612.00           35821.73      3298.00   \n",
       "517520          119651.00           53009.87      4430.00   \n",
       "517521          105266.00           69237.64      6577.00   \n",
       "517522          114785.00           58881.86      5130.00   \n",
       "\n",
       "        avg_rainfall_mm_year  avg_temp_ºC  \n",
       "0                     327.00        14.38  \n",
       "1                     327.00        14.38  \n",
       "2                     327.00        14.38  \n",
       "3                     327.00        14.38  \n",
       "4                     327.00        14.38  \n",
       "...                      ...          ...  \n",
       "517518                658.94        21.85  \n",
       "517519                658.94        21.85  \n",
       "517520                658.94        21.85  \n",
       "517521                658.94        21.85  \n",
       "517522                658.94        21.85  \n",
       "\n",
       "[517523 rows x 9 columns]"
      ]
     },
     "execution_count": 431,
     "metadata": {},
     "output_type": "execute_result"
    }
   ],
   "source": [
    "# repair outliers: This function imputes the outliers in each column with the value of the IQR limit * 1.5 +- Q3.\n",
    "def repair_outliers(df, col):\n",
    "    Q1 = col.quantile(0.25)\n",
    "    Q3 = col.quantile(0.75)\n",
    "    IQR = Q3 - Q1\n",
    "    \n",
    "    outlier_lower = Q1 - (1.5 * IQR)\n",
    "    outlier_upper = Q3 + (1.5 * IQR)\n",
    "    \n",
    "    for i in range(len(df[col.name])): \n",
    "        if i in df.index:  \n",
    "            element = df.loc[i, col.name] \n",
    "            if element > outlier_upper: \n",
    "                df.loc[i, col.name] = outlier_upper\n",
    "            elif element < outlier_lower: \n",
    "                df.loc[i, col.name] = outlier_lower\n",
    "            \n",
    "    return df  \n",
    "\n",
    "repair_outliers(df, df_var1)\n",
    "repair_outliers(df, df_var2)\n",
    "repair_outliers(df, df_var3)"
   ]
  },
  {
   "cell_type": "code",
   "execution_count": 432,
   "metadata": {},
   "outputs": [
    {
     "data": {
      "image/png": "[encoded data removed]",
      "text/plain": [
       "<Figure size 1500x500 with 3 Axes>"
      ]
     },
     "metadata": {},
     "output_type": "display_data"
    }
   ],
   "source": [
    "# Boxplot\n",
    "fig, axes = plt.subplots(nrows=1, ncols=3,figsize=(15, 5))\n",
    "\n",
    "fig = sns.boxplot(y=df_var1, data=df, ax=axes[0], color = agro[1]) \n",
    "axes[0].set_title('Area harvested (ha)')\n",
    "axes[0].set_ylabel('')  \n",
    "\n",
    "fig = sns.boxplot(y=df_var2, data=df, ax=axes[1], color = agro[2]) \n",
    "axes[1].set_title('Crop production (tonnes)')\n",
    "axes[1].set_ylabel('') \n",
    "\n",
    "fig = sns.boxplot(y=df_var3, data=df, ax=axes[2], color = agro[3])  \n",
    "axes[2].set_title('Crop yield (hg/ha)')\n",
    "axes[2].set_ylabel('')  \n",
    "\n",
    "plt.tight_layout()\n",
    "plt.show()"
   ]
  },
  {
   "cell_type": "code",
   "execution_count": 433,
   "metadata": {},
   "outputs": [],
   "source": [
    "# # Save final df in csv:\n",
    "# df.to_csv('Data/df_preprocessed.csv', index=False)"
   ]
  }
 ],
 "metadata": {
  "kernelspec": {
   "display_name": "Python 3",
   "language": "python",
   "name": "python3"
  },
  "language_info": {
   "codemirror_mode": {
    "name": "ipython",
    "version": 3
   },
   "file_extension": ".py",
   "mimetype": "text/x-python",
   "name": "python",
   "nbconvert_exporter": "python",
   "pygments_lexer": "ipython3",
   "version": "3.10.10"
  }
 },
 "nbformat": 4,
 "nbformat_minor": 2
}
