{
 "cells": [
  {
   "cell_type": "markdown",
   "metadata": {},
   "source": [
    "*Data source:*\n",
    "\n",
    "- [*FAOSTAT: Food and Agriculture Organization of the United Nations*](https://www.fao.org/faostat/en/#release_calendar)\n",
    "- [*The world bank*](https://databank.worldbank.org/)\n",
    "- *https://www.worldeconomics.com/*"
   ]
  },
  {
   "cell_type": "markdown",
   "metadata": {},
   "source": [
    "**Table of contents**<a id='toc0_'></a>    \n",
    "1. [Import libraries and other useful code.](#toc1_)    \n",
    "2. [Read, clean and arrange datasets.](#toc2_)    \n",
    "2.1. [Crop dataset](#toc2_1_)    \n",
    "2.2. [Precipitations dataset](#toc2_2_)    \n",
    "2.2.1. [Preprocessing](#toc2_2_1_) \n",
    "2.2.1.1. [NaN values](#toc2_2_1_1_)\n",
    "2.3. [Pesticides dataset](#toc2_3_)  \n",
    "2.3.1. [Preprocessing](#toc2_3_1_) \n",
    "2.3.1.1. [Outliers](#toc2_3_1_1_)   \n",
    "2.4. [Fertilizers dataset](#toc2_4_)    \n",
    "2.4.1. [Preprocessing](#toc2_4_1_)\n",
    "2.4.1.1. [NaN values](#toc2_4_1_1_) \n",
    "2.4.1.2. [Outliers](#toc2_4_1_2_) \n",
    "2.5. [Temperature dataset](#toc2_5_)    \n",
    "3. [Create final dataframe.](#toc3_)    \n",
    "3.1. [Preprocessing](#toc3_1_) \n",
    "3.1.1. [NaN values](#toc3_1_1_) \n",
    "3.1.2. [Outliers](#toc3_1_2_) "
   ]
  },
  {
   "cell_type": "markdown",
   "metadata": {},
   "source": [
    "---\n",
    "## 1. <a id='toc1_'></a>[Import libraries and other useful code](#toc0_)"
   ]
  },
  {
   "cell_type": "code",
   "execution_count": 126,
   "metadata": {},
   "outputs": [],
   "source": [
    "import numpy as np \n",
    "import pandas as pd\n",
    "import os\n",
    "import re\n",
    "import matplotlib.pyplot as plt\n",
    "import seaborn as sns\n",
    "import plotly_express as px\n",
    "from plotly.subplots import make_subplots\n",
    "import plotly.graph_objects as go"
   ]
  },
  {
   "cell_type": "code",
   "execution_count": 127,
   "metadata": {},
   "outputs": [],
   "source": [
    "import warnings\n",
    "warnings.filterwarnings(\"ignore\", category=FutureWarning)"
   ]
  },
  {
   "cell_type": "code",
   "execution_count": 128,
   "metadata": {},
   "outputs": [],
   "source": [
    "# define color palette\n",
    "agro = ['#b2cb91','#9bc27e','#7fa465','#668f4f','#4e6f43','#59533e','#bf9000','#ffd966','#ffe599']"
   ]
  },
  {
   "cell_type": "code",
   "execution_count": 129,
   "metadata": {},
   "outputs": [],
   "source": [
    "sns.set(style=\"whitegrid\")  # Seaborn Grid Style"
   ]
  },
  {
   "cell_type": "code",
   "execution_count": 5,
   "metadata": {},
   "outputs": [],
   "source": [
    "# Set the display of numbers in decimal notation\n",
    "pd.set_option('display.float_format', lambda x: '%.2f' % x)"
   ]
  },
  {
   "cell_type": "markdown",
   "metadata": {},
   "source": [
    "## 2. <a id='toc2_'></a>[Read, clean and arrange datasets](#toc0_)"
   ]
  },
  {
   "cell_type": "markdown",
   "metadata": {},
   "source": [
    "### 2.1. <a id='toc2_1_'></a>[Crop dataset](#toc0_)"
   ]
  },
  {
   "cell_type": "code",
   "execution_count": 130,
   "metadata": {},
   "outputs": [],
   "source": [
    "crop = pd.read_csv('Data/crop_yield/Production_Crops_Livestock_E_All_Data_Normalized.csv',encoding='latin-1', low_memory=False) # low_memory = False to avoid Dtypewarning"
   ]
  },
  {
   "cell_type": "code",
   "execution_count": 131,
   "metadata": {},
   "outputs": [],
   "source": [
    "# correction of country names\n",
    "crop['Area'].replace('Bolivia (Plurinational State of)','Bolivia', inplace=True)\n",
    "crop['Area'].replace('Iran (Islamic Republic of)','Iran', inplace=True)\n",
    "crop['Area'].replace('Micronesia (Federated States of)','Micronesia', inplace=True)\n",
    "crop['Area'].replace('Netherlands (Kingdom of the)','Netherlands', inplace=True)\n",
    "crop['Area'].replace('United Kingdom of Great Britain and Northern Ireland','United Kingdom', inplace=True)\n",
    "crop['Area'].replace('Venezuela (Bolivarian Republic of)','Venezuela', inplace=True)\n",
    "crop['Area'].replace('Democratic Republic of the Congo','Congo', inplace=True)\n",
    "crop['Area'].replace('United States of America','United States', inplace=True)\n",
    "crop['Area'].replace(\"Côte d'Ivoire\",\"Cote d'Ivoire\", inplace=True)\n",
    "crop['Area'].replace('Russian Federation','Russia', inplace=True)\n",
    "crop['Area'].replace(\"Democratic People's Republic of Korea\",'Korea', inplace=True)\n",
    "crop['Area'].replace('United Republic of Tanzania','Tanzania', inplace=True)\n",
    "\n",
    "values_to_drop = ['China, Hong Kong SAR', 'China, Macao SAR', 'China, Taiwan Province of', 'China, mainland','European Union (27)','Ethiopia PDR','Land Locked Developing Countries','Least Developed Countries','Low Income Food Deficit Countries','Sudan (former)','World',\"Lao People's Democratic Republic\"]\n",
    "crop = crop[~crop['Area'].isin(values_to_drop)]"
   ]
  },
  {
   "cell_type": "code",
   "execution_count": 132,
   "metadata": {},
   "outputs": [
    {
     "data": {
      "text/plain": [
       "(3829302, 14)"
      ]
     },
     "execution_count": 132,
     "metadata": {},
     "output_type": "execute_result"
    }
   ],
   "source": [
    "crop.shape"
   ]
  },
  {
   "cell_type": "code",
   "execution_count": 133,
   "metadata": {},
   "outputs": [],
   "source": [
    "# To have the same years in the datasets, filter the datasets from year 1990\n",
    "crop = crop[crop['Year']>=1990]"
   ]
  },
  {
   "cell_type": "code",
   "execution_count": 134,
   "metadata": {},
   "outputs": [
    {
     "data": {
      "text/html": [
       "<div>\n",
       "<style scoped>\n",
       "    .dataframe tbody tr th:only-of-type {\n",
       "        vertical-align: middle;\n",
       "    }\n",
       "\n",
       "    .dataframe tbody tr th {\n",
       "        vertical-align: top;\n",
       "    }\n",
       "\n",
       "    .dataframe thead th {\n",
       "        text-align: right;\n",
       "    }\n",
       "</style>\n",
       "<table border=\"1\" class=\"dataframe\">\n",
       "  <thead>\n",
       "    <tr style=\"text-align: right;\">\n",
       "      <th></th>\n",
       "      <th>Area Code</th>\n",
       "      <th>Area Code (M49)</th>\n",
       "      <th>Area</th>\n",
       "      <th>Item Code</th>\n",
       "      <th>Item Code (CPC)</th>\n",
       "      <th>Item</th>\n",
       "      <th>Element Code</th>\n",
       "      <th>Element</th>\n",
       "      <th>Year Code</th>\n",
       "      <th>Year</th>\n",
       "      <th>Unit</th>\n",
       "      <th>Value</th>\n",
       "      <th>Flag</th>\n",
       "      <th>Note</th>\n",
       "    </tr>\n",
       "  </thead>\n",
       "  <tbody>\n",
       "    <tr>\n",
       "      <th>29</th>\n",
       "      <td>2</td>\n",
       "      <td>'004</td>\n",
       "      <td>Afghanistan</td>\n",
       "      <td>221</td>\n",
       "      <td>'01371</td>\n",
       "      <td>Almonds, in shell</td>\n",
       "      <td>5312</td>\n",
       "      <td>Area harvested</td>\n",
       "      <td>1990</td>\n",
       "      <td>1990</td>\n",
       "      <td>ha</td>\n",
       "      <td>6037.00</td>\n",
       "      <td>E</td>\n",
       "      <td>NaN</td>\n",
       "    </tr>\n",
       "    <tr>\n",
       "      <th>30</th>\n",
       "      <td>2</td>\n",
       "      <td>'004</td>\n",
       "      <td>Afghanistan</td>\n",
       "      <td>221</td>\n",
       "      <td>'01371</td>\n",
       "      <td>Almonds, in shell</td>\n",
       "      <td>5312</td>\n",
       "      <td>Area harvested</td>\n",
       "      <td>1991</td>\n",
       "      <td>1991</td>\n",
       "      <td>ha</td>\n",
       "      <td>5500.00</td>\n",
       "      <td>A</td>\n",
       "      <td>NaN</td>\n",
       "    </tr>\n",
       "    <tr>\n",
       "      <th>31</th>\n",
       "      <td>2</td>\n",
       "      <td>'004</td>\n",
       "      <td>Afghanistan</td>\n",
       "      <td>221</td>\n",
       "      <td>'01371</td>\n",
       "      <td>Almonds, in shell</td>\n",
       "      <td>5312</td>\n",
       "      <td>Area harvested</td>\n",
       "      <td>1992</td>\n",
       "      <td>1992</td>\n",
       "      <td>ha</td>\n",
       "      <td>5500.00</td>\n",
       "      <td>A</td>\n",
       "      <td>NaN</td>\n",
       "    </tr>\n",
       "    <tr>\n",
       "      <th>32</th>\n",
       "      <td>2</td>\n",
       "      <td>'004</td>\n",
       "      <td>Afghanistan</td>\n",
       "      <td>221</td>\n",
       "      <td>'01371</td>\n",
       "      <td>Almonds, in shell</td>\n",
       "      <td>5312</td>\n",
       "      <td>Area harvested</td>\n",
       "      <td>1993</td>\n",
       "      <td>1993</td>\n",
       "      <td>ha</td>\n",
       "      <td>5500.00</td>\n",
       "      <td>A</td>\n",
       "      <td>NaN</td>\n",
       "    </tr>\n",
       "    <tr>\n",
       "      <th>33</th>\n",
       "      <td>2</td>\n",
       "      <td>'004</td>\n",
       "      <td>Afghanistan</td>\n",
       "      <td>221</td>\n",
       "      <td>'01371</td>\n",
       "      <td>Almonds, in shell</td>\n",
       "      <td>5312</td>\n",
       "      <td>Area harvested</td>\n",
       "      <td>1994</td>\n",
       "      <td>1994</td>\n",
       "      <td>ha</td>\n",
       "      <td>5500.00</td>\n",
       "      <td>A</td>\n",
       "      <td>NaN</td>\n",
       "    </tr>\n",
       "  </tbody>\n",
       "</table>\n",
       "</div>"
      ],
      "text/plain": [
       "    Area Code Area Code (M49)         Area  Item Code Item Code (CPC)  \\\n",
       "29          2            '004  Afghanistan        221          '01371   \n",
       "30          2            '004  Afghanistan        221          '01371   \n",
       "31          2            '004  Afghanistan        221          '01371   \n",
       "32          2            '004  Afghanistan        221          '01371   \n",
       "33          2            '004  Afghanistan        221          '01371   \n",
       "\n",
       "                 Item  Element Code         Element  Year Code  Year Unit  \\\n",
       "29  Almonds, in shell          5312  Area harvested       1990  1990   ha   \n",
       "30  Almonds, in shell          5312  Area harvested       1991  1991   ha   \n",
       "31  Almonds, in shell          5312  Area harvested       1992  1992   ha   \n",
       "32  Almonds, in shell          5312  Area harvested       1993  1993   ha   \n",
       "33  Almonds, in shell          5312  Area harvested       1994  1994   ha   \n",
       "\n",
       "     Value Flag Note  \n",
       "29 6037.00    E  NaN  \n",
       "30 5500.00    A  NaN  \n",
       "31 5500.00    A  NaN  \n",
       "32 5500.00    A  NaN  \n",
       "33 5500.00    A  NaN  "
      ]
     },
     "execution_count": 134,
     "metadata": {},
     "output_type": "execute_result"
    }
   ],
   "source": [
    "crop.head()"
   ]
  },
  {
   "cell_type": "code",
   "execution_count": 135,
   "metadata": {},
   "outputs": [],
   "source": [
    "# Delete innecessary columns\n",
    "crop.drop(columns=['Area Code', 'Area Code (M49)','Item Code (CPC)','Element Code','Unit','Year Code','Flag','Note'], inplace=True)"
   ]
  },
  {
   "cell_type": "code",
   "execution_count": 136,
   "metadata": {},
   "outputs": [
    {
     "data": {
      "text/plain": [
       "array(['Area harvested', 'Yield', 'Production', 'Stocks',\n",
       "       'Producing Animals/Slaughtered', 'Laying', 'Yield/Carcass Weight',\n",
       "       'Milk Animals', 'Prod Popultn'], dtype=object)"
      ]
     },
     "execution_count": 136,
     "metadata": {},
     "output_type": "execute_result"
    }
   ],
   "source": [
    "crop['Element'].unique()"
   ]
  },
  {
   "cell_type": "code",
   "execution_count": 137,
   "metadata": {},
   "outputs": [],
   "source": [
    "# delete element types\n",
    "delete_elements = ['Stocks', 'Laying', 'Milk Animals', 'Prod Popultn', 'Producing Animals/Slaughtered', 'Yield/Carcass Weight']\n",
    "\n",
    "# Filter the DataFrame to exclude the rows with the specified elements, and keep area harvested, yield and production\n",
    "crop = crop[~crop['Element'].isin(delete_elements)]"
   ]
  },
  {
   "cell_type": "code",
   "execution_count": 138,
   "metadata": {},
   "outputs": [],
   "source": [
    "# Change the name to Elements type\n",
    "crop['Element'] = crop['Element'].replace('Area harvested', 'area_harvested_ha')\n",
    "crop['Element'] = crop['Element'].replace('Yield', 'yield_hg/ha')\n",
    "crop['Element'] = crop['Element'].replace('Production', 'production_tonnes')"
   ]
  },
  {
   "cell_type": "code",
   "execution_count": 139,
   "metadata": {},
   "outputs": [],
   "source": [
    "# Item column contains primary crops, processed crops, primary livestock, processed livestock and live animals. We are keeping only the primary crops:\n",
    "primarycrops_list = [\n",
    "    'Abaca, manila hemp, raw',\n",
    "    'Agave fibres, raw, n.e.c.',\n",
    "    'Almonds, in shell',\n",
    "    'Anise, badian, coriander, cumin, caraway, fennel and juniper berries, raw',\n",
    "    'Apples',\n",
    "    'Apricots',\n",
    "    'Areca nuts',\n",
    "    'Artichokes',\n",
    "    'Asparagus',\n",
    "    'Avocados',\n",
    "    'Balata, gutta-percha, guayule, chicle and similar natural gums in primary forms or in plates, sheets or strip',\n",
    "    'Bambara beans, dry',\n",
    "    'Bananas',\n",
    "    'Barley',\n",
    "    'Beans, dry',\n",
    "    'Blueberries',\n",
    "    'Brazil nuts, in shell',\n",
    "    'Broad beans and horse beans, dry',\n",
    "    'Broad beans and horse beans, green',\n",
    "    'Buckwheat',\n",
    "    'Cabbages',\n",
    "    'Canary seed',\n",
    "    'Cantaloupes and other melons',\n",
    "    'Carrots and turnips',\n",
    "    'Cashew nuts, in shell',\n",
    "    'Cashewapple',\n",
    "    'Cassava leaves',\n",
    "    'Cassava, fresh',\n",
    "    'Castor oil seeds',\n",
    "    'Cauliflowers and broccoli',\n",
    "    'Cereals n.e.c.',\n",
    "    'Cherries',\n",
    "    'Chestnuts, in shell',\n",
    "    'Chick peas, dry',\n",
    "    'Chicory roots',\n",
    "    'Chillies and peppers, dry (Capsicum spp., Pimenta spp.), raw',\n",
    "    'Chillies and peppers, green (Capsicum spp. and Pimenta spp.)',\n",
    "    'Cinnamon and cinnamon-tree flowers, raw',\n",
    "    'Cloves (whole stems), raw',\n",
    "    'Cocoa beans',\n",
    "    'Coconuts, in shell',\n",
    "    'Coffee, green',\n",
    "    'Coir, raw',\n",
    "    'Cow peas, dry',\n",
    "    'Cranberries',\n",
    "    'Crops, primary > (List)',\n",
    "    'Cucumbers and gherkins',\n",
    "    'Currants',\n",
    "    'Dates',\n",
    "    'Edible roots and tubers with high starch or inulin content, n.e.c., fresh',\n",
    "    'Eggplants (aubergines)',\n",
    "    'Figs',\n",
    "    'Flax, raw or retted',\n",
    "    'Fonio',\n",
    "    'Ginger, raw',\n",
    "    'Gooseberries',\n",
    "    'Grapes',\n",
    "    'Green corn (maize)',\n",
    "    'Green garlic',\n",
    "    'Groundnuts, excluding shelled',\n",
    "    'Hazelnuts, in shell',\n",
    "    'Hempseed',\n",
    "    'Hop cones',\n",
    "    'Jojoba seeds',\n",
    "    'Jute, raw or retted',\n",
    "    'Kapok fruit',\n",
    "    'Karite nuts (sheanuts)',\n",
    "    'Kenaf, and other textile bast fibres, raw or retted',\n",
    "    'Kiwi fruit',\n",
    "    'Kola nuts',\n",
    "    'Leeks and other alliaceous vegetables',\n",
    "    'Lemons and limes',\n",
    "    'Lentils, dry',\n",
    "    'Lettuce and chicory',\n",
    "    'Linseed',\n",
    "    'Locust beans (carobs)',\n",
    "    'Lupins',\n",
    "    'Maize (corn)',\n",
    "    'Mangoes, guavas and mangosteens',\n",
    "    'Maté leaves',\n",
    "    'Melonseed',\n",
    "    'Millet',\n",
    "    'Mixed grain',\n",
    "    'Mushrooms and truffles',\n",
    "    'Mustard seed',\n",
    "    'Natural rubber in primary forms',\n",
    "    'Nutmeg, mace, cardamoms, raw',\n",
    "    'Oats',\n",
    "    'Oil palm fruit',\n",
    "    'Okra',\n",
    "    'Olives',\n",
    "    'Onions and shallots, dry (excluding dehydrated)',\n",
    "    'Onions and shallots, green',\n",
    "    'Oranges',\n",
    "    'Other beans, green',\n",
    "    'Other berries and fruits of the genus vaccinium n.e.c.',\n",
    "    'Other citrus fruit, n.e.c.',\n",
    "    'Other fibre crops, raw, n.e.c.',\n",
    "    'Other fruits, n.e.c.',\n",
    "    'Other nuts (excluding wild edible nuts and groundnuts), in shell, n.e.c.',\n",
    "    'Other oil seeds, n.e.c.',\n",
    "    'Other pome fruits',\n",
    "    'Other pulses n.e.c.',\n",
    "    'Other stimulant, spice and aromatic crops, n.e.c.',\n",
    "    'Other stone fruits',\n",
    "    'Other sugar crops n.e.c.',\n",
    "    'Other tropical fruits, n.e.c.',\n",
    "    'Other vegetables, fresh n.e.c.',\n",
    "    'Papayas',\n",
    "    'Peaches and nectarines',\n",
    "    'Pears',\n",
    "    'Peas, dry',\n",
    "    'Peas, green',\n",
    "    'Pepper (Piper spp.), raw',\n",
    "    'Peppermint, spearmint',\n",
    "    'Persimmons',\n",
    "    'Pigeon peas, dry',\n",
    "    'Pineapples',\n",
    "    'Pistachios, in shell',\n",
    "    'Plantains and cooking bananas',\n",
    "    'Plums and sloes',\n",
    "    'Pomelos and grapefruits',\n",
    "    'Poppy seed',\n",
    "    'Potatoes',\n",
    "    'Pumpkins, squash and gourds',\n",
    "    'Pyrethrum, dried flowers',\n",
    "    'Quinces',\n",
    "    'Quinoa',\n",
    "    'Ramie, raw or retted',\n",
    "    'Rape or colza seed',\n",
    "    'Raspberries',\n",
    "    'Rice',\n",
    "    'Rye',\n",
    "    'Safflower seed',\n",
    "    'Seed cotton, unginned',\n",
    "    'Sesame seed',\n",
    "    'Sisal, raw',\n",
    "    'Sorghum',\n",
    "    'Sour cherries',\n",
    "    'Soya beans',\n",
    "    'Spinach',\n",
    "    'Strawberries',\n",
    "    'String beans',\n",
    "    'Sugar beet',\n",
    "    'Sugar cane',\n",
    "    'Sunflower seed',\n",
    "    'Sweet potatoes',\n",
    "    'Tallowtree seeds',\n",
    "    'Tangerines, mandarins, clementines',\n",
    "    'Taro',\n",
    "    'Tea leaves',\n",
    "    'Tomatoes',\n",
    "    'Triticale',\n",
    "    'True hemp, raw or retted',\n",
    "    'Tung nuts',\n",
    "    'Unmanufactured tobacco',\n",
    "    'Vanilla, raw',\n",
    "    'Vetches',\n",
    "    'Walnuts, in shell',\n",
    "    'Watermelons',\n",
    "    'Wheat',\n",
    "    'Yams',\n",
    "    'Yautia'\n",
    "]"
   ]
  },
  {
   "cell_type": "code",
   "execution_count": 140,
   "metadata": {},
   "outputs": [],
   "source": [
    "# Filter the DataFrame to keep only the rows with the specified elements\n",
    "crop = crop[crop['Item'].isin(primarycrops_list)]"
   ]
  },
  {
   "cell_type": "code",
   "execution_count": 141,
   "metadata": {},
   "outputs": [],
   "source": [
    "# pivot.table creates a DataFrame where the items are separated into columns according to the type of item, keeping the relationship with the columns Area, Item and Year.\n",
    "\n",
    "crop = crop.pivot_table(index=['Area', 'Item Code', 'Item', 'Year'], columns='Element', values='Value').reset_index()\n",
    "# index: The columns we want to keep unchanged in the resulting DataFrame.\n",
    "# columns: The column whose values will be used to create the new columns in the resulting DataFrame.\n",
    "# values: The column whose values will be used to populate the resulting DataFrame. "
   ]
  },
  {
   "cell_type": "code",
   "execution_count": 142,
   "metadata": {},
   "outputs": [],
   "source": [
    "# Change the name to the Item column\n",
    "crop.rename(columns={'Item': 'Crop'}, inplace=True)"
   ]
  },
  {
   "cell_type": "code",
   "execution_count": 393,
   "metadata": {},
   "outputs": [
    {
     "data": {
      "text/html": [
       "<div>\n",
       "<style scoped>\n",
       "    .dataframe tbody tr th:only-of-type {\n",
       "        vertical-align: middle;\n",
       "    }\n",
       "\n",
       "    .dataframe tbody tr th {\n",
       "        vertical-align: top;\n",
       "    }\n",
       "\n",
       "    .dataframe thead th {\n",
       "        text-align: right;\n",
       "    }\n",
       "</style>\n",
       "<table border=\"1\" class=\"dataframe\">\n",
       "  <thead>\n",
       "    <tr style=\"text-align: right;\">\n",
       "      <th>Element</th>\n",
       "      <th>Area</th>\n",
       "      <th>Item Code</th>\n",
       "      <th>Crop</th>\n",
       "      <th>Year</th>\n",
       "      <th>area_harvested_ha</th>\n",
       "      <th>production_tonnes</th>\n",
       "      <th>yield_hg/ha</th>\n",
       "    </tr>\n",
       "  </thead>\n",
       "  <tbody>\n",
       "    <tr>\n",
       "      <th>0</th>\n",
       "      <td>Afghanistan</td>\n",
       "      <td>15</td>\n",
       "      <td>Wheat</td>\n",
       "      <td>1990</td>\n",
       "      <td>1570000.0</td>\n",
       "      <td>1650000.0</td>\n",
       "      <td>10510.0</td>\n",
       "    </tr>\n",
       "    <tr>\n",
       "      <th>1</th>\n",
       "      <td>Afghanistan</td>\n",
       "      <td>15</td>\n",
       "      <td>Wheat</td>\n",
       "      <td>1991</td>\n",
       "      <td>1690000.0</td>\n",
       "      <td>1726000.0</td>\n",
       "      <td>10213.0</td>\n",
       "    </tr>\n",
       "    <tr>\n",
       "      <th>2</th>\n",
       "      <td>Afghanistan</td>\n",
       "      <td>15</td>\n",
       "      <td>Wheat</td>\n",
       "      <td>1992</td>\n",
       "      <td>1600000.0</td>\n",
       "      <td>1650000.0</td>\n",
       "      <td>10313.0</td>\n",
       "    </tr>\n",
       "    <tr>\n",
       "      <th>3</th>\n",
       "      <td>Afghanistan</td>\n",
       "      <td>15</td>\n",
       "      <td>Wheat</td>\n",
       "      <td>1993</td>\n",
       "      <td>1900000.0</td>\n",
       "      <td>1940000.0</td>\n",
       "      <td>10211.0</td>\n",
       "    </tr>\n",
       "    <tr>\n",
       "      <th>4</th>\n",
       "      <td>Afghanistan</td>\n",
       "      <td>15</td>\n",
       "      <td>Wheat</td>\n",
       "      <td>1994</td>\n",
       "      <td>2000000.0</td>\n",
       "      <td>2050000.0</td>\n",
       "      <td>10250.0</td>\n",
       "    </tr>\n",
       "  </tbody>\n",
       "</table>\n",
       "</div>"
      ],
      "text/plain": [
       "Element         Area  Item Code   Crop  Year  area_harvested_ha  \\\n",
       "0        Afghanistan         15  Wheat  1990          1570000.0   \n",
       "1        Afghanistan         15  Wheat  1991          1690000.0   \n",
       "2        Afghanistan         15  Wheat  1992          1600000.0   \n",
       "3        Afghanistan         15  Wheat  1993          1900000.0   \n",
       "4        Afghanistan         15  Wheat  1994          2000000.0   \n",
       "\n",
       "Element  production_tonnes  yield_hg/ha  \n",
       "0                1650000.0      10510.0  \n",
       "1                1726000.0      10213.0  \n",
       "2                1650000.0      10313.0  \n",
       "3                1940000.0      10211.0  \n",
       "4                2050000.0      10250.0  "
      ]
     },
     "execution_count": 393,
     "metadata": {},
     "output_type": "execute_result"
    }
   ],
   "source": [
    "crop.head()"
   ]
  },
  {
   "cell_type": "markdown",
   "metadata": {},
   "source": [
    "### 2.2. <a id='toc2_2_'></a>[Precipitations dataset](#toc0_)"
   ]
  },
  {
   "cell_type": "code",
   "execution_count": 143,
   "metadata": {},
   "outputs": [],
   "source": [
    "prec = pd.read_csv('Data/TWB_avg_precip/0b1dbe54-6204-43c1-8bd8-dbbc6763a4dd_Series - Metadata.csv',encoding='latin-1') # Average precipitation in depth (mm per year)"
   ]
  },
  {
   "cell_type": "code",
   "execution_count": 144,
   "metadata": {},
   "outputs": [],
   "source": [
    "# Delete innecessary columns\n",
    "prec.drop(columns=['Series Name', 'Series Code','Country Code'], inplace=True)"
   ]
  },
  {
   "cell_type": "code",
   "execution_count": 145,
   "metadata": {},
   "outputs": [],
   "source": [
    "# Change name columns\n",
    "col = prec.columns\n",
    "# Apply the regular expression using comprehension lists\n",
    "years = [re.search(r'\\d{4}', x).group() if re.search(r'\\d{4}', x) else 'Area' for x in col]\n",
    "# Change name columns with the new list years\n",
    "prec.columns = years"
   ]
  },
  {
   "cell_type": "code",
   "execution_count": 146,
   "metadata": {},
   "outputs": [
    {
     "data": {
      "text/html": [
       "<div>\n",
       "<style scoped>\n",
       "    .dataframe tbody tr th:only-of-type {\n",
       "        vertical-align: middle;\n",
       "    }\n",
       "\n",
       "    .dataframe tbody tr th {\n",
       "        vertical-align: top;\n",
       "    }\n",
       "\n",
       "    .dataframe thead th {\n",
       "        text-align: right;\n",
       "    }\n",
       "</style>\n",
       "<table border=\"1\" class=\"dataframe\">\n",
       "  <thead>\n",
       "    <tr style=\"text-align: right;\">\n",
       "      <th></th>\n",
       "      <th>Area</th>\n",
       "      <th>1990</th>\n",
       "      <th>1991</th>\n",
       "      <th>1999</th>\n",
       "      <th>2000</th>\n",
       "      <th>2001</th>\n",
       "      <th>2002</th>\n",
       "      <th>2003</th>\n",
       "      <th>2004</th>\n",
       "      <th>2005</th>\n",
       "      <th>...</th>\n",
       "      <th>2014</th>\n",
       "      <th>2015</th>\n",
       "      <th>2016</th>\n",
       "      <th>2017</th>\n",
       "      <th>2018</th>\n",
       "      <th>2019</th>\n",
       "      <th>2020</th>\n",
       "      <th>2021</th>\n",
       "      <th>2022</th>\n",
       "      <th>2023</th>\n",
       "    </tr>\n",
       "  </thead>\n",
       "  <tbody>\n",
       "    <tr>\n",
       "      <th>0</th>\n",
       "      <td>Afghanistan</td>\n",
       "      <td>327</td>\n",
       "      <td>327</td>\n",
       "      <td>327</td>\n",
       "      <td>327</td>\n",
       "      <td>327</td>\n",
       "      <td>327</td>\n",
       "      <td>327</td>\n",
       "      <td>327</td>\n",
       "      <td>327</td>\n",
       "      <td>...</td>\n",
       "      <td>327</td>\n",
       "      <td>327</td>\n",
       "      <td>327</td>\n",
       "      <td>327</td>\n",
       "      <td>327</td>\n",
       "      <td>327</td>\n",
       "      <td>327</td>\n",
       "      <td>..</td>\n",
       "      <td>..</td>\n",
       "      <td>..</td>\n",
       "    </tr>\n",
       "    <tr>\n",
       "      <th>1</th>\n",
       "      <td>Albania</td>\n",
       "      <td>1485</td>\n",
       "      <td>1485</td>\n",
       "      <td>1485</td>\n",
       "      <td>1485</td>\n",
       "      <td>1485</td>\n",
       "      <td>1485</td>\n",
       "      <td>1485</td>\n",
       "      <td>1485</td>\n",
       "      <td>1485</td>\n",
       "      <td>...</td>\n",
       "      <td>1485</td>\n",
       "      <td>1485</td>\n",
       "      <td>1485</td>\n",
       "      <td>1485</td>\n",
       "      <td>1485</td>\n",
       "      <td>1485</td>\n",
       "      <td>1485</td>\n",
       "      <td>..</td>\n",
       "      <td>..</td>\n",
       "      <td>..</td>\n",
       "    </tr>\n",
       "    <tr>\n",
       "      <th>2</th>\n",
       "      <td>Algeria</td>\n",
       "      <td>89</td>\n",
       "      <td>89</td>\n",
       "      <td>89</td>\n",
       "      <td>89</td>\n",
       "      <td>89</td>\n",
       "      <td>89</td>\n",
       "      <td>89</td>\n",
       "      <td>89</td>\n",
       "      <td>89</td>\n",
       "      <td>...</td>\n",
       "      <td>89</td>\n",
       "      <td>89</td>\n",
       "      <td>89</td>\n",
       "      <td>89</td>\n",
       "      <td>89</td>\n",
       "      <td>89</td>\n",
       "      <td>89</td>\n",
       "      <td>..</td>\n",
       "      <td>..</td>\n",
       "      <td>..</td>\n",
       "    </tr>\n",
       "    <tr>\n",
       "      <th>3</th>\n",
       "      <td>American Samoa</td>\n",
       "      <td>..</td>\n",
       "      <td>..</td>\n",
       "      <td>..</td>\n",
       "      <td>..</td>\n",
       "      <td>..</td>\n",
       "      <td>..</td>\n",
       "      <td>..</td>\n",
       "      <td>..</td>\n",
       "      <td>..</td>\n",
       "      <td>...</td>\n",
       "      <td>..</td>\n",
       "      <td>..</td>\n",
       "      <td>..</td>\n",
       "      <td>..</td>\n",
       "      <td>..</td>\n",
       "      <td>..</td>\n",
       "      <td>..</td>\n",
       "      <td>..</td>\n",
       "      <td>..</td>\n",
       "      <td>..</td>\n",
       "    </tr>\n",
       "    <tr>\n",
       "      <th>4</th>\n",
       "      <td>Andorra</td>\n",
       "      <td>..</td>\n",
       "      <td>..</td>\n",
       "      <td>..</td>\n",
       "      <td>..</td>\n",
       "      <td>..</td>\n",
       "      <td>..</td>\n",
       "      <td>..</td>\n",
       "      <td>..</td>\n",
       "      <td>..</td>\n",
       "      <td>...</td>\n",
       "      <td>..</td>\n",
       "      <td>..</td>\n",
       "      <td>..</td>\n",
       "      <td>..</td>\n",
       "      <td>..</td>\n",
       "      <td>..</td>\n",
       "      <td>..</td>\n",
       "      <td>..</td>\n",
       "      <td>..</td>\n",
       "      <td>..</td>\n",
       "    </tr>\n",
       "  </tbody>\n",
       "</table>\n",
       "<p>5 rows × 22 columns</p>\n",
       "</div>"
      ],
      "text/plain": [
       "             Area  1990  1991  1999  2000  2001  2002  2003  2004  2005  ...  \\\n",
       "0     Afghanistan   327   327   327   327   327   327   327   327   327  ...   \n",
       "1         Albania  1485  1485  1485  1485  1485  1485  1485  1485  1485  ...   \n",
       "2         Algeria    89    89    89    89    89    89    89    89    89  ...   \n",
       "3  American Samoa    ..    ..    ..    ..    ..    ..    ..    ..    ..  ...   \n",
       "4         Andorra    ..    ..    ..    ..    ..    ..    ..    ..    ..  ...   \n",
       "\n",
       "   2014  2015  2016  2017  2018  2019  2020 2021 2022 2023  \n",
       "0   327   327   327   327   327   327   327   ..   ..   ..  \n",
       "1  1485  1485  1485  1485  1485  1485  1485   ..   ..   ..  \n",
       "2    89    89    89    89    89    89    89   ..   ..   ..  \n",
       "3    ..    ..    ..    ..    ..    ..    ..   ..   ..   ..  \n",
       "4    ..    ..    ..    ..    ..    ..    ..   ..   ..   ..  \n",
       "\n",
       "[5 rows x 22 columns]"
      ]
     },
     "execution_count": 146,
     "metadata": {},
     "output_type": "execute_result"
    }
   ],
   "source": [
    "prec.head()"
   ]
  },
  {
   "cell_type": "code",
   "execution_count": 147,
   "metadata": {},
   "outputs": [
    {
     "data": {
      "text/plain": [
       "array(['Afghanistan', 'Albania', 'Algeria', 'American Samoa', 'Andorra',\n",
       "       'Angola', 'Antigua and Barbuda', 'Argentina', 'Armenia', 'Aruba',\n",
       "       'Australia', 'Austria', 'Azerbaijan', 'Bahamas, The', 'Bahrain',\n",
       "       'Bangladesh', 'Barbados', 'Belarus', 'Belgium', 'Belize', 'Benin',\n",
       "       'Bermuda', 'Bhutan', 'Bolivia', 'Bosnia and Herzegovina',\n",
       "       'Botswana', 'Brazil', 'British Virgin Islands',\n",
       "       'Brunei Darussalam', 'Bulgaria', 'Burkina Faso', 'Burundi',\n",
       "       'Cabo Verde', 'Cambodia', 'Cameroon', 'Canada', 'Cayman Islands',\n",
       "       'Central African Republic', 'Chad', 'Channel Islands', 'Chile',\n",
       "       'China', 'Colombia', 'Comoros', 'Congo, Dem. Rep.', 'Congo, Rep.',\n",
       "       'Costa Rica', \"Cote d'Ivoire\", 'Croatia', 'Cuba', 'Curacao',\n",
       "       'Cyprus', 'Czechia', 'Denmark', 'Djibouti', 'Dominica',\n",
       "       'Dominican Republic', 'Ecuador', 'Egypt, Arab Rep.', 'El Salvador',\n",
       "       'Equatorial Guinea', 'Eritrea', 'Estonia', 'Eswatini', 'Ethiopia',\n",
       "       'Faroe Islands', 'Fiji', 'Finland', 'France', 'French Polynesia',\n",
       "       'Gabon', 'Gambia, The', 'Georgia', 'Germany', 'Ghana', 'Gibraltar',\n",
       "       'Greece', 'Greenland', 'Grenada', 'Guam', 'Guatemala', 'Guinea',\n",
       "       'Guinea-Bissau', 'Guyana', 'Haiti', 'Honduras',\n",
       "       'Hong Kong SAR, China', 'Hungary', 'Iceland', 'India', 'Indonesia',\n",
       "       'Iran, Islamic Rep.', 'Iraq', 'Ireland', 'Isle of Man', 'Israel',\n",
       "       'Italy', 'Jamaica', 'Japan', 'Jordan', 'Kazakhstan', 'Kenya',\n",
       "       'Kiribati', \"Korea, Dem. People's Rep.\", 'Korea, Rep.', 'Kosovo',\n",
       "       'Kuwait', 'Kyrgyz Republic', 'Lao PDR', 'Latvia', 'Lebanon',\n",
       "       'Lesotho', 'Liberia', 'Libya', 'Liechtenstein', 'Lithuania',\n",
       "       'Luxembourg', 'Macao SAR, China', 'Madagascar', 'Malawi',\n",
       "       'Malaysia', 'Maldives', 'Mali', 'Malta', 'Marshall Islands',\n",
       "       'Mauritania', 'Mauritius', 'Mexico', 'Micronesia, Fed. Sts.',\n",
       "       'Moldova', 'Monaco', 'Mongolia', 'Montenegro', 'Morocco',\n",
       "       'Mozambique', 'Myanmar', 'Namibia', 'Nauru', 'Nepal',\n",
       "       'Netherlands', 'New Caledonia', 'New Zealand', 'Nicaragua',\n",
       "       'Niger', 'Nigeria', 'North Macedonia', 'Northern Mariana Islands',\n",
       "       'Norway', 'Oman', 'Pakistan', 'Palau', 'Panama',\n",
       "       'Papua New Guinea', 'Paraguay', 'Peru', 'Philippines', 'Poland',\n",
       "       'Portugal', 'Puerto Rico', 'Qatar', 'Romania',\n",
       "       'Russian Federation', 'Rwanda', 'Samoa', 'San Marino',\n",
       "       'Sao Tome and Principe', 'Saudi Arabia', 'Senegal', 'Serbia',\n",
       "       'Seychelles', 'Sierra Leone', 'Singapore',\n",
       "       'Sint Maarten (Dutch part)', 'Slovak Republic', 'Slovenia',\n",
       "       'Solomon Islands', 'Somalia', 'South Africa', 'South Sudan',\n",
       "       'Spain', 'Sri Lanka', 'St. Kitts and Nevis', 'St. Lucia',\n",
       "       'St. Martin (French part)', 'St. Vincent and the Grenadines',\n",
       "       'Sudan', 'Suriname', 'Sweden', 'Switzerland',\n",
       "       'Syrian Arab Republic', 'Tajikistan', 'Tanzania', 'Thailand',\n",
       "       'Timor-Leste', 'Togo', 'Tonga', 'Trinidad and Tobago', 'Tunisia',\n",
       "       'Turkiye', 'Turkmenistan', 'Turks and Caicos Islands', 'Tuvalu',\n",
       "       'Uganda', 'Ukraine', 'United Arab Emirates', 'United Kingdom',\n",
       "       'United States', 'Uruguay', 'Uzbekistan', 'Vanuatu',\n",
       "       'Venezuela, RB', 'Viet Nam', 'Virgin Islands (U.S.)',\n",
       "       'West Bank and Gaza', 'Yemen, Rep.', 'Zambia', 'Zimbabwe',\n",
       "       'Africa Eastern and Southern', 'Africa Western and Central',\n",
       "       'Arab World', 'Caribbean small states',\n",
       "       'Central Europe and the Baltics', 'Early-demographic dividend',\n",
       "       'East Asia & Pacific',\n",
       "       'East Asia & Pacific (excluding high income)',\n",
       "       'East Asia & Pacific (IDA & IBRD countries)', 'Euro area',\n",
       "       'Europe & Central Asia',\n",
       "       'Europe & Central Asia (excluding high income)',\n",
       "       'Europe & Central Asia (IDA & IBRD countries)', 'European Union',\n",
       "       'Fragile and conflict affected situations',\n",
       "       'Heavily indebted poor countries (HIPC)', 'High income',\n",
       "       'IBRD only', 'IDA & IBRD total', 'IDA blend', 'IDA only',\n",
       "       'IDA total', 'Late-demographic dividend',\n",
       "       'Latin America & Caribbean',\n",
       "       'Latin America & Caribbean (excluding high income)',\n",
       "       'Latin America & the Caribbean (IDA & IBRD countries)',\n",
       "       'Least developed countries: UN classification',\n",
       "       'Low & middle income', 'Low income', 'Lower middle income',\n",
       "       'Middle East & North Africa',\n",
       "       'Middle East & North Africa (excluding high income)',\n",
       "       'Middle East & North Africa (IDA & IBRD countries)',\n",
       "       'Middle income', 'North America', 'Not classified', 'OECD members',\n",
       "       'Other small states', 'Pacific island small states',\n",
       "       'Post-demographic dividend', 'Pre-demographic dividend',\n",
       "       'Small states', 'South Asia', 'South Asia (IDA & IBRD)',\n",
       "       'Sub-Saharan Africa', 'Sub-Saharan Africa (excluding high income)',\n",
       "       'Sub-Saharan Africa (IDA & IBRD countries)', 'Upper middle income',\n",
       "       'World', nan, 'Indicator Name',\n",
       "       'Average precipitation in depth (mm per year)'], dtype=object)"
      ]
     },
     "execution_count": 147,
     "metadata": {},
     "output_type": "execute_result"
    }
   ],
   "source": [
    "prec['Area'].unique()"
   ]
  },
  {
   "cell_type": "code",
   "execution_count": 148,
   "metadata": {},
   "outputs": [],
   "source": [
    "# correction of country names\n",
    "prec['Area'].replace('Venezuela, RB','Venezuela', inplace=True)\n",
    "prec['Area'].replace('Iran, Islamic Rep.','Iran', inplace=True)\n",
    "prec['Area'].replace('Congo, Dem. Rep','Congo', inplace=True)\n",
    "prec['Area'].replace('Russian Federation','Russia', inplace=True)"
   ]
  },
  {
   "cell_type": "code",
   "execution_count": 149,
   "metadata": {},
   "outputs": [
    {
     "data": {
      "text/html": [
       "<div>\n",
       "<style scoped>\n",
       "    .dataframe tbody tr th:only-of-type {\n",
       "        vertical-align: middle;\n",
       "    }\n",
       "\n",
       "    .dataframe tbody tr th {\n",
       "        vertical-align: top;\n",
       "    }\n",
       "\n",
       "    .dataframe thead th {\n",
       "        text-align: right;\n",
       "    }\n",
       "</style>\n",
       "<table border=\"1\" class=\"dataframe\">\n",
       "  <thead>\n",
       "    <tr style=\"text-align: right;\">\n",
       "      <th></th>\n",
       "      <th>Area</th>\n",
       "      <th>1990</th>\n",
       "      <th>1991</th>\n",
       "      <th>1999</th>\n",
       "      <th>2000</th>\n",
       "      <th>2001</th>\n",
       "      <th>2002</th>\n",
       "      <th>2003</th>\n",
       "      <th>2004</th>\n",
       "      <th>2005</th>\n",
       "      <th>...</th>\n",
       "      <th>2014</th>\n",
       "      <th>2015</th>\n",
       "      <th>2016</th>\n",
       "      <th>2017</th>\n",
       "      <th>2018</th>\n",
       "      <th>2019</th>\n",
       "      <th>2020</th>\n",
       "      <th>2021</th>\n",
       "      <th>2022</th>\n",
       "      <th>2023</th>\n",
       "    </tr>\n",
       "  </thead>\n",
       "  <tbody>\n",
       "    <tr>\n",
       "      <th>268</th>\n",
       "      <td>NaN</td>\n",
       "      <td>NaN</td>\n",
       "      <td>NaN</td>\n",
       "      <td>NaN</td>\n",
       "      <td>NaN</td>\n",
       "      <td>NaN</td>\n",
       "      <td>NaN</td>\n",
       "      <td>NaN</td>\n",
       "      <td>NaN</td>\n",
       "      <td>NaN</td>\n",
       "      <td>...</td>\n",
       "      <td>NaN</td>\n",
       "      <td>NaN</td>\n",
       "      <td>NaN</td>\n",
       "      <td>NaN</td>\n",
       "      <td>NaN</td>\n",
       "      <td>NaN</td>\n",
       "      <td>NaN</td>\n",
       "      <td>NaN</td>\n",
       "      <td>NaN</td>\n",
       "      <td>NaN</td>\n",
       "    </tr>\n",
       "    <tr>\n",
       "      <th>269</th>\n",
       "      <td>NaN</td>\n",
       "      <td>NaN</td>\n",
       "      <td>NaN</td>\n",
       "      <td>NaN</td>\n",
       "      <td>NaN</td>\n",
       "      <td>NaN</td>\n",
       "      <td>NaN</td>\n",
       "      <td>NaN</td>\n",
       "      <td>NaN</td>\n",
       "      <td>NaN</td>\n",
       "      <td>...</td>\n",
       "      <td>NaN</td>\n",
       "      <td>NaN</td>\n",
       "      <td>NaN</td>\n",
       "      <td>NaN</td>\n",
       "      <td>NaN</td>\n",
       "      <td>NaN</td>\n",
       "      <td>NaN</td>\n",
       "      <td>NaN</td>\n",
       "      <td>NaN</td>\n",
       "      <td>NaN</td>\n",
       "    </tr>\n",
       "    <tr>\n",
       "      <th>270</th>\n",
       "      <td>NaN</td>\n",
       "      <td>NaN</td>\n",
       "      <td>NaN</td>\n",
       "      <td>NaN</td>\n",
       "      <td>NaN</td>\n",
       "      <td>NaN</td>\n",
       "      <td>NaN</td>\n",
       "      <td>NaN</td>\n",
       "      <td>NaN</td>\n",
       "      <td>NaN</td>\n",
       "      <td>...</td>\n",
       "      <td>NaN</td>\n",
       "      <td>NaN</td>\n",
       "      <td>NaN</td>\n",
       "      <td>NaN</td>\n",
       "      <td>NaN</td>\n",
       "      <td>NaN</td>\n",
       "      <td>NaN</td>\n",
       "      <td>NaN</td>\n",
       "      <td>NaN</td>\n",
       "      <td>NaN</td>\n",
       "    </tr>\n",
       "    <tr>\n",
       "      <th>271</th>\n",
       "      <td>Indicator Name</td>\n",
       "      <td>Source</td>\n",
       "      <td>Topic</td>\n",
       "      <td>Periodicity</td>\n",
       "      <td>Development relevance</td>\n",
       "      <td>Limitations and exceptions</td>\n",
       "      <td>License URL</td>\n",
       "      <td>NaN</td>\n",
       "      <td>NaN</td>\n",
       "      <td>NaN</td>\n",
       "      <td>...</td>\n",
       "      <td>NaN</td>\n",
       "      <td>NaN</td>\n",
       "      <td>NaN</td>\n",
       "      <td>NaN</td>\n",
       "      <td>NaN</td>\n",
       "      <td>NaN</td>\n",
       "      <td>NaN</td>\n",
       "      <td>NaN</td>\n",
       "      <td>NaN</td>\n",
       "      <td>NaN</td>\n",
       "    </tr>\n",
       "    <tr>\n",
       "      <th>272</th>\n",
       "      <td>Average precipitation in depth (mm per year)</td>\n",
       "      <td>Food and Agriculture Organization, electronic ...</td>\n",
       "      <td>Environment: Land use</td>\n",
       "      <td>Annual</td>\n",
       "      <td>The agriculture sector is the most water-inten...</td>\n",
       "      <td>The data are collected by the Food and Agricul...</td>\n",
       "      <td>https://datacatalog.worldbank.org/public-licen...</td>\n",
       "      <td>NaN</td>\n",
       "      <td>NaN</td>\n",
       "      <td>NaN</td>\n",
       "      <td>...</td>\n",
       "      <td>NaN</td>\n",
       "      <td>NaN</td>\n",
       "      <td>NaN</td>\n",
       "      <td>NaN</td>\n",
       "      <td>NaN</td>\n",
       "      <td>NaN</td>\n",
       "      <td>NaN</td>\n",
       "      <td>NaN</td>\n",
       "      <td>NaN</td>\n",
       "      <td>NaN</td>\n",
       "    </tr>\n",
       "  </tbody>\n",
       "</table>\n",
       "<p>5 rows × 22 columns</p>\n",
       "</div>"
      ],
      "text/plain": [
       "                                             Area  \\\n",
       "268                                           NaN   \n",
       "269                                           NaN   \n",
       "270                                           NaN   \n",
       "271                                Indicator Name   \n",
       "272  Average precipitation in depth (mm per year)   \n",
       "\n",
       "                                                  1990                   1991  \\\n",
       "268                                                NaN                    NaN   \n",
       "269                                                NaN                    NaN   \n",
       "270                                                NaN                    NaN   \n",
       "271                                             Source                  Topic   \n",
       "272  Food and Agriculture Organization, electronic ...  Environment: Land use   \n",
       "\n",
       "            1999                                               2000  \\\n",
       "268          NaN                                                NaN   \n",
       "269          NaN                                                NaN   \n",
       "270          NaN                                                NaN   \n",
       "271  Periodicity                              Development relevance   \n",
       "272       Annual  The agriculture sector is the most water-inten...   \n",
       "\n",
       "                                                  2001  \\\n",
       "268                                                NaN   \n",
       "269                                                NaN   \n",
       "270                                                NaN   \n",
       "271                         Limitations and exceptions   \n",
       "272  The data are collected by the Food and Agricul...   \n",
       "\n",
       "                                                  2002 2003 2004 2005  ...  \\\n",
       "268                                                NaN  NaN  NaN  NaN  ...   \n",
       "269                                                NaN  NaN  NaN  NaN  ...   \n",
       "270                                                NaN  NaN  NaN  NaN  ...   \n",
       "271                                        License URL  NaN  NaN  NaN  ...   \n",
       "272  https://datacatalog.worldbank.org/public-licen...  NaN  NaN  NaN  ...   \n",
       "\n",
       "    2014 2015 2016 2017 2018 2019 2020 2021 2022 2023  \n",
       "268  NaN  NaN  NaN  NaN  NaN  NaN  NaN  NaN  NaN  NaN  \n",
       "269  NaN  NaN  NaN  NaN  NaN  NaN  NaN  NaN  NaN  NaN  \n",
       "270  NaN  NaN  NaN  NaN  NaN  NaN  NaN  NaN  NaN  NaN  \n",
       "271  NaN  NaN  NaN  NaN  NaN  NaN  NaN  NaN  NaN  NaN  \n",
       "272  NaN  NaN  NaN  NaN  NaN  NaN  NaN  NaN  NaN  NaN  \n",
       "\n",
       "[5 rows x 22 columns]"
      ]
     },
     "execution_count": 149,
     "metadata": {},
     "output_type": "execute_result"
    }
   ],
   "source": [
    "prec.tail()"
   ]
  },
  {
   "cell_type": "code",
   "execution_count": 150,
   "metadata": {},
   "outputs": [],
   "source": [
    "# delete the last two rows\n",
    "prec = prec.iloc[:-2]"
   ]
  },
  {
   "cell_type": "markdown",
   "metadata": {},
   "source": [
    "There are a lot of nan in the back rows, this will be addressed in the preprocessing section."
   ]
  },
  {
   "cell_type": "code",
   "execution_count": 151,
   "metadata": {},
   "outputs": [
    {
     "name": "stdout",
     "output_type": "stream",
     "text": [
      "<class 'pandas.core.frame.DataFrame'>\n",
      "RangeIndex: 271 entries, 0 to 270\n",
      "Data columns (total 22 columns):\n",
      " #   Column  Non-Null Count  Dtype \n",
      "---  ------  --------------  ----- \n",
      " 0   Area    266 non-null    object\n",
      " 1   1990    266 non-null    object\n",
      " 2   1991    266 non-null    object\n",
      " 3   1999    266 non-null    object\n",
      " 4   2000    266 non-null    object\n",
      " 5   2001    266 non-null    object\n",
      " 6   2002    266 non-null    object\n",
      " 7   2003    266 non-null    object\n",
      " 8   2004    266 non-null    object\n",
      " 9   2005    266 non-null    object\n",
      " 10  2006    266 non-null    object\n",
      " 11  2007    266 non-null    object\n",
      " 12  2014    266 non-null    object\n",
      " 13  2015    266 non-null    object\n",
      " 14  2016    266 non-null    object\n",
      " 15  2017    266 non-null    object\n",
      " 16  2018    266 non-null    object\n",
      " 17  2019    266 non-null    object\n",
      " 18  2020    266 non-null    object\n",
      " 19  2021    266 non-null    object\n",
      " 20  2022    266 non-null    object\n",
      " 21  2023    266 non-null    object\n",
      "dtypes: object(22)\n",
      "memory usage: 46.7+ KB\n"
     ]
    }
   ],
   "source": [
    "prec.info()"
   ]
  },
  {
   "cell_type": "markdown",
   "metadata": {},
   "source": [
    "#### 2.2.1. <a id='toc2_2_1_'></a>[Preprocessing](#toc0_)"
   ]
  },
  {
   "cell_type": "markdown",
   "metadata": {},
   "source": [
    "##### 2.2.1.1. <a id='toc2_2_1_1_'></a>[NaN values](#toc2_2_1_1_)"
   ]
  },
  {
   "cell_type": "code",
   "execution_count": 152,
   "metadata": {},
   "outputs": [],
   "source": [
    "# replace .. by NaN\n",
    "prec.replace('..', np.nan, inplace=True)"
   ]
  },
  {
   "cell_type": "code",
   "execution_count": 153,
   "metadata": {},
   "outputs": [
    {
     "data": {
      "text/plain": [
       "<Axes: >"
      ]
     },
     "execution_count": 153,
     "metadata": {},
     "output_type": "execute_result"
    },
    {
     "data": {
      "image/png": "[encoded data removed]",
      "text/plain": [
       "<Figure size 640x480 with 1 Axes>"
      ]
     },
     "metadata": {},
     "output_type": "display_data"
    }
   ],
   "source": [
    "sns.heatmap(prec.isnull(), cbar=False) # Visualize null values with a heatmap"
   ]
  },
  {
   "cell_type": "code",
   "execution_count": 154,
   "metadata": {},
   "outputs": [
    {
     "data": {
      "text/plain": [
       "Area     1.85\n",
       "1990    42.07\n",
       "1991    42.07\n",
       "1999    33.58\n",
       "2000    33.58\n",
       "2001    33.58\n",
       "2002    33.58\n",
       "2003    33.58\n",
       "2004    33.58\n",
       "2005    33.58\n",
       "2006    33.58\n",
       "2007    33.58\n",
       "2014    32.84\n",
       "2015    32.84\n",
       "2016    32.84\n",
       "2017    32.84\n",
       "2018    32.84\n",
       "2019    32.84\n",
       "2020    32.84\n",
       "2021   100.00\n",
       "2022   100.00\n",
       "2023   100.00\n",
       "dtype: float64"
      ]
     },
     "execution_count": 154,
     "metadata": {},
     "output_type": "execute_result"
    }
   ],
   "source": [
    "# percentage of nan values (columns)\n",
    "prec.isnull().sum() / len(prec) * 100"
   ]
  },
  {
   "cell_type": "code",
   "execution_count": 155,
   "metadata": {},
   "outputs": [
    {
     "data": {
      "text/plain": [
       "0      13.64\n",
       "1      13.64\n",
       "2      13.64\n",
       "3      95.45\n",
       "4      95.45\n",
       "       ...  \n",
       "266   100.00\n",
       "267   100.00\n",
       "268   100.00\n",
       "269   100.00\n",
       "270   100.00\n",
       "Length: 271, dtype: float64"
      ]
     },
     "execution_count": 155,
     "metadata": {},
     "output_type": "execute_result"
    }
   ],
   "source": [
    "# percentage of nan values (rows)\n",
    "prec.isnull().sum(axis=1) / prec.shape[1] * 100"
   ]
  },
  {
   "cell_type": "code",
   "execution_count": 156,
   "metadata": {},
   "outputs": [],
   "source": [
    "# # Calculate the percentage of null values in each row\n",
    "percent_missing_rows = prec.isnull().sum(axis=1) / prec.shape[1] * 100\n",
    "\n",
    "# Filter out rows with a percentage of nulls = 100\n",
    "missing_rows = percent_missing_rows[percent_missing_rows==100].index\n",
    "\n",
    "# Display rows with a percentage of nulls = 100\n",
    "prec.loc[missing_rows]\n",
    "\n",
    "# delete missing_rows\n",
    "prec.drop(missing_rows, inplace=True)"
   ]
  },
  {
   "cell_type": "code",
   "execution_count": 157,
   "metadata": {},
   "outputs": [],
   "source": [
    "# no information of the columns 2021, 2022, 2023. Delete\n",
    "\n",
    "prec.drop(columns=['2021', '2022','2023'], inplace=True)"
   ]
  },
  {
   "cell_type": "code",
   "execution_count": 158,
   "metadata": {},
   "outputs": [
    {
     "data": {
      "text/plain": [
       "Area    0.00\n",
       "1990   40.98\n",
       "1991   40.98\n",
       "1999   32.33\n",
       "2000   32.33\n",
       "2001   32.33\n",
       "2002   32.33\n",
       "2003   32.33\n",
       "2004   32.33\n",
       "2005   32.33\n",
       "2006   32.33\n",
       "2007   32.33\n",
       "2014   31.58\n",
       "2015   31.58\n",
       "2016   31.58\n",
       "2017   31.58\n",
       "2018   31.58\n",
       "2019   31.58\n",
       "2020   31.58\n",
       "dtype: float64"
      ]
     },
     "execution_count": 158,
     "metadata": {},
     "output_type": "execute_result"
    }
   ],
   "source": [
    "# percentage of nan values (columns)\n",
    "prec.isnull().sum() / len(prec) * 100"
   ]
  },
  {
   "cell_type": "code",
   "execution_count": 159,
   "metadata": {},
   "outputs": [
    {
     "name": "stdout",
     "output_type": "stream",
     "text": [
      "<class 'pandas.core.frame.DataFrame'>\n",
      "RangeIndex: 266 entries, 0 to 265\n",
      "Data columns (total 19 columns):\n",
      " #   Column  Non-Null Count  Dtype \n",
      "---  ------  --------------  ----- \n",
      " 0   Area    266 non-null    object\n",
      " 1   1990    157 non-null    object\n",
      " 2   1991    157 non-null    object\n",
      " 3   1999    180 non-null    object\n",
      " 4   2000    180 non-null    object\n",
      " 5   2001    180 non-null    object\n",
      " 6   2002    180 non-null    object\n",
      " 7   2003    180 non-null    object\n",
      " 8   2004    180 non-null    object\n",
      " 9   2005    180 non-null    object\n",
      " 10  2006    180 non-null    object\n",
      " 11  2007    180 non-null    object\n",
      " 12  2014    182 non-null    object\n",
      " 13  2015    182 non-null    object\n",
      " 14  2016    182 non-null    object\n",
      " 15  2017    182 non-null    object\n",
      " 16  2018    182 non-null    object\n",
      " 17  2019    182 non-null    object\n",
      " 18  2020    182 non-null    object\n",
      "dtypes: object(19)\n",
      "memory usage: 39.6+ KB\n"
     ]
    }
   ],
   "source": [
    "prec.info()"
   ]
  },
  {
   "cell_type": "code",
   "execution_count": 160,
   "metadata": {},
   "outputs": [
    {
     "data": {
      "text/plain": [
       "Index(['Area', '1990', '1991', '1999', '2000', '2001', '2002', '2003', '2004',\n",
       "       '2005', '2006', '2007', '2014', '2015', '2016', '2017', '2018', '2019',\n",
       "       '2020'],\n",
       "      dtype='object')"
      ]
     },
     "execution_count": 160,
     "metadata": {},
     "output_type": "execute_result"
    }
   ],
   "source": [
    "prec.columns"
   ]
  },
  {
   "cell_type": "code",
   "execution_count": 161,
   "metadata": {},
   "outputs": [],
   "source": [
    "# Change the number columns type to float\n",
    "year_col = ['1990', '1991', '1999', '2000', '2001', '2002', '2003', '2004',\n",
    "       '2005', '2006', '2007', '2014', '2015', '2016', '2017', '2018', '2019',\n",
    "       '2020']\n",
    "prec[year_col]= prec[year_col].astype(float)"
   ]
  },
  {
   "cell_type": "markdown",
   "metadata": {},
   "source": [
    "As the rainfall values are mm per year and they are continuous variables, we will do the imputation with the mean value of mm per year:"
   ]
  },
  {
   "cell_type": "code",
   "execution_count": 162,
   "metadata": {},
   "outputs": [
    {
     "data": {
      "text/plain": [
       "Area   0.00\n",
       "1990   0.00\n",
       "1991   0.00\n",
       "1999   0.00\n",
       "2000   0.00\n",
       "2001   0.00\n",
       "2002   0.00\n",
       "2003   0.00\n",
       "2004   0.00\n",
       "2005   0.00\n",
       "2006   0.00\n",
       "2007   0.00\n",
       "2014   0.00\n",
       "2015   0.00\n",
       "2016   0.00\n",
       "2017   0.00\n",
       "2018   0.00\n",
       "2019   0.00\n",
       "2020   0.00\n",
       "dtype: float64"
      ]
     },
     "execution_count": 162,
     "metadata": {},
     "output_type": "execute_result"
    }
   ],
   "source": [
    "def repair_null(df, col):\n",
    "    if df[col].dtype == 'int64' or df[col].dtype == 'float64':\n",
    "        df[col] = df[col].fillna(df[col].mean())\n",
    "    else:\n",
    "        df[col] = df[col].fillna(df[col].mode()[0])\n",
    "    return df \n",
    "\n",
    "for col in prec.columns:\n",
    "    repair_null(prec, col)\n",
    "\n",
    "prec.isnull().sum()/len(prec)*100"
   ]
  },
  {
   "cell_type": "code",
   "execution_count": 163,
   "metadata": {},
   "outputs": [],
   "source": [
    "# calculation of the average rain fall from 1990-present in a new column\n",
    "\n",
    "prec['avg_rainfall_mm_year'] = prec[year_col].mean(axis=1).round(2)"
   ]
  },
  {
   "cell_type": "code",
   "execution_count": 164,
   "metadata": {},
   "outputs": [],
   "source": [
    "# create a new df with Area and average columns\n",
    "prec_filtered = prec[['Area','avg_rainfall_mm_year']].copy()"
   ]
  },
  {
   "cell_type": "code",
   "execution_count": 352,
   "metadata": {},
   "outputs": [
    {
     "data": {
      "text/html": [
       "<div>\n",
       "<style scoped>\n",
       "    .dataframe tbody tr th:only-of-type {\n",
       "        vertical-align: middle;\n",
       "    }\n",
       "\n",
       "    .dataframe tbody tr th {\n",
       "        vertical-align: top;\n",
       "    }\n",
       "\n",
       "    .dataframe thead th {\n",
       "        text-align: right;\n",
       "    }\n",
       "</style>\n",
       "<table border=\"1\" class=\"dataframe\">\n",
       "  <thead>\n",
       "    <tr style=\"text-align: right;\">\n",
       "      <th></th>\n",
       "      <th>Area</th>\n",
       "      <th>avg_rainfall_mm_year</th>\n",
       "    </tr>\n",
       "  </thead>\n",
       "  <tbody>\n",
       "    <tr>\n",
       "      <th>0</th>\n",
       "      <td>Afghanistan</td>\n",
       "      <td>327.00</td>\n",
       "    </tr>\n",
       "    <tr>\n",
       "      <th>1</th>\n",
       "      <td>Albania</td>\n",
       "      <td>1485.00</td>\n",
       "    </tr>\n",
       "    <tr>\n",
       "      <th>2</th>\n",
       "      <td>Algeria</td>\n",
       "      <td>89.00</td>\n",
       "    </tr>\n",
       "    <tr>\n",
       "      <th>3</th>\n",
       "      <td>American Samoa</td>\n",
       "      <td>1183.25</td>\n",
       "    </tr>\n",
       "    <tr>\n",
       "      <th>4</th>\n",
       "      <td>Andorra</td>\n",
       "      <td>1183.25</td>\n",
       "    </tr>\n",
       "    <tr>\n",
       "      <th>...</th>\n",
       "      <td>...</td>\n",
       "      <td>...</td>\n",
       "    </tr>\n",
       "    <tr>\n",
       "      <th>261</th>\n",
       "      <td>Sub-Saharan Africa</td>\n",
       "      <td>1183.25</td>\n",
       "    </tr>\n",
       "    <tr>\n",
       "      <th>262</th>\n",
       "      <td>Sub-Saharan Africa (excluding high income)</td>\n",
       "      <td>1183.25</td>\n",
       "    </tr>\n",
       "    <tr>\n",
       "      <th>263</th>\n",
       "      <td>Sub-Saharan Africa (IDA &amp; IBRD countries)</td>\n",
       "      <td>1183.25</td>\n",
       "    </tr>\n",
       "    <tr>\n",
       "      <th>264</th>\n",
       "      <td>Upper middle income</td>\n",
       "      <td>1183.25</td>\n",
       "    </tr>\n",
       "    <tr>\n",
       "      <th>265</th>\n",
       "      <td>World</td>\n",
       "      <td>1183.25</td>\n",
       "    </tr>\n",
       "  </tbody>\n",
       "</table>\n",
       "<p>266 rows × 2 columns</p>\n",
       "</div>"
      ],
      "text/plain": [
       "                                           Area  avg_rainfall_mm_year\n",
       "0                                   Afghanistan                327.00\n",
       "1                                       Albania               1485.00\n",
       "2                                       Algeria                 89.00\n",
       "3                                American Samoa               1183.25\n",
       "4                                       Andorra               1183.25\n",
       "..                                          ...                   ...\n",
       "261                          Sub-Saharan Africa               1183.25\n",
       "262  Sub-Saharan Africa (excluding high income)               1183.25\n",
       "263   Sub-Saharan Africa (IDA & IBRD countries)               1183.25\n",
       "264                         Upper middle income               1183.25\n",
       "265                                       World               1183.25\n",
       "\n",
       "[266 rows x 2 columns]"
      ]
     },
     "execution_count": 352,
     "metadata": {},
     "output_type": "execute_result"
    }
   ],
   "source": [
    "prec_filtered"
   ]
  },
  {
   "cell_type": "markdown",
   "metadata": {},
   "source": [
    "### 2.3. <a id='toc2_3_'></a>[Pesticides dataset](#toc0_)"
   ]
  },
  {
   "cell_type": "code",
   "execution_count": 329,
   "metadata": {},
   "outputs": [],
   "source": [
    "pest = pd.read_csv('Data/pesticides_use/Inputs_Pesticides_Use_E_All_Data_(Normalized).csv',encoding='latin-1',low_memory=False)"
   ]
  },
  {
   "cell_type": "code",
   "execution_count": 330,
   "metadata": {},
   "outputs": [],
   "source": [
    "# To have the same years in the datasets, filter the datasets from year 1990\n",
    "pest = pest[pest['Year']>=1990]"
   ]
  },
  {
   "cell_type": "code",
   "execution_count": 331,
   "metadata": {},
   "outputs": [
    {
     "data": {
      "text/html": [
       "<div>\n",
       "<style scoped>\n",
       "    .dataframe tbody tr th:only-of-type {\n",
       "        vertical-align: middle;\n",
       "    }\n",
       "\n",
       "    .dataframe tbody tr th {\n",
       "        vertical-align: top;\n",
       "    }\n",
       "\n",
       "    .dataframe thead th {\n",
       "        text-align: right;\n",
       "    }\n",
       "</style>\n",
       "<table border=\"1\" class=\"dataframe\">\n",
       "  <thead>\n",
       "    <tr style=\"text-align: right;\">\n",
       "      <th></th>\n",
       "      <th>Area Code</th>\n",
       "      <th>Area Code (M49)</th>\n",
       "      <th>Area</th>\n",
       "      <th>Item Code</th>\n",
       "      <th>Item</th>\n",
       "      <th>Element Code</th>\n",
       "      <th>Element</th>\n",
       "      <th>Year Code</th>\n",
       "      <th>Year</th>\n",
       "      <th>Unit</th>\n",
       "      <th>Value</th>\n",
       "      <th>Flag</th>\n",
       "      <th>Note</th>\n",
       "    </tr>\n",
       "  </thead>\n",
       "  <tbody>\n",
       "    <tr>\n",
       "      <th>0</th>\n",
       "      <td>3</td>\n",
       "      <td>'008</td>\n",
       "      <td>Albania</td>\n",
       "      <td>1357</td>\n",
       "      <td>Pesticides (total)</td>\n",
       "      <td>5157</td>\n",
       "      <td>Agricultural Use</td>\n",
       "      <td>1990</td>\n",
       "      <td>1990</td>\n",
       "      <td>t</td>\n",
       "      <td>121.00</td>\n",
       "      <td>E</td>\n",
       "      <td>NaN</td>\n",
       "    </tr>\n",
       "    <tr>\n",
       "      <th>1</th>\n",
       "      <td>3</td>\n",
       "      <td>'008</td>\n",
       "      <td>Albania</td>\n",
       "      <td>1357</td>\n",
       "      <td>Pesticides (total)</td>\n",
       "      <td>5157</td>\n",
       "      <td>Agricultural Use</td>\n",
       "      <td>1991</td>\n",
       "      <td>1991</td>\n",
       "      <td>t</td>\n",
       "      <td>121.00</td>\n",
       "      <td>E</td>\n",
       "      <td>NaN</td>\n",
       "    </tr>\n",
       "    <tr>\n",
       "      <th>2</th>\n",
       "      <td>3</td>\n",
       "      <td>'008</td>\n",
       "      <td>Albania</td>\n",
       "      <td>1357</td>\n",
       "      <td>Pesticides (total)</td>\n",
       "      <td>5157</td>\n",
       "      <td>Agricultural Use</td>\n",
       "      <td>1992</td>\n",
       "      <td>1992</td>\n",
       "      <td>t</td>\n",
       "      <td>121.00</td>\n",
       "      <td>E</td>\n",
       "      <td>NaN</td>\n",
       "    </tr>\n",
       "    <tr>\n",
       "      <th>3</th>\n",
       "      <td>3</td>\n",
       "      <td>'008</td>\n",
       "      <td>Albania</td>\n",
       "      <td>1357</td>\n",
       "      <td>Pesticides (total)</td>\n",
       "      <td>5157</td>\n",
       "      <td>Agricultural Use</td>\n",
       "      <td>1993</td>\n",
       "      <td>1993</td>\n",
       "      <td>t</td>\n",
       "      <td>121.00</td>\n",
       "      <td>E</td>\n",
       "      <td>NaN</td>\n",
       "    </tr>\n",
       "    <tr>\n",
       "      <th>4</th>\n",
       "      <td>3</td>\n",
       "      <td>'008</td>\n",
       "      <td>Albania</td>\n",
       "      <td>1357</td>\n",
       "      <td>Pesticides (total)</td>\n",
       "      <td>5157</td>\n",
       "      <td>Agricultural Use</td>\n",
       "      <td>1994</td>\n",
       "      <td>1994</td>\n",
       "      <td>t</td>\n",
       "      <td>201.00</td>\n",
       "      <td>E</td>\n",
       "      <td>NaN</td>\n",
       "    </tr>\n",
       "  </tbody>\n",
       "</table>\n",
       "</div>"
      ],
      "text/plain": [
       "   Area Code Area Code (M49)     Area  Item Code                Item  \\\n",
       "0          3            '008  Albania       1357  Pesticides (total)   \n",
       "1          3            '008  Albania       1357  Pesticides (total)   \n",
       "2          3            '008  Albania       1357  Pesticides (total)   \n",
       "3          3            '008  Albania       1357  Pesticides (total)   \n",
       "4          3            '008  Albania       1357  Pesticides (total)   \n",
       "\n",
       "   Element Code           Element  Year Code  Year Unit  Value Flag Note  \n",
       "0          5157  Agricultural Use       1990  1990    t 121.00    E  NaN  \n",
       "1          5157  Agricultural Use       1991  1991    t 121.00    E  NaN  \n",
       "2          5157  Agricultural Use       1992  1992    t 121.00    E  NaN  \n",
       "3          5157  Agricultural Use       1993  1993    t 121.00    E  NaN  \n",
       "4          5157  Agricultural Use       1994  1994    t 201.00    E  NaN  "
      ]
     },
     "execution_count": 331,
     "metadata": {},
     "output_type": "execute_result"
    }
   ],
   "source": [
    "pest.head()"
   ]
  },
  {
   "cell_type": "code",
   "execution_count": 332,
   "metadata": {},
   "outputs": [
    {
     "data": {
      "text/plain": [
       "array(['Agricultural Use', 'Use per area of cropland', 'Use per capita',\n",
       "       'Use per value of agricultural production'], dtype=object)"
      ]
     },
     "execution_count": 332,
     "metadata": {},
     "output_type": "execute_result"
    }
   ],
   "source": [
    "pest['Element'].unique()"
   ]
  },
  {
   "cell_type": "code",
   "execution_count": 333,
   "metadata": {},
   "outputs": [],
   "source": [
    "# delete element types\n",
    "delete_elements = ['Use per capita','Use per area of cropland','Use per value of agricultural production']\n",
    "\n",
    "# Filter the DataFrame to exclude the rows with the specified elements, and keep production, agricultural use and Use per area of cropland\n",
    "pest = pest[~pest['Element'].isin(delete_elements)]"
   ]
  },
  {
   "cell_type": "code",
   "execution_count": 334,
   "metadata": {},
   "outputs": [],
   "source": [
    "# create new filtered df\n",
    "pest_filtered = pest[['Area','Item','Element','Year','Value']].copy()\n",
    "# Change the name to the new column\n",
    "pest_filtered.rename(columns={'Item': 'pesticides_type'}, inplace=True)\n",
    "pest_filtered.rename(columns={'Value': 'agricultural_use_tonnes'}, inplace=True)\n",
    "# Delete Element column\n",
    "pest_filtered.drop(columns=['Element'], inplace=True)"
   ]
  },
  {
   "cell_type": "code",
   "execution_count": 335,
   "metadata": {},
   "outputs": [
    {
     "data": {
      "text/plain": [
       "array(['Pesticides (total)', 'Insecticides',\n",
       "       'Insecticides \\x96 Chlorinated Hydrocarbons',\n",
       "       'Insecticides \\x96 Organo-phosphates',\n",
       "       'Insecticides \\x96 Carbamates', 'Insecticides \\x96 Pyrethroids',\n",
       "       'Insecticides \\x96 Other', 'Herbicides',\n",
       "       'Herbicides \\x96 Phenoxy hormone products',\n",
       "       'Herbicides \\x96 Triazines', 'Herbicides \\x96 Amides',\n",
       "       'Herbicides \\x96 Carbamates', 'Herbicides \\x96 Dinitroanilines',\n",
       "       'Herbicides \\x96 Sulfonyl ureas', 'Herbicides \\x96 Bipiridils',\n",
       "       'Herbicides \\x96 Other', 'Fungicides and Bactericides',\n",
       "       'Fung & Bact \\x96 Inorganics', 'Fung & Bact \\x96 Dithiocarbamates',\n",
       "       'Fung & Bact \\x96 Benzimidazoles',\n",
       "       'Fung & Bact \\x96 Triazoles, diazoles', 'Fung & Bact \\x96 Other',\n",
       "       'Fungicides \\x96 Seed treatments',\n",
       "       'Insecticides \\x96 Seed Treatments', 'Plant Growth Regulators',\n",
       "       'Rodenticides', 'Rodenticides \\x96 Anti-coagulants',\n",
       "       'Rodenticides \\x96 Other', 'Other Pesticides nes', 'Mineral Oils',\n",
       "       'Disinfectants',\n",
       "       'Insecticides \\x96 Botanical products and biologicals',\n",
       "       'Herbicides \\x96 Urea derivates', 'Herbicides \\x96 Uracil',\n",
       "       'Fung & Bact \\x96 Diazines, morpholines',\n",
       "       'Seed Treat Fung \\x96 Dithiocarbamates',\n",
       "       'Seed Treat Fung \\x96 Triazoles, diazoles',\n",
       "       'Seed Treat Fung \\x96 Other',\n",
       "       'Seed Treat Insect \\x96 Organo-phosphates',\n",
       "       'Seed Treat Insect \\x96 Other',\n",
       "       'Seed Treat Fung \\x96 Benzimidazoles',\n",
       "       'Seed Treat Fung \\x96 Botanical products and biologicals',\n",
       "       'Seed Treat Insect \\x96 Carbamates',\n",
       "       'Seed Treat Insect \\x96 Pyrethroids',\n",
       "       'Rodenticides \\x96 Cyanide Generators',\n",
       "       'Rodenticides \\x96 Hypercalcaemics', 'Rodenticides \\x96 Narcotics'],\n",
       "      dtype=object)"
      ]
     },
     "execution_count": 335,
     "metadata": {},
     "output_type": "execute_result"
    }
   ],
   "source": [
    "pest_filtered['pesticides_type'].unique()"
   ]
  },
  {
   "cell_type": "code",
   "execution_count": 336,
   "metadata": {},
   "outputs": [],
   "source": [
    "# Clean pesticides_type column\n",
    "pest_filtered['pesticides_type'] = pest_filtered['pesticides_type'].str.replace('\\x96', ':')"
   ]
  },
  {
   "cell_type": "code",
   "execution_count": 337,
   "metadata": {},
   "outputs": [],
   "source": [
    "# Delete pesticides (total) element\n",
    "# delete element types\n",
    "delete_elements = ['Pesticides (total)']\n",
    "\n",
    "# Filter the DataFrame to exclude the rows with the specified elements, and keep production, agricultural use and Use per area of cropland\n",
    "pest_filtered = pest_filtered[~pest_filtered['pesticides_type'].isin(delete_elements)]"
   ]
  },
  {
   "cell_type": "code",
   "execution_count": 348,
   "metadata": {},
   "outputs": [
    {
     "data": {
      "text/plain": [
       "pesticides_type\n",
       "Insecticides                                            7703\n",
       "Fungicides and Bactericides                             7414\n",
       "Herbicides                                              7328\n",
       "Plant Growth Regulators                                 4886\n",
       "Rodenticides                                            4704\n",
       "Other Pesticides nes                                    4098\n",
       "Mineral Oils                                            3518\n",
       "Fungicides : Seed treatments                            2909\n",
       "Insecticides : Seed Treatments                          2422\n",
       "Insecticides : Organo-phosphates                        1366\n",
       "Insecticides : Pyrethroids                              1352\n",
       "Insecticides : Other                                    1250\n",
       "Herbicides : Other                                      1245\n",
       "Fung & Bact : Other                                     1209\n",
       "Fung & Bact : Dithiocarbamates                          1201\n",
       "Disinfectants                                           1169\n",
       "Insecticides : Carbamates                               1166\n",
       "Herbicides : Phenoxy hormone products                   1156\n",
       "Herbicides : Triazines                                  1066\n",
       "Fung & Bact : Inorganics                                1065\n",
       "Fung & Bact : Triazoles, diazoles                       1027\n",
       "Fung & Bact : Benzimidazoles                            1021\n",
       "Herbicides : Amides                                      966\n",
       "Herbicides : Dinitroanilines                             911\n",
       "Herbicides : Urea derivates                              905\n",
       "Herbicides : Bipiridils                                  763\n",
       "Herbicides : Sulfonyl ureas                              759\n",
       "Fung & Bact : Diazines, morpholines                      753\n",
       "Insecticides : Botanical products and biologicals        720\n",
       "Herbicides : Carbamates                                  703\n",
       "Insecticides : Chlorinated Hydrocarbons                  571\n",
       "Herbicides : Uracil                                      384\n",
       "Rodenticides : Anti-coagulants                           348\n",
       "Rodenticides : Other                                     345\n",
       "Seed Treat Fung : Other                                  293\n",
       "Seed Treat Insect : Other                                261\n",
       "Seed Treat Fung : Triazoles, diazoles                    228\n",
       "Seed Treat Fung : Dithiocarbamates                       186\n",
       "Seed Treat Fung : Benzimidazoles                         160\n",
       "Seed Treat Insect : Carbamates                           149\n",
       "Seed Treat Insect : Pyrethroids                          113\n",
       "Seed Treat Insect : Organo-phosphates                     75\n",
       "Seed Treat Fung : Botanical products and biologicals      49\n",
       "Rodenticides : Cyanide Generators                          4\n",
       "Rodenticides : Narcotics                                   3\n",
       "Rodenticides : Hypercalcaemics                             1\n",
       "Name: count, dtype: int64"
      ]
     },
     "execution_count": 348,
     "metadata": {},
     "output_type": "execute_result"
    }
   ],
   "source": [
    "pest_filtered['pesticides_type'].value_counts()"
   ]
  },
  {
   "cell_type": "code",
   "execution_count": 349,
   "metadata": {},
   "outputs": [],
   "source": [
    "#Create a new column grouping pesticides_type:\n",
    "\n",
    "# Iterate over the rows of the DataFrame \n",
    "for index, row in pest_filtered.iterrows():\n",
    "    pesticide_type = row['pesticides_type']\n",
    "    \n",
    "    if pesticide_type.startswith('Insecticides'):\n",
    "        pest_filtered.at[index, 'pesticides_group'] = 'Insecticides' #  to assign the value to the pesticide group to each cell individually in the column 'pesticides_group' \n",
    "    elif pesticide_type.startswith('Herbicides'):\n",
    "        pest_filtered.at[index, 'pesticides_group'] = 'Herbicides'\n",
    "    elif pesticide_type.startswith('Fung & Bact') or pesticide_type.startswith('Fungicides'):\n",
    "        pest_filtered.at[index, 'pesticides_group'] = 'Fungicides and Bactericides'\n",
    "    elif pesticide_type.startswith('Rodenticides'):\n",
    "        pest_filtered.at[index, 'pesticides_group'] = 'Rodenticides'\n",
    "    elif pesticide_type.startswith('Seed Treat'):\n",
    "        pest_filtered.at[index, 'pesticides_group'] = 'Seed Treatments'\n",
    "    else:\n",
    "        pest_filtered.at[index, 'pesticides_group'] = pesticide_type"
   ]
  },
  {
   "cell_type": "code",
   "execution_count": 340,
   "metadata": {},
   "outputs": [
    {
     "data": {
      "text/plain": [
       "array(['Insecticides', 'Herbicides', 'Fungicides and Bactericides',\n",
       "       'Plant Growth Regulators', 'Rodenticides', 'Other Pesticides nes',\n",
       "       'Mineral Oils', 'Disinfectants', 'Seed Treatments'], dtype=object)"
      ]
     },
     "execution_count": 340,
     "metadata": {},
     "output_type": "execute_result"
    }
   ],
   "source": [
    "pest_filtered['pesticides_group'].unique()"
   ]
  },
  {
   "cell_type": "markdown",
   "metadata": {},
   "source": [
    "#### 2.3.1. <a id='toc2_3_1_'></a>[Preprocessing](#toc0_)"
   ]
  },
  {
   "cell_type": "code",
   "execution_count": 341,
   "metadata": {},
   "outputs": [
    {
     "data": {
      "text/plain": [
       "Area                       0\n",
       "pesticides_type            0\n",
       "Year                       0\n",
       "agricultural_use_tonnes    0\n",
       "pesticides_group           0\n",
       "dtype: int64"
      ]
     },
     "execution_count": 341,
     "metadata": {},
     "output_type": "execute_result"
    }
   ],
   "source": [
    "pest_filtered.isnull().sum()"
   ]
  },
  {
   "cell_type": "markdown",
   "metadata": {},
   "source": [
    "#### 2.3.1.1. <a id='toc2_3_1_1_'></a>[Outliers](#toc0_)"
   ]
  },
  {
   "cell_type": "code",
   "execution_count": 350,
   "metadata": {},
   "outputs": [
    {
     "name": "stdout",
     "output_type": "stream",
     "text": [
      "<class 'pandas.core.frame.DataFrame'>\n",
      "Index: 69925 entries, 128 to 112332\n",
      "Data columns (total 5 columns):\n",
      " #   Column                   Non-Null Count  Dtype  \n",
      "---  ------                   --------------  -----  \n",
      " 0   Area                     69925 non-null  object \n",
      " 1   pesticides_type          69925 non-null  object \n",
      " 2   Year                     69925 non-null  int64  \n",
      " 3   agricultural_use_tonnes  69925 non-null  float64\n",
      " 4   pesticides_group         69925 non-null  object \n",
      "dtypes: float64(1), int64(1), object(3)\n",
      "memory usage: 5.2+ MB\n"
     ]
    }
   ],
   "source": [
    "pest_filtered.info()"
   ]
  },
  {
   "cell_type": "code",
   "execution_count": 351,
   "metadata": {},
   "outputs": [
    {
     "data": {
      "text/plain": [
       "count     69925.00\n",
       "mean       5382.45\n",
       "std       41586.32\n",
       "min           0.01\n",
       "25%           4.00\n",
       "50%          55.79\n",
       "75%         560.00\n",
       "max     1730303.03\n",
       "Name: agricultural_use_tonnes, dtype: float64"
      ]
     },
     "execution_count": 351,
     "metadata": {},
     "output_type": "execute_result"
    }
   ],
   "source": [
    "pest_filtered['agricultural_use_tonnes'].describe().T.round(2)"
   ]
  },
  {
   "cell_type": "code",
   "execution_count": 352,
   "metadata": {},
   "outputs": [
    {
     "data": {
      "text/plain": [
       "(69925, 5)"
      ]
     },
     "execution_count": 352,
     "metadata": {},
     "output_type": "execute_result"
    }
   ],
   "source": [
    "# There are many agricultural use at 0. Delete these rows\n",
    "pest_filtered[pest_filtered['agricultural_use_tonnes']==0]\n",
    "\n",
    "pest_filtered = pest_filtered[pest_filtered['agricultural_use_tonnes'] != 0]\n",
    "pest_filtered.shape"
   ]
  },
  {
   "cell_type": "code",
   "execution_count": 345,
   "metadata": {},
   "outputs": [],
   "source": [
    "# # Create boxplot\n",
    "# pest_var = pest_filtered['agricultural_use_tonnes']\n",
    "# ax = sns.boxplot(y=pest_var, data=pest_filtered, color = agro[3]) \n",
    "# ax.set_title('Agricultural use (tonnes)')\n",
    "# ax.set_ylabel('')  \n",
    "\n",
    "# plt.show()"
   ]
  },
  {
   "cell_type": "code",
   "execution_count": 346,
   "metadata": {},
   "outputs": [],
   "source": [
    "# # repair outliers: This function imputes the outliers in each column with the value of the IQR limit * 1.5 +- Q3.\n",
    "# def repair_outliers(df, col):\n",
    "#     Q1 = col.quantile(0.25)\n",
    "#     Q3 = col.quantile(0.75)\n",
    "#     IQR = Q3 - Q1\n",
    "    \n",
    "#     outlier_lower = Q1 - (1.5 * IQR)\n",
    "#     outlier_upper = Q3 + (1.5 * IQR)\n",
    "    \n",
    "#     for i in range(len(df[col.name])): \n",
    "#         if i in df.index:  \n",
    "#             element = df.loc[i, col.name] \n",
    "#             if element > outlier_upper: \n",
    "#                 df.loc[i, col.name] = outlier_upper\n",
    "#             elif element < outlier_lower: \n",
    "#                 df.loc[i, col.name] = outlier_lower\n",
    "            \n",
    "#     return df  \n",
    "\n",
    "# repair_outliers(pest_filtered, pest_var)"
   ]
  },
  {
   "cell_type": "code",
   "execution_count": 347,
   "metadata": {},
   "outputs": [],
   "source": [
    "# # Create boxplot\n",
    "\n",
    "# ax = sns.boxplot(y=pest_var, data=pest_filtered, color = agro[3]) \n",
    "# ax.set_title('Agricultural use (tonnes)')\n",
    "# ax.set_ylabel('')  \n",
    "\n",
    "# plt.show()"
   ]
  },
  {
   "cell_type": "code",
   "execution_count": 353,
   "metadata": {},
   "outputs": [],
   "source": [
    "# Save pest_filtered in csv:\n",
    "pest_filtered.to_csv('Data/pest_preprocessed.csv', index=False)"
   ]
  },
  {
   "cell_type": "markdown",
   "metadata": {},
   "source": [
    "### 2.4. <a id='toc2_4_'></a>[Fertilizers dataset](#toc0_)"
   ]
  },
  {
   "cell_type": "code",
   "execution_count": 254,
   "metadata": {},
   "outputs": [],
   "source": [
    "fert = pd.read_csv('Data/fertilizers/Inputs_FertilizersNutrient_E_All_Data_Normalized.csv',encoding='latin-1',low_memory=False)"
   ]
  },
  {
   "cell_type": "code",
   "execution_count": 255,
   "metadata": {},
   "outputs": [],
   "source": [
    "# To have the same years in the datasets, filter the datasets from year 1990\n",
    "fert_filtered = fert[fert['Year']>=1990]"
   ]
  },
  {
   "cell_type": "code",
   "execution_count": 256,
   "metadata": {},
   "outputs": [
    {
     "data": {
      "text/html": [
       "<div>\n",
       "<style scoped>\n",
       "    .dataframe tbody tr th:only-of-type {\n",
       "        vertical-align: middle;\n",
       "    }\n",
       "\n",
       "    .dataframe tbody tr th {\n",
       "        vertical-align: top;\n",
       "    }\n",
       "\n",
       "    .dataframe thead th {\n",
       "        text-align: right;\n",
       "    }\n",
       "</style>\n",
       "<table border=\"1\" class=\"dataframe\">\n",
       "  <thead>\n",
       "    <tr style=\"text-align: right;\">\n",
       "      <th></th>\n",
       "      <th>Area Code</th>\n",
       "      <th>Area Code (M49)</th>\n",
       "      <th>Area</th>\n",
       "      <th>Item Code</th>\n",
       "      <th>Item</th>\n",
       "      <th>Element Code</th>\n",
       "      <th>Element</th>\n",
       "      <th>Year Code</th>\n",
       "      <th>Year</th>\n",
       "      <th>Unit</th>\n",
       "      <th>Value</th>\n",
       "      <th>Flag</th>\n",
       "      <th>Note</th>\n",
       "    </tr>\n",
       "  </thead>\n",
       "  <tbody>\n",
       "    <tr>\n",
       "      <th>0</th>\n",
       "      <td>2</td>\n",
       "      <td>'004</td>\n",
       "      <td>Afghanistan</td>\n",
       "      <td>3102</td>\n",
       "      <td>Nutrient nitrogen N (total)</td>\n",
       "      <td>5510</td>\n",
       "      <td>Production</td>\n",
       "      <td>1974</td>\n",
       "      <td>1974</td>\n",
       "      <td>t</td>\n",
       "      <td>19117.00</td>\n",
       "      <td>A</td>\n",
       "      <td>Official data from questionnaire</td>\n",
       "    </tr>\n",
       "    <tr>\n",
       "      <th>1</th>\n",
       "      <td>2</td>\n",
       "      <td>'004</td>\n",
       "      <td>Afghanistan</td>\n",
       "      <td>3102</td>\n",
       "      <td>Nutrient nitrogen N (total)</td>\n",
       "      <td>5510</td>\n",
       "      <td>Production</td>\n",
       "      <td>1975</td>\n",
       "      <td>1975</td>\n",
       "      <td>t</td>\n",
       "      <td>14774.00</td>\n",
       "      <td>A</td>\n",
       "      <td>Official data from questionnaire</td>\n",
       "    </tr>\n",
       "    <tr>\n",
       "      <th>2</th>\n",
       "      <td>2</td>\n",
       "      <td>'004</td>\n",
       "      <td>Afghanistan</td>\n",
       "      <td>3102</td>\n",
       "      <td>Nutrient nitrogen N (total)</td>\n",
       "      <td>5510</td>\n",
       "      <td>Production</td>\n",
       "      <td>1976</td>\n",
       "      <td>1976</td>\n",
       "      <td>t</td>\n",
       "      <td>26203.00</td>\n",
       "      <td>A</td>\n",
       "      <td>Official data from questionnaire</td>\n",
       "    </tr>\n",
       "    <tr>\n",
       "      <th>3</th>\n",
       "      <td>2</td>\n",
       "      <td>'004</td>\n",
       "      <td>Afghanistan</td>\n",
       "      <td>3102</td>\n",
       "      <td>Nutrient nitrogen N (total)</td>\n",
       "      <td>5510</td>\n",
       "      <td>Production</td>\n",
       "      <td>1977</td>\n",
       "      <td>1977</td>\n",
       "      <td>t</td>\n",
       "      <td>37689.00</td>\n",
       "      <td>A</td>\n",
       "      <td>Official data from questionnaire</td>\n",
       "    </tr>\n",
       "    <tr>\n",
       "      <th>4</th>\n",
       "      <td>2</td>\n",
       "      <td>'004</td>\n",
       "      <td>Afghanistan</td>\n",
       "      <td>3102</td>\n",
       "      <td>Nutrient nitrogen N (total)</td>\n",
       "      <td>5510</td>\n",
       "      <td>Production</td>\n",
       "      <td>1978</td>\n",
       "      <td>1978</td>\n",
       "      <td>t</td>\n",
       "      <td>48300.00</td>\n",
       "      <td>A</td>\n",
       "      <td>Official data from questionnaire</td>\n",
       "    </tr>\n",
       "  </tbody>\n",
       "</table>\n",
       "</div>"
      ],
      "text/plain": [
       "   Area Code Area Code (M49)         Area  Item Code  \\\n",
       "0          2            '004  Afghanistan       3102   \n",
       "1          2            '004  Afghanistan       3102   \n",
       "2          2            '004  Afghanistan       3102   \n",
       "3          2            '004  Afghanistan       3102   \n",
       "4          2            '004  Afghanistan       3102   \n",
       "\n",
       "                          Item  Element Code     Element  Year Code  Year  \\\n",
       "0  Nutrient nitrogen N (total)          5510  Production       1974  1974   \n",
       "1  Nutrient nitrogen N (total)          5510  Production       1975  1975   \n",
       "2  Nutrient nitrogen N (total)          5510  Production       1976  1976   \n",
       "3  Nutrient nitrogen N (total)          5510  Production       1977  1977   \n",
       "4  Nutrient nitrogen N (total)          5510  Production       1978  1978   \n",
       "\n",
       "  Unit    Value Flag                              Note  \n",
       "0    t 19117.00    A  Official data from questionnaire  \n",
       "1    t 14774.00    A  Official data from questionnaire  \n",
       "2    t 26203.00    A  Official data from questionnaire  \n",
       "3    t 37689.00    A  Official data from questionnaire  \n",
       "4    t 48300.00    A  Official data from questionnaire  "
      ]
     },
     "execution_count": 256,
     "metadata": {},
     "output_type": "execute_result"
    }
   ],
   "source": [
    "fert.head()"
   ]
  },
  {
   "cell_type": "code",
   "execution_count": 257,
   "metadata": {},
   "outputs": [
    {
     "data": {
      "text/plain": [
       "array(['Production', 'Import Quantity', 'Export Quantity',\n",
       "       'Agricultural Use', 'Use per area of cropland', 'Use per capita',\n",
       "       'Use per value of agricultural production'], dtype=object)"
      ]
     },
     "execution_count": 257,
     "metadata": {},
     "output_type": "execute_result"
    }
   ],
   "source": [
    "fert['Element'].unique()"
   ]
  },
  {
   "cell_type": "code",
   "execution_count": 258,
   "metadata": {},
   "outputs": [],
   "source": [
    "# delete element types\n",
    "delete_elements = ['Import Quantity', 'Export Quantity', 'Use per capita','Use per value of agricultural production']\n",
    "\n",
    "# Filter the DataFrame to exclude the rows with the specified elements, and keep production, agricultural use and Use per area of cropland\n",
    "fert = fert[~fert['Element'].isin(delete_elements)]\n",
    "# Change the name to Elements type\n",
    "fert['Element'] = fert['Element'].replace('Production', 'production_tonnes')\n",
    "fert['Element'] = fert['Element'].replace('Agricultural Use', 'agricultural_use_tonnes')\n",
    "fert['Element'] = fert['Element'].replace('Use per area of cropland', 'use_per_area_kg/ha')"
   ]
  },
  {
   "cell_type": "code",
   "execution_count": 259,
   "metadata": {},
   "outputs": [],
   "source": [
    "# create new filtered df\n",
    "fert_filtered = fert[['Area','Item','Element','Year','Value']].copy()\n",
    "# Change the name to the new column\n",
    "fert_filtered.rename(columns={'Item': 'fertilizer_type'}, inplace=True)"
   ]
  },
  {
   "cell_type": "code",
   "execution_count": 260,
   "metadata": {},
   "outputs": [
    {
     "data": {
      "text/plain": [
       "Element\n",
       "agricultural_use_tonnes    35760\n",
       "use_per_area_kg/ha         35655\n",
       "production_tonnes          19888\n",
       "Name: count, dtype: int64"
      ]
     },
     "execution_count": 260,
     "metadata": {},
     "output_type": "execute_result"
    }
   ],
   "source": [
    "fert_filtered['Element'].value_counts()"
   ]
  },
  {
   "cell_type": "code",
   "execution_count": 261,
   "metadata": {},
   "outputs": [],
   "source": [
    "# pivot.table creates a DataFrame where the items are separated into columns according to the type of item, keeping the relationship with the columns Area, fertilizer_type and Year.\n",
    "\n",
    "fert_filtered = fert_filtered.pivot_table(index=['Area', 'fertilizer_type', 'Year'], columns='Element', values='Value').reset_index()"
   ]
  },
  {
   "cell_type": "code",
   "execution_count": 262,
   "metadata": {},
   "outputs": [
    {
     "data": {
      "text/html": [
       "<div>\n",
       "<style scoped>\n",
       "    .dataframe tbody tr th:only-of-type {\n",
       "        vertical-align: middle;\n",
       "    }\n",
       "\n",
       "    .dataframe tbody tr th {\n",
       "        vertical-align: top;\n",
       "    }\n",
       "\n",
       "    .dataframe thead th {\n",
       "        text-align: right;\n",
       "    }\n",
       "</style>\n",
       "<table border=\"1\" class=\"dataframe\">\n",
       "  <thead>\n",
       "    <tr style=\"text-align: right;\">\n",
       "      <th>Element</th>\n",
       "      <th>Area</th>\n",
       "      <th>fertilizer_type</th>\n",
       "      <th>Year</th>\n",
       "      <th>agricultural_use_tonnes</th>\n",
       "      <th>production_tonnes</th>\n",
       "      <th>use_per_area_kg/ha</th>\n",
       "    </tr>\n",
       "  </thead>\n",
       "  <tbody>\n",
       "    <tr>\n",
       "      <th>0</th>\n",
       "      <td>Afghanistan</td>\n",
       "      <td>Nutrient nitrogen N (total)</td>\n",
       "      <td>1961</td>\n",
       "      <td>1000.00</td>\n",
       "      <td>NaN</td>\n",
       "      <td>0.13</td>\n",
       "    </tr>\n",
       "    <tr>\n",
       "      <th>1</th>\n",
       "      <td>Afghanistan</td>\n",
       "      <td>Nutrient nitrogen N (total)</td>\n",
       "      <td>1962</td>\n",
       "      <td>1000.00</td>\n",
       "      <td>NaN</td>\n",
       "      <td>0.13</td>\n",
       "    </tr>\n",
       "  </tbody>\n",
       "</table>\n",
       "</div>"
      ],
      "text/plain": [
       "Element         Area              fertilizer_type  Year  \\\n",
       "0        Afghanistan  Nutrient nitrogen N (total)  1961   \n",
       "1        Afghanistan  Nutrient nitrogen N (total)  1962   \n",
       "\n",
       "Element  agricultural_use_tonnes  production_tonnes  use_per_area_kg/ha  \n",
       "0                        1000.00                NaN                0.13  \n",
       "1                        1000.00                NaN                0.13  "
      ]
     },
     "execution_count": 262,
     "metadata": {},
     "output_type": "execute_result"
    }
   ],
   "source": [
    "fert_filtered.head(2)"
   ]
  },
  {
   "cell_type": "code",
   "execution_count": 263,
   "metadata": {},
   "outputs": [
    {
     "data": {
      "text/plain": [
       "fertilizer_type\n",
       "Nutrient nitrogen N (total)        12295\n",
       "Nutrient phosphate P2O5 (total)    11964\n",
       "Nutrient potash K2O (total)        11657\n",
       "Name: count, dtype: int64"
      ]
     },
     "execution_count": 263,
     "metadata": {},
     "output_type": "execute_result"
    }
   ],
   "source": [
    "fert_filtered['fertilizer_type'].value_counts()"
   ]
  },
  {
   "cell_type": "markdown",
   "metadata": {},
   "source": [
    "#### 2.4.1. <a id='toc2_4_1_'></a>[Preprocessing](#toc0_)"
   ]
  },
  {
   "cell_type": "markdown",
   "metadata": {},
   "source": [
    "##### 2.4.1.1. <a id='toc2_4_1_1_'></a>[NaN values](#toc0_)"
   ]
  },
  {
   "cell_type": "code",
   "execution_count": 264,
   "metadata": {},
   "outputs": [
    {
     "data": {
      "text/plain": [
       "Element\n",
       "Area                           0\n",
       "fertilizer_type                0\n",
       "Year                           0\n",
       "agricultural_use_tonnes      156\n",
       "production_tonnes          16028\n",
       "use_per_area_kg/ha           261\n",
       "dtype: int64"
      ]
     },
     "execution_count": 264,
     "metadata": {},
     "output_type": "execute_result"
    }
   ],
   "source": [
    "fert_filtered.isnull().sum()"
   ]
  },
  {
   "cell_type": "code",
   "execution_count": 265,
   "metadata": {},
   "outputs": [
    {
     "name": "stdout",
     "output_type": "stream",
     "text": [
      "<class 'pandas.core.frame.DataFrame'>\n",
      "RangeIndex: 35916 entries, 0 to 35915\n",
      "Data columns (total 6 columns):\n",
      " #   Column                   Non-Null Count  Dtype  \n",
      "---  ------                   --------------  -----  \n",
      " 0   Area                     35916 non-null  object \n",
      " 1   fertilizer_type          35916 non-null  object \n",
      " 2   Year                     35916 non-null  int64  \n",
      " 3   agricultural_use_tonnes  35760 non-null  float64\n",
      " 4   production_tonnes        19888 non-null  float64\n",
      " 5   use_per_area_kg/ha       35655 non-null  float64\n",
      "dtypes: float64(3), int64(1), object(2)\n",
      "memory usage: 1.6+ MB\n"
     ]
    }
   ],
   "source": [
    "fert_filtered.info()"
   ]
  },
  {
   "cell_type": "markdown",
   "metadata": {},
   "source": [
    "As the **agricultural use, production and use per area** are continuous variables, we will do the imputation with the mean value:"
   ]
  },
  {
   "cell_type": "code",
   "execution_count": 266,
   "metadata": {},
   "outputs": [
    {
     "data": {
      "text/plain": [
       "Element\n",
       "Area                      0.00\n",
       "fertilizer_type           0.00\n",
       "Year                      0.00\n",
       "agricultural_use_tonnes   0.00\n",
       "production_tonnes         0.00\n",
       "use_per_area_kg/ha        0.00\n",
       "dtype: float64"
      ]
     },
     "execution_count": 266,
     "metadata": {},
     "output_type": "execute_result"
    }
   ],
   "source": [
    "def repair_null(df, col):\n",
    "    if df[col].dtype == 'int64' or df[col].dtype == 'float64':\n",
    "        df[col] = df[col].fillna(df[col].mean())\n",
    "    else:\n",
    "        df[col] = df[col].fillna(df[col].mode()[0])\n",
    "    return df \n",
    "\n",
    "for col in fert_filtered.columns:\n",
    "    repair_null(fert_filtered, col)\n",
    "\n",
    "fert_filtered.isnull().sum()/len(fert_filtered)*100"
   ]
  },
  {
   "cell_type": "markdown",
   "metadata": {},
   "source": [
    "##### 2.4.1.2. <a id='toc2_4_1_2_'></a>[Outliers](#toc0_)"
   ]
  },
  {
   "cell_type": "code",
   "execution_count": 267,
   "metadata": {},
   "outputs": [],
   "source": [
    "# convert year variable to object type, because it's a discrete variable\n",
    "fert_filtered['Year'] = fert_filtered['Year'].astype(object)"
   ]
  },
  {
   "cell_type": "code",
   "execution_count": 268,
   "metadata": {},
   "outputs": [
    {
     "data": {
      "text/plain": [
       "(35916, 6)"
      ]
     },
     "execution_count": 268,
     "metadata": {},
     "output_type": "execute_result"
    }
   ],
   "source": [
    "fert_filtered.shape"
   ]
  },
  {
   "cell_type": "code",
   "execution_count": 269,
   "metadata": {},
   "outputs": [
    {
     "data": {
      "text/html": [
       "<div>\n",
       "<style scoped>\n",
       "    .dataframe tbody tr th:only-of-type {\n",
       "        vertical-align: middle;\n",
       "    }\n",
       "\n",
       "    .dataframe tbody tr th {\n",
       "        vertical-align: top;\n",
       "    }\n",
       "\n",
       "    .dataframe thead th {\n",
       "        text-align: right;\n",
       "    }\n",
       "</style>\n",
       "<table border=\"1\" class=\"dataframe\">\n",
       "  <thead>\n",
       "    <tr style=\"text-align: right;\">\n",
       "      <th></th>\n",
       "      <th>count</th>\n",
       "      <th>mean</th>\n",
       "      <th>std</th>\n",
       "      <th>min</th>\n",
       "      <th>25%</th>\n",
       "      <th>50%</th>\n",
       "      <th>75%</th>\n",
       "      <th>max</th>\n",
       "    </tr>\n",
       "    <tr>\n",
       "      <th>Element</th>\n",
       "      <th></th>\n",
       "      <th></th>\n",
       "      <th></th>\n",
       "      <th></th>\n",
       "      <th></th>\n",
       "      <th></th>\n",
       "      <th></th>\n",
       "      <th></th>\n",
       "    </tr>\n",
       "  </thead>\n",
       "  <tbody>\n",
       "    <tr>\n",
       "      <th>agricultural_use_tonnes</th>\n",
       "      <td>35916.00</td>\n",
       "      <td>960964.59</td>\n",
       "      <td>4638662.76</td>\n",
       "      <td>0.00</td>\n",
       "      <td>1739.51</td>\n",
       "      <td>24491.50</td>\n",
       "      <td>230637.25</td>\n",
       "      <td>110541658.96</td>\n",
       "    </tr>\n",
       "    <tr>\n",
       "      <th>production_tonnes</th>\n",
       "      <td>35916.00</td>\n",
       "      <td>1827674.20</td>\n",
       "      <td>4892066.96</td>\n",
       "      <td>0.00</td>\n",
       "      <td>55000.00</td>\n",
       "      <td>1827674.20</td>\n",
       "      <td>1827674.20</td>\n",
       "      <td>122741092.16</td>\n",
       "    </tr>\n",
       "    <tr>\n",
       "      <th>use_per_area_kg/ha</th>\n",
       "      <td>35916.00</td>\n",
       "      <td>28.16</td>\n",
       "      <td>40.82</td>\n",
       "      <td>0.00</td>\n",
       "      <td>2.41</td>\n",
       "      <td>12.40</td>\n",
       "      <td>36.38</td>\n",
       "      <td>412.29</td>\n",
       "    </tr>\n",
       "  </tbody>\n",
       "</table>\n",
       "</div>"
      ],
      "text/plain": [
       "                           count       mean        std  min      25%  \\\n",
       "Element                                                                \n",
       "agricultural_use_tonnes 35916.00  960964.59 4638662.76 0.00  1739.51   \n",
       "production_tonnes       35916.00 1827674.20 4892066.96 0.00 55000.00   \n",
       "use_per_area_kg/ha      35916.00      28.16      40.82 0.00     2.41   \n",
       "\n",
       "                               50%        75%          max  \n",
       "Element                                                     \n",
       "agricultural_use_tonnes   24491.50  230637.25 110541658.96  \n",
       "production_tonnes       1827674.20 1827674.20 122741092.16  \n",
       "use_per_area_kg/ha           12.40      36.38       412.29  "
      ]
     },
     "execution_count": 269,
     "metadata": {},
     "output_type": "execute_result"
    }
   ],
   "source": [
    "fert_filtered.describe().T.round(2)"
   ]
  },
  {
   "cell_type": "code",
   "execution_count": 270,
   "metadata": {},
   "outputs": [
    {
     "data": {
      "text/plain": [
       "(29702, 6)"
      ]
     },
     "execution_count": 270,
     "metadata": {},
     "output_type": "execute_result"
    }
   ],
   "source": [
    "# the minimun value is 0 in the three variables. Delete these rows\n",
    "fert_filtered = fert_filtered[~((fert_filtered['agricultural_use_tonnes'] == 0) | (fert_filtered['production_tonnes'] == 0) | (fert_filtered['use_per_area_kg/ha'] == 0))]\n",
    "fert_filtered.shape"
   ]
  },
  {
   "cell_type": "code",
   "execution_count": 271,
   "metadata": {},
   "outputs": [
    {
     "name": "stdout",
     "output_type": "stream",
     "text": [
      "Variable agricultural_use_tonnes has 4838 outliers\n",
      "Variable production_tonnes has 2045 outliers\n",
      "Variable use_per_area_kg/ha has 2279 outliers\n"
     ]
    }
   ],
   "source": [
    "# visualise outliers: This function prints the outliers for each column.\n",
    "\n",
    "def outliers (df):\n",
    "    for columns in df:\n",
    "        if df[columns].dtype in ['int64', 'float64']: \n",
    "\n",
    "            Q1 = df[columns].quantile(0.25)\n",
    "            Q3 = df[columns].quantile(0.75)\n",
    "            IQR = Q3 - Q1\n",
    "            outlierLeft = Q1-(1.5*IQR)\n",
    "            outlierRight = Q3+(1.5*IQR)\n",
    "            outliers = df[columns][(df[columns] < outlierLeft) | (df[columns] > outlierRight)]\n",
    "            print(\"Variable \" + columns + \" has \" + str(len(outliers)) + \" outliers\")\n",
    "\n",
    "    \n",
    "outliers(fert_filtered)"
   ]
  },
  {
   "cell_type": "code",
   "execution_count": 272,
   "metadata": {},
   "outputs": [
    {
     "data": {
      "text/html": [
       "<div>\n",
       "<style scoped>\n",
       "    .dataframe tbody tr th:only-of-type {\n",
       "        vertical-align: middle;\n",
       "    }\n",
       "\n",
       "    .dataframe tbody tr th {\n",
       "        vertical-align: top;\n",
       "    }\n",
       "\n",
       "    .dataframe thead th {\n",
       "        text-align: right;\n",
       "    }\n",
       "</style>\n",
       "<table border=\"1\" class=\"dataframe\">\n",
       "  <thead>\n",
       "    <tr style=\"text-align: right;\">\n",
       "      <th>Element</th>\n",
       "      <th>Area</th>\n",
       "      <th>fertilizer_type</th>\n",
       "      <th>Year</th>\n",
       "      <th>agricultural_use_tonnes</th>\n",
       "      <th>production_tonnes</th>\n",
       "      <th>use_per_area_kg/ha</th>\n",
       "    </tr>\n",
       "  </thead>\n",
       "  <tbody>\n",
       "    <tr>\n",
       "      <th>0</th>\n",
       "      <td>Afghanistan</td>\n",
       "      <td>Nutrient nitrogen N (total)</td>\n",
       "      <td>1961</td>\n",
       "      <td>1000.00</td>\n",
       "      <td>1827674.20</td>\n",
       "      <td>0.13</td>\n",
       "    </tr>\n",
       "    <tr>\n",
       "      <th>1</th>\n",
       "      <td>Afghanistan</td>\n",
       "      <td>Nutrient nitrogen N (total)</td>\n",
       "      <td>1962</td>\n",
       "      <td>1000.00</td>\n",
       "      <td>1827674.20</td>\n",
       "      <td>0.13</td>\n",
       "    </tr>\n",
       "    <tr>\n",
       "      <th>2</th>\n",
       "      <td>Afghanistan</td>\n",
       "      <td>Nutrient nitrogen N (total)</td>\n",
       "      <td>1963</td>\n",
       "      <td>1000.00</td>\n",
       "      <td>1827674.20</td>\n",
       "      <td>0.13</td>\n",
       "    </tr>\n",
       "    <tr>\n",
       "      <th>3</th>\n",
       "      <td>Afghanistan</td>\n",
       "      <td>Nutrient nitrogen N (total)</td>\n",
       "      <td>1964</td>\n",
       "      <td>1000.00</td>\n",
       "      <td>1827674.20</td>\n",
       "      <td>0.13</td>\n",
       "    </tr>\n",
       "    <tr>\n",
       "      <th>4</th>\n",
       "      <td>Afghanistan</td>\n",
       "      <td>Nutrient nitrogen N (total)</td>\n",
       "      <td>1965</td>\n",
       "      <td>1000.00</td>\n",
       "      <td>1827674.20</td>\n",
       "      <td>0.13</td>\n",
       "    </tr>\n",
       "  </tbody>\n",
       "</table>\n",
       "</div>"
      ],
      "text/plain": [
       "Element         Area              fertilizer_type  Year  \\\n",
       "0        Afghanistan  Nutrient nitrogen N (total)  1961   \n",
       "1        Afghanistan  Nutrient nitrogen N (total)  1962   \n",
       "2        Afghanistan  Nutrient nitrogen N (total)  1963   \n",
       "3        Afghanistan  Nutrient nitrogen N (total)  1964   \n",
       "4        Afghanistan  Nutrient nitrogen N (total)  1965   \n",
       "\n",
       "Element  agricultural_use_tonnes  production_tonnes  use_per_area_kg/ha  \n",
       "0                        1000.00         1827674.20                0.13  \n",
       "1                        1000.00         1827674.20                0.13  \n",
       "2                        1000.00         1827674.20                0.13  \n",
       "3                        1000.00         1827674.20                0.13  \n",
       "4                        1000.00         1827674.20                0.13  "
      ]
     },
     "execution_count": 272,
     "metadata": {},
     "output_type": "execute_result"
    }
   ],
   "source": [
    "fert_filtered.head()"
   ]
  },
  {
   "cell_type": "code",
   "execution_count": 273,
   "metadata": {},
   "outputs": [],
   "source": [
    "# fert_var1 = fert_filtered.groupby(['fertilizer_type','Area'])['agricultural_use_tonnes'].mean().reset_index()\n",
    "# fert_var2 = fert_filtered.groupby(['fertilizer_type','Area'])['production_tonnes'].mean().reset_index()\n",
    "# fert_var3 = fert_filtered.groupby(['fertilizer_type','Area'])['use_per_area_kg/ha'].mean().reset_index()"
   ]
  },
  {
   "cell_type": "code",
   "execution_count": 274,
   "metadata": {},
   "outputs": [],
   "source": [
    "# # Create boxplot\n",
    "\n",
    "# # Create subplots\n",
    "# fig, axes = plt.subplots(nrows=1, ncols=3,figsize=(15, 5))\n",
    "\n",
    "# fig = sns.boxplot(y=fert_var1['agricultural_use_tonnes'], data=fert_var1, ax=axes[0], color = agro[1]) \n",
    "# axes[0].set_title('Agricultural use (tonnes)')\n",
    "# axes[0].set_ylabel('')  \n",
    "\n",
    "# fig = sns.boxplot(y=fert_var2['production_tonnes'], data=fert_var2, ax=axes[1], color = agro[2]) \n",
    "# axes[1].set_title('Fertilizer production (tonnes)')\n",
    "# axes[1].set_ylabel('') \n",
    "\n",
    "# fig = sns.boxplot(y=fert_var3['use_per_area_kg/ha'], data=fert_var3, ax=axes[2], color = agro[3])  \n",
    "# axes[2].set_title('Use per area (kg/ha)')\n",
    "# axes[2].set_ylabel('')  \n",
    "\n",
    "# # Adjust the design\n",
    "# plt.tight_layout()\n",
    "\n",
    "# # Show\n",
    "# plt.show()"
   ]
  },
  {
   "cell_type": "code",
   "execution_count": 275,
   "metadata": {},
   "outputs": [],
   "source": [
    "# # repair outliers: This function imputes the outliers in each column with the value of the IQR limit * 1.5 +- Q3.\n",
    "# def repair_outliers(df, col):\n",
    "#     Q1 = col.quantile(0.25)\n",
    "#     Q3 = col.quantile(0.75)\n",
    "#     IQR = Q3 - Q1\n",
    "    \n",
    "#     outlier_lower = Q1 - (1.5 * IQR)\n",
    "#     outlier_upper = Q3 + (1.5 * IQR)\n",
    "    \n",
    "#     for i in range(len(df[col.name])): \n",
    "#         if i in df.index:  \n",
    "#             element = df.loc[i, col.name] \n",
    "#             if element > outlier_upper: \n",
    "#                 df.loc[i, col.name] = outlier_upper\n",
    "#             elif element < outlier_lower: \n",
    "#                 df.loc[i, col.name] = outlier_lower\n",
    "            \n",
    "#     return df  \n",
    "\n",
    "# repair_outliers(fert_var1, fert_var1['agricultural_use_tonnes'])\n",
    "# repair_outliers(fert_var2, fert_var2['production_tonnes'])\n",
    "# repair_outliers(fert_var3, fert_var3['use_per_area_kg/ha'])"
   ]
  },
  {
   "cell_type": "code",
   "execution_count": 276,
   "metadata": {},
   "outputs": [],
   "source": [
    "# # boxplot\n",
    "# # Create subplots\n",
    "# fig, axes = plt.subplots(nrows=1, ncols=3,figsize=(15, 5))\n",
    "\n",
    "# fig = sns.boxplot(y=fert_var1['agricultural_use_tonnes'], data=fert_var1, ax=axes[0], color = agro[1]) \n",
    "# axes[0].set_title('Agricultural use (tonnes)')\n",
    "# axes[0].set_ylabel('')  \n",
    "\n",
    "# fig = sns.boxplot(y=fert_var2['production_tonnes'], data=fert_var2, ax=axes[1], color = agro[2]) \n",
    "# axes[1].set_title('Fertilizer production (tonnes)')\n",
    "# axes[1].set_ylabel('') \n",
    "\n",
    "# fig = sns.boxplot(y=fert_var3['use_per_area_kg/ha'], data=fert_var3, ax=axes[2], color = agro[3])  \n",
    "# axes[2].set_title('Use per area (kg/ha)')\n",
    "# axes[2].set_ylabel('')  \n",
    "\n",
    "# # Adjust the design\n",
    "# plt.tight_layout()\n",
    "\n",
    "# # Show\n",
    "# plt.show()"
   ]
  },
  {
   "cell_type": "code",
   "execution_count": 80,
   "metadata": {},
   "outputs": [],
   "source": [
    "# Save fert_filtered in csv:\n",
    "fert_filtered.to_csv('Data/fert_preprocessed.csv', index=False)"
   ]
  },
  {
   "cell_type": "markdown",
   "metadata": {},
   "source": [
    "### 2.5. <a id='toc2_5_'></a>[Temperature dataset](#toc0_)"
   ]
  },
  {
   "cell_type": "code",
   "execution_count": 167,
   "metadata": {},
   "outputs": [
    {
     "data": {
      "text/html": [
       "<div>\n",
       "<style scoped>\n",
       "    .dataframe tbody tr th:only-of-type {\n",
       "        vertical-align: middle;\n",
       "    }\n",
       "\n",
       "    .dataframe tbody tr th {\n",
       "        vertical-align: top;\n",
       "    }\n",
       "\n",
       "    .dataframe thead th {\n",
       "        text-align: right;\n",
       "    }\n",
       "</style>\n",
       "<table border=\"1\" class=\"dataframe\">\n",
       "  <thead>\n",
       "    <tr style=\"text-align: right;\">\n",
       "      <th></th>\n",
       "      <th>Country</th>\n",
       "      <th>Last</th>\n",
       "      <th>Previous</th>\n",
       "    </tr>\n",
       "  </thead>\n",
       "  <tbody>\n",
       "    <tr>\n",
       "      <th>0</th>\n",
       "      <td>Burkina Faso</td>\n",
       "      <td>29.28</td>\n",
       "      <td>30.01</td>\n",
       "    </tr>\n",
       "    <tr>\n",
       "      <th>1</th>\n",
       "      <td>Mali</td>\n",
       "      <td>29.19</td>\n",
       "      <td>29.78</td>\n",
       "    </tr>\n",
       "    <tr>\n",
       "      <th>2</th>\n",
       "      <td>Qatar</td>\n",
       "      <td>29.11</td>\n",
       "      <td>29.42</td>\n",
       "    </tr>\n",
       "    <tr>\n",
       "      <th>3</th>\n",
       "      <td>Senegal</td>\n",
       "      <td>29.00</td>\n",
       "      <td>29.62</td>\n",
       "    </tr>\n",
       "    <tr>\n",
       "      <th>4</th>\n",
       "      <td>United Arab Emirates</td>\n",
       "      <td>28.93</td>\n",
       "      <td>29.09</td>\n",
       "    </tr>\n",
       "    <tr>\n",
       "      <th>...</th>\n",
       "      <td>...</td>\n",
       "      <td>...</td>\n",
       "      <td>...</td>\n",
       "    </tr>\n",
       "    <tr>\n",
       "      <th>200</th>\n",
       "      <td>Iceland</td>\n",
       "      <td>2.11</td>\n",
       "      <td>2.43</td>\n",
       "    </tr>\n",
       "    <tr>\n",
       "      <th>201</th>\n",
       "      <td>Mongolia</td>\n",
       "      <td>1.31</td>\n",
       "      <td>2.08</td>\n",
       "    </tr>\n",
       "    <tr>\n",
       "      <th>202</th>\n",
       "      <td>Russia</td>\n",
       "      <td>-2.87</td>\n",
       "      <td>-3.65</td>\n",
       "    </tr>\n",
       "    <tr>\n",
       "      <th>203</th>\n",
       "      <td>Canada</td>\n",
       "      <td>-4.22</td>\n",
       "      <td>-3.70</td>\n",
       "    </tr>\n",
       "    <tr>\n",
       "      <th>204</th>\n",
       "      <td>Greenland</td>\n",
       "      <td>-18.62</td>\n",
       "      <td>-17.60</td>\n",
       "    </tr>\n",
       "  </tbody>\n",
       "</table>\n",
       "<p>205 rows × 3 columns</p>\n",
       "</div>"
      ],
      "text/plain": [
       "                  Country   Last  Previous\n",
       "0            Burkina Faso  29.28     30.01\n",
       "1                    Mali  29.19     29.78\n",
       "2                   Qatar  29.11     29.42\n",
       "3                 Senegal  29.00     29.62\n",
       "4    United Arab Emirates  28.93     29.09\n",
       "..                    ...    ...       ...\n",
       "200               Iceland   2.11      2.43\n",
       "201              Mongolia   1.31      2.08\n",
       "202                Russia  -2.87     -3.65\n",
       "203                Canada  -4.22     -3.70\n",
       "204             Greenland -18.62    -17.60\n",
       "\n",
       "[205 rows x 3 columns]"
      ]
     },
     "execution_count": 167,
     "metadata": {},
     "output_type": "execute_result"
    }
   ],
   "source": [
    "# Data: https://tradingeconomics.com/country-list/temperature\n",
    "temp = {\n",
    "    'Country': [\n",
    "        'Burkina Faso', 'Mali', 'Qatar', 'Senegal', 'United Arab Emirates', 'Mauritania', 'Bahrain',\n",
    "        'Aruba', 'Djibouti', 'Gambia', 'Benin', 'Maldives', 'Guinea Bissau', 'Cayman Islands',\n",
    "        'Oman', 'Marshall Islands', 'Kiribati', 'Ghana', 'Singapore', 'Niger', 'Kuwait', 'Sudan',\n",
    "        'Guam', 'Palau', 'Samoa', 'Togo', 'Micronesia', 'St Kitts and Nevis', 'American Samoa',\n",
    "        'Chad', 'Cambodia', 'Northern Mariana Islands', 'Sri Lanka', 'Nigeria', 'Seychelles',\n",
    "        'Somalia', 'Antigua and Barbuda', 'Ivory Coast', 'Virgin Islands', 'St Lucia', 'Thailand',\n",
    "        'Dominica', 'Sierra Leone', 'Philippines', 'Suriname', 'Eritrea', 'Saudi Arabia',\n",
    "        'Trinidad and Tobago', 'Barbados', 'Malaysia', 'Grenada', 'Guyana', 'Cuba', 'Bahamas',\n",
    "        'Jamaica', 'St Vincent and the Grenadines', 'Indonesia', 'Guinea', 'Solomon Islands',\n",
    "        'Belize', 'Nicaragua', 'Bangladesh', 'Central African Republic', 'Brazil', 'Venezuela',\n",
    "        'Yemen', 'Liberia', 'Gabon', 'Panama', 'El Salvador', 'Kenya', 'India', 'Tonga',\n",
    "        'Republic of the Congo', 'Haiti', 'Fiji', 'Cameroon', 'Puerto Rico', 'Equatorial Guinea',\n",
    "        'Mayotte', 'Papua New Guinea', 'Vanuatu', 'Vietnam', 'Colombia', 'Honduras',\n",
    "        'Sao Tome and Principe', 'Costa Rica', 'Dominican Republic', 'Mozambique', 'Congo',\n",
    "        'Algeria', 'French Polynesia', 'Laos', 'Myanmar', 'Paraguay', 'Iraq', 'Guatemala',\n",
    "        'Comoros', 'Hong Kong', 'Ethiopia', 'Macau', 'New Caledonia', 'Mauritius', 'Egypt',\n",
    "        'Uganda', 'Tanzania', 'Libya', 'Madagascar', 'Cape Verde', 'Malawi', 'Pakistan',\n",
    "        'Botswana', 'Australia', 'Zambia', 'Zimbabwe', 'Mexico', 'Angola', 'Tunisia', 'Ecuador',\n",
    "        'Swaziland', 'Taiwan', 'Bolivia', 'Burundi', 'Malta', 'Namibia', 'Israel', 'Jordan',\n",
    "        'Palestine', 'Peru', 'Cyprus', 'Iran', 'Syria', 'Rwanda', 'Morocco', 'South Africa',\n",
    "        'Uruguay', 'Turkmenistan', 'Portugal', 'Lebanon', 'Spain', 'Argentina', 'Monaco',\n",
    "        'Greece', 'Uzbekistan', 'Afghanistan', 'Nepal', 'Italy', 'San Marino', 'Azerbaijan',\n",
    "        'Albania', 'Croatia', 'France', 'South Korea', 'Lesotho', 'Hungary', 'Serbia', 'Japan',\n",
    "        'Bulgaria', 'Turkey', 'Belgium', 'Moldova', 'Netherlands', 'Macedonia', 'New Zealand',\n",
    "        'Bosnia and Herzegovina', 'Luxembourg', 'Romania', 'Slovenia', 'Montenegro', 'Germany',\n",
    "        'Bhutan', 'Ireland', 'United Kingdom', 'Ukraine', 'Georgia', 'Isle of Man', 'Slovakia',\n",
    "        'Denmark', 'Andorra', 'United States', 'Czech Republic', 'Poland', 'Chile', 'Liechtenstein',\n",
    "        'Austria', 'Armenia', 'China', 'Switzerland', 'Kazakhstan', 'Belarus', 'Lithuania',\n",
    "        'North Korea', 'Latvia', 'Faroe Islands', 'Estonia', 'Tajikistan', 'Kyrgyzstan', 'Sweden',\n",
    "        'Finland', 'Norway', 'Iceland', 'Mongolia', 'Russia', 'Canada', 'Greenland'\n",
    "    ],\n",
    "    'Last': [\n",
    "    29.28, 29.19, 29.11, 29.00, 28.93, 28.9, 28.84, 28.82, 28.6, 28.46, 28.09, 28.08, 28.05, 28.01,\n",
    "    27.94, 27.9, 27.77, 27.73, 27.7, 27.61, 27.58, 27.57, 27.54, 27.54, 27.53, 27.47, 27.45, 27.34,\n",
    "    27.31, 27.28, 27.25, 27.25, 27.24, 27.15, 27.11, 27.1, 27.06, 26.84, 26.84, 26.83, 26.78, 26.68,\n",
    "    26.64, 26.61, 26.53, 26.49, 26.46, 26.46, 26.45, 26.35, 26.33, 26.16, 26.14, 26.05, 26.02, 25.98,\n",
    "    25.96, 25.95, 25.89, 25.83, 25.81, 25.74, 25.56, 25.54, 25.52, 25.51, 25.47, 25.46, 25.33, 25.23,\n",
    "    25.22, 25.2, 25.1, 25.05, 25.01, 24.98, 24.94, 24.94, 24.89, 24.87, 24.78, 24.76, 24.73, 24.71,\n",
    "    24.71, 24.66, 24.64, 24.57, 24.42, 24.38, 24.11, 24.05, 24.05, 23.96, 23.86, 23.81, 23.77, 23.74,\n",
    "    23.62, 23.45, 23.4, 23.37, 23.27, 23.23, 23.14, 22.9, 22.8, 22.7, 22.67, 22.55, 22.23, 22.00,\n",
    "    21.96, 21.92, 21.83, 21.7, 21.63, 21.44, 21.07, 20.92, 20.79, 20.68, 20.43, 20.26, 20.24, 20.23,\n",
    "    19.77, 19.7, 19.58, 19.33, 19.3, 19.17, 19.14, 19.1, 18.42, 17.73, 17.66, 16.9, 15.66, 15.3, 15.07,\n",
    "    15.01, 14.88, 14.86, 14.48, 14.39, 14.38, 14.14, 13.84, 13.31, 13.16, 13.16, 12.76, 12.64, 12.62,\n",
    "    12.56, 12.42, 12.28, 12.24, 11.98, 11.9, 11.72, 11.66, 11.66, 11.57, 11.43, 11.2, 11.04, 11.00,\n",
    "    10.83, 10.56, 10.35, 10.11, 10.04, 9.92, 9.89, 9.81, 9.77, 9.73, 9.73, 9.71, 9.7, 9.37, 9.05,\n",
    "    8.65, 8.64, 8.1, 8.08, 8.06, 7.98, 7.95, 7.46, 7.4, 7.1, 6.9, 5.09, 3.93, 3.84, 3.24, 2.88,\n",
    "    2.11, 1.31, -2.87, -4.22, -18.62\n",
    "],\n",
    "    'Previous': [\n",
    "    30.01, 29.78, 29.42, 29.62, 29.09, 29.3, 29.18, 29.03, 28.52, 29.03, 28.7, 28.14, 28.68, 27.99,\n",
    "    28.1, 28.16, 27.89, 28.3, 27.75, 28.09, 27.89, 28.17, 27.88, 27.58, 27.54, 28.04, 27.42, 27.6,\n",
    "    27.34, 27.7, 27.44, 27.65, 27.4, 27.67, 27.26, 26.93, 27.33, 27.37, 27.11, 27.03, 26.9, 26.9,\n",
    "    27.19, 26.7, 26.56, 26.88, 26.8, 26.58, 26.63, 26.47, 26.49, 26.15, 26.06, 25.87, 26.07, 26.16,\n",
    "    26.01, 26.6, 25.89, 26.15, 26.09, 25.7, 25.78, 25.57, 25.61, 25.64, 25.87, 25.66, 25.59, 25.53,\n",
    "    25.25, 25.09, 25.16, 25.23, 25.15, 25.03, 25.2, 25.17, 25.08, 25.08, 24.79, 24.66, 25.04, 24.97,\n",
    "    25.03, 24.93, 24.89, 24.75, 24.53, 24.46, 23.92, 24.45, 24.34, 24.11, 24.01, 24.21, 24.08, 23.92,\n",
    "    24.19, 23.41, 23.96, 23.09, 23.7, 23.88, 23.22, 23.0, 23.05, 22.87, 22.76, 22.8, 22.03, 21.74,\n",
    "    22.05, 22.11, 21.87, 21.85, 21.74, 21.33, 21.42, 20.52, 21.07, 20.8, 20.51, 20.22, 20.12, 20.86,\n",
    "    20.36, 20.34, 19.79, 19.87, 19.57, 19.67, 19.21, 18.48, 18.06, 18.06, 17.69, 16.1, 16.2, 14.31,\n",
    "    15.4, 13.62, 15.09, 14.76, 14.28, 14.29, 13.52, 13.16, 13.9, 12.89, 12.19, 11.58, 13.14, 12.28,\n",
    "    11.58, 11.7, 12.45, 11.97, 12.61, 10.48, 10.95, 10.41, 11.39, 11.18, 10.7, 9.77, 10.35, 10.0,\n",
    "    10.25, 9.49, 10.73, 9.94, 9.39, 9.37, 10.05, 9.92, 8.79, 8.96, 8.38, 10.01, 8.5, 8.75, 9.81,\n",
    "    7.44, 7.41, 8.81, 8.21, 6.39, 7.83, 7.33, 7.28, 7.81, 6.82, 6.7, 6.3, 4.61, 3.36, 3.08, 2.34,\n",
    "    2.11, 2.43, 2.08, -3.65, -3.7, -17.6\n",
    "]\n",
    "}\n",
    "\n",
    "temp = pd.DataFrame(temp)\n",
    "temp\n"
   ]
  },
  {
   "cell_type": "code",
   "execution_count": 168,
   "metadata": {},
   "outputs": [],
   "source": [
    "# calculation of the average temperature last & previous in a new column\n",
    "\n",
    "temp['avg_temp_ºC'] = temp[['Last','Previous']].mean(axis=1).round(2)\n",
    "\n",
    "# drop Last & previous columns\n",
    "temp = temp.drop(['Last','Previous'], axis=1)\n",
    "# Change the name to the new column\n",
    "temp.rename(columns={'Country': 'Area'}, inplace=True)"
   ]
  },
  {
   "cell_type": "code",
   "execution_count": 278,
   "metadata": {},
   "outputs": [
    {
     "data": {
      "text/html": [
       "<div>\n",
       "<style scoped>\n",
       "    .dataframe tbody tr th:only-of-type {\n",
       "        vertical-align: middle;\n",
       "    }\n",
       "\n",
       "    .dataframe tbody tr th {\n",
       "        vertical-align: top;\n",
       "    }\n",
       "\n",
       "    .dataframe thead th {\n",
       "        text-align: right;\n",
       "    }\n",
       "</style>\n",
       "<table border=\"1\" class=\"dataframe\">\n",
       "  <thead>\n",
       "    <tr style=\"text-align: right;\">\n",
       "      <th></th>\n",
       "      <th>Area</th>\n",
       "      <th>avg_temp_ºC</th>\n",
       "    </tr>\n",
       "  </thead>\n",
       "  <tbody>\n",
       "    <tr>\n",
       "      <th>0</th>\n",
       "      <td>Burkina Faso</td>\n",
       "      <td>29.65</td>\n",
       "    </tr>\n",
       "    <tr>\n",
       "      <th>1</th>\n",
       "      <td>Mali</td>\n",
       "      <td>29.48</td>\n",
       "    </tr>\n",
       "    <tr>\n",
       "      <th>2</th>\n",
       "      <td>Qatar</td>\n",
       "      <td>29.26</td>\n",
       "    </tr>\n",
       "    <tr>\n",
       "      <th>3</th>\n",
       "      <td>Senegal</td>\n",
       "      <td>29.31</td>\n",
       "    </tr>\n",
       "    <tr>\n",
       "      <th>4</th>\n",
       "      <td>United Arab Emirates</td>\n",
       "      <td>29.01</td>\n",
       "    </tr>\n",
       "  </tbody>\n",
       "</table>\n",
       "</div>"
      ],
      "text/plain": [
       "                   Area  avg_temp_ºC\n",
       "0          Burkina Faso        29.65\n",
       "1                  Mali        29.48\n",
       "2                 Qatar        29.26\n",
       "3               Senegal        29.31\n",
       "4  United Arab Emirates        29.01"
      ]
     },
     "execution_count": 278,
     "metadata": {},
     "output_type": "execute_result"
    }
   ],
   "source": [
    "temp.head()"
   ]
  },
  {
   "cell_type": "markdown",
   "metadata": {},
   "source": [
    "## 3. <a id='toc3_'></a>[Create final dataframe](#toc0_)"
   ]
  },
  {
   "cell_type": "markdown",
   "metadata": {},
   "source": [
    "Merge crop & prec_filtered & temp"
   ]
  },
  {
   "cell_type": "code",
   "execution_count": 297,
   "metadata": {},
   "outputs": [
    {
     "data": {
      "text/plain": [
       "(406068, 7)"
      ]
     },
     "execution_count": 297,
     "metadata": {},
     "output_type": "execute_result"
    }
   ],
   "source": [
    "crop.shape"
   ]
  },
  {
   "cell_type": "code",
   "execution_count": 298,
   "metadata": {},
   "outputs": [
    {
     "data": {
      "text/plain": [
       "231"
      ]
     },
     "execution_count": 298,
     "metadata": {},
     "output_type": "execute_result"
    }
   ],
   "source": [
    "crop['Area'].nunique()"
   ]
  },
  {
   "cell_type": "code",
   "execution_count": 299,
   "metadata": {},
   "outputs": [
    {
     "data": {
      "text/html": [
       "<div>\n",
       "<style scoped>\n",
       "    .dataframe tbody tr th:only-of-type {\n",
       "        vertical-align: middle;\n",
       "    }\n",
       "\n",
       "    .dataframe tbody tr th {\n",
       "        vertical-align: top;\n",
       "    }\n",
       "\n",
       "    .dataframe thead th {\n",
       "        text-align: right;\n",
       "    }\n",
       "</style>\n",
       "<table border=\"1\" class=\"dataframe\">\n",
       "  <thead>\n",
       "    <tr style=\"text-align: right;\">\n",
       "      <th>Element</th>\n",
       "      <th>Area</th>\n",
       "      <th>Item Code</th>\n",
       "      <th>Crop</th>\n",
       "      <th>Year</th>\n",
       "      <th>area_harvested_ha</th>\n",
       "      <th>production_tonnes</th>\n",
       "      <th>yield_hg/ha</th>\n",
       "    </tr>\n",
       "  </thead>\n",
       "  <tbody>\n",
       "    <tr>\n",
       "      <th>0</th>\n",
       "      <td>Afghanistan</td>\n",
       "      <td>15</td>\n",
       "      <td>Wheat</td>\n",
       "      <td>1990</td>\n",
       "      <td>1570000.00</td>\n",
       "      <td>1650000.00</td>\n",
       "      <td>10510.00</td>\n",
       "    </tr>\n",
       "    <tr>\n",
       "      <th>1</th>\n",
       "      <td>Afghanistan</td>\n",
       "      <td>15</td>\n",
       "      <td>Wheat</td>\n",
       "      <td>1991</td>\n",
       "      <td>1690000.00</td>\n",
       "      <td>1726000.00</td>\n",
       "      <td>10213.00</td>\n",
       "    </tr>\n",
       "  </tbody>\n",
       "</table>\n",
       "</div>"
      ],
      "text/plain": [
       "Element         Area  Item Code   Crop  Year  area_harvested_ha  \\\n",
       "0        Afghanistan         15  Wheat  1990         1570000.00   \n",
       "1        Afghanistan         15  Wheat  1991         1690000.00   \n",
       "\n",
       "Element  production_tonnes  yield_hg/ha  \n",
       "0               1650000.00     10510.00  \n",
       "1               1726000.00     10213.00  "
      ]
     },
     "execution_count": 299,
     "metadata": {},
     "output_type": "execute_result"
    }
   ],
   "source": [
    "crop.head(2)"
   ]
  },
  {
   "cell_type": "code",
   "execution_count": 300,
   "metadata": {},
   "outputs": [
    {
     "data": {
      "text/plain": [
       "(266, 2)"
      ]
     },
     "execution_count": 300,
     "metadata": {},
     "output_type": "execute_result"
    }
   ],
   "source": [
    "prec_filtered.shape"
   ]
  },
  {
   "cell_type": "code",
   "execution_count": 301,
   "metadata": {},
   "outputs": [
    {
     "data": {
      "text/plain": [
       "266"
      ]
     },
     "execution_count": 301,
     "metadata": {},
     "output_type": "execute_result"
    }
   ],
   "source": [
    "prec_filtered['Area'].nunique()"
   ]
  },
  {
   "cell_type": "code",
   "execution_count": 302,
   "metadata": {},
   "outputs": [
    {
     "data": {
      "text/html": [
       "<div>\n",
       "<style scoped>\n",
       "    .dataframe tbody tr th:only-of-type {\n",
       "        vertical-align: middle;\n",
       "    }\n",
       "\n",
       "    .dataframe tbody tr th {\n",
       "        vertical-align: top;\n",
       "    }\n",
       "\n",
       "    .dataframe thead th {\n",
       "        text-align: right;\n",
       "    }\n",
       "</style>\n",
       "<table border=\"1\" class=\"dataframe\">\n",
       "  <thead>\n",
       "    <tr style=\"text-align: right;\">\n",
       "      <th></th>\n",
       "      <th>Area</th>\n",
       "      <th>avg_rainfall_mm_year</th>\n",
       "    </tr>\n",
       "  </thead>\n",
       "  <tbody>\n",
       "    <tr>\n",
       "      <th>0</th>\n",
       "      <td>Afghanistan</td>\n",
       "      <td>327.00</td>\n",
       "    </tr>\n",
       "    <tr>\n",
       "      <th>1</th>\n",
       "      <td>Albania</td>\n",
       "      <td>1485.00</td>\n",
       "    </tr>\n",
       "  </tbody>\n",
       "</table>\n",
       "</div>"
      ],
      "text/plain": [
       "          Area  avg_rainfall_mm_year\n",
       "0  Afghanistan                327.00\n",
       "1      Albania               1485.00"
      ]
     },
     "execution_count": 302,
     "metadata": {},
     "output_type": "execute_result"
    }
   ],
   "source": [
    "prec_filtered.head(2)"
   ]
  },
  {
   "cell_type": "code",
   "execution_count": 303,
   "metadata": {},
   "outputs": [
    {
     "data": {
      "text/plain": [
       "(205, 2)"
      ]
     },
     "execution_count": 303,
     "metadata": {},
     "output_type": "execute_result"
    }
   ],
   "source": [
    "temp.shape"
   ]
  },
  {
   "cell_type": "code",
   "execution_count": 304,
   "metadata": {},
   "outputs": [
    {
     "data": {
      "text/plain": [
       "205"
      ]
     },
     "execution_count": 304,
     "metadata": {},
     "output_type": "execute_result"
    }
   ],
   "source": [
    "temp['Area'].nunique()"
   ]
  },
  {
   "cell_type": "code",
   "execution_count": 305,
   "metadata": {},
   "outputs": [
    {
     "data": {
      "text/html": [
       "<div>\n",
       "<style scoped>\n",
       "    .dataframe tbody tr th:only-of-type {\n",
       "        vertical-align: middle;\n",
       "    }\n",
       "\n",
       "    .dataframe tbody tr th {\n",
       "        vertical-align: top;\n",
       "    }\n",
       "\n",
       "    .dataframe thead th {\n",
       "        text-align: right;\n",
       "    }\n",
       "</style>\n",
       "<table border=\"1\" class=\"dataframe\">\n",
       "  <thead>\n",
       "    <tr style=\"text-align: right;\">\n",
       "      <th></th>\n",
       "      <th>Area</th>\n",
       "      <th>avg_temp_ºC</th>\n",
       "    </tr>\n",
       "  </thead>\n",
       "  <tbody>\n",
       "    <tr>\n",
       "      <th>0</th>\n",
       "      <td>Burkina Faso</td>\n",
       "      <td>29.65</td>\n",
       "    </tr>\n",
       "    <tr>\n",
       "      <th>1</th>\n",
       "      <td>Mali</td>\n",
       "      <td>29.48</td>\n",
       "    </tr>\n",
       "  </tbody>\n",
       "</table>\n",
       "</div>"
      ],
      "text/plain": [
       "           Area  avg_temp_ºC\n",
       "0  Burkina Faso        29.65\n",
       "1          Mali        29.48"
      ]
     },
     "execution_count": 305,
     "metadata": {},
     "output_type": "execute_result"
    }
   ],
   "source": [
    "temp.head(2)"
   ]
  },
  {
   "cell_type": "markdown",
   "metadata": {},
   "source": [
    "There are more countries in the df prec_filtered. Let's merge them and use an inner join so that only rows that have matches in both tables are included in the column you use to join. Rows that do not have matches in both tables will not be included in the resulting DataFrame."
   ]
  },
  {
   "cell_type": "code",
   "execution_count": 306,
   "metadata": {},
   "outputs": [],
   "source": [
    "df = crop.merge(prec_filtered, on='Area', how='inner')\n",
    "df = df.merge(temp, on='Area', how='inner')"
   ]
  },
  {
   "cell_type": "code",
   "execution_count": 307,
   "metadata": {},
   "outputs": [
    {
     "data": {
      "text/plain": [
       "162"
      ]
     },
     "execution_count": 307,
     "metadata": {},
     "output_type": "execute_result"
    }
   ],
   "source": [
    "df['Area'].nunique()"
   ]
  },
  {
   "cell_type": "code",
   "execution_count": 308,
   "metadata": {},
   "outputs": [
    {
     "data": {
      "text/html": [
       "<div>\n",
       "<style scoped>\n",
       "    .dataframe tbody tr th:only-of-type {\n",
       "        vertical-align: middle;\n",
       "    }\n",
       "\n",
       "    .dataframe tbody tr th {\n",
       "        vertical-align: top;\n",
       "    }\n",
       "\n",
       "    .dataframe thead th {\n",
       "        text-align: right;\n",
       "    }\n",
       "</style>\n",
       "<table border=\"1\" class=\"dataframe\">\n",
       "  <thead>\n",
       "    <tr style=\"text-align: right;\">\n",
       "      <th></th>\n",
       "      <th>count</th>\n",
       "      <th>mean</th>\n",
       "      <th>std</th>\n",
       "      <th>min</th>\n",
       "      <th>25%</th>\n",
       "      <th>50%</th>\n",
       "      <th>75%</th>\n",
       "      <th>max</th>\n",
       "    </tr>\n",
       "  </thead>\n",
       "  <tbody>\n",
       "    <tr>\n",
       "      <th>Item Code</th>\n",
       "      <td>263113.00</td>\n",
       "      <td>381.90</td>\n",
       "      <td>202.93</td>\n",
       "      <td>15.00</td>\n",
       "      <td>211.00</td>\n",
       "      <td>399.00</td>\n",
       "      <td>534.00</td>\n",
       "      <td>839.00</td>\n",
       "    </tr>\n",
       "    <tr>\n",
       "      <th>Year</th>\n",
       "      <td>263113.00</td>\n",
       "      <td>2006.36</td>\n",
       "      <td>9.47</td>\n",
       "      <td>1990.00</td>\n",
       "      <td>1998.00</td>\n",
       "      <td>2006.00</td>\n",
       "      <td>2015.00</td>\n",
       "      <td>2022.00</td>\n",
       "    </tr>\n",
       "    <tr>\n",
       "      <th>area_harvested_ha</th>\n",
       "      <td>259919.00</td>\n",
       "      <td>150583.76</td>\n",
       "      <td>1245817.22</td>\n",
       "      <td>0.00</td>\n",
       "      <td>252.00</td>\n",
       "      <td>2682.00</td>\n",
       "      <td>20820.50</td>\n",
       "      <td>46400000.00</td>\n",
       "    </tr>\n",
       "    <tr>\n",
       "      <th>production_tonnes</th>\n",
       "      <td>262946.00</td>\n",
       "      <td>853738.85</td>\n",
       "      <td>9802960.10</td>\n",
       "      <td>0.00</td>\n",
       "      <td>981.40</td>\n",
       "      <td>12930.00</td>\n",
       "      <td>106576.45</td>\n",
       "      <td>768594154.00</td>\n",
       "    </tr>\n",
       "    <tr>\n",
       "      <th>yield_hg/ha</th>\n",
       "      <td>236886.00</td>\n",
       "      <td>110515.17</td>\n",
       "      <td>243738.08</td>\n",
       "      <td>0.00</td>\n",
       "      <td>15833.00</td>\n",
       "      <td>52277.50</td>\n",
       "      <td>126919.75</td>\n",
       "      <td>8755278.00</td>\n",
       "    </tr>\n",
       "    <tr>\n",
       "      <th>avg_rainfall_mm_year</th>\n",
       "      <td>263113.00</td>\n",
       "      <td>1129.91</td>\n",
       "      <td>750.25</td>\n",
       "      <td>56.00</td>\n",
       "      <td>600.00</td>\n",
       "      <td>900.00</td>\n",
       "      <td>1622.00</td>\n",
       "      <td>3205.11</td>\n",
       "    </tr>\n",
       "    <tr>\n",
       "      <th>avg_temp_ºC</th>\n",
       "      <td>263113.00</td>\n",
       "      <td>18.78</td>\n",
       "      <td>7.65</td>\n",
       "      <td>-3.96</td>\n",
       "      <td>12.12</td>\n",
       "      <td>21.24</td>\n",
       "      <td>25.24</td>\n",
       "      <td>29.65</td>\n",
       "    </tr>\n",
       "  </tbody>\n",
       "</table>\n",
       "</div>"
      ],
      "text/plain": [
       "                         count      mean        std     min      25%      50%  \\\n",
       "Item Code            263113.00    381.90     202.93   15.00   211.00   399.00   \n",
       "Year                 263113.00   2006.36       9.47 1990.00  1998.00  2006.00   \n",
       "area_harvested_ha    259919.00 150583.76 1245817.22    0.00   252.00  2682.00   \n",
       "production_tonnes    262946.00 853738.85 9802960.10    0.00   981.40 12930.00   \n",
       "yield_hg/ha          236886.00 110515.17  243738.08    0.00 15833.00 52277.50   \n",
       "avg_rainfall_mm_year 263113.00   1129.91     750.25   56.00   600.00   900.00   \n",
       "avg_temp_ºC          263113.00     18.78       7.65   -3.96    12.12    21.24   \n",
       "\n",
       "                           75%          max  \n",
       "Item Code               534.00       839.00  \n",
       "Year                   2015.00      2022.00  \n",
       "area_harvested_ha     20820.50  46400000.00  \n",
       "production_tonnes    106576.45 768594154.00  \n",
       "yield_hg/ha          126919.75   8755278.00  \n",
       "avg_rainfall_mm_year   1622.00      3205.11  \n",
       "avg_temp_ºC              25.24        29.65  "
      ]
     },
     "execution_count": 308,
     "metadata": {},
     "output_type": "execute_result"
    }
   ],
   "source": [
    "df.describe().T"
   ]
  },
  {
   "cell_type": "code",
   "execution_count": 309,
   "metadata": {},
   "outputs": [
    {
     "data": {
      "text/html": [
       "<div>\n",
       "<style scoped>\n",
       "    .dataframe tbody tr th:only-of-type {\n",
       "        vertical-align: middle;\n",
       "    }\n",
       "\n",
       "    .dataframe tbody tr th {\n",
       "        vertical-align: top;\n",
       "    }\n",
       "\n",
       "    .dataframe thead th {\n",
       "        text-align: right;\n",
       "    }\n",
       "</style>\n",
       "<table border=\"1\" class=\"dataframe\">\n",
       "  <thead>\n",
       "    <tr style=\"text-align: right;\">\n",
       "      <th></th>\n",
       "      <th>Area</th>\n",
       "      <th>Item Code</th>\n",
       "      <th>Crop</th>\n",
       "      <th>Year</th>\n",
       "      <th>area_harvested_ha</th>\n",
       "      <th>production_tonnes</th>\n",
       "      <th>yield_hg/ha</th>\n",
       "      <th>avg_rainfall_mm_year</th>\n",
       "      <th>avg_temp_ºC</th>\n",
       "    </tr>\n",
       "  </thead>\n",
       "  <tbody>\n",
       "    <tr>\n",
       "      <th>1161</th>\n",
       "      <td>Afghanistan</td>\n",
       "      <td>723</td>\n",
       "      <td>Other stimulant, spice and aromatic crops, n.e.c.</td>\n",
       "      <td>2014</td>\n",
       "      <td>0.00</td>\n",
       "      <td>0.00</td>\n",
       "      <td>NaN</td>\n",
       "      <td>327.00</td>\n",
       "      <td>14.38</td>\n",
       "    </tr>\n",
       "    <tr>\n",
       "      <th>1207</th>\n",
       "      <td>Albania</td>\n",
       "      <td>27</td>\n",
       "      <td>Rice</td>\n",
       "      <td>1994</td>\n",
       "      <td>0.00</td>\n",
       "      <td>0.00</td>\n",
       "      <td>NaN</td>\n",
       "      <td>1485.00</td>\n",
       "      <td>13.10</td>\n",
       "    </tr>\n",
       "    <tr>\n",
       "      <th>1208</th>\n",
       "      <td>Albania</td>\n",
       "      <td>27</td>\n",
       "      <td>Rice</td>\n",
       "      <td>1995</td>\n",
       "      <td>0.00</td>\n",
       "      <td>0.00</td>\n",
       "      <td>NaN</td>\n",
       "      <td>1485.00</td>\n",
       "      <td>13.10</td>\n",
       "    </tr>\n",
       "    <tr>\n",
       "      <th>1209</th>\n",
       "      <td>Albania</td>\n",
       "      <td>27</td>\n",
       "      <td>Rice</td>\n",
       "      <td>1996</td>\n",
       "      <td>0.00</td>\n",
       "      <td>0.00</td>\n",
       "      <td>NaN</td>\n",
       "      <td>1485.00</td>\n",
       "      <td>13.10</td>\n",
       "    </tr>\n",
       "    <tr>\n",
       "      <th>1210</th>\n",
       "      <td>Albania</td>\n",
       "      <td>27</td>\n",
       "      <td>Rice</td>\n",
       "      <td>1997</td>\n",
       "      <td>0.00</td>\n",
       "      <td>0.00</td>\n",
       "      <td>NaN</td>\n",
       "      <td>1485.00</td>\n",
       "      <td>13.10</td>\n",
       "    </tr>\n",
       "    <tr>\n",
       "      <th>...</th>\n",
       "      <td>...</td>\n",
       "      <td>...</td>\n",
       "      <td>...</td>\n",
       "      <td>...</td>\n",
       "      <td>...</td>\n",
       "      <td>...</td>\n",
       "      <td>...</td>\n",
       "      <td>...</td>\n",
       "      <td>...</td>\n",
       "    </tr>\n",
       "    <tr>\n",
       "      <th>262514</th>\n",
       "      <td>Zimbabwe</td>\n",
       "      <td>550</td>\n",
       "      <td>Currants</td>\n",
       "      <td>2018</td>\n",
       "      <td>0.00</td>\n",
       "      <td>0.00</td>\n",
       "      <td>NaN</td>\n",
       "      <td>658.94</td>\n",
       "      <td>21.85</td>\n",
       "    </tr>\n",
       "    <tr>\n",
       "      <th>262515</th>\n",
       "      <td>Zimbabwe</td>\n",
       "      <td>550</td>\n",
       "      <td>Currants</td>\n",
       "      <td>2019</td>\n",
       "      <td>0.00</td>\n",
       "      <td>0.00</td>\n",
       "      <td>NaN</td>\n",
       "      <td>658.94</td>\n",
       "      <td>21.85</td>\n",
       "    </tr>\n",
       "    <tr>\n",
       "      <th>262516</th>\n",
       "      <td>Zimbabwe</td>\n",
       "      <td>550</td>\n",
       "      <td>Currants</td>\n",
       "      <td>2020</td>\n",
       "      <td>0.00</td>\n",
       "      <td>0.00</td>\n",
       "      <td>NaN</td>\n",
       "      <td>658.94</td>\n",
       "      <td>21.85</td>\n",
       "    </tr>\n",
       "    <tr>\n",
       "      <th>262517</th>\n",
       "      <td>Zimbabwe</td>\n",
       "      <td>550</td>\n",
       "      <td>Currants</td>\n",
       "      <td>2021</td>\n",
       "      <td>0.00</td>\n",
       "      <td>0.00</td>\n",
       "      <td>NaN</td>\n",
       "      <td>658.94</td>\n",
       "      <td>21.85</td>\n",
       "    </tr>\n",
       "    <tr>\n",
       "      <th>262518</th>\n",
       "      <td>Zimbabwe</td>\n",
       "      <td>550</td>\n",
       "      <td>Currants</td>\n",
       "      <td>2022</td>\n",
       "      <td>0.00</td>\n",
       "      <td>0.00</td>\n",
       "      <td>NaN</td>\n",
       "      <td>658.94</td>\n",
       "      <td>21.85</td>\n",
       "    </tr>\n",
       "  </tbody>\n",
       "</table>\n",
       "<p>22920 rows × 9 columns</p>\n",
       "</div>"
      ],
      "text/plain": [
       "               Area  Item Code  \\\n",
       "1161    Afghanistan        723   \n",
       "1207        Albania         27   \n",
       "1208        Albania         27   \n",
       "1209        Albania         27   \n",
       "1210        Albania         27   \n",
       "...             ...        ...   \n",
       "262514     Zimbabwe        550   \n",
       "262515     Zimbabwe        550   \n",
       "262516     Zimbabwe        550   \n",
       "262517     Zimbabwe        550   \n",
       "262518     Zimbabwe        550   \n",
       "\n",
       "                                                     Crop  Year  \\\n",
       "1161    Other stimulant, spice and aromatic crops, n.e.c.  2014   \n",
       "1207                                                 Rice  1994   \n",
       "1208                                                 Rice  1995   \n",
       "1209                                                 Rice  1996   \n",
       "1210                                                 Rice  1997   \n",
       "...                                                   ...   ...   \n",
       "262514                                           Currants  2018   \n",
       "262515                                           Currants  2019   \n",
       "262516                                           Currants  2020   \n",
       "262517                                           Currants  2021   \n",
       "262518                                           Currants  2022   \n",
       "\n",
       "        area_harvested_ha  production_tonnes  yield_hg/ha  \\\n",
       "1161                 0.00               0.00          NaN   \n",
       "1207                 0.00               0.00          NaN   \n",
       "1208                 0.00               0.00          NaN   \n",
       "1209                 0.00               0.00          NaN   \n",
       "1210                 0.00               0.00          NaN   \n",
       "...                   ...                ...          ...   \n",
       "262514               0.00               0.00          NaN   \n",
       "262515               0.00               0.00          NaN   \n",
       "262516               0.00               0.00          NaN   \n",
       "262517               0.00               0.00          NaN   \n",
       "262518               0.00               0.00          NaN   \n",
       "\n",
       "        avg_rainfall_mm_year  avg_temp_ºC  \n",
       "1161                  327.00        14.38  \n",
       "1207                 1485.00        13.10  \n",
       "1208                 1485.00        13.10  \n",
       "1209                 1485.00        13.10  \n",
       "1210                 1485.00        13.10  \n",
       "...                      ...          ...  \n",
       "262514                658.94        21.85  \n",
       "262515                658.94        21.85  \n",
       "262516                658.94        21.85  \n",
       "262517                658.94        21.85  \n",
       "262518                658.94        21.85  \n",
       "\n",
       "[22920 rows x 9 columns]"
      ]
     },
     "execution_count": 309,
     "metadata": {},
     "output_type": "execute_result"
    }
   ],
   "source": [
    "df[df['area_harvested_ha']==0]"
   ]
  },
  {
   "cell_type": "code",
   "execution_count": 310,
   "metadata": {},
   "outputs": [
    {
     "data": {
      "text/plain": [
       "(263113, 9)"
      ]
     },
     "execution_count": 310,
     "metadata": {},
     "output_type": "execute_result"
    }
   ],
   "source": [
    "df.shape"
   ]
  },
  {
   "cell_type": "markdown",
   "metadata": {},
   "source": [
    "### 3.1. <a id='toc3_1_'></a>[Preprocessing](#toc0_)"
   ]
  },
  {
   "cell_type": "markdown",
   "metadata": {},
   "source": [
    "#### 3.1.1. <a id='toc3_1_1_'></a>[NaN values](#toc0_)"
   ]
  },
  {
   "cell_type": "code",
   "execution_count": 311,
   "metadata": {},
   "outputs": [],
   "source": [
    "df.drop(columns='Item Code', inplace=True)"
   ]
  },
  {
   "cell_type": "code",
   "execution_count": 312,
   "metadata": {},
   "outputs": [],
   "source": [
    "# convert year variable to object type, because it's discrete.\n",
    "df['Year'] = df['Year'].astype(object)"
   ]
  },
  {
   "cell_type": "code",
   "execution_count": 313,
   "metadata": {},
   "outputs": [
    {
     "data": {
      "text/plain": [
       "Area                        0\n",
       "Crop                        0\n",
       "Year                        0\n",
       "area_harvested_ha        3194\n",
       "production_tonnes         167\n",
       "yield_hg/ha             26227\n",
       "avg_rainfall_mm_year        0\n",
       "avg_temp_ºC                 0\n",
       "dtype: int64"
      ]
     },
     "execution_count": 313,
     "metadata": {},
     "output_type": "execute_result"
    }
   ],
   "source": [
    "df.isnull().sum()"
   ]
  },
  {
   "cell_type": "code",
   "execution_count": 314,
   "metadata": {},
   "outputs": [
    {
     "data": {
      "text/plain": [
       "(239467, 8)"
      ]
     },
     "execution_count": 314,
     "metadata": {},
     "output_type": "execute_result"
    }
   ],
   "source": [
    "# There are many area harvested and production values at 0. Delete these rows\n",
    "df = df[(df['area_harvested_ha'] != 0) & (df['production_tonnes'] != 0)]\n",
    "df.shape"
   ]
  },
  {
   "cell_type": "code",
   "execution_count": 315,
   "metadata": {},
   "outputs": [
    {
     "name": "stdout",
     "output_type": "stream",
     "text": [
      "<class 'pandas.core.frame.DataFrame'>\n",
      "Index: 239467 entries, 0 to 263112\n",
      "Data columns (total 8 columns):\n",
      " #   Column                Non-Null Count   Dtype  \n",
      "---  ------                --------------   -----  \n",
      " 0   Area                  239467 non-null  object \n",
      " 1   Crop                  239467 non-null  object \n",
      " 2   Year                  239467 non-null  object \n",
      " 3   area_harvested_ha     236955 non-null  float64\n",
      " 4   production_tonnes     239317 non-null  float64\n",
      " 5   yield_hg/ha           236655 non-null  float64\n",
      " 6   avg_rainfall_mm_year  239467 non-null  float64\n",
      " 7   avg_temp_ºC           239467 non-null  float64\n",
      "dtypes: float64(5), object(3)\n",
      "memory usage: 16.4+ MB\n"
     ]
    }
   ],
   "source": [
    "df.info()"
   ]
  },
  {
   "cell_type": "markdown",
   "metadata": {},
   "source": [
    "As the **area harvested, production and yield** are continuous variables, we will do the imputation with the mean value:"
   ]
  },
  {
   "cell_type": "code",
   "execution_count": 316,
   "metadata": {},
   "outputs": [
    {
     "data": {
      "text/plain": [
       "Area                   0.00\n",
       "Crop                   0.00\n",
       "Year                   0.00\n",
       "area_harvested_ha      0.00\n",
       "production_tonnes      0.00\n",
       "yield_hg/ha            0.00\n",
       "avg_rainfall_mm_year   0.00\n",
       "avg_temp_ºC            0.00\n",
       "dtype: float64"
      ]
     },
     "execution_count": 316,
     "metadata": {},
     "output_type": "execute_result"
    }
   ],
   "source": [
    "def repair_null(df, col):\n",
    "    if df[col].dtype == 'int64' or df[col].dtype == 'float64':\n",
    "        df[col] = df[col].fillna(df[col].mean())\n",
    "    else:\n",
    "        df[col] = df[col].fillna(df[col].mode()[0])\n",
    "    return df \n",
    "\n",
    "for col in df.columns:\n",
    "    repair_null(df, col)\n",
    "\n",
    "df.isnull().sum()/len(prec)*100"
   ]
  },
  {
   "cell_type": "markdown",
   "metadata": {},
   "source": [
    "#### 3.1.2. <a id='toc3_1_2_'></a>[Outliers](#toc0_)"
   ]
  },
  {
   "cell_type": "code",
   "execution_count": 317,
   "metadata": {},
   "outputs": [
    {
     "name": "stdout",
     "output_type": "stream",
     "text": [
      "<class 'pandas.core.frame.DataFrame'>\n",
      "Index: 239467 entries, 0 to 263112\n",
      "Data columns (total 8 columns):\n",
      " #   Column                Non-Null Count   Dtype  \n",
      "---  ------                --------------   -----  \n",
      " 0   Area                  239467 non-null  object \n",
      " 1   Crop                  239467 non-null  object \n",
      " 2   Year                  239467 non-null  int64  \n",
      " 3   area_harvested_ha     239467 non-null  float64\n",
      " 4   production_tonnes     239467 non-null  float64\n",
      " 5   yield_hg/ha           239467 non-null  float64\n",
      " 6   avg_rainfall_mm_year  239467 non-null  float64\n",
      " 7   avg_temp_ºC           239467 non-null  float64\n",
      "dtypes: float64(5), int64(1), object(2)\n",
      "memory usage: 16.4+ MB\n"
     ]
    }
   ],
   "source": [
    "df.info()"
   ]
  },
  {
   "cell_type": "code",
   "execution_count": 318,
   "metadata": {},
   "outputs": [],
   "source": [
    "# convert year variable to object type, because it's discrete.\n",
    "df['Year'] = df['Year'].astype(object)"
   ]
  },
  {
   "cell_type": "code",
   "execution_count": 319,
   "metadata": {},
   "outputs": [
    {
     "data": {
      "text/html": [
       "<div>\n",
       "<style scoped>\n",
       "    .dataframe tbody tr th:only-of-type {\n",
       "        vertical-align: middle;\n",
       "    }\n",
       "\n",
       "    .dataframe tbody tr th {\n",
       "        vertical-align: top;\n",
       "    }\n",
       "\n",
       "    .dataframe thead th {\n",
       "        text-align: right;\n",
       "    }\n",
       "</style>\n",
       "<table border=\"1\" class=\"dataframe\">\n",
       "  <thead>\n",
       "    <tr style=\"text-align: right;\">\n",
       "      <th></th>\n",
       "      <th>count</th>\n",
       "      <th>mean</th>\n",
       "      <th>std</th>\n",
       "      <th>min</th>\n",
       "      <th>25%</th>\n",
       "      <th>50%</th>\n",
       "      <th>75%</th>\n",
       "      <th>max</th>\n",
       "    </tr>\n",
       "  </thead>\n",
       "  <tbody>\n",
       "    <tr>\n",
       "      <th>area_harvested_ha</th>\n",
       "      <td>239467.00</td>\n",
       "      <td>165177.18</td>\n",
       "      <td>1297008.75</td>\n",
       "      <td>0.06</td>\n",
       "      <td>562.00</td>\n",
       "      <td>3942.00</td>\n",
       "      <td>27274.50</td>\n",
       "      <td>46400000.00</td>\n",
       "    </tr>\n",
       "    <tr>\n",
       "      <th>production_tonnes</th>\n",
       "      <td>239467.00</td>\n",
       "      <td>937952.18</td>\n",
       "      <td>10268460.60</td>\n",
       "      <td>0.01</td>\n",
       "      <td>2133.10</td>\n",
       "      <td>19000.00</td>\n",
       "      <td>133295.50</td>\n",
       "      <td>768594154.00</td>\n",
       "    </tr>\n",
       "    <tr>\n",
       "      <th>yield_hg/ha</th>\n",
       "      <td>239467.00</td>\n",
       "      <td>110539.50</td>\n",
       "      <td>242383.41</td>\n",
       "      <td>9.00</td>\n",
       "      <td>16074.00</td>\n",
       "      <td>53563.00</td>\n",
       "      <td>125455.00</td>\n",
       "      <td>8755278.00</td>\n",
       "    </tr>\n",
       "    <tr>\n",
       "      <th>avg_rainfall_mm_year</th>\n",
       "      <td>239467.00</td>\n",
       "      <td>1137.39</td>\n",
       "      <td>753.58</td>\n",
       "      <td>56.00</td>\n",
       "      <td>600.00</td>\n",
       "      <td>1010.00</td>\n",
       "      <td>1622.00</td>\n",
       "      <td>3205.11</td>\n",
       "    </tr>\n",
       "    <tr>\n",
       "      <th>avg_temp_ºC</th>\n",
       "      <td>239467.00</td>\n",
       "      <td>19.01</td>\n",
       "      <td>7.57</td>\n",
       "      <td>-3.96</td>\n",
       "      <td>12.37</td>\n",
       "      <td>21.38</td>\n",
       "      <td>25.38</td>\n",
       "      <td>29.65</td>\n",
       "    </tr>\n",
       "  </tbody>\n",
       "</table>\n",
       "</div>"
      ],
      "text/plain": [
       "                         count      mean         std   min      25%      50%  \\\n",
       "area_harvested_ha    239467.00 165177.18  1297008.75  0.06   562.00  3942.00   \n",
       "production_tonnes    239467.00 937952.18 10268460.60  0.01  2133.10 19000.00   \n",
       "yield_hg/ha          239467.00 110539.50   242383.41  9.00 16074.00 53563.00   \n",
       "avg_rainfall_mm_year 239467.00   1137.39      753.58 56.00   600.00  1010.00   \n",
       "avg_temp_ºC          239467.00     19.01        7.57 -3.96    12.37    21.38   \n",
       "\n",
       "                           75%          max  \n",
       "area_harvested_ha     27274.50  46400000.00  \n",
       "production_tonnes    133295.50 768594154.00  \n",
       "yield_hg/ha          125455.00   8755278.00  \n",
       "avg_rainfall_mm_year   1622.00      3205.11  \n",
       "avg_temp_ºC              25.38        29.65  "
      ]
     },
     "execution_count": 319,
     "metadata": {},
     "output_type": "execute_result"
    }
   ],
   "source": [
    "df.describe().T.round(2)"
   ]
  },
  {
   "cell_type": "code",
   "execution_count": 320,
   "metadata": {},
   "outputs": [],
   "source": [
    "# filter df by 50 more frequent crops\n",
    "top50_crops = df['Crop'].value_counts().head(50)\n",
    "top50_crops.index.tolist()\n",
    "df_filtered = df[df['Crop'].isin(top50_crops.index.tolist())].reset_index(drop=True)"
   ]
  },
  {
   "cell_type": "code",
   "execution_count": 321,
   "metadata": {},
   "outputs": [
    {
     "name": "stdout",
     "output_type": "stream",
     "text": [
      "Variable area_harvested_ha has 23234 outliers\n",
      "Variable production_tonnes has 22613 outliers\n",
      "Variable yield_hg/ha has 9822 outliers\n",
      "Variable avg_rainfall_mm_year has 0 outliers\n",
      "Variable avg_temp_ºC has 0 outliers\n"
     ]
    }
   ],
   "source": [
    "# visualise outliers: This function prints the outliers for each column.\n",
    "\n",
    "def outliers (df):\n",
    "    for columns in df:\n",
    "        if df[columns].dtype in ['int64', 'float64']: \n",
    "\n",
    "            Q1 = df[columns].quantile(0.25)\n",
    "            Q3 = df[columns].quantile(0.75)\n",
    "            IQR = Q3 - Q1\n",
    "            outlierLeft = Q1-(1.5*IQR)\n",
    "            outlierRight = Q3+(1.5*IQR)\n",
    "            outliers = df[columns][(df[columns] < outlierLeft) | (df[columns] > outlierRight)]\n",
    "            print(\"Variable \" + columns + \" has \" + str(len(outliers)) + \" outliers\")\n",
    "\n",
    "    \n",
    "outliers(df_filtered)"
   ]
  },
  {
   "cell_type": "code",
   "execution_count": 322,
   "metadata": {},
   "outputs": [
    {
     "data": {
      "image/png": "[encoded data removed]",
      "text/plain": [
       "<Figure size 1500x500 with 3 Axes>"
      ]
     },
     "metadata": {},
     "output_type": "display_data"
    }
   ],
   "source": [
    "# Create boxplot\n",
    "df_var1 = df_filtered.groupby(['Area','Year'])['area_harvested_ha'].mean().reset_index()\n",
    "df_var2 = df_filtered.groupby(['Area','Year'])['production_tonnes'].mean().reset_index()\n",
    "df_var3 = df_filtered.groupby(['Area','Year'])['yield_hg/ha'].mean().reset_index()\n",
    "\n",
    "# Create subplots\n",
    "fig, axes = plt.subplots(nrows=1, ncols=3,figsize=(15, 5))\n",
    "\n",
    "fig = sns.boxplot(y=df_var1['area_harvested_ha'], data=df_var1, ax=axes[0], color = agro[1]) \n",
    "axes[0].set_title('Area harvested (ha)')\n",
    "axes[0].set_ylabel('')  \n",
    "\n",
    "fig = sns.boxplot(y=df_var2['production_tonnes'], data=df_var2, ax=axes[1], color = agro[2]) \n",
    "axes[1].set_title('Crop production (tonnes)')\n",
    "axes[1].set_ylabel('') \n",
    "\n",
    "fig = sns.boxplot(y=df_var3['yield_hg/ha'], data=df_var3, ax=axes[2], color = agro[3])  \n",
    "axes[2].set_title('Crop yield (hg/ha)')\n",
    "axes[2].set_ylabel('')  \n",
    "\n",
    "# Adjust the design\n",
    "plt.tight_layout()\n",
    "\n",
    "# Show\n",
    "plt.show()"
   ]
  },
  {
   "cell_type": "code",
   "execution_count": 323,
   "metadata": {},
   "outputs": [],
   "source": [
    "# # repair outliers: This function imputes the outliers in each column with the value of the IQR limit * 1.5 +- Q3.\n",
    "# def repair_outliers(df, col):\n",
    "#     Q1 = col.quantile(0.25)\n",
    "#     Q3 = col.quantile(0.75)\n",
    "#     IQR = Q3 - Q1\n",
    "    \n",
    "#     outlier_lower = Q1 - (1.5 * IQR)\n",
    "#     outlier_upper = Q3 + (1.5 * IQR)\n",
    "    \n",
    "#     for i in range(len(df[col.name])): \n",
    "#         if i in df.index:  \n",
    "#             element = df.loc[i, col.name] \n",
    "#             if element > outlier_upper: \n",
    "#                 df.loc[i, col.name] = outlier_upper\n",
    "#             elif element < outlier_lower: \n",
    "#                 df.loc[i, col.name] = outlier_lower\n",
    "            \n",
    "#     return df  \n",
    "\n",
    "# repair_outliers(df_var1, df_var1['area_harvested_ha'])\n",
    "# repair_outliers(df_var2, df_var2['production_tonnes'])\n",
    "# repair_outliers(df_var3, df_var3['yield_hg/ha'])"
   ]
  },
  {
   "cell_type": "code",
   "execution_count": 324,
   "metadata": {},
   "outputs": [],
   "source": [
    "# # Boxplot\n",
    "# # Create subplots\n",
    "# fig, axes = plt.subplots(nrows=1, ncols=3,figsize=(15, 5))\n",
    "\n",
    "# fig = sns.boxplot(y=df_var1['area_harvested_ha'], data=df_var1, ax=axes[0], color = agro[1]) \n",
    "# axes[0].set_title('Area harvested (ha)')\n",
    "# axes[0].set_ylabel('')  \n",
    "\n",
    "# fig = sns.boxplot(y=df_var2['production_tonnes'], data=df_var2, ax=axes[1], color = agro[2]) \n",
    "# axes[1].set_title('Crop production (tonnes)')\n",
    "# axes[1].set_ylabel('') \n",
    "\n",
    "# fig = sns.boxplot(y=df_var3['yield_hg/ha'], data=df_var3, ax=axes[2], color = agro[3])  \n",
    "# axes[2].set_title('Crop yield (hg/ha)')\n",
    "# axes[2].set_ylabel('')  \n",
    "\n",
    "# # Adjust the design\n",
    "# plt.tight_layout()\n",
    "\n",
    "# # Show\n",
    "# plt.show()"
   ]
  },
  {
   "cell_type": "code",
   "execution_count": 325,
   "metadata": {},
   "outputs": [
    {
     "data": {
      "text/html": [
       "<div>\n",
       "<style scoped>\n",
       "    .dataframe tbody tr th:only-of-type {\n",
       "        vertical-align: middle;\n",
       "    }\n",
       "\n",
       "    .dataframe tbody tr th {\n",
       "        vertical-align: top;\n",
       "    }\n",
       "\n",
       "    .dataframe thead th {\n",
       "        text-align: right;\n",
       "    }\n",
       "</style>\n",
       "<table border=\"1\" class=\"dataframe\">\n",
       "  <thead>\n",
       "    <tr style=\"text-align: right;\">\n",
       "      <th></th>\n",
       "      <th>count</th>\n",
       "      <th>mean</th>\n",
       "      <th>std</th>\n",
       "      <th>min</th>\n",
       "      <th>25%</th>\n",
       "      <th>50%</th>\n",
       "      <th>75%</th>\n",
       "      <th>max</th>\n",
       "    </tr>\n",
       "  </thead>\n",
       "  <tbody>\n",
       "    <tr>\n",
       "      <th>area_harvested_ha</th>\n",
       "      <td>143236.00</td>\n",
       "      <td>230409.84</td>\n",
       "      <td>1642560.09</td>\n",
       "      <td>1.00</td>\n",
       "      <td>733.00</td>\n",
       "      <td>5063.00</td>\n",
       "      <td>35942.25</td>\n",
       "      <td>46400000.00</td>\n",
       "    </tr>\n",
       "    <tr>\n",
       "      <th>production_tonnes</th>\n",
       "      <td>143236.00</td>\n",
       "      <td>1364555.02</td>\n",
       "      <td>12971150.43</td>\n",
       "      <td>0.06</td>\n",
       "      <td>4428.00</td>\n",
       "      <td>35000.00</td>\n",
       "      <td>231800.00</td>\n",
       "      <td>768594154.00</td>\n",
       "    </tr>\n",
       "    <tr>\n",
       "      <th>yield_hg/ha</th>\n",
       "      <td>143236.00</td>\n",
       "      <td>140882.37</td>\n",
       "      <td>298056.73</td>\n",
       "      <td>9.00</td>\n",
       "      <td>24023.75</td>\n",
       "      <td>71794.00</td>\n",
       "      <td>163469.25</td>\n",
       "      <td>8755278.00</td>\n",
       "    </tr>\n",
       "    <tr>\n",
       "      <th>avg_rainfall_mm_year</th>\n",
       "      <td>143236.00</td>\n",
       "      <td>1148.16</td>\n",
       "      <td>763.87</td>\n",
       "      <td>56.00</td>\n",
       "      <td>591.00</td>\n",
       "      <td>1032.00</td>\n",
       "      <td>1668.00</td>\n",
       "      <td>3205.11</td>\n",
       "    </tr>\n",
       "    <tr>\n",
       "      <th>avg_temp_ºC</th>\n",
       "      <td>143236.00</td>\n",
       "      <td>19.50</td>\n",
       "      <td>7.51</td>\n",
       "      <td>-3.96</td>\n",
       "      <td>12.68</td>\n",
       "      <td>21.87</td>\n",
       "      <td>25.56</td>\n",
       "      <td>29.65</td>\n",
       "    </tr>\n",
       "  </tbody>\n",
       "</table>\n",
       "</div>"
      ],
      "text/plain": [
       "                         count       mean         std   min      25%      50%  \\\n",
       "area_harvested_ha    143236.00  230409.84  1642560.09  1.00   733.00  5063.00   \n",
       "production_tonnes    143236.00 1364555.02 12971150.43  0.06  4428.00 35000.00   \n",
       "yield_hg/ha          143236.00  140882.37   298056.73  9.00 24023.75 71794.00   \n",
       "avg_rainfall_mm_year 143236.00    1148.16      763.87 56.00   591.00  1032.00   \n",
       "avg_temp_ºC          143236.00      19.50        7.51 -3.96    12.68    21.87   \n",
       "\n",
       "                           75%          max  \n",
       "area_harvested_ha     35942.25  46400000.00  \n",
       "production_tonnes    231800.00 768594154.00  \n",
       "yield_hg/ha          163469.25   8755278.00  \n",
       "avg_rainfall_mm_year   1668.00      3205.11  \n",
       "avg_temp_ºC              25.56        29.65  "
      ]
     },
     "execution_count": 325,
     "metadata": {},
     "output_type": "execute_result"
    }
   ],
   "source": [
    "df_filtered.describe().T"
   ]
  },
  {
   "cell_type": "code",
   "execution_count": 326,
   "metadata": {},
   "outputs": [
    {
     "data": {
      "image/png": "[encoded data removed]",
      "text/plain": [
       "<Figure size 1500x500 with 1 Axes>"
      ]
     },
     "metadata": {},
     "output_type": "display_data"
    }
   ],
   "source": [
    "# kernel density estimate (KDE) plot\n",
    "plt.figure(figsize=(15, 5))\n",
    "ax = sns.kdeplot(data=df_filtered, x='area_harvested_ha', fill=True, color=agro[2])\n",
    "ax.set_xlabel('Density', fontsize=14)\n",
    "ax.set_ylabel('Area harvested (ha)', fontsize=14)\n",
    "plt.show()"
   ]
  },
  {
   "cell_type": "code",
   "execution_count": 327,
   "metadata": {},
   "outputs": [
    {
     "data": {
      "image/png": "[encoded data removed]",
      "text/plain": [
       "<Figure size 1500x500 with 1 Axes>"
      ]
     },
     "metadata": {},
     "output_type": "display_data"
    }
   ],
   "source": [
    "# kernel density estimate (KDE) plot\n",
    "plt.figure(figsize=(15, 5))\n",
    "ax = sns.kdeplot(data=df_filtered, x='production_tonnes', fill=True, color=agro[2])\n",
    "ax.set_xlabel('Density', fontsize=14)\n",
    "ax.set_ylabel('Crop production (tonnes)', fontsize=14)\n",
    "plt.show()"
   ]
  },
  {
   "cell_type": "code",
   "execution_count": 328,
   "metadata": {},
   "outputs": [
    {
     "data": {
      "image/png": "[encoded data removed]",
      "text/plain": [
       "<Figure size 1500x500 with 1 Axes>"
      ]
     },
     "metadata": {},
     "output_type": "display_data"
    }
   ],
   "source": [
    "# kernel density estimate (KDE) plot\n",
    "plt.figure(figsize=(15, 5))\n",
    "ax = sns.kdeplot(data=df_filtered, x='yield_hg/ha', fill=True, color=agro[2])\n",
    "ax.set_xlabel('Density', fontsize=14)\n",
    "ax.set_ylabel('Crop yield (hg/ha)', fontsize=14)\n",
    "plt.show()"
   ]
  },
  {
   "cell_type": "code",
   "execution_count": 419,
   "metadata": {},
   "outputs": [],
   "source": [
    "# Save final df in csv:\n",
    "df_filtered.to_csv('Data/df_preprocessed.csv', index=False)"
   ]
  }
 ],
 "metadata": {
  "kernelspec": {
   "display_name": "Python 3",
   "language": "python",
   "name": "python3"
  },
  "language_info": {
   "codemirror_mode": {
    "name": "ipython",
    "version": 3
   },
   "file_extension": ".py",
   "mimetype": "text/x-python",
   "name": "python",
   "nbconvert_exporter": "python",
   "pygments_lexer": "ipython3",
   "version": "3.10.10"
  }
 },
 "nbformat": 4,
 "nbformat_minor": 2
}
