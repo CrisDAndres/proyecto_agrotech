{
 "cells": [
  {
   "cell_type": "markdown",
   "metadata": {},
   "source": [
    "*Data source:*\n",
    "\n",
    "- [*FAOSTAT: Food and Agriculture Organization of the United Nations*](https://www.fao.org/faostat/en/#release_calendar)\n",
    "- [*The world bank*](https://databank.worldbank.org/)\n",
    "- *https://tradingeconomics.com/country-list/temperature*"
   ]
  },
  {
   "cell_type": "markdown",
   "metadata": {},
   "source": [
    "**Table of contents**<a id='toc0_'></a>    \n",
    "1. [Import libraries and other useful code.](#toc1_)    \n",
    "2. [Dataset reading and preprocessing.](#toc2_)    \n",
    "    2.1. [Crop dataset](#toc2_1_)    \n",
    "    2.2. [Precipitations dataset](#toc2_2_)    \n",
    "        2.2.1. [NaN values](#toc2_2_1_) \n",
    "    2.3. [Pesticides dataset](#toc2_3_) \n",
    "    2.4. [Fertilizers dataset](#toc2_4_)    \n",
    "        2.4.1. [NaN values](#toc2_4_1_)\n",
    "    2.5. [Temperature dataset](#toc2_5_)    \n",
    "3. [Create final dataframe.](#toc3_)    \n",
    "    3.1. [Merge datasets](#toc3_1_) \n",
    "    3.2. [NaN values](#toc3_2_) "
   ]
  },
  {
   "cell_type": "markdown",
   "metadata": {},
   "source": [
    "---\n",
    "## 1. [Import libraries and other useful code](#toc0_)<a id='toc1_'></a>"
   ]
  },
  {
   "cell_type": "code",
   "execution_count": 1,
   "metadata": {},
   "outputs": [],
   "source": [
    "import numpy as np \n",
    "import pandas as pd\n",
    "import os\n",
    "import re\n",
    "import json"
   ]
  },
  {
   "cell_type": "code",
   "execution_count": 2,
   "metadata": {},
   "outputs": [],
   "source": [
    "import warnings\n",
    "warnings.filterwarnings(\"ignore\", category=FutureWarning)"
   ]
  },
  {
   "cell_type": "code",
   "execution_count": 3,
   "metadata": {},
   "outputs": [],
   "source": [
    "# Set the display of numbers in decimal notation\n",
    "pd.set_option('display.float_format', lambda x: '%.2f' % x)"
   ]
  },
  {
   "cell_type": "markdown",
   "metadata": {},
   "source": [
    "## 2. [Dataset reading and preprocessing](#toc0_)<a id='toc2_'></a>"
   ]
  },
  {
   "cell_type": "markdown",
   "metadata": {},
   "source": [
    "### 2.1. [Crop dataset](#toc0_)<a id='toc2_1_'></a>"
   ]
  },
  {
   "cell_type": "code",
   "execution_count": 45,
   "metadata": {},
   "outputs": [],
   "source": [
    "crop = pd.read_csv('Data/crop_yield/Production_Crops_Livestock_E_All_Data_Normalized.csv',encoding='latin-1', low_memory=False) # low_memory = False to avoid Dtypewarning"
   ]
  },
  {
   "cell_type": "markdown",
   "metadata": {},
   "source": [
    "I have downloaded a dataset that contains information on continents as well as countries. I am going to clean up the Area column so that only the rows with the countries are displayed."
   ]
  },
  {
   "cell_type": "code",
   "execution_count": 7,
   "metadata": {},
   "outputs": [],
   "source": [
    "# # Save country list in a JSON file\n",
    "# with open('json/countries.json', 'w') as f:\n",
    "#     json.dump(countries, f)"
   ]
  },
  {
   "cell_type": "code",
   "execution_count": 46,
   "metadata": {},
   "outputs": [],
   "source": [
    "# read JSON file with countries list\n",
    "with open('json/countries.json', 'r') as f:\n",
    "    countries = json.load(f)"
   ]
  },
  {
   "cell_type": "code",
   "execution_count": 47,
   "metadata": {},
   "outputs": [],
   "source": [
    "# Filter the original DataFrame to keep only the countries. \n",
    "crop = crop[crop['Area'].isin(countries)]"
   ]
  },
  {
   "cell_type": "code",
   "execution_count": 48,
   "metadata": {},
   "outputs": [],
   "source": [
    "# correction of country names\n",
    "crop['Area'].replace('Bolivia (Plurinational State of)','Bolivia', inplace=True)\n",
    "crop['Area'].replace('Iran (Islamic Republic of)','Iran', inplace=True)\n",
    "crop['Area'].replace('Micronesia (Federated States of)','Micronesia', inplace=True)\n",
    "crop['Area'].replace('Netherlands (Kingdom of the)','Netherlands', inplace=True)\n",
    "crop['Area'].replace('United Kingdom of Great Britain and Northern Ireland','United Kingdom', inplace=True)\n",
    "crop['Area'].replace('Venezuela (Bolivarian Republic of)','Venezuela', inplace=True)\n",
    "crop['Area'].replace('United States of America','United States', inplace=True)\n",
    "crop['Area'].replace(\"Côte d'Ivoire\",\"Ivory Coast\", inplace=True)\n",
    "crop['Area'].replace('Russian Federation','Russia', inplace=True)\n",
    "crop['Area'].replace('United Republic of Tanzania','Tanzania', inplace=True)\n",
    "crop['Area'].replace('Türkiye','Turkey', inplace=True)\n",
    "crop['Area'].replace('Czechia','Czech Republic', inplace=True)\n",
    "crop['Area'].replace('Viet Nam','Vietnam', inplace=True)\n",
    "crop['Area'].replace('Syrian Arab Republic','Syria', inplace=True)\n",
    "crop['Area'].replace('Congo','Republic of the Congo', inplace=True)\n",
    "\n",
    "values_to_drop = ['Ethiopia PDR','China, Hong Kong SAR', 'China, Macao SAR', 'China, Taiwan Province of', 'China, mainland','Sudan (former)']\n",
    "crop = crop[~crop['Area'].isin(values_to_drop)]"
   ]
  },
  {
   "cell_type": "code",
   "execution_count": 49,
   "metadata": {},
   "outputs": [
    {
     "data": {
      "text/plain": [
       "(3007620, 14)"
      ]
     },
     "execution_count": 49,
     "metadata": {},
     "output_type": "execute_result"
    }
   ],
   "source": [
    "crop.shape"
   ]
  },
  {
   "cell_type": "code",
   "execution_count": 50,
   "metadata": {},
   "outputs": [],
   "source": [
    "# To have the same years in the datasets, filter the datasets from year 2010\n",
    "crop = crop[crop['Year']>=2010]"
   ]
  },
  {
   "cell_type": "code",
   "execution_count": 51,
   "metadata": {},
   "outputs": [],
   "source": [
    "# Delete innecessary columns\n",
    "crop.drop(columns=['Area Code', 'Area Code (M49)','Item Code (CPC)','Element Code','Unit','Year Code','Flag','Note'], inplace=True)"
   ]
  },
  {
   "cell_type": "code",
   "execution_count": 52,
   "metadata": {},
   "outputs": [
    {
     "data": {
      "text/plain": [
       "array(['Area harvested', 'Yield', 'Production', 'Stocks',\n",
       "       'Producing Animals/Slaughtered', 'Laying', 'Yield/Carcass Weight',\n",
       "       'Milk Animals'], dtype=object)"
      ]
     },
     "execution_count": 52,
     "metadata": {},
     "output_type": "execute_result"
    }
   ],
   "source": [
    "crop['Element'].unique()"
   ]
  },
  {
   "cell_type": "code",
   "execution_count": 53,
   "metadata": {},
   "outputs": [],
   "source": [
    "# delete element types\n",
    "delete_elements = ['Stocks', 'Laying', 'Milk Animals', 'Prod Popultn', 'Producing Animals/Slaughtered', 'Yield/Carcass Weight']\n",
    "\n",
    "# Filter the DataFrame to exclude the rows with the specified elements, and keep area harvested, yield and production\n",
    "crop = crop[~crop['Element'].isin(delete_elements)]"
   ]
  },
  {
   "cell_type": "code",
   "execution_count": 54,
   "metadata": {},
   "outputs": [],
   "source": [
    "# Change the name to Elements type\n",
    "crop['Element'] = crop['Element'].replace('Area harvested', 'area_harvested_ha')\n",
    "crop['Element'] = crop['Element'].replace('Yield', 'yield_hg/ha')\n",
    "crop['Element'] = crop['Element'].replace('Production', 'production_tonnes')"
   ]
  },
  {
   "cell_type": "markdown",
   "metadata": {},
   "source": [
    "Item column contains primary crops, processed crops, primary livestock, processed livestock and live animals. We are keeping only the primary crops:"
   ]
  },
  {
   "cell_type": "code",
   "execution_count": 17,
   "metadata": {},
   "outputs": [],
   "source": [
    "# # Save country list in a JSON file\n",
    "# with open('json/primarycrops.json', 'w') as f:\n",
    "#     json.dump(primarycrops_list, f)"
   ]
  },
  {
   "cell_type": "code",
   "execution_count": 55,
   "metadata": {},
   "outputs": [],
   "source": [
    "# read JSON file with primary crops list\n",
    "with open('json/primarycrops.json', 'r') as f:\n",
    "    primarycrops_list = json.load(f)"
   ]
  },
  {
   "cell_type": "code",
   "execution_count": 56,
   "metadata": {},
   "outputs": [],
   "source": [
    "# Filter the DataFrame to keep only the rows with the specified elements\n",
    "crop = crop[crop['Item'].isin(primarycrops_list)]"
   ]
  },
  {
   "cell_type": "code",
   "execution_count": 57,
   "metadata": {},
   "outputs": [],
   "source": [
    "# pivot.table creates a DataFrame where the items are separated into columns according to the type of item, keeping the relationship with the columns Area, Item and Year.\n",
    "\n",
    "crop = crop.pivot_table(index=['Area', 'Item Code', 'Item', 'Year'], columns='Element', values='Value').reset_index()\n",
    "# index: The columns we want to keep unchanged in the resulting DataFrame.\n",
    "# columns: The column whose values will be used to create the new columns in the resulting DataFrame.\n",
    "# values: The column whose values will be used to populate the resulting DataFrame. "
   ]
  },
  {
   "cell_type": "code",
   "execution_count": 58,
   "metadata": {},
   "outputs": [],
   "source": [
    "# Change the name to the Item column\n",
    "crop.rename(columns={'Item': 'Crop'}, inplace=True)"
   ]
  },
  {
   "cell_type": "code",
   "execution_count": 59,
   "metadata": {},
   "outputs": [
    {
     "data": {
      "text/html": [
       "<div>\n",
       "<style scoped>\n",
       "    .dataframe tbody tr th:only-of-type {\n",
       "        vertical-align: middle;\n",
       "    }\n",
       "\n",
       "    .dataframe tbody tr th {\n",
       "        vertical-align: top;\n",
       "    }\n",
       "\n",
       "    .dataframe thead th {\n",
       "        text-align: right;\n",
       "    }\n",
       "</style>\n",
       "<table border=\"1\" class=\"dataframe\">\n",
       "  <thead>\n",
       "    <tr style=\"text-align: right;\">\n",
       "      <th>Element</th>\n",
       "      <th>Area</th>\n",
       "      <th>Item Code</th>\n",
       "      <th>Crop</th>\n",
       "      <th>Year</th>\n",
       "      <th>area_harvested_ha</th>\n",
       "      <th>production_tonnes</th>\n",
       "      <th>yield_hg/ha</th>\n",
       "    </tr>\n",
       "  </thead>\n",
       "  <tbody>\n",
       "    <tr>\n",
       "      <th>0</th>\n",
       "      <td>Afghanistan</td>\n",
       "      <td>15</td>\n",
       "      <td>Wheat</td>\n",
       "      <td>2010</td>\n",
       "      <td>2354000.00</td>\n",
       "      <td>4532000.00</td>\n",
       "      <td>19252.00</td>\n",
       "    </tr>\n",
       "    <tr>\n",
       "      <th>1</th>\n",
       "      <td>Afghanistan</td>\n",
       "      <td>15</td>\n",
       "      <td>Wheat</td>\n",
       "      <td>2011</td>\n",
       "      <td>2232000.00</td>\n",
       "      <td>3388000.00</td>\n",
       "      <td>15179.00</td>\n",
       "    </tr>\n",
       "    <tr>\n",
       "      <th>2</th>\n",
       "      <td>Afghanistan</td>\n",
       "      <td>15</td>\n",
       "      <td>Wheat</td>\n",
       "      <td>2012</td>\n",
       "      <td>2512000.00</td>\n",
       "      <td>5050000.00</td>\n",
       "      <td>20104.00</td>\n",
       "    </tr>\n",
       "    <tr>\n",
       "      <th>3</th>\n",
       "      <td>Afghanistan</td>\n",
       "      <td>15</td>\n",
       "      <td>Wheat</td>\n",
       "      <td>2013</td>\n",
       "      <td>2552922.00</td>\n",
       "      <td>5169235.00</td>\n",
       "      <td>20248.00</td>\n",
       "    </tr>\n",
       "    <tr>\n",
       "      <th>4</th>\n",
       "      <td>Afghanistan</td>\n",
       "      <td>15</td>\n",
       "      <td>Wheat</td>\n",
       "      <td>2014</td>\n",
       "      <td>2653746.00</td>\n",
       "      <td>5370259.00</td>\n",
       "      <td>20237.00</td>\n",
       "    </tr>\n",
       "  </tbody>\n",
       "</table>\n",
       "</div>"
      ],
      "text/plain": [
       "Element         Area  Item Code   Crop  Year  area_harvested_ha  \\\n",
       "0        Afghanistan         15  Wheat  2010         2354000.00   \n",
       "1        Afghanistan         15  Wheat  2011         2232000.00   \n",
       "2        Afghanistan         15  Wheat  2012         2512000.00   \n",
       "3        Afghanistan         15  Wheat  2013         2552922.00   \n",
       "4        Afghanistan         15  Wheat  2014         2653746.00   \n",
       "\n",
       "Element  production_tonnes  yield_hg/ha  \n",
       "0               4532000.00     19252.00  \n",
       "1               3388000.00     15179.00  \n",
       "2               5050000.00     20104.00  \n",
       "3               5169235.00     20248.00  \n",
       "4               5370259.00     20237.00  "
      ]
     },
     "execution_count": 59,
     "metadata": {},
     "output_type": "execute_result"
    }
   ],
   "source": [
    "crop.head()"
   ]
  },
  {
   "cell_type": "markdown",
   "metadata": {},
   "source": [
    "### 2.2. [Precipitations dataset](#toc0_)<a id='toc2_2_'></a>"
   ]
  },
  {
   "cell_type": "code",
   "execution_count": 90,
   "metadata": {},
   "outputs": [],
   "source": [
    "prec = pd.read_csv('Data/TWB_avg_precip/prec_filtered_metadata.csv',encoding='latin-1') # Average precipitation in depth (mm per year)"
   ]
  },
  {
   "cell_type": "code",
   "execution_count": 82,
   "metadata": {},
   "outputs": [
    {
     "data": {
      "text/html": [
       "<div>\n",
       "<style scoped>\n",
       "    .dataframe tbody tr th:only-of-type {\n",
       "        vertical-align: middle;\n",
       "    }\n",
       "\n",
       "    .dataframe tbody tr th {\n",
       "        vertical-align: top;\n",
       "    }\n",
       "\n",
       "    .dataframe thead th {\n",
       "        text-align: right;\n",
       "    }\n",
       "</style>\n",
       "<table border=\"1\" class=\"dataframe\">\n",
       "  <thead>\n",
       "    <tr style=\"text-align: right;\">\n",
       "      <th></th>\n",
       "      <th>Series Name</th>\n",
       "      <th>Series Code</th>\n",
       "      <th>Country Name</th>\n",
       "      <th>Country Code</th>\n",
       "      <th>2010 [YR2010]</th>\n",
       "      <th>2011 [YR2011]</th>\n",
       "      <th>2012 [YR2012]</th>\n",
       "      <th>2013 [YR2013]</th>\n",
       "      <th>2014 [YR2014]</th>\n",
       "      <th>2015 [YR2015]</th>\n",
       "      <th>2016 [YR2016]</th>\n",
       "      <th>2017 [YR2017]</th>\n",
       "      <th>2018 [YR2018]</th>\n",
       "      <th>2019 [YR2019]</th>\n",
       "      <th>2020 [YR2020]</th>\n",
       "      <th>2021 [YR2021]</th>\n",
       "      <th>2022 [YR2022]</th>\n",
       "      <th>2023 [YR2023]</th>\n",
       "    </tr>\n",
       "  </thead>\n",
       "  <tbody>\n",
       "    <tr>\n",
       "      <th>0</th>\n",
       "      <td>Average precipitation in depth (mm per year)</td>\n",
       "      <td>AG.LND.PRCP.MM</td>\n",
       "      <td>Afghanistan</td>\n",
       "      <td>AFG</td>\n",
       "      <td>327</td>\n",
       "      <td>327</td>\n",
       "      <td>327</td>\n",
       "      <td>327</td>\n",
       "      <td>327</td>\n",
       "      <td>327</td>\n",
       "      <td>327</td>\n",
       "      <td>327</td>\n",
       "      <td>327</td>\n",
       "      <td>327</td>\n",
       "      <td>327</td>\n",
       "      <td>..</td>\n",
       "      <td>..</td>\n",
       "      <td>..</td>\n",
       "    </tr>\n",
       "    <tr>\n",
       "      <th>1</th>\n",
       "      <td>Average precipitation in depth (mm per year)</td>\n",
       "      <td>AG.LND.PRCP.MM</td>\n",
       "      <td>Albania</td>\n",
       "      <td>ALB</td>\n",
       "      <td>1485</td>\n",
       "      <td>1485</td>\n",
       "      <td>1485</td>\n",
       "      <td>1485</td>\n",
       "      <td>1485</td>\n",
       "      <td>1485</td>\n",
       "      <td>1485</td>\n",
       "      <td>1485</td>\n",
       "      <td>1485</td>\n",
       "      <td>1485</td>\n",
       "      <td>1485</td>\n",
       "      <td>..</td>\n",
       "      <td>..</td>\n",
       "      <td>..</td>\n",
       "    </tr>\n",
       "    <tr>\n",
       "      <th>2</th>\n",
       "      <td>Average precipitation in depth (mm per year)</td>\n",
       "      <td>AG.LND.PRCP.MM</td>\n",
       "      <td>Algeria</td>\n",
       "      <td>DZA</td>\n",
       "      <td>89</td>\n",
       "      <td>89</td>\n",
       "      <td>89</td>\n",
       "      <td>89</td>\n",
       "      <td>89</td>\n",
       "      <td>89</td>\n",
       "      <td>89</td>\n",
       "      <td>89</td>\n",
       "      <td>89</td>\n",
       "      <td>89</td>\n",
       "      <td>89</td>\n",
       "      <td>..</td>\n",
       "      <td>..</td>\n",
       "      <td>..</td>\n",
       "    </tr>\n",
       "    <tr>\n",
       "      <th>3</th>\n",
       "      <td>Average precipitation in depth (mm per year)</td>\n",
       "      <td>AG.LND.PRCP.MM</td>\n",
       "      <td>American Samoa</td>\n",
       "      <td>ASM</td>\n",
       "      <td>..</td>\n",
       "      <td>..</td>\n",
       "      <td>..</td>\n",
       "      <td>..</td>\n",
       "      <td>..</td>\n",
       "      <td>..</td>\n",
       "      <td>..</td>\n",
       "      <td>..</td>\n",
       "      <td>..</td>\n",
       "      <td>..</td>\n",
       "      <td>..</td>\n",
       "      <td>..</td>\n",
       "      <td>..</td>\n",
       "      <td>..</td>\n",
       "    </tr>\n",
       "    <tr>\n",
       "      <th>4</th>\n",
       "      <td>Average precipitation in depth (mm per year)</td>\n",
       "      <td>AG.LND.PRCP.MM</td>\n",
       "      <td>Andorra</td>\n",
       "      <td>AND</td>\n",
       "      <td>..</td>\n",
       "      <td>..</td>\n",
       "      <td>..</td>\n",
       "      <td>..</td>\n",
       "      <td>..</td>\n",
       "      <td>..</td>\n",
       "      <td>..</td>\n",
       "      <td>..</td>\n",
       "      <td>..</td>\n",
       "      <td>..</td>\n",
       "      <td>..</td>\n",
       "      <td>..</td>\n",
       "      <td>..</td>\n",
       "      <td>..</td>\n",
       "    </tr>\n",
       "  </tbody>\n",
       "</table>\n",
       "</div>"
      ],
      "text/plain": [
       "                                    Series Name     Series Code  \\\n",
       "0  Average precipitation in depth (mm per year)  AG.LND.PRCP.MM   \n",
       "1  Average precipitation in depth (mm per year)  AG.LND.PRCP.MM   \n",
       "2  Average precipitation in depth (mm per year)  AG.LND.PRCP.MM   \n",
       "3  Average precipitation in depth (mm per year)  AG.LND.PRCP.MM   \n",
       "4  Average precipitation in depth (mm per year)  AG.LND.PRCP.MM   \n",
       "\n",
       "     Country Name Country Code 2010 [YR2010] 2011 [YR2011] 2012 [YR2012]  \\\n",
       "0     Afghanistan          AFG           327           327           327   \n",
       "1         Albania          ALB          1485          1485          1485   \n",
       "2         Algeria          DZA            89            89            89   \n",
       "3  American Samoa          ASM            ..            ..            ..   \n",
       "4         Andorra          AND            ..            ..            ..   \n",
       "\n",
       "  2013 [YR2013] 2014 [YR2014] 2015 [YR2015] 2016 [YR2016] 2017 [YR2017]  \\\n",
       "0           327           327           327           327           327   \n",
       "1          1485          1485          1485          1485          1485   \n",
       "2            89            89            89            89            89   \n",
       "3            ..            ..            ..            ..            ..   \n",
       "4            ..            ..            ..            ..            ..   \n",
       "\n",
       "  2018 [YR2018] 2019 [YR2019] 2020 [YR2020] 2021 [YR2021] 2022 [YR2022]  \\\n",
       "0           327           327           327            ..            ..   \n",
       "1          1485          1485          1485            ..            ..   \n",
       "2            89            89            89            ..            ..   \n",
       "3            ..            ..            ..            ..            ..   \n",
       "4            ..            ..            ..            ..            ..   \n",
       "\n",
       "  2023 [YR2023]  \n",
       "0            ..  \n",
       "1            ..  \n",
       "2            ..  \n",
       "3            ..  \n",
       "4            ..  "
      ]
     },
     "execution_count": 82,
     "metadata": {},
     "output_type": "execute_result"
    }
   ],
   "source": [
    "prec.head()"
   ]
  },
  {
   "cell_type": "code",
   "execution_count": 91,
   "metadata": {},
   "outputs": [],
   "source": [
    "# Delete innecessary columns\n",
    "prec.drop(columns=['Series Name', 'Series Code','Country Code'], inplace=True)"
   ]
  },
  {
   "cell_type": "code",
   "execution_count": 92,
   "metadata": {},
   "outputs": [],
   "source": [
    "# Change name columns\n",
    "col = prec.columns\n",
    "# Apply the regular expression using comprehension lists\n",
    "years = [re.search(r'\\d{4}', x).group() if re.search(r'\\d{4}', x) else 'Area' for x in col]\n",
    "# Change name columns with the new list years\n",
    "prec.columns = years"
   ]
  },
  {
   "cell_type": "code",
   "execution_count": 93,
   "metadata": {},
   "outputs": [
    {
     "data": {
      "text/html": [
       "<div>\n",
       "<style scoped>\n",
       "    .dataframe tbody tr th:only-of-type {\n",
       "        vertical-align: middle;\n",
       "    }\n",
       "\n",
       "    .dataframe tbody tr th {\n",
       "        vertical-align: top;\n",
       "    }\n",
       "\n",
       "    .dataframe thead th {\n",
       "        text-align: right;\n",
       "    }\n",
       "</style>\n",
       "<table border=\"1\" class=\"dataframe\">\n",
       "  <thead>\n",
       "    <tr style=\"text-align: right;\">\n",
       "      <th></th>\n",
       "      <th>Area</th>\n",
       "      <th>2010</th>\n",
       "      <th>2011</th>\n",
       "      <th>2012</th>\n",
       "      <th>2013</th>\n",
       "      <th>2014</th>\n",
       "      <th>2015</th>\n",
       "      <th>2016</th>\n",
       "      <th>2017</th>\n",
       "      <th>2018</th>\n",
       "      <th>2019</th>\n",
       "      <th>2020</th>\n",
       "      <th>2021</th>\n",
       "      <th>2022</th>\n",
       "      <th>2023</th>\n",
       "    </tr>\n",
       "  </thead>\n",
       "  <tbody>\n",
       "    <tr>\n",
       "      <th>0</th>\n",
       "      <td>Afghanistan</td>\n",
       "      <td>327</td>\n",
       "      <td>327</td>\n",
       "      <td>327</td>\n",
       "      <td>327</td>\n",
       "      <td>327</td>\n",
       "      <td>327</td>\n",
       "      <td>327</td>\n",
       "      <td>327</td>\n",
       "      <td>327</td>\n",
       "      <td>327</td>\n",
       "      <td>327</td>\n",
       "      <td>..</td>\n",
       "      <td>..</td>\n",
       "      <td>..</td>\n",
       "    </tr>\n",
       "    <tr>\n",
       "      <th>1</th>\n",
       "      <td>Albania</td>\n",
       "      <td>1485</td>\n",
       "      <td>1485</td>\n",
       "      <td>1485</td>\n",
       "      <td>1485</td>\n",
       "      <td>1485</td>\n",
       "      <td>1485</td>\n",
       "      <td>1485</td>\n",
       "      <td>1485</td>\n",
       "      <td>1485</td>\n",
       "      <td>1485</td>\n",
       "      <td>1485</td>\n",
       "      <td>..</td>\n",
       "      <td>..</td>\n",
       "      <td>..</td>\n",
       "    </tr>\n",
       "    <tr>\n",
       "      <th>2</th>\n",
       "      <td>Algeria</td>\n",
       "      <td>89</td>\n",
       "      <td>89</td>\n",
       "      <td>89</td>\n",
       "      <td>89</td>\n",
       "      <td>89</td>\n",
       "      <td>89</td>\n",
       "      <td>89</td>\n",
       "      <td>89</td>\n",
       "      <td>89</td>\n",
       "      <td>89</td>\n",
       "      <td>89</td>\n",
       "      <td>..</td>\n",
       "      <td>..</td>\n",
       "      <td>..</td>\n",
       "    </tr>\n",
       "    <tr>\n",
       "      <th>3</th>\n",
       "      <td>American Samoa</td>\n",
       "      <td>..</td>\n",
       "      <td>..</td>\n",
       "      <td>..</td>\n",
       "      <td>..</td>\n",
       "      <td>..</td>\n",
       "      <td>..</td>\n",
       "      <td>..</td>\n",
       "      <td>..</td>\n",
       "      <td>..</td>\n",
       "      <td>..</td>\n",
       "      <td>..</td>\n",
       "      <td>..</td>\n",
       "      <td>..</td>\n",
       "      <td>..</td>\n",
       "    </tr>\n",
       "    <tr>\n",
       "      <th>4</th>\n",
       "      <td>Andorra</td>\n",
       "      <td>..</td>\n",
       "      <td>..</td>\n",
       "      <td>..</td>\n",
       "      <td>..</td>\n",
       "      <td>..</td>\n",
       "      <td>..</td>\n",
       "      <td>..</td>\n",
       "      <td>..</td>\n",
       "      <td>..</td>\n",
       "      <td>..</td>\n",
       "      <td>..</td>\n",
       "      <td>..</td>\n",
       "      <td>..</td>\n",
       "      <td>..</td>\n",
       "    </tr>\n",
       "  </tbody>\n",
       "</table>\n",
       "</div>"
      ],
      "text/plain": [
       "             Area  2010  2011  2012  2013  2014  2015  2016  2017  2018  2019  \\\n",
       "0     Afghanistan   327   327   327   327   327   327   327   327   327   327   \n",
       "1         Albania  1485  1485  1485  1485  1485  1485  1485  1485  1485  1485   \n",
       "2         Algeria    89    89    89    89    89    89    89    89    89    89   \n",
       "3  American Samoa    ..    ..    ..    ..    ..    ..    ..    ..    ..    ..   \n",
       "4         Andorra    ..    ..    ..    ..    ..    ..    ..    ..    ..    ..   \n",
       "\n",
       "   2020 2021 2022 2023  \n",
       "0   327   ..   ..   ..  \n",
       "1  1485   ..   ..   ..  \n",
       "2    89   ..   ..   ..  \n",
       "3    ..   ..   ..   ..  \n",
       "4    ..   ..   ..   ..  "
      ]
     },
     "execution_count": 93,
     "metadata": {},
     "output_type": "execute_result"
    }
   ],
   "source": [
    "prec.head()"
   ]
  },
  {
   "cell_type": "code",
   "execution_count": 94,
   "metadata": {},
   "outputs": [],
   "source": [
    "# correction of country names\n",
    "prec['Area'].replace('Venezuela, RB','Venezuela', inplace=True)\n",
    "prec['Area'].replace('Iran, Islamic Rep.','Iran', inplace=True)\n",
    "prec['Area'].replace('Congo, Dem. Rep.','Democratic Republic of the Congo', inplace=True)\n",
    "prec['Area'].replace('Congo, Rep.','Republic of the Congo', inplace=True)\n",
    "prec['Area'].replace('Russian Federation','Russia', inplace=True)\n",
    "prec['Area'].replace('Turkiye','Turkey', inplace=True)\n",
    "prec['Area'].replace(\"Cote d'Ivoire\",\"Ivory Coast\", inplace=True)\n",
    "prec['Area'].replace(\"Egypt, Arab Rep.\",\"Egypt\", inplace=True)\n",
    "prec['Area'].replace('Yemen, Rep.','Yemen', inplace=True)\n",
    "prec['Area'].replace('Czechia','Czech Republic', inplace=True)\n",
    "prec['Area'].replace('Viet Nam','Vietnam', inplace=True)\n",
    "prec['Area'].replace('Syrian Arab Republic','Syria', inplace=True)"
   ]
  },
  {
   "cell_type": "code",
   "execution_count": 95,
   "metadata": {},
   "outputs": [
    {
     "data": {
      "text/html": [
       "<div>\n",
       "<style scoped>\n",
       "    .dataframe tbody tr th:only-of-type {\n",
       "        vertical-align: middle;\n",
       "    }\n",
       "\n",
       "    .dataframe tbody tr th {\n",
       "        vertical-align: top;\n",
       "    }\n",
       "\n",
       "    .dataframe thead th {\n",
       "        text-align: right;\n",
       "    }\n",
       "</style>\n",
       "<table border=\"1\" class=\"dataframe\">\n",
       "  <thead>\n",
       "    <tr style=\"text-align: right;\">\n",
       "      <th></th>\n",
       "      <th>Area</th>\n",
       "      <th>2010</th>\n",
       "      <th>2011</th>\n",
       "      <th>2012</th>\n",
       "      <th>2013</th>\n",
       "      <th>2014</th>\n",
       "      <th>2015</th>\n",
       "      <th>2016</th>\n",
       "      <th>2017</th>\n",
       "      <th>2018</th>\n",
       "      <th>2019</th>\n",
       "      <th>2020</th>\n",
       "      <th>2021</th>\n",
       "      <th>2022</th>\n",
       "      <th>2023</th>\n",
       "    </tr>\n",
       "  </thead>\n",
       "  <tbody>\n",
       "    <tr>\n",
       "      <th>219</th>\n",
       "      <td>NaN</td>\n",
       "      <td>NaN</td>\n",
       "      <td>NaN</td>\n",
       "      <td>NaN</td>\n",
       "      <td>NaN</td>\n",
       "      <td>NaN</td>\n",
       "      <td>NaN</td>\n",
       "      <td>NaN</td>\n",
       "      <td>NaN</td>\n",
       "      <td>NaN</td>\n",
       "      <td>NaN</td>\n",
       "      <td>NaN</td>\n",
       "      <td>NaN</td>\n",
       "      <td>NaN</td>\n",
       "      <td>NaN</td>\n",
       "    </tr>\n",
       "    <tr>\n",
       "      <th>220</th>\n",
       "      <td>NaN</td>\n",
       "      <td>NaN</td>\n",
       "      <td>NaN</td>\n",
       "      <td>NaN</td>\n",
       "      <td>NaN</td>\n",
       "      <td>NaN</td>\n",
       "      <td>NaN</td>\n",
       "      <td>NaN</td>\n",
       "      <td>NaN</td>\n",
       "      <td>NaN</td>\n",
       "      <td>NaN</td>\n",
       "      <td>NaN</td>\n",
       "      <td>NaN</td>\n",
       "      <td>NaN</td>\n",
       "      <td>NaN</td>\n",
       "    </tr>\n",
       "    <tr>\n",
       "      <th>221</th>\n",
       "      <td>NaN</td>\n",
       "      <td>NaN</td>\n",
       "      <td>NaN</td>\n",
       "      <td>NaN</td>\n",
       "      <td>NaN</td>\n",
       "      <td>NaN</td>\n",
       "      <td>NaN</td>\n",
       "      <td>NaN</td>\n",
       "      <td>NaN</td>\n",
       "      <td>NaN</td>\n",
       "      <td>NaN</td>\n",
       "      <td>NaN</td>\n",
       "      <td>NaN</td>\n",
       "      <td>NaN</td>\n",
       "      <td>NaN</td>\n",
       "    </tr>\n",
       "    <tr>\n",
       "      <th>222</th>\n",
       "      <td>Indicator Name</td>\n",
       "      <td>Source</td>\n",
       "      <td>Topic</td>\n",
       "      <td>Periodicity</td>\n",
       "      <td>Development relevance</td>\n",
       "      <td>Limitations and exceptions</td>\n",
       "      <td>License URL</td>\n",
       "      <td>NaN</td>\n",
       "      <td>NaN</td>\n",
       "      <td>NaN</td>\n",
       "      <td>NaN</td>\n",
       "      <td>NaN</td>\n",
       "      <td>NaN</td>\n",
       "      <td>NaN</td>\n",
       "      <td>NaN</td>\n",
       "    </tr>\n",
       "    <tr>\n",
       "      <th>223</th>\n",
       "      <td>Average precipitation in depth (mm per year)</td>\n",
       "      <td>Food and Agriculture Organization, electronic ...</td>\n",
       "      <td>Environment: Land use</td>\n",
       "      <td>Annual</td>\n",
       "      <td>The agriculture sector is the most water-inten...</td>\n",
       "      <td>The data are collected by the Food and Agricul...</td>\n",
       "      <td>https://datacatalog.worldbank.org/public-licen...</td>\n",
       "      <td>NaN</td>\n",
       "      <td>NaN</td>\n",
       "      <td>NaN</td>\n",
       "      <td>NaN</td>\n",
       "      <td>NaN</td>\n",
       "      <td>NaN</td>\n",
       "      <td>NaN</td>\n",
       "      <td>NaN</td>\n",
       "    </tr>\n",
       "  </tbody>\n",
       "</table>\n",
       "</div>"
      ],
      "text/plain": [
       "                                             Area  \\\n",
       "219                                           NaN   \n",
       "220                                           NaN   \n",
       "221                                           NaN   \n",
       "222                                Indicator Name   \n",
       "223  Average precipitation in depth (mm per year)   \n",
       "\n",
       "                                                  2010                   2011  \\\n",
       "219                                                NaN                    NaN   \n",
       "220                                                NaN                    NaN   \n",
       "221                                                NaN                    NaN   \n",
       "222                                             Source                  Topic   \n",
       "223  Food and Agriculture Organization, electronic ...  Environment: Land use   \n",
       "\n",
       "            2012                                               2013  \\\n",
       "219          NaN                                                NaN   \n",
       "220          NaN                                                NaN   \n",
       "221          NaN                                                NaN   \n",
       "222  Periodicity                              Development relevance   \n",
       "223       Annual  The agriculture sector is the most water-inten...   \n",
       "\n",
       "                                                  2014  \\\n",
       "219                                                NaN   \n",
       "220                                                NaN   \n",
       "221                                                NaN   \n",
       "222                         Limitations and exceptions   \n",
       "223  The data are collected by the Food and Agricul...   \n",
       "\n",
       "                                                  2015 2016 2017 2018 2019  \\\n",
       "219                                                NaN  NaN  NaN  NaN  NaN   \n",
       "220                                                NaN  NaN  NaN  NaN  NaN   \n",
       "221                                                NaN  NaN  NaN  NaN  NaN   \n",
       "222                                        License URL  NaN  NaN  NaN  NaN   \n",
       "223  https://datacatalog.worldbank.org/public-licen...  NaN  NaN  NaN  NaN   \n",
       "\n",
       "    2020 2021 2022 2023  \n",
       "219  NaN  NaN  NaN  NaN  \n",
       "220  NaN  NaN  NaN  NaN  \n",
       "221  NaN  NaN  NaN  NaN  \n",
       "222  NaN  NaN  NaN  NaN  \n",
       "223  NaN  NaN  NaN  NaN  "
      ]
     },
     "execution_count": 95,
     "metadata": {},
     "output_type": "execute_result"
    }
   ],
   "source": [
    "prec.tail()"
   ]
  },
  {
   "cell_type": "code",
   "execution_count": 96,
   "metadata": {},
   "outputs": [],
   "source": [
    "# delete the last two rows\n",
    "prec = prec.iloc[:-2]"
   ]
  },
  {
   "cell_type": "markdown",
   "metadata": {},
   "source": [
    "There are a lot of nan in the back rows, this will be addressed in the preprocessing section."
   ]
  },
  {
   "cell_type": "markdown",
   "metadata": {},
   "source": [
    "#### 2.2.1. <a id='toc2_2_1_'></a>[NaN values](#toc0_)"
   ]
  },
  {
   "cell_type": "code",
   "execution_count": 97,
   "metadata": {},
   "outputs": [],
   "source": [
    "# replace .. by NaN\n",
    "prec.replace('..', np.nan, inplace=True)"
   ]
  },
  {
   "cell_type": "code",
   "execution_count": 98,
   "metadata": {},
   "outputs": [
    {
     "data": {
      "text/plain": [
       "<Axes: >"
      ]
     },
     "execution_count": 98,
     "metadata": {},
     "output_type": "execute_result"
    },
    {
     "data": {
      "image/png": "[encoded data removed]",
      "text/plain": [
       "<Figure size 640x480 with 1 Axes>"
      ]
     },
     "metadata": {},
     "output_type": "display_data"
    }
   ],
   "source": [
    "sns.heatmap(prec.isnull(), cbar=False) # Visualize null values with a heatmap"
   ]
  },
  {
   "cell_type": "code",
   "execution_count": 99,
   "metadata": {},
   "outputs": [
    {
     "data": {
      "text/plain": [
       "Area     2.25\n",
       "2010    18.92\n",
       "2011    18.92\n",
       "2012    18.02\n",
       "2013    18.02\n",
       "2014    18.02\n",
       "2015    18.02\n",
       "2016    18.02\n",
       "2017    18.02\n",
       "2018    18.02\n",
       "2019    18.02\n",
       "2020    18.02\n",
       "2021   100.00\n",
       "2022   100.00\n",
       "2023   100.00\n",
       "dtype: float64"
      ]
     },
     "execution_count": 99,
     "metadata": {},
     "output_type": "execute_result"
    }
   ],
   "source": [
    "# percentage of nan values (columns)\n",
    "prec.isnull().sum() / len(prec) * 100"
   ]
  },
  {
   "cell_type": "code",
   "execution_count": 100,
   "metadata": {},
   "outputs": [
    {
     "data": {
      "text/plain": [
       "0      20.00\n",
       "1      20.00\n",
       "2      20.00\n",
       "3      93.33\n",
       "4      93.33\n",
       "       ...  \n",
       "217   100.00\n",
       "218   100.00\n",
       "219   100.00\n",
       "220   100.00\n",
       "221   100.00\n",
       "Length: 222, dtype: float64"
      ]
     },
     "execution_count": 100,
     "metadata": {},
     "output_type": "execute_result"
    }
   ],
   "source": [
    "# percentage of nan values (rows)\n",
    "prec.isnull().sum(axis=1) / prec.shape[1] * 100"
   ]
  },
  {
   "cell_type": "code",
   "execution_count": 101,
   "metadata": {},
   "outputs": [],
   "source": [
    "# # Calculate the percentage of null values in each row\n",
    "percent_missing_rows = prec.isnull().sum(axis=1) / prec.shape[1] * 100\n",
    "\n",
    "# Filter out rows with a percentage of nulls = 100\n",
    "missing_rows = percent_missing_rows[percent_missing_rows==100].index\n",
    "\n",
    "# Display rows with a percentage of nulls = 100\n",
    "prec.loc[missing_rows]\n",
    "\n",
    "# delete missing_rows\n",
    "prec.drop(missing_rows, inplace=True)"
   ]
  },
  {
   "cell_type": "code",
   "execution_count": 102,
   "metadata": {},
   "outputs": [],
   "source": [
    "# no information of the columns 2021, 2022, 2023. Delete\n",
    "\n",
    "prec.drop(columns=['2021', '2022','2023'], inplace=True)"
   ]
  },
  {
   "cell_type": "code",
   "execution_count": 103,
   "metadata": {},
   "outputs": [
    {
     "data": {
      "text/plain": [
       "Area    0.00\n",
       "2010   17.05\n",
       "2011   17.05\n",
       "2012   16.13\n",
       "2013   16.13\n",
       "2014   16.13\n",
       "2015   16.13\n",
       "2016   16.13\n",
       "2017   16.13\n",
       "2018   16.13\n",
       "2019   16.13\n",
       "2020   16.13\n",
       "dtype: float64"
      ]
     },
     "execution_count": 103,
     "metadata": {},
     "output_type": "execute_result"
    }
   ],
   "source": [
    "# percentage of nan values (columns)\n",
    "prec.isnull().sum() / len(prec) * 100"
   ]
  },
  {
   "cell_type": "code",
   "execution_count": 104,
   "metadata": {},
   "outputs": [
    {
     "name": "stdout",
     "output_type": "stream",
     "text": [
      "<class 'pandas.core.frame.DataFrame'>\n",
      "RangeIndex: 217 entries, 0 to 216\n",
      "Data columns (total 12 columns):\n",
      " #   Column  Non-Null Count  Dtype \n",
      "---  ------  --------------  ----- \n",
      " 0   Area    217 non-null    object\n",
      " 1   2010    180 non-null    object\n",
      " 2   2011    180 non-null    object\n",
      " 3   2012    182 non-null    object\n",
      " 4   2013    182 non-null    object\n",
      " 5   2014    182 non-null    object\n",
      " 6   2015    182 non-null    object\n",
      " 7   2016    182 non-null    object\n",
      " 8   2017    182 non-null    object\n",
      " 9   2018    182 non-null    object\n",
      " 10  2019    182 non-null    object\n",
      " 11  2020    182 non-null    object\n",
      "dtypes: object(12)\n",
      "memory usage: 20.5+ KB\n"
     ]
    }
   ],
   "source": [
    "prec.info()"
   ]
  },
  {
   "cell_type": "code",
   "execution_count": 105,
   "metadata": {},
   "outputs": [
    {
     "data": {
      "text/plain": [
       "Index(['Area', '2010', '2011', '2012', '2013', '2014', '2015', '2016', '2017',\n",
       "       '2018', '2019', '2020'],\n",
       "      dtype='object')"
      ]
     },
     "execution_count": 105,
     "metadata": {},
     "output_type": "execute_result"
    }
   ],
   "source": [
    "prec.columns"
   ]
  },
  {
   "cell_type": "code",
   "execution_count": 106,
   "metadata": {},
   "outputs": [],
   "source": [
    "# Change the number columns type to float\n",
    "year_col = ['2010', '2011', '2012', '2013', '2014', '2015', '2016', '2017',\n",
    "       '2018', '2019', '2020']\n",
    "prec[year_col]= prec[year_col].astype(float)"
   ]
  },
  {
   "cell_type": "markdown",
   "metadata": {},
   "source": [
    "As the rainfall values are mm per year and they are continuous variables, we will do the imputation with the mean value of mm per year:"
   ]
  },
  {
   "cell_type": "code",
   "execution_count": 107,
   "metadata": {},
   "outputs": [
    {
     "data": {
      "text/plain": [
       "Area   0.00\n",
       "2010   0.00\n",
       "2011   0.00\n",
       "2012   0.00\n",
       "2013   0.00\n",
       "2014   0.00\n",
       "2015   0.00\n",
       "2016   0.00\n",
       "2017   0.00\n",
       "2018   0.00\n",
       "2019   0.00\n",
       "2020   0.00\n",
       "dtype: float64"
      ]
     },
     "execution_count": 107,
     "metadata": {},
     "output_type": "execute_result"
    }
   ],
   "source": [
    "def repair_null(df, col):\n",
    "    if df[col].dtype == 'int64' or df[col].dtype == 'float64':\n",
    "        df[col] = df[col].fillna(df[col].mean())\n",
    "    else:\n",
    "        df[col] = df[col].fillna(df[col].mode()[0])\n",
    "    return df \n",
    "\n",
    "for col in prec.columns:\n",
    "    repair_null(prec, col)\n",
    "\n",
    "prec.isnull().sum()/len(prec)*100"
   ]
  },
  {
   "cell_type": "code",
   "execution_count": 108,
   "metadata": {},
   "outputs": [],
   "source": [
    "# calculation of the average rain fall from 2010-present in a new column\n",
    "\n",
    "prec['avg_rainfall_mm_year'] = prec[year_col].mean(axis=1).round(2)"
   ]
  },
  {
   "cell_type": "code",
   "execution_count": 109,
   "metadata": {},
   "outputs": [],
   "source": [
    "# create a new df with Area and average columns\n",
    "prec_filtered = prec[['Area','avg_rainfall_mm_year']].copy()"
   ]
  },
  {
   "cell_type": "code",
   "execution_count": 110,
   "metadata": {},
   "outputs": [
    {
     "data": {
      "text/plain": [
       "array(['Afghanistan', 'Albania', 'Algeria', 'American Samoa', 'Andorra',\n",
       "       'Angola', 'Antigua and Barbuda', 'Argentina', 'Armenia', 'Aruba',\n",
       "       'Australia', 'Austria', 'Azerbaijan', 'Bahamas, The', 'Bahrain',\n",
       "       'Bangladesh', 'Barbados', 'Belarus', 'Belgium', 'Belize', 'Benin',\n",
       "       'Bermuda', 'Bhutan', 'Bolivia', 'Bosnia and Herzegovina',\n",
       "       'Botswana', 'Brazil', 'British Virgin Islands',\n",
       "       'Brunei Darussalam', 'Bulgaria', 'Burkina Faso', 'Burundi',\n",
       "       'Cabo Verde', 'Cambodia', 'Cameroon', 'Canada', 'Cayman Islands',\n",
       "       'Central African Republic', 'Chad', 'Channel Islands', 'Chile',\n",
       "       'China', 'Colombia', 'Comoros', 'Democratic Republic of the Congo',\n",
       "       'Republic of the Congo', 'Costa Rica', 'Ivory Coast', 'Croatia',\n",
       "       'Cuba', 'Curacao', 'Cyprus', 'Czech Republic', 'Denmark',\n",
       "       'Djibouti', 'Dominica', 'Dominican Republic', 'Ecuador', 'Egypt',\n",
       "       'El Salvador', 'Equatorial Guinea', 'Eritrea', 'Estonia',\n",
       "       'Eswatini', 'Ethiopia', 'Faroe Islands', 'Fiji', 'Finland',\n",
       "       'France', 'French Polynesia', 'Gabon', 'Gambia, The', 'Georgia',\n",
       "       'Germany', 'Ghana', 'Gibraltar', 'Greece', 'Greenland', 'Grenada',\n",
       "       'Guam', 'Guatemala', 'Guinea', 'Guinea-Bissau', 'Guyana', 'Haiti',\n",
       "       'Honduras', 'Hong Kong SAR, China', 'Hungary', 'Iceland', 'India',\n",
       "       'Indonesia', 'Iran', 'Iraq', 'Ireland', 'Isle of Man', 'Israel',\n",
       "       'Italy', 'Jamaica', 'Japan', 'Jordan', 'Kazakhstan', 'Kenya',\n",
       "       'Kiribati', \"Korea, Dem. People's Rep.\", 'Korea, Rep.', 'Kosovo',\n",
       "       'Kuwait', 'Kyrgyz Republic', 'Lao PDR', 'Latvia', 'Lebanon',\n",
       "       'Lesotho', 'Liberia', 'Libya', 'Liechtenstein', 'Lithuania',\n",
       "       'Luxembourg', 'Macao SAR, China', 'Madagascar', 'Malawi',\n",
       "       'Malaysia', 'Maldives', 'Mali', 'Malta', 'Marshall Islands',\n",
       "       'Mauritania', 'Mauritius', 'Mexico', 'Micronesia, Fed. Sts.',\n",
       "       'Moldova', 'Monaco', 'Mongolia', 'Montenegro', 'Morocco',\n",
       "       'Mozambique', 'Myanmar', 'Namibia', 'Nauru', 'Nepal',\n",
       "       'Netherlands', 'New Caledonia', 'New Zealand', 'Nicaragua',\n",
       "       'Niger', 'Nigeria', 'North Macedonia', 'Northern Mariana Islands',\n",
       "       'Norway', 'Oman', 'Pakistan', 'Palau', 'Panama',\n",
       "       'Papua New Guinea', 'Paraguay', 'Peru', 'Philippines', 'Poland',\n",
       "       'Portugal', 'Puerto Rico', 'Qatar', 'Romania', 'Russia', 'Rwanda',\n",
       "       'Samoa', 'San Marino', 'Sao Tome and Principe', 'Saudi Arabia',\n",
       "       'Senegal', 'Serbia', 'Seychelles', 'Sierra Leone', 'Singapore',\n",
       "       'Sint Maarten (Dutch part)', 'Slovak Republic', 'Slovenia',\n",
       "       'Solomon Islands', 'Somalia', 'South Africa', 'South Sudan',\n",
       "       'Spain', 'Sri Lanka', 'St. Kitts and Nevis', 'St. Lucia',\n",
       "       'St. Martin (French part)', 'St. Vincent and the Grenadines',\n",
       "       'Sudan', 'Suriname', 'Sweden', 'Switzerland', 'Syria',\n",
       "       'Tajikistan', 'Tanzania', 'Thailand', 'Timor-Leste', 'Togo',\n",
       "       'Tonga', 'Trinidad and Tobago', 'Tunisia', 'Turkey',\n",
       "       'Turkmenistan', 'Turks and Caicos Islands', 'Tuvalu', 'Uganda',\n",
       "       'Ukraine', 'United Arab Emirates', 'United Kingdom',\n",
       "       'United States', 'Uruguay', 'Uzbekistan', 'Vanuatu', 'Venezuela',\n",
       "       'Vietnam', 'Virgin Islands (U.S.)', 'West Bank and Gaza', 'Yemen',\n",
       "       'Zambia', 'Zimbabwe'], dtype=object)"
      ]
     },
     "execution_count": 110,
     "metadata": {},
     "output_type": "execute_result"
    }
   ],
   "source": [
    "prec_filtered['Area'].unique()"
   ]
  },
  {
   "cell_type": "markdown",
   "metadata": {},
   "source": [
    "### 2.3. [Pesticides dataset](#toc0_)<a id='toc2_3_'></a>"
   ]
  },
  {
   "cell_type": "code",
   "execution_count": 47,
   "metadata": {},
   "outputs": [],
   "source": [
    "pest = pd.read_csv('Data/pesticides_use/pesticides_faostat_filtered.csv',encoding='latin-1',low_memory=False)"
   ]
  },
  {
   "cell_type": "code",
   "execution_count": 48,
   "metadata": {},
   "outputs": [
    {
     "data": {
      "text/html": [
       "<div>\n",
       "<style scoped>\n",
       "    .dataframe tbody tr th:only-of-type {\n",
       "        vertical-align: middle;\n",
       "    }\n",
       "\n",
       "    .dataframe tbody tr th {\n",
       "        vertical-align: top;\n",
       "    }\n",
       "\n",
       "    .dataframe thead th {\n",
       "        text-align: right;\n",
       "    }\n",
       "</style>\n",
       "<table border=\"1\" class=\"dataframe\">\n",
       "  <thead>\n",
       "    <tr style=\"text-align: right;\">\n",
       "      <th></th>\n",
       "      <th>ï»¿Domain Code</th>\n",
       "      <th>Domain</th>\n",
       "      <th>Area Code (M49)</th>\n",
       "      <th>Area</th>\n",
       "      <th>Element Code</th>\n",
       "      <th>Element</th>\n",
       "      <th>Item Code</th>\n",
       "      <th>Item</th>\n",
       "      <th>Year Code</th>\n",
       "      <th>Year</th>\n",
       "      <th>Unit</th>\n",
       "      <th>Value</th>\n",
       "      <th>Flag</th>\n",
       "      <th>Flag Description</th>\n",
       "      <th>Note</th>\n",
       "    </tr>\n",
       "  </thead>\n",
       "  <tbody>\n",
       "    <tr>\n",
       "      <th>0</th>\n",
       "      <td>RP</td>\n",
       "      <td>Pesticides Use</td>\n",
       "      <td>8</td>\n",
       "      <td>Albania</td>\n",
       "      <td>5157</td>\n",
       "      <td>Agricultural Use</td>\n",
       "      <td>1309</td>\n",
       "      <td>Insecticides</td>\n",
       "      <td>2010</td>\n",
       "      <td>2010</td>\n",
       "      <td>t</td>\n",
       "      <td>375.80</td>\n",
       "      <td>E</td>\n",
       "      <td>Estimated value</td>\n",
       "      <td>NaN</td>\n",
       "    </tr>\n",
       "    <tr>\n",
       "      <th>1</th>\n",
       "      <td>RP</td>\n",
       "      <td>Pesticides Use</td>\n",
       "      <td>8</td>\n",
       "      <td>Albania</td>\n",
       "      <td>5157</td>\n",
       "      <td>Agricultural Use</td>\n",
       "      <td>1309</td>\n",
       "      <td>Insecticides</td>\n",
       "      <td>2011</td>\n",
       "      <td>2011</td>\n",
       "      <td>t</td>\n",
       "      <td>317.07</td>\n",
       "      <td>E</td>\n",
       "      <td>Estimated value</td>\n",
       "      <td>NaN</td>\n",
       "    </tr>\n",
       "    <tr>\n",
       "      <th>2</th>\n",
       "      <td>RP</td>\n",
       "      <td>Pesticides Use</td>\n",
       "      <td>8</td>\n",
       "      <td>Albania</td>\n",
       "      <td>5157</td>\n",
       "      <td>Agricultural Use</td>\n",
       "      <td>1309</td>\n",
       "      <td>Insecticides</td>\n",
       "      <td>2012</td>\n",
       "      <td>2012</td>\n",
       "      <td>t</td>\n",
       "      <td>157.57</td>\n",
       "      <td>E</td>\n",
       "      <td>Estimated value</td>\n",
       "      <td>NaN</td>\n",
       "    </tr>\n",
       "    <tr>\n",
       "      <th>3</th>\n",
       "      <td>RP</td>\n",
       "      <td>Pesticides Use</td>\n",
       "      <td>8</td>\n",
       "      <td>Albania</td>\n",
       "      <td>5157</td>\n",
       "      <td>Agricultural Use</td>\n",
       "      <td>1309</td>\n",
       "      <td>Insecticides</td>\n",
       "      <td>2013</td>\n",
       "      <td>2013</td>\n",
       "      <td>t</td>\n",
       "      <td>214.13</td>\n",
       "      <td>E</td>\n",
       "      <td>Estimated value</td>\n",
       "      <td>NaN</td>\n",
       "    </tr>\n",
       "    <tr>\n",
       "      <th>4</th>\n",
       "      <td>RP</td>\n",
       "      <td>Pesticides Use</td>\n",
       "      <td>8</td>\n",
       "      <td>Albania</td>\n",
       "      <td>5157</td>\n",
       "      <td>Agricultural Use</td>\n",
       "      <td>1309</td>\n",
       "      <td>Insecticides</td>\n",
       "      <td>2014</td>\n",
       "      <td>2014</td>\n",
       "      <td>t</td>\n",
       "      <td>34.48</td>\n",
       "      <td>E</td>\n",
       "      <td>Estimated value</td>\n",
       "      <td>NaN</td>\n",
       "    </tr>\n",
       "  </tbody>\n",
       "</table>\n",
       "</div>"
      ],
      "text/plain": [
       "  ï»¿Domain Code          Domain  Area Code (M49)     Area  Element Code  \\\n",
       "0             RP  Pesticides Use                8  Albania          5157   \n",
       "1             RP  Pesticides Use                8  Albania          5157   \n",
       "2             RP  Pesticides Use                8  Albania          5157   \n",
       "3             RP  Pesticides Use                8  Albania          5157   \n",
       "4             RP  Pesticides Use                8  Albania          5157   \n",
       "\n",
       "            Element  Item Code          Item  Year Code  Year Unit  Value  \\\n",
       "0  Agricultural Use       1309  Insecticides       2010  2010    t 375.80   \n",
       "1  Agricultural Use       1309  Insecticides       2011  2011    t 317.07   \n",
       "2  Agricultural Use       1309  Insecticides       2012  2012    t 157.57   \n",
       "3  Agricultural Use       1309  Insecticides       2013  2013    t 214.13   \n",
       "4  Agricultural Use       1309  Insecticides       2014  2014    t  34.48   \n",
       "\n",
       "  Flag Flag Description Note  \n",
       "0    E  Estimated value  NaN  \n",
       "1    E  Estimated value  NaN  \n",
       "2    E  Estimated value  NaN  \n",
       "3    E  Estimated value  NaN  \n",
       "4    E  Estimated value  NaN  "
      ]
     },
     "execution_count": 48,
     "metadata": {},
     "output_type": "execute_result"
    }
   ],
   "source": [
    "pest.head()"
   ]
  },
  {
   "cell_type": "code",
   "execution_count": 49,
   "metadata": {},
   "outputs": [],
   "source": [
    "# create new filtered df\n",
    "pest_filtered = pest[['Area','Item','Year','Value']].copy()\n",
    "# Change the name to the new column\n",
    "pest_filtered.rename(columns={'Item': 'pesticides_type'}, inplace=True)\n",
    "pest_filtered.rename(columns={'Value': 'agricultural_use_tonnes'}, inplace=True)"
   ]
  },
  {
   "cell_type": "code",
   "execution_count": 50,
   "metadata": {},
   "outputs": [
    {
     "data": {
      "text/plain": [
       "Area                       0\n",
       "pesticides_type            0\n",
       "Year                       0\n",
       "agricultural_use_tonnes    0\n",
       "dtype: int64"
      ]
     },
     "execution_count": 50,
     "metadata": {},
     "output_type": "execute_result"
    }
   ],
   "source": [
    "pest_filtered.isnull().sum()"
   ]
  },
  {
   "cell_type": "code",
   "execution_count": 51,
   "metadata": {},
   "outputs": [
    {
     "data": {
      "text/plain": [
       "array(['Insecticides', 'Herbicides', 'Fungicides and Bactericides',\n",
       "       'Fungicides â\\x80\\x93 Seed treatments',\n",
       "       'Insecticides â\\x80\\x93 Seed Treatments', 'Rodenticides'],\n",
       "      dtype=object)"
      ]
     },
     "execution_count": 51,
     "metadata": {},
     "output_type": "execute_result"
    }
   ],
   "source": [
    "pest_filtered['pesticides_type'].unique()"
   ]
  },
  {
   "cell_type": "code",
   "execution_count": 52,
   "metadata": {},
   "outputs": [],
   "source": [
    "# Clean pesticides_type column\n",
    "pest_filtered['pesticides_type'] = pest_filtered['pesticides_type'].str.replace('â\\x80\\x93', ':')"
   ]
  },
  {
   "cell_type": "markdown",
   "metadata": {},
   "source": [
    "I will also correct the countries in this dataset to match the main dataset, as we will be merging the data in the future."
   ]
  },
  {
   "cell_type": "code",
   "execution_count": 53,
   "metadata": {},
   "outputs": [],
   "source": [
    "# correction of country names\n",
    "pest_filtered['Area'].replace('Bolivia (Plurinational State of)','Bolivia', inplace=True)\n",
    "pest_filtered['Area'].replace('Iran (Islamic Republic of)','Iran', inplace=True)\n",
    "pest_filtered['Area'].replace('Micronesia (Federated States of)','Micronesia', inplace=True)\n",
    "pest_filtered['Area'].replace('Netherlands (Kingdom of the)','Netherlands', inplace=True)\n",
    "pest_filtered['Area'].replace('United Kingdom of Great Britain and Northern Ireland','United Kingdom', inplace=True)\n",
    "pest_filtered['Area'].replace('Venezuela (Bolivarian Republic of)','Venezuela', inplace=True)\n",
    "pest_filtered['Area'].replace('United States of America','United States', inplace=True)\n",
    "pest_filtered['Area'].replace(\"Côte d'Ivoire\",\"Ivory Coast\", inplace=True)\n",
    "pest_filtered['Area'].replace('Russian Federation','Russia', inplace=True)\n",
    "pest_filtered['Area'].replace('United Republic of Tanzania','Tanzania', inplace=True)\n",
    "pest_filtered['Area'].replace('Türkiye','Turkey', inplace=True)\n",
    "pest_filtered['Area'].replace('Czechia','Czech Republic', inplace=True)\n",
    "pest_filtered['Area'].replace('Viet Nam','Vietnam', inplace=True)\n",
    "pest_filtered['Area'].replace('Syrian Arab Republic','Syria', inplace=True)\n",
    "pest_filtered['Area'].replace('Congo','Republic of the Congo', inplace=True)"
   ]
  },
  {
   "cell_type": "code",
   "execution_count": 54,
   "metadata": {},
   "outputs": [],
   "source": [
    "# Save pest_filtered in csv:\n",
    "pest_filtered.to_csv('Data/pest_preprocessed.csv', index=False) # with outliers"
   ]
  },
  {
   "cell_type": "markdown",
   "metadata": {},
   "source": [
    "### 2.4. [Fertilizers dataset](#toc0_)<a id='toc2_4_'></a>"
   ]
  },
  {
   "cell_type": "code",
   "execution_count": 4,
   "metadata": {},
   "outputs": [],
   "source": [
    "fert = pd.read_csv('Data/fertilizers/fertilizers_faostat_filtered.csv',encoding='latin-1',low_memory=False)"
   ]
  },
  {
   "cell_type": "code",
   "execution_count": 5,
   "metadata": {},
   "outputs": [
    {
     "data": {
      "text/html": [
       "<div>\n",
       "<style scoped>\n",
       "    .dataframe tbody tr th:only-of-type {\n",
       "        vertical-align: middle;\n",
       "    }\n",
       "\n",
       "    .dataframe tbody tr th {\n",
       "        vertical-align: top;\n",
       "    }\n",
       "\n",
       "    .dataframe thead th {\n",
       "        text-align: right;\n",
       "    }\n",
       "</style>\n",
       "<table border=\"1\" class=\"dataframe\">\n",
       "  <thead>\n",
       "    <tr style=\"text-align: right;\">\n",
       "      <th></th>\n",
       "      <th>ï»¿Domain Code</th>\n",
       "      <th>Domain</th>\n",
       "      <th>Area Code (M49)</th>\n",
       "      <th>Area</th>\n",
       "      <th>Element Code</th>\n",
       "      <th>Element</th>\n",
       "      <th>Item Code</th>\n",
       "      <th>Item</th>\n",
       "      <th>Year Code</th>\n",
       "      <th>Year</th>\n",
       "      <th>Unit</th>\n",
       "      <th>Value</th>\n",
       "      <th>Flag</th>\n",
       "      <th>Flag Description</th>\n",
       "      <th>Note</th>\n",
       "    </tr>\n",
       "  </thead>\n",
       "  <tbody>\n",
       "    <tr>\n",
       "      <th>0</th>\n",
       "      <td>RFN</td>\n",
       "      <td>Fertilizers by Nutrient</td>\n",
       "      <td>4</td>\n",
       "      <td>Afghanistan</td>\n",
       "      <td>5510</td>\n",
       "      <td>Production</td>\n",
       "      <td>3102</td>\n",
       "      <td>Nutrient nitrogen N (total)</td>\n",
       "      <td>2010</td>\n",
       "      <td>2010</td>\n",
       "      <td>t</td>\n",
       "      <td>12022.00</td>\n",
       "      <td>A</td>\n",
       "      <td>Official figure</td>\n",
       "      <td>Official data from questionnaire</td>\n",
       "    </tr>\n",
       "    <tr>\n",
       "      <th>1</th>\n",
       "      <td>RFN</td>\n",
       "      <td>Fertilizers by Nutrient</td>\n",
       "      <td>4</td>\n",
       "      <td>Afghanistan</td>\n",
       "      <td>5157</td>\n",
       "      <td>Agricultural Use</td>\n",
       "      <td>3102</td>\n",
       "      <td>Nutrient nitrogen N (total)</td>\n",
       "      <td>2010</td>\n",
       "      <td>2010</td>\n",
       "      <td>t</td>\n",
       "      <td>12929.01</td>\n",
       "      <td>I</td>\n",
       "      <td>Imputed value</td>\n",
       "      <td>NaN</td>\n",
       "    </tr>\n",
       "    <tr>\n",
       "      <th>2</th>\n",
       "      <td>RFN</td>\n",
       "      <td>Fertilizers by Nutrient</td>\n",
       "      <td>4</td>\n",
       "      <td>Afghanistan</td>\n",
       "      <td>5159</td>\n",
       "      <td>Use per area of cropland</td>\n",
       "      <td>3102</td>\n",
       "      <td>Nutrient nitrogen N (total)</td>\n",
       "      <td>2010</td>\n",
       "      <td>2010</td>\n",
       "      <td>kg/ha</td>\n",
       "      <td>1.63</td>\n",
       "      <td>E</td>\n",
       "      <td>Estimated value</td>\n",
       "      <td>NaN</td>\n",
       "    </tr>\n",
       "    <tr>\n",
       "      <th>3</th>\n",
       "      <td>RFN</td>\n",
       "      <td>Fertilizers by Nutrient</td>\n",
       "      <td>4</td>\n",
       "      <td>Afghanistan</td>\n",
       "      <td>5510</td>\n",
       "      <td>Production</td>\n",
       "      <td>3102</td>\n",
       "      <td>Nutrient nitrogen N (total)</td>\n",
       "      <td>2011</td>\n",
       "      <td>2011</td>\n",
       "      <td>t</td>\n",
       "      <td>17555.00</td>\n",
       "      <td>A</td>\n",
       "      <td>Official figure</td>\n",
       "      <td>Official data from questionnaire</td>\n",
       "    </tr>\n",
       "    <tr>\n",
       "      <th>4</th>\n",
       "      <td>RFN</td>\n",
       "      <td>Fertilizers by Nutrient</td>\n",
       "      <td>4</td>\n",
       "      <td>Afghanistan</td>\n",
       "      <td>5157</td>\n",
       "      <td>Agricultural Use</td>\n",
       "      <td>3102</td>\n",
       "      <td>Nutrient nitrogen N (total)</td>\n",
       "      <td>2011</td>\n",
       "      <td>2011</td>\n",
       "      <td>t</td>\n",
       "      <td>22970.63</td>\n",
       "      <td>I</td>\n",
       "      <td>Imputed value</td>\n",
       "      <td>NaN</td>\n",
       "    </tr>\n",
       "  </tbody>\n",
       "</table>\n",
       "</div>"
      ],
      "text/plain": [
       "  ï»¿Domain Code                   Domain  Area Code (M49)         Area  \\\n",
       "0            RFN  Fertilizers by Nutrient                4  Afghanistan   \n",
       "1            RFN  Fertilizers by Nutrient                4  Afghanistan   \n",
       "2            RFN  Fertilizers by Nutrient                4  Afghanistan   \n",
       "3            RFN  Fertilizers by Nutrient                4  Afghanistan   \n",
       "4            RFN  Fertilizers by Nutrient                4  Afghanistan   \n",
       "\n",
       "   Element Code                   Element  Item Code  \\\n",
       "0          5510                Production       3102   \n",
       "1          5157          Agricultural Use       3102   \n",
       "2          5159  Use per area of cropland       3102   \n",
       "3          5510                Production       3102   \n",
       "4          5157          Agricultural Use       3102   \n",
       "\n",
       "                          Item  Year Code  Year   Unit    Value Flag  \\\n",
       "0  Nutrient nitrogen N (total)       2010  2010      t 12022.00    A   \n",
       "1  Nutrient nitrogen N (total)       2010  2010      t 12929.01    I   \n",
       "2  Nutrient nitrogen N (total)       2010  2010  kg/ha     1.63    E   \n",
       "3  Nutrient nitrogen N (total)       2011  2011      t 17555.00    A   \n",
       "4  Nutrient nitrogen N (total)       2011  2011      t 22970.63    I   \n",
       "\n",
       "  Flag Description                              Note  \n",
       "0  Official figure  Official data from questionnaire  \n",
       "1    Imputed value                               NaN  \n",
       "2  Estimated value                               NaN  \n",
       "3  Official figure  Official data from questionnaire  \n",
       "4    Imputed value                               NaN  "
      ]
     },
     "execution_count": 5,
     "metadata": {},
     "output_type": "execute_result"
    }
   ],
   "source": [
    "fert.head()"
   ]
  },
  {
   "cell_type": "code",
   "execution_count": 6,
   "metadata": {},
   "outputs": [],
   "source": [
    "# Change the name to Elements type\n",
    "fert['Element'] = fert['Element'].replace('Production', 'production_tonnes')\n",
    "fert['Element'] = fert['Element'].replace('Agricultural Use', 'agricultural_use_tonnes')\n",
    "fert['Element'] = fert['Element'].replace('Use per area of cropland', 'use_per_area_kg/ha')"
   ]
  },
  {
   "cell_type": "code",
   "execution_count": 7,
   "metadata": {},
   "outputs": [],
   "source": [
    "# create new filtered df\n",
    "fert_filtered = fert[['Area','Item','Element','Year','Value']].copy()\n",
    "# Change the name to the new column\n",
    "fert_filtered.rename(columns={'Item': 'fertilizer_type'}, inplace=True)"
   ]
  },
  {
   "cell_type": "code",
   "execution_count": 8,
   "metadata": {},
   "outputs": [
    {
     "data": {
      "text/plain": [
       "Element\n",
       "agricultural_use_tonnes    7383\n",
       "use_per_area_kg/ha         7317\n",
       "production_tonnes          5934\n",
       "Name: count, dtype: int64"
      ]
     },
     "execution_count": 8,
     "metadata": {},
     "output_type": "execute_result"
    }
   ],
   "source": [
    "fert_filtered['Element'].value_counts()"
   ]
  },
  {
   "cell_type": "code",
   "execution_count": 9,
   "metadata": {},
   "outputs": [],
   "source": [
    "# pivot.table creates a DataFrame where the items are separated into columns according to the type of item, keeping the relationship with the columns Area, fertilizer_type and Year.\n",
    "\n",
    "fert_filtered = fert_filtered.pivot_table(index=['Area', 'fertilizer_type', 'Year'], columns='Element', values='Value').reset_index()"
   ]
  },
  {
   "cell_type": "code",
   "execution_count": 10,
   "metadata": {},
   "outputs": [
    {
     "data": {
      "text/html": [
       "<div>\n",
       "<style scoped>\n",
       "    .dataframe tbody tr th:only-of-type {\n",
       "        vertical-align: middle;\n",
       "    }\n",
       "\n",
       "    .dataframe tbody tr th {\n",
       "        vertical-align: top;\n",
       "    }\n",
       "\n",
       "    .dataframe thead th {\n",
       "        text-align: right;\n",
       "    }\n",
       "</style>\n",
       "<table border=\"1\" class=\"dataframe\">\n",
       "  <thead>\n",
       "    <tr style=\"text-align: right;\">\n",
       "      <th>Element</th>\n",
       "      <th>Area</th>\n",
       "      <th>fertilizer_type</th>\n",
       "      <th>Year</th>\n",
       "      <th>agricultural_use_tonnes</th>\n",
       "      <th>production_tonnes</th>\n",
       "      <th>use_per_area_kg/ha</th>\n",
       "    </tr>\n",
       "  </thead>\n",
       "  <tbody>\n",
       "    <tr>\n",
       "      <th>0</th>\n",
       "      <td>Afghanistan</td>\n",
       "      <td>Nutrient nitrogen N (total)</td>\n",
       "      <td>2010</td>\n",
       "      <td>12929.01</td>\n",
       "      <td>12022.00</td>\n",
       "      <td>1.63</td>\n",
       "    </tr>\n",
       "    <tr>\n",
       "      <th>1</th>\n",
       "      <td>Afghanistan</td>\n",
       "      <td>Nutrient nitrogen N (total)</td>\n",
       "      <td>2011</td>\n",
       "      <td>22970.63</td>\n",
       "      <td>17555.00</td>\n",
       "      <td>2.90</td>\n",
       "    </tr>\n",
       "  </tbody>\n",
       "</table>\n",
       "</div>"
      ],
      "text/plain": [
       "Element         Area              fertilizer_type  Year  \\\n",
       "0        Afghanistan  Nutrient nitrogen N (total)  2010   \n",
       "1        Afghanistan  Nutrient nitrogen N (total)  2011   \n",
       "\n",
       "Element  agricultural_use_tonnes  production_tonnes  use_per_area_kg/ha  \n",
       "0                       12929.01           12022.00                1.63  \n",
       "1                       22970.63           17555.00                2.90  "
      ]
     },
     "execution_count": 10,
     "metadata": {},
     "output_type": "execute_result"
    }
   ],
   "source": [
    "fert_filtered.head(2)"
   ]
  },
  {
   "cell_type": "code",
   "execution_count": 11,
   "metadata": {},
   "outputs": [
    {
     "data": {
      "text/plain": [
       "fertilizer_type\n",
       "Nutrient nitrogen N (total)        2484\n",
       "Nutrient potash K2O (total)        2480\n",
       "Nutrient phosphate P2O5 (total)    2477\n",
       "Name: count, dtype: int64"
      ]
     },
     "execution_count": 11,
     "metadata": {},
     "output_type": "execute_result"
    }
   ],
   "source": [
    "fert_filtered['fertilizer_type'].value_counts()"
   ]
  },
  {
   "cell_type": "markdown",
   "metadata": {},
   "source": [
    "#### 2.4.1. <a id='toc2_4_1_'></a>[NaN values](#toc0_)"
   ]
  },
  {
   "cell_type": "code",
   "execution_count": 16,
   "metadata": {},
   "outputs": [
    {
     "data": {
      "text/plain": [
       "Element\n",
       "Area                          0\n",
       "fertilizer_type               0\n",
       "Year                          0\n",
       "agricultural_use_tonnes      58\n",
       "production_tonnes          1507\n",
       "use_per_area_kg/ha          124\n",
       "dtype: int64"
      ]
     },
     "execution_count": 16,
     "metadata": {},
     "output_type": "execute_result"
    }
   ],
   "source": [
    "fert_filtered.isnull().sum()"
   ]
  },
  {
   "cell_type": "code",
   "execution_count": 17,
   "metadata": {},
   "outputs": [
    {
     "name": "stdout",
     "output_type": "stream",
     "text": [
      "<class 'pandas.core.frame.DataFrame'>\n",
      "RangeIndex: 7441 entries, 0 to 7440\n",
      "Data columns (total 6 columns):\n",
      " #   Column                   Non-Null Count  Dtype  \n",
      "---  ------                   --------------  -----  \n",
      " 0   Area                     7441 non-null   object \n",
      " 1   fertilizer_type          7441 non-null   object \n",
      " 2   Year                     7441 non-null   int64  \n",
      " 3   agricultural_use_tonnes  7383 non-null   float64\n",
      " 4   production_tonnes        5934 non-null   float64\n",
      " 5   use_per_area_kg/ha       7317 non-null   float64\n",
      "dtypes: float64(3), int64(1), object(2)\n",
      "memory usage: 348.9+ KB\n"
     ]
    }
   ],
   "source": [
    "fert_filtered.info()"
   ]
  },
  {
   "cell_type": "markdown",
   "metadata": {},
   "source": [
    "As the **agricultural use, production and use per area** are continuous variables, we will do the imputation with the mean value:"
   ]
  },
  {
   "cell_type": "code",
   "execution_count": 18,
   "metadata": {},
   "outputs": [
    {
     "data": {
      "text/plain": [
       "Element\n",
       "Area                      0.00\n",
       "fertilizer_type           0.00\n",
       "Year                      0.00\n",
       "agricultural_use_tonnes   0.00\n",
       "production_tonnes         0.00\n",
       "use_per_area_kg/ha        0.00\n",
       "dtype: float64"
      ]
     },
     "execution_count": 18,
     "metadata": {},
     "output_type": "execute_result"
    }
   ],
   "source": [
    "def repair_null(df, col):\n",
    "    if df[col].dtype == 'int64' or df[col].dtype == 'float64':\n",
    "        df[col] = df[col].fillna(df[col].mean())\n",
    "    else:\n",
    "        df[col] = df[col].fillna(df[col].mode()[0])\n",
    "    return df \n",
    "\n",
    "for col in fert_filtered.columns:\n",
    "    repair_null(fert_filtered, col)\n",
    "\n",
    "fert_filtered.isnull().sum()/len(fert_filtered)*100"
   ]
  },
  {
   "cell_type": "code",
   "execution_count": 19,
   "metadata": {},
   "outputs": [],
   "source": [
    "# convert year variable to object type, because it's discrete.\n",
    "fert_filtered['Year'] = fert_filtered['Year'].astype(object)"
   ]
  },
  {
   "cell_type": "code",
   "execution_count": 20,
   "metadata": {},
   "outputs": [
    {
     "data": {
      "text/html": [
       "<div>\n",
       "<style scoped>\n",
       "    .dataframe tbody tr th:only-of-type {\n",
       "        vertical-align: middle;\n",
       "    }\n",
       "\n",
       "    .dataframe tbody tr th {\n",
       "        vertical-align: top;\n",
       "    }\n",
       "\n",
       "    .dataframe thead th {\n",
       "        text-align: right;\n",
       "    }\n",
       "</style>\n",
       "<table border=\"1\" class=\"dataframe\">\n",
       "  <thead>\n",
       "    <tr style=\"text-align: right;\">\n",
       "      <th></th>\n",
       "      <th>count</th>\n",
       "      <th>mean</th>\n",
       "      <th>std</th>\n",
       "      <th>min</th>\n",
       "      <th>25%</th>\n",
       "      <th>50%</th>\n",
       "      <th>75%</th>\n",
       "      <th>max</th>\n",
       "    </tr>\n",
       "    <tr>\n",
       "      <th>Element</th>\n",
       "      <th></th>\n",
       "      <th></th>\n",
       "      <th></th>\n",
       "      <th></th>\n",
       "      <th></th>\n",
       "      <th></th>\n",
       "      <th></th>\n",
       "      <th></th>\n",
       "    </tr>\n",
       "  </thead>\n",
       "  <tbody>\n",
       "    <tr>\n",
       "      <th>agricultural_use_tonnes</th>\n",
       "      <td>7441.00</td>\n",
       "      <td>386841.57</td>\n",
       "      <td>2102366.43</td>\n",
       "      <td>0.00</td>\n",
       "      <td>541.96</td>\n",
       "      <td>12200.82</td>\n",
       "      <td>101233.00</td>\n",
       "      <td>31140359.25</td>\n",
       "    </tr>\n",
       "    <tr>\n",
       "      <th>production_tonnes</th>\n",
       "      <td>7441.00</td>\n",
       "      <td>522083.55</td>\n",
       "      <td>2396428.33</td>\n",
       "      <td>0.00</td>\n",
       "      <td>0.00</td>\n",
       "      <td>0.00</td>\n",
       "      <td>522083.55</td>\n",
       "      <td>40541064.15</td>\n",
       "    </tr>\n",
       "    <tr>\n",
       "      <th>use_per_area_kg/ha</th>\n",
       "      <td>7441.00</td>\n",
       "      <td>29.86</td>\n",
       "      <td>41.91</td>\n",
       "      <td>0.00</td>\n",
       "      <td>3.13</td>\n",
       "      <td>14.30</td>\n",
       "      <td>38.83</td>\n",
       "      <td>411.76</td>\n",
       "    </tr>\n",
       "  </tbody>\n",
       "</table>\n",
       "</div>"
      ],
      "text/plain": [
       "                          count      mean        std  min    25%      50%  \\\n",
       "Element                                                                     \n",
       "agricultural_use_tonnes 7441.00 386841.57 2102366.43 0.00 541.96 12200.82   \n",
       "production_tonnes       7441.00 522083.55 2396428.33 0.00   0.00     0.00   \n",
       "use_per_area_kg/ha      7441.00     29.86      41.91 0.00   3.13    14.30   \n",
       "\n",
       "                              75%         max  \n",
       "Element                                        \n",
       "agricultural_use_tonnes 101233.00 31140359.25  \n",
       "production_tonnes       522083.55 40541064.15  \n",
       "use_per_area_kg/ha          38.83      411.76  "
      ]
     },
     "execution_count": 20,
     "metadata": {},
     "output_type": "execute_result"
    }
   ],
   "source": [
    "fert_filtered.describe().T"
   ]
  },
  {
   "cell_type": "code",
   "execution_count": 21,
   "metadata": {},
   "outputs": [
    {
     "data": {
      "text/plain": [
       "(3278, 6)"
      ]
     },
     "execution_count": 21,
     "metadata": {},
     "output_type": "execute_result"
    }
   ],
   "source": [
    "# the minimun value is 0 in the three variables. Delete these rows\n",
    "fert_filtered = fert_filtered[~((fert_filtered['agricultural_use_tonnes'] == 0) | (fert_filtered['production_tonnes'] == 0) | (fert_filtered['use_per_area_kg/ha'] == 0))]\n",
    "fert_filtered.shape"
   ]
  },
  {
   "cell_type": "code",
   "execution_count": 44,
   "metadata": {},
   "outputs": [],
   "source": [
    "# Save fert_filtered in csv:\n",
    "fert_filtered.to_csv('Data/fert_preprocessed.csv', index=False) # with outliers"
   ]
  },
  {
   "cell_type": "markdown",
   "metadata": {},
   "source": [
    "### 2.5. [Temperature dataset](#toc0_)<a id='toc2_5_'></a>"
   ]
  },
  {
   "cell_type": "code",
   "execution_count": 111,
   "metadata": {},
   "outputs": [
    {
     "data": {
      "text/html": [
       "<div>\n",
       "<style scoped>\n",
       "    .dataframe tbody tr th:only-of-type {\n",
       "        vertical-align: middle;\n",
       "    }\n",
       "\n",
       "    .dataframe tbody tr th {\n",
       "        vertical-align: top;\n",
       "    }\n",
       "\n",
       "    .dataframe thead th {\n",
       "        text-align: right;\n",
       "    }\n",
       "</style>\n",
       "<table border=\"1\" class=\"dataframe\">\n",
       "  <thead>\n",
       "    <tr style=\"text-align: right;\">\n",
       "      <th></th>\n",
       "      <th>Country</th>\n",
       "      <th>Last</th>\n",
       "      <th>Previous</th>\n",
       "    </tr>\n",
       "  </thead>\n",
       "  <tbody>\n",
       "    <tr>\n",
       "      <th>0</th>\n",
       "      <td>Burkina Faso</td>\n",
       "      <td>29.28</td>\n",
       "      <td>30.01</td>\n",
       "    </tr>\n",
       "    <tr>\n",
       "      <th>1</th>\n",
       "      <td>Mali</td>\n",
       "      <td>29.19</td>\n",
       "      <td>29.78</td>\n",
       "    </tr>\n",
       "    <tr>\n",
       "      <th>2</th>\n",
       "      <td>Qatar</td>\n",
       "      <td>29.11</td>\n",
       "      <td>29.42</td>\n",
       "    </tr>\n",
       "    <tr>\n",
       "      <th>3</th>\n",
       "      <td>Senegal</td>\n",
       "      <td>29.00</td>\n",
       "      <td>29.62</td>\n",
       "    </tr>\n",
       "    <tr>\n",
       "      <th>4</th>\n",
       "      <td>United Arab Emirates</td>\n",
       "      <td>28.93</td>\n",
       "      <td>29.09</td>\n",
       "    </tr>\n",
       "    <tr>\n",
       "      <th>...</th>\n",
       "      <td>...</td>\n",
       "      <td>...</td>\n",
       "      <td>...</td>\n",
       "    </tr>\n",
       "    <tr>\n",
       "      <th>200</th>\n",
       "      <td>Iceland</td>\n",
       "      <td>2.11</td>\n",
       "      <td>2.43</td>\n",
       "    </tr>\n",
       "    <tr>\n",
       "      <th>201</th>\n",
       "      <td>Mongolia</td>\n",
       "      <td>1.31</td>\n",
       "      <td>2.08</td>\n",
       "    </tr>\n",
       "    <tr>\n",
       "      <th>202</th>\n",
       "      <td>Russia</td>\n",
       "      <td>-2.87</td>\n",
       "      <td>-3.65</td>\n",
       "    </tr>\n",
       "    <tr>\n",
       "      <th>203</th>\n",
       "      <td>Canada</td>\n",
       "      <td>-4.22</td>\n",
       "      <td>-3.70</td>\n",
       "    </tr>\n",
       "    <tr>\n",
       "      <th>204</th>\n",
       "      <td>Greenland</td>\n",
       "      <td>-18.62</td>\n",
       "      <td>-17.60</td>\n",
       "    </tr>\n",
       "  </tbody>\n",
       "</table>\n",
       "<p>205 rows × 3 columns</p>\n",
       "</div>"
      ],
      "text/plain": [
       "                  Country   Last  Previous\n",
       "0            Burkina Faso  29.28     30.01\n",
       "1                    Mali  29.19     29.78\n",
       "2                   Qatar  29.11     29.42\n",
       "3                 Senegal  29.00     29.62\n",
       "4    United Arab Emirates  28.93     29.09\n",
       "..                    ...    ...       ...\n",
       "200               Iceland   2.11      2.43\n",
       "201              Mongolia   1.31      2.08\n",
       "202                Russia  -2.87     -3.65\n",
       "203                Canada  -4.22     -3.70\n",
       "204             Greenland -18.62    -17.60\n",
       "\n",
       "[205 rows x 3 columns]"
      ]
     },
     "execution_count": 111,
     "metadata": {},
     "output_type": "execute_result"
    }
   ],
   "source": [
    "# Data: https://tradingeconomics.com/country-list/temperature\n",
    "temp = {\n",
    "    'Country': [\n",
    "        'Burkina Faso', 'Mali', 'Qatar', 'Senegal', 'United Arab Emirates', 'Mauritania', 'Bahrain',\n",
    "        'Aruba', 'Djibouti', 'Gambia', 'Benin', 'Maldives', 'Guinea-Bissau', 'Cayman Islands',\n",
    "        'Oman', 'Marshall Islands', 'Kiribati', 'Ghana', 'Singapore', 'Niger', 'Kuwait', 'Sudan',\n",
    "        'Guam', 'Palau', 'Samoa', 'Togo', 'Micronesia', 'St Kitts and Nevis', 'American Samoa',\n",
    "        'Chad', 'Cambodia', 'Northern Mariana Islands', 'Sri Lanka', 'Nigeria', 'Seychelles',\n",
    "        'Somalia', 'Antigua and Barbuda', 'Ivory Coast', 'Virgin Islands', 'St Lucia', 'Thailand',\n",
    "        'Dominica', 'Sierra Leone', 'Philippines', 'Suriname', 'Eritrea', 'Saudi Arabia',\n",
    "        'Trinidad and Tobago', 'Barbados', 'Malaysia', 'Grenada', 'Guyana', 'Cuba', 'Bahamas',\n",
    "        'Jamaica', 'St Vincent and the Grenadines', 'Indonesia', 'Guinea', 'Solomon Islands',\n",
    "        'Belize', 'Nicaragua', 'Bangladesh', 'Central African Republic', 'Brazil', 'Venezuela',\n",
    "        'Yemen', 'Liberia', 'Gabon', 'Panama', 'El Salvador', 'Kenya', 'India', 'Tonga',\n",
    "        'Republic of the Congo', 'Haiti', 'Fiji', 'Cameroon', 'Puerto Rico', 'Equatorial Guinea',\n",
    "        'Mayotte', 'Papua New Guinea', 'Vanuatu', 'Vietnam', 'Colombia', 'Honduras',\n",
    "        'Sao Tome and Principe', 'Costa Rica', 'Dominican Republic', 'Mozambique', 'Democratic Republic of the Congo',\n",
    "        'Algeria', 'French Polynesia', 'Laos', 'Myanmar', 'Paraguay', 'Iraq', 'Guatemala',\n",
    "        'Comoros', 'Hong Kong', 'Ethiopia', 'Macau', 'New Caledonia', 'Mauritius', 'Egypt',\n",
    "        'Uganda', 'Tanzania', 'Libya', 'Madagascar', 'Cape Verde', 'Malawi', 'Pakistan',\n",
    "        'Botswana', 'Australia', 'Zambia', 'Zimbabwe', 'Mexico', 'Angola', 'Tunisia', 'Ecuador',\n",
    "        'Swaziland', 'Taiwan', 'Bolivia', 'Burundi', 'Malta', 'Namibia', 'Israel', 'Jordan',\n",
    "        'Palestine', 'Peru', 'Cyprus', 'Iran', 'Syria', 'Rwanda', 'Morocco', 'South Africa',\n",
    "        'Uruguay', 'Turkmenistan', 'Portugal', 'Lebanon', 'Spain', 'Argentina', 'Monaco',\n",
    "        'Greece', 'Uzbekistan', 'Afghanistan', 'Nepal', 'Italy', 'San Marino', 'Azerbaijan',\n",
    "        'Albania', 'Croatia', 'France', 'South Korea', 'Lesotho', 'Hungary', 'Serbia', 'Japan',\n",
    "        'Bulgaria', 'Turkey', 'Belgium', 'Moldova', 'Netherlands', 'Macedonia', 'New Zealand',\n",
    "        'Bosnia and Herzegovina', 'Luxembourg', 'Romania', 'Slovenia', 'Montenegro', 'Germany',\n",
    "        'Bhutan', 'Ireland', 'United Kingdom', 'Ukraine', 'Georgia', 'Isle of Man', 'Slovakia',\n",
    "        'Denmark', 'Andorra', 'United States', 'Czech Republic', 'Poland', 'Chile', 'Liechtenstein',\n",
    "        'Austria', 'Armenia', 'China', 'Switzerland', 'Kazakhstan', 'Belarus', 'Lithuania',\n",
    "        'North Korea', 'Latvia', 'Faroe Islands', 'Estonia', 'Tajikistan', 'Kyrgyzstan', 'Sweden',\n",
    "        'Finland', 'Norway', 'Iceland', 'Mongolia', 'Russia', 'Canada', 'Greenland'\n",
    "    ],\n",
    "    'Last': [\n",
    "    29.28, 29.19, 29.11, 29.00, 28.93, 28.9, 28.84, 28.82, 28.6, 28.46, 28.09, 28.08, 28.05, 28.01,\n",
    "    27.94, 27.9, 27.77, 27.73, 27.7, 27.61, 27.58, 27.57, 27.54, 27.54, 27.53, 27.47, 27.45, 27.34,\n",
    "    27.31, 27.28, 27.25, 27.25, 27.24, 27.15, 27.11, 27.1, 27.06, 26.84, 26.84, 26.83, 26.78, 26.68,\n",
    "    26.64, 26.61, 26.53, 26.49, 26.46, 26.46, 26.45, 26.35, 26.33, 26.16, 26.14, 26.05, 26.02, 25.98,\n",
    "    25.96, 25.95, 25.89, 25.83, 25.81, 25.74, 25.56, 25.54, 25.52, 25.51, 25.47, 25.46, 25.33, 25.23,\n",
    "    25.22, 25.2, 25.1, 25.05, 25.01, 24.98, 24.94, 24.94, 24.89, 24.87, 24.78, 24.76, 24.73, 24.71,\n",
    "    24.71, 24.66, 24.64, 24.57, 24.42, 24.38, 24.11, 24.05, 24.05, 23.96, 23.86, 23.81, 23.77, 23.74,\n",
    "    23.62, 23.45, 23.4, 23.37, 23.27, 23.23, 23.14, 22.9, 22.8, 22.7, 22.67, 22.55, 22.23, 22.00,\n",
    "    21.96, 21.92, 21.83, 21.7, 21.63, 21.44, 21.07, 20.92, 20.79, 20.68, 20.43, 20.26, 20.24, 20.23,\n",
    "    19.77, 19.7, 19.58, 19.33, 19.3, 19.17, 19.14, 19.1, 18.42, 17.73, 17.66, 16.9, 15.66, 15.3, 15.07,\n",
    "    15.01, 14.88, 14.86, 14.48, 14.39, 14.38, 14.14, 13.84, 13.31, 13.16, 13.16, 12.76, 12.64, 12.62,\n",
    "    12.56, 12.42, 12.28, 12.24, 11.98, 11.9, 11.72, 11.66, 11.66, 11.57, 11.43, 11.2, 11.04, 11.00,\n",
    "    10.83, 10.56, 10.35, 10.11, 10.04, 9.92, 9.89, 9.81, 9.77, 9.73, 9.73, 9.71, 9.7, 9.37, 9.05,\n",
    "    8.65, 8.64, 8.1, 8.08, 8.06, 7.98, 7.95, 7.46, 7.4, 7.1, 6.9, 5.09, 3.93, 3.84, 3.24, 2.88,\n",
    "    2.11, 1.31, -2.87, -4.22, -18.62\n",
    "],\n",
    "    'Previous': [\n",
    "    30.01, 29.78, 29.42, 29.62, 29.09, 29.3, 29.18, 29.03, 28.52, 29.03, 28.7, 28.14, 28.68, 27.99,\n",
    "    28.1, 28.16, 27.89, 28.3, 27.75, 28.09, 27.89, 28.17, 27.88, 27.58, 27.54, 28.04, 27.42, 27.6,\n",
    "    27.34, 27.7, 27.44, 27.65, 27.4, 27.67, 27.26, 26.93, 27.33, 27.37, 27.11, 27.03, 26.9, 26.9,\n",
    "    27.19, 26.7, 26.56, 26.88, 26.8, 26.58, 26.63, 26.47, 26.49, 26.15, 26.06, 25.87, 26.07, 26.16,\n",
    "    26.01, 26.6, 25.89, 26.15, 26.09, 25.7, 25.78, 25.57, 25.61, 25.64, 25.87, 25.66, 25.59, 25.53,\n",
    "    25.25, 25.09, 25.16, 25.23, 25.15, 25.03, 25.2, 25.17, 25.08, 25.08, 24.79, 24.66, 25.04, 24.97,\n",
    "    25.03, 24.93, 24.89, 24.75, 24.53, 24.46, 23.92, 24.45, 24.34, 24.11, 24.01, 24.21, 24.08, 23.92,\n",
    "    24.19, 23.41, 23.96, 23.09, 23.7, 23.88, 23.22, 23.0, 23.05, 22.87, 22.76, 22.8, 22.03, 21.74,\n",
    "    22.05, 22.11, 21.87, 21.85, 21.74, 21.33, 21.42, 20.52, 21.07, 20.8, 20.51, 20.22, 20.12, 20.86,\n",
    "    20.36, 20.34, 19.79, 19.87, 19.57, 19.67, 19.21, 18.48, 18.06, 18.06, 17.69, 16.1, 16.2, 14.31,\n",
    "    15.4, 13.62, 15.09, 14.76, 14.28, 14.29, 13.52, 13.16, 13.9, 12.89, 12.19, 11.58, 13.14, 12.28,\n",
    "    11.58, 11.7, 12.45, 11.97, 12.61, 10.48, 10.95, 10.41, 11.39, 11.18, 10.7, 9.77, 10.35, 10.0,\n",
    "    10.25, 9.49, 10.73, 9.94, 9.39, 9.37, 10.05, 9.92, 8.79, 8.96, 8.38, 10.01, 8.5, 8.75, 9.81,\n",
    "    7.44, 7.41, 8.81, 8.21, 6.39, 7.83, 7.33, 7.28, 7.81, 6.82, 6.7, 6.3, 4.61, 3.36, 3.08, 2.34,\n",
    "    2.11, 2.43, 2.08, -3.65, -3.7, -17.6\n",
    "]\n",
    "}\n",
    "\n",
    "temp = pd.DataFrame(temp)\n",
    "temp\n"
   ]
  },
  {
   "cell_type": "code",
   "execution_count": 112,
   "metadata": {},
   "outputs": [],
   "source": [
    "# calculation of the average temperature last & previous in a new column\n",
    "\n",
    "temp['avg_temp_ºC'] = temp[['Last','Previous']].mean(axis=1).round(2)\n",
    "\n",
    "# drop Last & previous columns\n",
    "temp = temp.drop(['Last','Previous'], axis=1)\n",
    "# Change the name to the new column\n",
    "temp.rename(columns={'Country': 'Area'}, inplace=True)"
   ]
  },
  {
   "cell_type": "code",
   "execution_count": 113,
   "metadata": {},
   "outputs": [
    {
     "data": {
      "text/html": [
       "<div>\n",
       "<style scoped>\n",
       "    .dataframe tbody tr th:only-of-type {\n",
       "        vertical-align: middle;\n",
       "    }\n",
       "\n",
       "    .dataframe tbody tr th {\n",
       "        vertical-align: top;\n",
       "    }\n",
       "\n",
       "    .dataframe thead th {\n",
       "        text-align: right;\n",
       "    }\n",
       "</style>\n",
       "<table border=\"1\" class=\"dataframe\">\n",
       "  <thead>\n",
       "    <tr style=\"text-align: right;\">\n",
       "      <th></th>\n",
       "      <th>Area</th>\n",
       "      <th>avg_temp_ºC</th>\n",
       "    </tr>\n",
       "  </thead>\n",
       "  <tbody>\n",
       "    <tr>\n",
       "      <th>0</th>\n",
       "      <td>Burkina Faso</td>\n",
       "      <td>29.65</td>\n",
       "    </tr>\n",
       "    <tr>\n",
       "      <th>1</th>\n",
       "      <td>Mali</td>\n",
       "      <td>29.48</td>\n",
       "    </tr>\n",
       "    <tr>\n",
       "      <th>2</th>\n",
       "      <td>Qatar</td>\n",
       "      <td>29.26</td>\n",
       "    </tr>\n",
       "    <tr>\n",
       "      <th>3</th>\n",
       "      <td>Senegal</td>\n",
       "      <td>29.31</td>\n",
       "    </tr>\n",
       "    <tr>\n",
       "      <th>4</th>\n",
       "      <td>United Arab Emirates</td>\n",
       "      <td>29.01</td>\n",
       "    </tr>\n",
       "  </tbody>\n",
       "</table>\n",
       "</div>"
      ],
      "text/plain": [
       "                   Area  avg_temp_ºC\n",
       "0          Burkina Faso        29.65\n",
       "1                  Mali        29.48\n",
       "2                 Qatar        29.26\n",
       "3               Senegal        29.31\n",
       "4  United Arab Emirates        29.01"
      ]
     },
     "execution_count": 113,
     "metadata": {},
     "output_type": "execute_result"
    }
   ],
   "source": [
    "temp.head()"
   ]
  },
  {
   "cell_type": "markdown",
   "metadata": {},
   "source": [
    "## 3. [Create final dataframe](#toc0_)<a id='toc3_'></a>"
   ]
  },
  {
   "cell_type": "markdown",
   "metadata": {},
   "source": [
    "### 3.1. [Merge datasets](#toc0_)<a id='toc3_1_'></a>"
   ]
  },
  {
   "cell_type": "markdown",
   "metadata": {},
   "source": [
    "Merge crop & prec_filtered & temp"
   ]
  },
  {
   "cell_type": "code",
   "execution_count": 114,
   "metadata": {},
   "outputs": [
    {
     "data": {
      "text/plain": [
       "(125815, 7)"
      ]
     },
     "execution_count": 114,
     "metadata": {},
     "output_type": "execute_result"
    }
   ],
   "source": [
    "crop.shape"
   ]
  },
  {
   "cell_type": "code",
   "execution_count": 115,
   "metadata": {},
   "outputs": [
    {
     "data": {
      "text/plain": [
       "196"
      ]
     },
     "execution_count": 115,
     "metadata": {},
     "output_type": "execute_result"
    }
   ],
   "source": [
    "crop['Area'].nunique()"
   ]
  },
  {
   "cell_type": "code",
   "execution_count": 1074,
   "metadata": {},
   "outputs": [
    {
     "data": {
      "text/html": [
       "<div>\n",
       "<style scoped>\n",
       "    .dataframe tbody tr th:only-of-type {\n",
       "        vertical-align: middle;\n",
       "    }\n",
       "\n",
       "    .dataframe tbody tr th {\n",
       "        vertical-align: top;\n",
       "    }\n",
       "\n",
       "    .dataframe thead th {\n",
       "        text-align: right;\n",
       "    }\n",
       "</style>\n",
       "<table border=\"1\" class=\"dataframe\">\n",
       "  <thead>\n",
       "    <tr style=\"text-align: right;\">\n",
       "      <th>Element</th>\n",
       "      <th>Area</th>\n",
       "      <th>Item Code</th>\n",
       "      <th>Crop</th>\n",
       "      <th>Year</th>\n",
       "      <th>area_harvested_ha</th>\n",
       "      <th>production_tonnes</th>\n",
       "      <th>yield_hg/ha</th>\n",
       "    </tr>\n",
       "  </thead>\n",
       "  <tbody>\n",
       "    <tr>\n",
       "      <th>0</th>\n",
       "      <td>Afghanistan</td>\n",
       "      <td>15</td>\n",
       "      <td>Wheat</td>\n",
       "      <td>2010</td>\n",
       "      <td>2354000.00</td>\n",
       "      <td>4532000.00</td>\n",
       "      <td>19252.00</td>\n",
       "    </tr>\n",
       "    <tr>\n",
       "      <th>1</th>\n",
       "      <td>Afghanistan</td>\n",
       "      <td>15</td>\n",
       "      <td>Wheat</td>\n",
       "      <td>2011</td>\n",
       "      <td>2232000.00</td>\n",
       "      <td>3388000.00</td>\n",
       "      <td>15179.00</td>\n",
       "    </tr>\n",
       "  </tbody>\n",
       "</table>\n",
       "</div>"
      ],
      "text/plain": [
       "Element         Area  Item Code   Crop  Year  area_harvested_ha  \\\n",
       "0        Afghanistan         15  Wheat  2010         2354000.00   \n",
       "1        Afghanistan         15  Wheat  2011         2232000.00   \n",
       "\n",
       "Element  production_tonnes  yield_hg/ha  \n",
       "0               4532000.00     19252.00  \n",
       "1               3388000.00     15179.00  "
      ]
     },
     "execution_count": 1074,
     "metadata": {},
     "output_type": "execute_result"
    }
   ],
   "source": [
    "crop.head(2)"
   ]
  },
  {
   "cell_type": "code",
   "execution_count": 116,
   "metadata": {},
   "outputs": [
    {
     "data": {
      "text/plain": [
       "(217, 2)"
      ]
     },
     "execution_count": 116,
     "metadata": {},
     "output_type": "execute_result"
    }
   ],
   "source": [
    "prec_filtered.shape"
   ]
  },
  {
   "cell_type": "code",
   "execution_count": 117,
   "metadata": {},
   "outputs": [
    {
     "data": {
      "text/plain": [
       "217"
      ]
     },
     "execution_count": 117,
     "metadata": {},
     "output_type": "execute_result"
    }
   ],
   "source": [
    "prec_filtered['Area'].nunique()"
   ]
  },
  {
   "cell_type": "code",
   "execution_count": 1077,
   "metadata": {},
   "outputs": [
    {
     "data": {
      "text/html": [
       "<div>\n",
       "<style scoped>\n",
       "    .dataframe tbody tr th:only-of-type {\n",
       "        vertical-align: middle;\n",
       "    }\n",
       "\n",
       "    .dataframe tbody tr th {\n",
       "        vertical-align: top;\n",
       "    }\n",
       "\n",
       "    .dataframe thead th {\n",
       "        text-align: right;\n",
       "    }\n",
       "</style>\n",
       "<table border=\"1\" class=\"dataframe\">\n",
       "  <thead>\n",
       "    <tr style=\"text-align: right;\">\n",
       "      <th></th>\n",
       "      <th>Area</th>\n",
       "      <th>avg_rainfall_mm_year</th>\n",
       "    </tr>\n",
       "  </thead>\n",
       "  <tbody>\n",
       "    <tr>\n",
       "      <th>0</th>\n",
       "      <td>Afghanistan</td>\n",
       "      <td>327.00</td>\n",
       "    </tr>\n",
       "    <tr>\n",
       "      <th>1</th>\n",
       "      <td>Albania</td>\n",
       "      <td>1485.00</td>\n",
       "    </tr>\n",
       "  </tbody>\n",
       "</table>\n",
       "</div>"
      ],
      "text/plain": [
       "          Area  avg_rainfall_mm_year\n",
       "0  Afghanistan                327.00\n",
       "1      Albania               1485.00"
      ]
     },
     "execution_count": 1077,
     "metadata": {},
     "output_type": "execute_result"
    }
   ],
   "source": [
    "prec_filtered.head(2)"
   ]
  },
  {
   "cell_type": "code",
   "execution_count": 1078,
   "metadata": {},
   "outputs": [
    {
     "data": {
      "text/plain": [
       "(205, 2)"
      ]
     },
     "execution_count": 1078,
     "metadata": {},
     "output_type": "execute_result"
    }
   ],
   "source": [
    "temp.shape"
   ]
  },
  {
   "cell_type": "code",
   "execution_count": 822,
   "metadata": {},
   "outputs": [
    {
     "data": {
      "text/plain": [
       "205"
      ]
     },
     "execution_count": 822,
     "metadata": {},
     "output_type": "execute_result"
    }
   ],
   "source": [
    "temp['Area'].nunique()"
   ]
  },
  {
   "cell_type": "code",
   "execution_count": 823,
   "metadata": {},
   "outputs": [
    {
     "data": {
      "text/html": [
       "<div>\n",
       "<style scoped>\n",
       "    .dataframe tbody tr th:only-of-type {\n",
       "        vertical-align: middle;\n",
       "    }\n",
       "\n",
       "    .dataframe tbody tr th {\n",
       "        vertical-align: top;\n",
       "    }\n",
       "\n",
       "    .dataframe thead th {\n",
       "        text-align: right;\n",
       "    }\n",
       "</style>\n",
       "<table border=\"1\" class=\"dataframe\">\n",
       "  <thead>\n",
       "    <tr style=\"text-align: right;\">\n",
       "      <th></th>\n",
       "      <th>Area</th>\n",
       "      <th>avg_temp_ºC</th>\n",
       "    </tr>\n",
       "  </thead>\n",
       "  <tbody>\n",
       "    <tr>\n",
       "      <th>0</th>\n",
       "      <td>Burkina Faso</td>\n",
       "      <td>29.65</td>\n",
       "    </tr>\n",
       "    <tr>\n",
       "      <th>1</th>\n",
       "      <td>Mali</td>\n",
       "      <td>29.48</td>\n",
       "    </tr>\n",
       "  </tbody>\n",
       "</table>\n",
       "</div>"
      ],
      "text/plain": [
       "           Area  avg_temp_ºC\n",
       "0  Burkina Faso        29.65\n",
       "1          Mali        29.48"
      ]
     },
     "execution_count": 823,
     "metadata": {},
     "output_type": "execute_result"
    }
   ],
   "source": [
    "temp.head(2)"
   ]
  },
  {
   "cell_type": "markdown",
   "metadata": {},
   "source": [
    "There are more countries in the df prec_filtered. Let's merge them and use an inner join so that only rows that have matches in both tables are included in the column you use to join. Rows that do not have matches in both tables will not be included in the resulting DataFrame."
   ]
  },
  {
   "cell_type": "code",
   "execution_count": 118,
   "metadata": {},
   "outputs": [],
   "source": [
    "df = crop.merge(prec_filtered, on='Area', how='inner')\n",
    "df = df.merge(temp, on='Area', how='inner')"
   ]
  },
  {
   "cell_type": "code",
   "execution_count": 119,
   "metadata": {},
   "outputs": [
    {
     "data": {
      "text/plain": [
       "172"
      ]
     },
     "execution_count": 119,
     "metadata": {},
     "output_type": "execute_result"
    }
   ],
   "source": [
    "df['Area'].nunique()"
   ]
  },
  {
   "cell_type": "code",
   "execution_count": 120,
   "metadata": {},
   "outputs": [
    {
     "data": {
      "text/html": [
       "<div>\n",
       "<style scoped>\n",
       "    .dataframe tbody tr th:only-of-type {\n",
       "        vertical-align: middle;\n",
       "    }\n",
       "\n",
       "    .dataframe tbody tr th {\n",
       "        vertical-align: top;\n",
       "    }\n",
       "\n",
       "    .dataframe thead th {\n",
       "        text-align: right;\n",
       "    }\n",
       "</style>\n",
       "<table border=\"1\" class=\"dataframe\">\n",
       "  <thead>\n",
       "    <tr style=\"text-align: right;\">\n",
       "      <th></th>\n",
       "      <th>count</th>\n",
       "      <th>mean</th>\n",
       "      <th>std</th>\n",
       "      <th>min</th>\n",
       "      <th>25%</th>\n",
       "      <th>50%</th>\n",
       "      <th>75%</th>\n",
       "      <th>max</th>\n",
       "    </tr>\n",
       "  </thead>\n",
       "  <tbody>\n",
       "    <tr>\n",
       "      <th>Item Code</th>\n",
       "      <td>115044.00</td>\n",
       "      <td>381.82</td>\n",
       "      <td>202.51</td>\n",
       "      <td>15.00</td>\n",
       "      <td>211.00</td>\n",
       "      <td>401.00</td>\n",
       "      <td>534.00</td>\n",
       "      <td>836.00</td>\n",
       "    </tr>\n",
       "    <tr>\n",
       "      <th>Year</th>\n",
       "      <td>115044.00</td>\n",
       "      <td>2016.06</td>\n",
       "      <td>3.74</td>\n",
       "      <td>2010.00</td>\n",
       "      <td>2013.00</td>\n",
       "      <td>2016.00</td>\n",
       "      <td>2019.00</td>\n",
       "      <td>2022.00</td>\n",
       "    </tr>\n",
       "    <tr>\n",
       "      <th>area_harvested_ha</th>\n",
       "      <td>113634.00</td>\n",
       "      <td>158389.85</td>\n",
       "      <td>1294795.43</td>\n",
       "      <td>0.00</td>\n",
       "      <td>286.00</td>\n",
       "      <td>3000.00</td>\n",
       "      <td>23203.00</td>\n",
       "      <td>46400000.00</td>\n",
       "    </tr>\n",
       "    <tr>\n",
       "      <th>production_tonnes</th>\n",
       "      <td>114881.00</td>\n",
       "      <td>1001484.83</td>\n",
       "      <td>11668556.66</td>\n",
       "      <td>0.00</td>\n",
       "      <td>1188.70</td>\n",
       "      <td>16031.00</td>\n",
       "      <td>133981.00</td>\n",
       "      <td>768594154.00</td>\n",
       "    </tr>\n",
       "    <tr>\n",
       "      <th>yield_hg/ha</th>\n",
       "      <td>104844.00</td>\n",
       "      <td>121230.81</td>\n",
       "      <td>266471.15</td>\n",
       "      <td>0.00</td>\n",
       "      <td>17619.75</td>\n",
       "      <td>56137.00</td>\n",
       "      <td>141871.25</td>\n",
       "      <td>8755278.00</td>\n",
       "    </tr>\n",
       "    <tr>\n",
       "      <th>avg_rainfall_mm_year</th>\n",
       "      <td>115044.00</td>\n",
       "      <td>1095.17</td>\n",
       "      <td>749.51</td>\n",
       "      <td>18.10</td>\n",
       "      <td>565.00</td>\n",
       "      <td>867.00</td>\n",
       "      <td>1577.00</td>\n",
       "      <td>3240.00</td>\n",
       "    </tr>\n",
       "    <tr>\n",
       "      <th>avg_temp_ºC</th>\n",
       "      <td>115044.00</td>\n",
       "      <td>18.78</td>\n",
       "      <td>7.65</td>\n",
       "      <td>-3.96</td>\n",
       "      <td>12.12</td>\n",
       "      <td>21.24</td>\n",
       "      <td>25.24</td>\n",
       "      <td>29.65</td>\n",
       "    </tr>\n",
       "  </tbody>\n",
       "</table>\n",
       "</div>"
      ],
      "text/plain": [
       "                         count       mean         std     min      25%  \\\n",
       "Item Code            115044.00     381.82      202.51   15.00   211.00   \n",
       "Year                 115044.00    2016.06        3.74 2010.00  2013.00   \n",
       "area_harvested_ha    113634.00  158389.85  1294795.43    0.00   286.00   \n",
       "production_tonnes    114881.00 1001484.83 11668556.66    0.00  1188.70   \n",
       "yield_hg/ha          104844.00  121230.81   266471.15    0.00 17619.75   \n",
       "avg_rainfall_mm_year 115044.00    1095.17      749.51   18.10   565.00   \n",
       "avg_temp_ºC          115044.00      18.78        7.65   -3.96    12.12   \n",
       "\n",
       "                          50%       75%          max  \n",
       "Item Code              401.00    534.00       836.00  \n",
       "Year                  2016.00   2019.00      2022.00  \n",
       "area_harvested_ha     3000.00  23203.00  46400000.00  \n",
       "production_tonnes    16031.00 133981.00 768594154.00  \n",
       "yield_hg/ha          56137.00 141871.25   8755278.00  \n",
       "avg_rainfall_mm_year   867.00   1577.00      3240.00  \n",
       "avg_temp_ºC             21.24     25.24        29.65  "
      ]
     },
     "execution_count": 120,
     "metadata": {},
     "output_type": "execute_result"
    }
   ],
   "source": [
    "df.describe().T"
   ]
  },
  {
   "cell_type": "code",
   "execution_count": 121,
   "metadata": {},
   "outputs": [
    {
     "data": {
      "text/plain": [
       "(115044, 9)"
      ]
     },
     "execution_count": 121,
     "metadata": {},
     "output_type": "execute_result"
    }
   ],
   "source": [
    "df.shape"
   ]
  },
  {
   "cell_type": "markdown",
   "metadata": {},
   "source": [
    "### 3.2. [NaN values](#toc0_)<a id='toc3_2_'></a>"
   ]
  },
  {
   "cell_type": "code",
   "execution_count": 122,
   "metadata": {},
   "outputs": [],
   "source": [
    "df.drop(columns='Item Code', inplace=True)"
   ]
  },
  {
   "cell_type": "code",
   "execution_count": 123,
   "metadata": {},
   "outputs": [],
   "source": [
    "# convert year variable to object type, because it's discrete.\n",
    "df['Year'] = df['Year'].astype(object)"
   ]
  },
  {
   "cell_type": "code",
   "execution_count": 124,
   "metadata": {},
   "outputs": [
    {
     "data": {
      "text/plain": [
       "Area                        0\n",
       "Crop                        0\n",
       "Year                        0\n",
       "area_harvested_ha        1410\n",
       "production_tonnes         163\n",
       "yield_hg/ha             10200\n",
       "avg_rainfall_mm_year        0\n",
       "avg_temp_ºC                 0\n",
       "dtype: int64"
      ]
     },
     "execution_count": 124,
     "metadata": {},
     "output_type": "execute_result"
    }
   ],
   "source": [
    "df.isnull().sum()"
   ]
  },
  {
   "cell_type": "code",
   "execution_count": 125,
   "metadata": {},
   "outputs": [
    {
     "data": {
      "text/plain": [
       "(106082, 8)"
      ]
     },
     "execution_count": 125,
     "metadata": {},
     "output_type": "execute_result"
    }
   ],
   "source": [
    "# There are many area harvested and production values at 0. Delete these rows\n",
    "df = df[(df['area_harvested_ha'] != 0) & (df['production_tonnes'] != 0)]\n",
    "df.shape"
   ]
  },
  {
   "cell_type": "markdown",
   "metadata": {},
   "source": [
    "As the **area harvested, production and yield** are continuous variables, we will do the imputation with the mean value:"
   ]
  },
  {
   "cell_type": "code",
   "execution_count": 126,
   "metadata": {},
   "outputs": [
    {
     "data": {
      "text/plain": [
       "Area                   0.00\n",
       "Crop                   0.00\n",
       "Year                   0.00\n",
       "area_harvested_ha      0.00\n",
       "production_tonnes      0.00\n",
       "yield_hg/ha            0.00\n",
       "avg_rainfall_mm_year   0.00\n",
       "avg_temp_ºC            0.00\n",
       "dtype: float64"
      ]
     },
     "execution_count": 126,
     "metadata": {},
     "output_type": "execute_result"
    }
   ],
   "source": [
    "def repair_null(df, col):\n",
    "    if df[col].dtype == 'int64' or df[col].dtype == 'float64':\n",
    "        df[col] = df[col].fillna(df[col].mean())\n",
    "    else:\n",
    "        df[col] = df[col].fillna(df[col].mode()[0])\n",
    "    return df \n",
    "\n",
    "for col in df.columns:\n",
    "    repair_null(df, col)\n",
    "\n",
    "df.isnull().sum()/len(prec)*100"
   ]
  },
  {
   "cell_type": "code",
   "execution_count": 127,
   "metadata": {},
   "outputs": [],
   "source": [
    "# filter df by 50 more frequent crops\n",
    "top50_crops = df['Crop'].value_counts().head(50)\n",
    "top50_crops.index.tolist()\n",
    "df_filtered = df[df['Crop'].isin(top50_crops.index.tolist())].reset_index(drop=True)"
   ]
  },
  {
   "cell_type": "code",
   "execution_count": 128,
   "metadata": {},
   "outputs": [],
   "source": [
    "# Save final df in csv:\n",
    "df_filtered.to_csv('Data/df_preprocessed.csv', index=False) # with outliers"
   ]
  }
 ],
 "metadata": {
  "kernelspec": {
   "display_name": "Python 3",
   "language": "python",
   "name": "python3"
  },
  "language_info": {
   "codemirror_mode": {
    "name": "ipython",
    "version": 3
   },
   "file_extension": ".py",
   "mimetype": "text/x-python",
   "name": "python",
   "nbconvert_exporter": "python",
   "pygments_lexer": "ipython3",
   "version": "3.10.10"
  }
 },
 "nbformat": 4,
 "nbformat_minor": 2
}
