{
 "cells": [
  {
   "cell_type": "code",
   "execution_count": 3,
   "metadata": {},
   "outputs": [],
   "source": [
    "import numpy as np\n",
    "import pandas as pd\n",
    "import matplotlib.pyplot as plt\n",
    "import seaborn as sns"
   ]
  },
  {
   "cell_type": "code",
   "execution_count": 4,
   "metadata": {},
   "outputs": [],
   "source": [
    "df = pd.read_csv('Data/df_preprocessed.csv')"
   ]
  },
  {
   "cell_type": "code",
   "execution_count": 3,
   "metadata": {},
   "outputs": [
    {
     "name": "stdout",
     "output_type": "stream",
     "text": [
      "<class 'pandas.core.frame.DataFrame'>\n",
      "RangeIndex: 143236 entries, 0 to 143235\n",
      "Data columns (total 8 columns):\n",
      " #   Column                Non-Null Count   Dtype  \n",
      "---  ------                --------------   -----  \n",
      " 0   Area                  143236 non-null  object \n",
      " 1   Crop                  143236 non-null  object \n",
      " 2   Year                  143236 non-null  int64  \n",
      " 3   area_harvested_ha     143236 non-null  float64\n",
      " 4   production_tonnes     143236 non-null  float64\n",
      " 5   yield_hg/ha           143236 non-null  float64\n",
      " 6   avg_rainfall_mm_year  143236 non-null  float64\n",
      " 7   avg_temp_ºC           143236 non-null  float64\n",
      "dtypes: float64(5), int64(1), object(2)\n",
      "memory usage: 8.7+ MB\n"
     ]
    }
   ],
   "source": [
    "df.info()"
   ]
  },
  {
   "cell_type": "code",
   "execution_count": 4,
   "metadata": {},
   "outputs": [],
   "source": [
    "# encode the object type variables to analize the correlation\n",
    "\n",
    "from sklearn.preprocessing import LabelEncoder\n",
    "\n",
    "# create an instance of the encoder\n",
    "encoder = LabelEncoder()\n",
    "\n",
    "for columns in df.columns:\n",
    "    if df[columns].dtype == 'object':\n",
    "        df[columns] = encoder.fit_transform(df[columns])"
   ]
  },
  {
   "cell_type": "code",
   "execution_count": 5,
   "metadata": {},
   "outputs": [
    {
     "data": {
      "text/html": [
       "<div>\n",
       "<style scoped>\n",
       "    .dataframe tbody tr th:only-of-type {\n",
       "        vertical-align: middle;\n",
       "    }\n",
       "\n",
       "    .dataframe tbody tr th {\n",
       "        vertical-align: top;\n",
       "    }\n",
       "\n",
       "    .dataframe thead th {\n",
       "        text-align: right;\n",
       "    }\n",
       "</style>\n",
       "<table border=\"1\" class=\"dataframe\">\n",
       "  <thead>\n",
       "    <tr style=\"text-align: right;\">\n",
       "      <th></th>\n",
       "      <th>Area</th>\n",
       "      <th>Crop</th>\n",
       "      <th>Year</th>\n",
       "      <th>area_harvested_ha</th>\n",
       "      <th>production_tonnes</th>\n",
       "      <th>yield_hg/ha</th>\n",
       "      <th>avg_rainfall_mm_year</th>\n",
       "      <th>avg_temp_ºC</th>\n",
       "    </tr>\n",
       "  </thead>\n",
       "  <tbody>\n",
       "    <tr>\n",
       "      <th>0</th>\n",
       "      <td>0</td>\n",
       "      <td>49</td>\n",
       "      <td>1990</td>\n",
       "      <td>1570000.0</td>\n",
       "      <td>1650000.00</td>\n",
       "      <td>10510.0</td>\n",
       "      <td>327.00</td>\n",
       "      <td>14.38</td>\n",
       "    </tr>\n",
       "    <tr>\n",
       "      <th>1</th>\n",
       "      <td>0</td>\n",
       "      <td>49</td>\n",
       "      <td>1991</td>\n",
       "      <td>1690000.0</td>\n",
       "      <td>1726000.00</td>\n",
       "      <td>10213.0</td>\n",
       "      <td>327.00</td>\n",
       "      <td>14.38</td>\n",
       "    </tr>\n",
       "    <tr>\n",
       "      <th>2</th>\n",
       "      <td>0</td>\n",
       "      <td>49</td>\n",
       "      <td>1992</td>\n",
       "      <td>1600000.0</td>\n",
       "      <td>1650000.00</td>\n",
       "      <td>10313.0</td>\n",
       "      <td>327.00</td>\n",
       "      <td>14.38</td>\n",
       "    </tr>\n",
       "    <tr>\n",
       "      <th>3</th>\n",
       "      <td>0</td>\n",
       "      <td>49</td>\n",
       "      <td>1993</td>\n",
       "      <td>1900000.0</td>\n",
       "      <td>1940000.00</td>\n",
       "      <td>10211.0</td>\n",
       "      <td>327.00</td>\n",
       "      <td>14.38</td>\n",
       "    </tr>\n",
       "    <tr>\n",
       "      <th>4</th>\n",
       "      <td>0</td>\n",
       "      <td>49</td>\n",
       "      <td>1994</td>\n",
       "      <td>2000000.0</td>\n",
       "      <td>2050000.00</td>\n",
       "      <td>10250.0</td>\n",
       "      <td>327.00</td>\n",
       "      <td>14.38</td>\n",
       "    </tr>\n",
       "    <tr>\n",
       "      <th>...</th>\n",
       "      <td>...</td>\n",
       "      <td>...</td>\n",
       "      <td>...</td>\n",
       "      <td>...</td>\n",
       "      <td>...</td>\n",
       "      <td>...</td>\n",
       "      <td>...</td>\n",
       "      <td>...</td>\n",
       "    </tr>\n",
       "    <tr>\n",
       "      <th>143231</th>\n",
       "      <td>161</td>\n",
       "      <td>47</td>\n",
       "      <td>2018</td>\n",
       "      <td>136412.0</td>\n",
       "      <td>239906.00</td>\n",
       "      <td>17587.0</td>\n",
       "      <td>658.94</td>\n",
       "      <td>21.85</td>\n",
       "    </tr>\n",
       "    <tr>\n",
       "      <th>143232</th>\n",
       "      <td>161</td>\n",
       "      <td>47</td>\n",
       "      <td>2019</td>\n",
       "      <td>97138.0</td>\n",
       "      <td>184584.00</td>\n",
       "      <td>19002.0</td>\n",
       "      <td>658.94</td>\n",
       "      <td>21.85</td>\n",
       "    </tr>\n",
       "    <tr>\n",
       "      <th>143233</th>\n",
       "      <td>161</td>\n",
       "      <td>47</td>\n",
       "      <td>2020</td>\n",
       "      <td>104759.0</td>\n",
       "      <td>203488.00</td>\n",
       "      <td>19424.0</td>\n",
       "      <td>658.94</td>\n",
       "      <td>21.85</td>\n",
       "    </tr>\n",
       "    <tr>\n",
       "      <th>143234</th>\n",
       "      <td>161</td>\n",
       "      <td>47</td>\n",
       "      <td>2021</td>\n",
       "      <td>99029.0</td>\n",
       "      <td>162370.00</td>\n",
       "      <td>16396.0</td>\n",
       "      <td>658.94</td>\n",
       "      <td>21.85</td>\n",
       "    </tr>\n",
       "    <tr>\n",
       "      <th>143235</th>\n",
       "      <td>161</td>\n",
       "      <td>47</td>\n",
       "      <td>2022</td>\n",
       "      <td>105227.0</td>\n",
       "      <td>166918.74</td>\n",
       "      <td>15863.0</td>\n",
       "      <td>658.94</td>\n",
       "      <td>21.85</td>\n",
       "    </tr>\n",
       "  </tbody>\n",
       "</table>\n",
       "<p>143236 rows × 8 columns</p>\n",
       "</div>"
      ],
      "text/plain": [
       "        Area  Crop  Year  area_harvested_ha  production_tonnes  yield_hg/ha  \\\n",
       "0          0    49  1990          1570000.0         1650000.00      10510.0   \n",
       "1          0    49  1991          1690000.0         1726000.00      10213.0   \n",
       "2          0    49  1992          1600000.0         1650000.00      10313.0   \n",
       "3          0    49  1993          1900000.0         1940000.00      10211.0   \n",
       "4          0    49  1994          2000000.0         2050000.00      10250.0   \n",
       "...      ...   ...   ...                ...                ...          ...   \n",
       "143231   161    47  2018           136412.0          239906.00      17587.0   \n",
       "143232   161    47  2019            97138.0          184584.00      19002.0   \n",
       "143233   161    47  2020           104759.0          203488.00      19424.0   \n",
       "143234   161    47  2021            99029.0          162370.00      16396.0   \n",
       "143235   161    47  2022           105227.0          166918.74      15863.0   \n",
       "\n",
       "        avg_rainfall_mm_year  avg_temp_ºC  \n",
       "0                     327.00        14.38  \n",
       "1                     327.00        14.38  \n",
       "2                     327.00        14.38  \n",
       "3                     327.00        14.38  \n",
       "4                     327.00        14.38  \n",
       "...                      ...          ...  \n",
       "143231                658.94        21.85  \n",
       "143232                658.94        21.85  \n",
       "143233                658.94        21.85  \n",
       "143234                658.94        21.85  \n",
       "143235                658.94        21.85  \n",
       "\n",
       "[143236 rows x 8 columns]"
      ]
     },
     "execution_count": 5,
     "metadata": {},
     "output_type": "execute_result"
    }
   ],
   "source": [
    "df"
   ]
  },
  {
   "cell_type": "code",
   "execution_count": 6,
   "metadata": {},
   "outputs": [],
   "source": [
    "# Spearman's method \n",
    "corr = df.corr(method='spearman')"
   ]
  },
  {
   "cell_type": "code",
   "execution_count": 7,
   "metadata": {},
   "outputs": [
    {
     "data": {
      "text/html": [
       "<div>\n",
       "<style scoped>\n",
       "    .dataframe tbody tr th:only-of-type {\n",
       "        vertical-align: middle;\n",
       "    }\n",
       "\n",
       "    .dataframe tbody tr th {\n",
       "        vertical-align: top;\n",
       "    }\n",
       "\n",
       "    .dataframe thead th {\n",
       "        text-align: right;\n",
       "    }\n",
       "</style>\n",
       "<table border=\"1\" class=\"dataframe\">\n",
       "  <thead>\n",
       "    <tr style=\"text-align: right;\">\n",
       "      <th></th>\n",
       "      <th>Area</th>\n",
       "      <th>Crop</th>\n",
       "      <th>Year</th>\n",
       "      <th>area_harvested_ha</th>\n",
       "      <th>production_tonnes</th>\n",
       "      <th>yield_hg/ha</th>\n",
       "      <th>avg_rainfall_mm_year</th>\n",
       "      <th>avg_temp_ºC</th>\n",
       "    </tr>\n",
       "  </thead>\n",
       "  <tbody>\n",
       "    <tr>\n",
       "      <th>Area</th>\n",
       "      <td>1.0</td>\n",
       "      <td>NaN</td>\n",
       "      <td>NaN</td>\n",
       "      <td>NaN</td>\n",
       "      <td>NaN</td>\n",
       "      <td>NaN</td>\n",
       "      <td>NaN</td>\n",
       "      <td>NaN</td>\n",
       "    </tr>\n",
       "    <tr>\n",
       "      <th>Crop</th>\n",
       "      <td>NaN</td>\n",
       "      <td>1.0</td>\n",
       "      <td>NaN</td>\n",
       "      <td>NaN</td>\n",
       "      <td>NaN</td>\n",
       "      <td>NaN</td>\n",
       "      <td>NaN</td>\n",
       "      <td>NaN</td>\n",
       "    </tr>\n",
       "    <tr>\n",
       "      <th>Year</th>\n",
       "      <td>NaN</td>\n",
       "      <td>NaN</td>\n",
       "      <td>1.0</td>\n",
       "      <td>NaN</td>\n",
       "      <td>NaN</td>\n",
       "      <td>NaN</td>\n",
       "      <td>NaN</td>\n",
       "      <td>NaN</td>\n",
       "    </tr>\n",
       "    <tr>\n",
       "      <th>area_harvested_ha</th>\n",
       "      <td>NaN</td>\n",
       "      <td>NaN</td>\n",
       "      <td>NaN</td>\n",
       "      <td>1.000000</td>\n",
       "      <td>0.882332</td>\n",
       "      <td>-0.201590</td>\n",
       "      <td>NaN</td>\n",
       "      <td>NaN</td>\n",
       "    </tr>\n",
       "    <tr>\n",
       "      <th>production_tonnes</th>\n",
       "      <td>NaN</td>\n",
       "      <td>NaN</td>\n",
       "      <td>NaN</td>\n",
       "      <td>0.882332</td>\n",
       "      <td>1.000000</td>\n",
       "      <td>0.227443</td>\n",
       "      <td>NaN</td>\n",
       "      <td>-0.155441</td>\n",
       "    </tr>\n",
       "    <tr>\n",
       "      <th>yield_hg/ha</th>\n",
       "      <td>NaN</td>\n",
       "      <td>NaN</td>\n",
       "      <td>NaN</td>\n",
       "      <td>-0.201590</td>\n",
       "      <td>0.227443</td>\n",
       "      <td>1.000000</td>\n",
       "      <td>NaN</td>\n",
       "      <td>-0.118798</td>\n",
       "    </tr>\n",
       "    <tr>\n",
       "      <th>avg_rainfall_mm_year</th>\n",
       "      <td>NaN</td>\n",
       "      <td>NaN</td>\n",
       "      <td>NaN</td>\n",
       "      <td>NaN</td>\n",
       "      <td>NaN</td>\n",
       "      <td>NaN</td>\n",
       "      <td>1.000000</td>\n",
       "      <td>0.251123</td>\n",
       "    </tr>\n",
       "    <tr>\n",
       "      <th>avg_temp_ºC</th>\n",
       "      <td>NaN</td>\n",
       "      <td>NaN</td>\n",
       "      <td>NaN</td>\n",
       "      <td>NaN</td>\n",
       "      <td>-0.155441</td>\n",
       "      <td>-0.118798</td>\n",
       "      <td>0.251123</td>\n",
       "      <td>1.000000</td>\n",
       "    </tr>\n",
       "  </tbody>\n",
       "</table>\n",
       "</div>"
      ],
      "text/plain": [
       "                      Area  Crop  Year  area_harvested_ha  production_tonnes  \\\n",
       "Area                   1.0   NaN   NaN                NaN                NaN   \n",
       "Crop                   NaN   1.0   NaN                NaN                NaN   \n",
       "Year                   NaN   NaN   1.0                NaN                NaN   \n",
       "area_harvested_ha      NaN   NaN   NaN           1.000000           0.882332   \n",
       "production_tonnes      NaN   NaN   NaN           0.882332           1.000000   \n",
       "yield_hg/ha            NaN   NaN   NaN          -0.201590           0.227443   \n",
       "avg_rainfall_mm_year   NaN   NaN   NaN                NaN                NaN   \n",
       "avg_temp_ºC            NaN   NaN   NaN                NaN          -0.155441   \n",
       "\n",
       "                      yield_hg/ha  avg_rainfall_mm_year  avg_temp_ºC  \n",
       "Area                          NaN                   NaN          NaN  \n",
       "Crop                          NaN                   NaN          NaN  \n",
       "Year                          NaN                   NaN          NaN  \n",
       "area_harvested_ha       -0.201590                   NaN          NaN  \n",
       "production_tonnes        0.227443                   NaN    -0.155441  \n",
       "yield_hg/ha              1.000000                   NaN    -0.118798  \n",
       "avg_rainfall_mm_year          NaN              1.000000     0.251123  \n",
       "avg_temp_ºC             -0.118798              0.251123     1.000000  "
      ]
     },
     "execution_count": 7,
     "metadata": {},
     "output_type": "execute_result"
    }
   ],
   "source": [
    "# Análisis de las variables altamente correlacionadas con yield (var objetivo)\n",
    "\n",
    "threshold = 0.1\n",
    "corr[(corr>threshold)|(corr<-threshold)]"
   ]
  },
  {
   "cell_type": "code",
   "execution_count": 8,
   "metadata": {},
   "outputs": [],
   "source": [
    "#creamos un df con las variables que tienen una correlacion alta con la variable objetivo (price). También he metido el barrio porque quiero entrenar al modelo con esa variable\n",
    "df_filtrado = df[['area_harvested_ha','production_tonnes',\n",
    "\t\t 'avg_temp_ºC',\n",
    "\t\t 'yield_hg/ha']]"
   ]
  },
  {
   "cell_type": "code",
   "execution_count": 9,
   "metadata": {},
   "outputs": [],
   "source": [
    "#Guardar df limpio en csv\n",
    "df_filtrado.to_csv('Data/df_ml.csv', index=False)"
   ]
  },
  {
   "cell_type": "markdown",
   "metadata": {},
   "source": [
    "### Modelado de regresión y evaluación del modelo"
   ]
  },
  {
   "cell_type": "markdown",
   "metadata": {},
   "source": [
    "- División de datos"
   ]
  },
  {
   "cell_type": "code",
   "execution_count": 10,
   "metadata": {},
   "outputs": [
    {
     "data": {
      "text/html": [
       "<div>\n",
       "<style scoped>\n",
       "    .dataframe tbody tr th:only-of-type {\n",
       "        vertical-align: middle;\n",
       "    }\n",
       "\n",
       "    .dataframe tbody tr th {\n",
       "        vertical-align: top;\n",
       "    }\n",
       "\n",
       "    .dataframe thead th {\n",
       "        text-align: right;\n",
       "    }\n",
       "</style>\n",
       "<table border=\"1\" class=\"dataframe\">\n",
       "  <thead>\n",
       "    <tr style=\"text-align: right;\">\n",
       "      <th></th>\n",
       "      <th>area_harvested_ha</th>\n",
       "      <th>production_tonnes</th>\n",
       "      <th>avg_temp_ºC</th>\n",
       "      <th>yield_hg/ha</th>\n",
       "    </tr>\n",
       "  </thead>\n",
       "  <tbody>\n",
       "    <tr>\n",
       "      <th>0</th>\n",
       "      <td>1570000.0</td>\n",
       "      <td>1650000.00</td>\n",
       "      <td>14.38</td>\n",
       "      <td>10510.0</td>\n",
       "    </tr>\n",
       "    <tr>\n",
       "      <th>1</th>\n",
       "      <td>1690000.0</td>\n",
       "      <td>1726000.00</td>\n",
       "      <td>14.38</td>\n",
       "      <td>10213.0</td>\n",
       "    </tr>\n",
       "    <tr>\n",
       "      <th>2</th>\n",
       "      <td>1600000.0</td>\n",
       "      <td>1650000.00</td>\n",
       "      <td>14.38</td>\n",
       "      <td>10313.0</td>\n",
       "    </tr>\n",
       "    <tr>\n",
       "      <th>3</th>\n",
       "      <td>1900000.0</td>\n",
       "      <td>1940000.00</td>\n",
       "      <td>14.38</td>\n",
       "      <td>10211.0</td>\n",
       "    </tr>\n",
       "    <tr>\n",
       "      <th>4</th>\n",
       "      <td>2000000.0</td>\n",
       "      <td>2050000.00</td>\n",
       "      <td>14.38</td>\n",
       "      <td>10250.0</td>\n",
       "    </tr>\n",
       "    <tr>\n",
       "      <th>...</th>\n",
       "      <td>...</td>\n",
       "      <td>...</td>\n",
       "      <td>...</td>\n",
       "      <td>...</td>\n",
       "    </tr>\n",
       "    <tr>\n",
       "      <th>143231</th>\n",
       "      <td>136412.0</td>\n",
       "      <td>239906.00</td>\n",
       "      <td>21.85</td>\n",
       "      <td>17587.0</td>\n",
       "    </tr>\n",
       "    <tr>\n",
       "      <th>143232</th>\n",
       "      <td>97138.0</td>\n",
       "      <td>184584.00</td>\n",
       "      <td>21.85</td>\n",
       "      <td>19002.0</td>\n",
       "    </tr>\n",
       "    <tr>\n",
       "      <th>143233</th>\n",
       "      <td>104759.0</td>\n",
       "      <td>203488.00</td>\n",
       "      <td>21.85</td>\n",
       "      <td>19424.0</td>\n",
       "    </tr>\n",
       "    <tr>\n",
       "      <th>143234</th>\n",
       "      <td>99029.0</td>\n",
       "      <td>162370.00</td>\n",
       "      <td>21.85</td>\n",
       "      <td>16396.0</td>\n",
       "    </tr>\n",
       "    <tr>\n",
       "      <th>143235</th>\n",
       "      <td>105227.0</td>\n",
       "      <td>166918.74</td>\n",
       "      <td>21.85</td>\n",
       "      <td>15863.0</td>\n",
       "    </tr>\n",
       "  </tbody>\n",
       "</table>\n",
       "<p>143236 rows × 4 columns</p>\n",
       "</div>"
      ],
      "text/plain": [
       "        area_harvested_ha  production_tonnes  avg_temp_ºC  yield_hg/ha\n",
       "0               1570000.0         1650000.00        14.38      10510.0\n",
       "1               1690000.0         1726000.00        14.38      10213.0\n",
       "2               1600000.0         1650000.00        14.38      10313.0\n",
       "3               1900000.0         1940000.00        14.38      10211.0\n",
       "4               2000000.0         2050000.00        14.38      10250.0\n",
       "...                   ...                ...          ...          ...\n",
       "143231           136412.0          239906.00        21.85      17587.0\n",
       "143232            97138.0          184584.00        21.85      19002.0\n",
       "143233           104759.0          203488.00        21.85      19424.0\n",
       "143234            99029.0          162370.00        21.85      16396.0\n",
       "143235           105227.0          166918.74        21.85      15863.0\n",
       "\n",
       "[143236 rows x 4 columns]"
      ]
     },
     "execution_count": 10,
     "metadata": {},
     "output_type": "execute_result"
    }
   ],
   "source": [
    "df_filtrado"
   ]
  },
  {
   "cell_type": "code",
   "execution_count": 11,
   "metadata": {},
   "outputs": [],
   "source": [
    "# Asignamos las variables independientes y la variable dependiente. Nuestra variable objetivo es la edad\n",
    "X = df_filtrado.drop(['yield_hg/ha'], axis=1)\n",
    "y = df_filtrado['yield_hg/ha']"
   ]
  },
  {
   "cell_type": "code",
   "execution_count": 12,
   "metadata": {},
   "outputs": [],
   "source": [
    "from sklearn.model_selection import train_test_split"
   ]
  },
  {
   "cell_type": "code",
   "execution_count": 13,
   "metadata": {},
   "outputs": [],
   "source": [
    "# Dividimos los datos en conjunto de entrenamiento y conjunto de prueba\n",
    "X_train, X_test, y_train, y_test = train_test_split(X, y, test_size=0.12, random_state=357) "
   ]
  },
  {
   "cell_type": "code",
   "execution_count": 14,
   "metadata": {},
   "outputs": [],
   "source": [
    "# Normalización \n",
    "from sklearn.preprocessing import StandardScaler\n",
    "\n",
    "#Inicializamos el escalador genérico\n",
    "scaler = StandardScaler()\n",
    " \n",
    "#Normalizamos las variables de entrenamiento\n",
    "X_train_scaled = scaler.fit_transform(X_train)\n",
    " \n",
    "#Aplicamos la misma normalización al conjunto de prueba (test)\n",
    "X_test_scaled = scaler.transform(X_test)"
   ]
  },
  {
   "cell_type": "code",
   "execution_count": 15,
   "metadata": {},
   "outputs": [
    {
     "data": {
      "text/plain": [
       "['scaler.pkl']"
      ]
     },
     "execution_count": 15,
     "metadata": {},
     "output_type": "execute_result"
    }
   ],
   "source": [
    "#vamos el scaler para usarlo en el futuro\n",
    "import joblib\n",
    "joblib.dump(scaler, 'scaler.pkl')"
   ]
  },
  {
   "cell_type": "markdown",
   "metadata": {},
   "source": [
    "Entrenamos los modelos:\n",
    "\n",
    "- ElasticNet"
   ]
  },
  {
   "cell_type": "code",
   "execution_count": 16,
   "metadata": {},
   "outputs": [
    {
     "data": {
      "text/plain": [
       "307935.6242704902"
      ]
     },
     "execution_count": 16,
     "metadata": {},
     "output_type": "execute_result"
    }
   ],
   "source": [
    "from sklearn.linear_model import ElasticNet\n",
    "from sklearn.metrics import mean_squared_error as mse\n",
    "#Inicializamos modelo y parámetros\n",
    "alpha = 0.1 #Parámetro que mide el peso que tienen los regularizadores frente a la función original\n",
    "l1_ratio = 0.1 #Parámetro que mide el tradeoff entre el peso l1 y el l2\n",
    "#Instanciamos el modelo\n",
    "model = ElasticNet(alpha = alpha, l1_ratio = l1_ratio, max_iter = 100, random_state = 0)\n",
    "#Entrenamos modelo y elaboramos predicciones\n",
    "model.fit(X_train_scaled, y_train)\n",
    "y_pred = model.predict(X_test_scaled)\n",
    "mse_ElasticNet = mse(y_test, y_pred) # calculamos el error cuadrático medio\n",
    "mse_ElasticNet**.5"
   ]
  },
  {
   "cell_type": "markdown",
   "metadata": {},
   "source": [
    "- Stochastic Gradient Descent"
   ]
  },
  {
   "cell_type": "code",
   "execution_count": 20,
   "metadata": {},
   "outputs": [
    {
     "name": "stdout",
     "output_type": "stream",
     "text": [
      "307986.4481086191\n"
     ]
    }
   ],
   "source": [
    "from sklearn.linear_model import SGDRegressor\n",
    "#Inicializamos modelo y parámetros\n",
    "penalty = 'elasticnet' #Elegimos entre penalización 'l2', 'l1' o 'elasticnet'\n",
    "alpha = .1 #Parámetro que mide el peso que tienen los regularizadores frente a la función original\n",
    "l1_ratio = .1 #Parámetro que mide el tradeoff entre el peso l1 y el l2\n",
    "#Instanciamos el modelo\n",
    "model = SGDRegressor(penalty = penalty, alpha = alpha, l1_ratio = l1_ratio, max_iter = 100, random_state = 0)\n",
    "#Entrenamos modelo y elaboramos predicciones\n",
    "model.fit(X_train_scaled, y_train)\n",
    "mse_SGDRegressor = mse(y_test,model.predict(X_test_scaled))\n",
    "print(mse_SGDRegressor**.5)"
   ]
  },
  {
   "cell_type": "markdown",
   "metadata": {},
   "source": [
    "- Support Vector Regression"
   ]
  },
  {
   "cell_type": "code",
   "execution_count": 17,
   "metadata": {},
   "outputs": [],
   "source": [
    "# from sklearn import svm\n",
    "# #Inicializamos modelo y parámetros\n",
    "# C = 1 #Parámetro regularizador\n",
    "# kernel = 'rbf' #Núcleo transformador\n",
    "# #Instanciamos el modelo\n",
    "# model = svm.SVR(C = C, kernel = kernel)\n",
    "# #Entrenamos modelo y elaboramos predicciones\n",
    "# model.fit(X_train_scaled, y_train)\n",
    "# mse_SVR = mse(y_test,model.predict(X_test_scaled))\n",
    "# print(mse_SVR**0.5)"
   ]
  },
  {
   "cell_type": "markdown",
   "metadata": {},
   "source": [
    "- Random Forest"
   ]
  },
  {
   "cell_type": "code",
   "execution_count": 17,
   "metadata": {},
   "outputs": [
    {
     "name": "stderr",
     "output_type": "stream",
     "text": [
      "[Parallel(n_jobs=1)]: Done  49 tasks      | elapsed:  1.2min\n",
      "[Parallel(n_jobs=1)]: Done 199 tasks      | elapsed:  5.1min\n",
      "[Parallel(n_jobs=1)]: Done  49 tasks      | elapsed:    4.1s\n"
     ]
    },
    {
     "name": "stdout",
     "output_type": "stream",
     "text": [
      "25742.989440362824\n"
     ]
    },
    {
     "name": "stderr",
     "output_type": "stream",
     "text": [
      "[Parallel(n_jobs=1)]: Done 199 tasks      | elapsed:    8.1s\n"
     ]
    }
   ],
   "source": [
    "from sklearn.ensemble import RandomForestRegressor\n",
    "#Inicializamos modelo y parámetros\n",
    "n_estimators = 200 #Estimadores del modelo\n",
    "criterion = 'squared_error' #Forma de calcular el error\n",
    "max_depth = None #Límite de profundidad de los árboles\n",
    "min_samples_split = 2 #Criterio de parada de profundidad\n",
    "verbose = 1 #Información devuelta por el método\n",
    "#Instanciamos el modelo\n",
    "model = RandomForestRegressor(n_estimators=n_estimators, criterion=criterion, max_depth=max_depth, min_samples_split=min_samples_split, verbose=verbose)\n",
    "#Entrenamos modelo y elaboramos predicciones\n",
    "model.fit(X_train_scaled, y_train)\n",
    "mse_RF = mse(y_test,model.predict(X_test_scaled))\n",
    "print(mse_RF**.5)"
   ]
  },
  {
   "cell_type": "markdown",
   "metadata": {},
   "source": [
    "- Boosting: *Gradient Descent*"
   ]
  },
  {
   "cell_type": "code",
   "execution_count": 18,
   "metadata": {},
   "outputs": [
    {
     "name": "stdout",
     "output_type": "stream",
     "text": [
      "230787.28294873453\n"
     ]
    }
   ],
   "source": [
    "import xgboost as xgb\n",
    "#Inicializamos modelo y parámetros\n",
    "params = {\"booster\":\"gbtree\", \"max_depth\": 2, \"eta\": 0.3, \"objective\": \"reg:squarederror\", \"nthread\":2}\n",
    "num_boost_round = 10\n",
    "#Convertimos los datos a formato DMatrix\n",
    "train_data = xgb.DMatrix(X_train_scaled, label=y_train)\n",
    "test_data = xgb.DMatrix(X_test_scaled, label=y_test)\n",
    "#Instanciamos el modelo, entrenamos y elaboramos predicciones\n",
    "model = xgb.train(params = params, dtrain = train_data, num_boost_round=num_boost_round)\n",
    "mse_XGB = mse(y_test,model.predict(test_data))\n",
    "print(mse_XGB**0.5)"
   ]
  },
  {
   "cell_type": "markdown",
   "metadata": {},
   "source": [
    "Comparamos los modelos:"
   ]
  },
  {
   "cell_type": "code",
   "execution_count": 21,
   "metadata": {},
   "outputs": [
    {
     "data": {
      "text/plain": [
       "Text(0.5, 0, 'Modelo')"
      ]
     },
     "execution_count": 21,
     "metadata": {},
     "output_type": "execute_result"
    },
    {
     "data": {
      "image/png": "[encoded data removed]",
      "text/plain": [
       "<Figure size 640x480 with 1 Axes>"
      ]
     },
     "metadata": {},
     "output_type": "display_data"
    }
   ],
   "source": [
    "mse = [mse_ElasticNet, mse_SGDRegressor, mse_RF, mse_XGB] # mse_SVR\n",
    "plt.scatter(['ElasticNet', 'SGDRegressor', 'RF', 'XGB'], mse) # SVR\n",
    "plt.ylabel('mse')\n",
    "plt.xlabel('Modelo')"
   ]
  },
  {
   "cell_type": "markdown",
   "metadata": {},
   "source": [
    "Best Model: Random Forest"
   ]
  },
  {
   "cell_type": "code",
   "execution_count": 22,
   "metadata": {},
   "outputs": [
    {
     "data": {
      "text/plain": [
       "['models/yield_RF.pkl']"
      ]
     },
     "execution_count": 22,
     "metadata": {},
     "output_type": "execute_result"
    }
   ],
   "source": [
    "#vamos a guardar nuestro mejor modelo para usarlo en el futuro\n",
    "import joblib\n",
    "joblib.dump(model, 'models/yield_RF.pkl') "
   ]
  },
  {
   "cell_type": "markdown",
   "metadata": {},
   "source": [
    "---\n",
    "### Fast Machine Learning (Pycaret)"
   ]
  },
  {
   "cell_type": "code",
   "execution_count": 1,
   "metadata": {},
   "outputs": [],
   "source": [
    "from pycaret.regression import *"
   ]
  },
  {
   "cell_type": "code",
   "execution_count": 5,
   "metadata": {},
   "outputs": [],
   "source": [
    "df = pd.read_csv('Data/df_ml.csv')"
   ]
  },
  {
   "cell_type": "code",
   "execution_count": 6,
   "metadata": {},
   "outputs": [
    {
     "data": {
      "text/html": [
       "<style type=\"text/css\">\n",
       "#T_430f1_row8_col1 {\n",
       "  background-color: lightgreen;\n",
       "}\n",
       "</style>\n",
       "<table id=\"T_430f1\">\n",
       "  <thead>\n",
       "    <tr>\n",
       "      <th class=\"blank level0\" >&nbsp;</th>\n",
       "      <th id=\"T_430f1_level0_col0\" class=\"col_heading level0 col0\" >Description</th>\n",
       "      <th id=\"T_430f1_level0_col1\" class=\"col_heading level0 col1\" >Value</th>\n",
       "    </tr>\n",
       "  </thead>\n",
       "  <tbody>\n",
       "    <tr>\n",
       "      <th id=\"T_430f1_level0_row0\" class=\"row_heading level0 row0\" >0</th>\n",
       "      <td id=\"T_430f1_row0_col0\" class=\"data row0 col0\" >Session id</td>\n",
       "      <td id=\"T_430f1_row0_col1\" class=\"data row0 col1\" >357</td>\n",
       "    </tr>\n",
       "    <tr>\n",
       "      <th id=\"T_430f1_level0_row1\" class=\"row_heading level0 row1\" >1</th>\n",
       "      <td id=\"T_430f1_row1_col0\" class=\"data row1 col0\" >Target</td>\n",
       "      <td id=\"T_430f1_row1_col1\" class=\"data row1 col1\" >yield_hg/ha</td>\n",
       "    </tr>\n",
       "    <tr>\n",
       "      <th id=\"T_430f1_level0_row2\" class=\"row_heading level0 row2\" >2</th>\n",
       "      <td id=\"T_430f1_row2_col0\" class=\"data row2 col0\" >Target type</td>\n",
       "      <td id=\"T_430f1_row2_col1\" class=\"data row2 col1\" >Regression</td>\n",
       "    </tr>\n",
       "    <tr>\n",
       "      <th id=\"T_430f1_level0_row3\" class=\"row_heading level0 row3\" >3</th>\n",
       "      <td id=\"T_430f1_row3_col0\" class=\"data row3 col0\" >Original data shape</td>\n",
       "      <td id=\"T_430f1_row3_col1\" class=\"data row3 col1\" >(143236, 4)</td>\n",
       "    </tr>\n",
       "    <tr>\n",
       "      <th id=\"T_430f1_level0_row4\" class=\"row_heading level0 row4\" >4</th>\n",
       "      <td id=\"T_430f1_row4_col0\" class=\"data row4 col0\" >Transformed data shape</td>\n",
       "      <td id=\"T_430f1_row4_col1\" class=\"data row4 col1\" >(143236, 4)</td>\n",
       "    </tr>\n",
       "    <tr>\n",
       "      <th id=\"T_430f1_level0_row5\" class=\"row_heading level0 row5\" >5</th>\n",
       "      <td id=\"T_430f1_row5_col0\" class=\"data row5 col0\" >Transformed train set shape</td>\n",
       "      <td id=\"T_430f1_row5_col1\" class=\"data row5 col1\" >(100265, 4)</td>\n",
       "    </tr>\n",
       "    <tr>\n",
       "      <th id=\"T_430f1_level0_row6\" class=\"row_heading level0 row6\" >6</th>\n",
       "      <td id=\"T_430f1_row6_col0\" class=\"data row6 col0\" >Transformed test set shape</td>\n",
       "      <td id=\"T_430f1_row6_col1\" class=\"data row6 col1\" >(42971, 4)</td>\n",
       "    </tr>\n",
       "    <tr>\n",
       "      <th id=\"T_430f1_level0_row7\" class=\"row_heading level0 row7\" >7</th>\n",
       "      <td id=\"T_430f1_row7_col0\" class=\"data row7 col0\" >Numeric features</td>\n",
       "      <td id=\"T_430f1_row7_col1\" class=\"data row7 col1\" >3</td>\n",
       "    </tr>\n",
       "    <tr>\n",
       "      <th id=\"T_430f1_level0_row8\" class=\"row_heading level0 row8\" >8</th>\n",
       "      <td id=\"T_430f1_row8_col0\" class=\"data row8 col0\" >Preprocess</td>\n",
       "      <td id=\"T_430f1_row8_col1\" class=\"data row8 col1\" >True</td>\n",
       "    </tr>\n",
       "    <tr>\n",
       "      <th id=\"T_430f1_level0_row9\" class=\"row_heading level0 row9\" >9</th>\n",
       "      <td id=\"T_430f1_row9_col0\" class=\"data row9 col0\" >Imputation type</td>\n",
       "      <td id=\"T_430f1_row9_col1\" class=\"data row9 col1\" >simple</td>\n",
       "    </tr>\n",
       "    <tr>\n",
       "      <th id=\"T_430f1_level0_row10\" class=\"row_heading level0 row10\" >10</th>\n",
       "      <td id=\"T_430f1_row10_col0\" class=\"data row10 col0\" >Numeric imputation</td>\n",
       "      <td id=\"T_430f1_row10_col1\" class=\"data row10 col1\" >mean</td>\n",
       "    </tr>\n",
       "    <tr>\n",
       "      <th id=\"T_430f1_level0_row11\" class=\"row_heading level0 row11\" >11</th>\n",
       "      <td id=\"T_430f1_row11_col0\" class=\"data row11 col0\" >Categorical imputation</td>\n",
       "      <td id=\"T_430f1_row11_col1\" class=\"data row11 col1\" >mode</td>\n",
       "    </tr>\n",
       "    <tr>\n",
       "      <th id=\"T_430f1_level0_row12\" class=\"row_heading level0 row12\" >12</th>\n",
       "      <td id=\"T_430f1_row12_col0\" class=\"data row12 col0\" >Fold Generator</td>\n",
       "      <td id=\"T_430f1_row12_col1\" class=\"data row12 col1\" >KFold</td>\n",
       "    </tr>\n",
       "    <tr>\n",
       "      <th id=\"T_430f1_level0_row13\" class=\"row_heading level0 row13\" >13</th>\n",
       "      <td id=\"T_430f1_row13_col0\" class=\"data row13 col0\" >Fold Number</td>\n",
       "      <td id=\"T_430f1_row13_col1\" class=\"data row13 col1\" >10</td>\n",
       "    </tr>\n",
       "    <tr>\n",
       "      <th id=\"T_430f1_level0_row14\" class=\"row_heading level0 row14\" >14</th>\n",
       "      <td id=\"T_430f1_row14_col0\" class=\"data row14 col0\" >CPU Jobs</td>\n",
       "      <td id=\"T_430f1_row14_col1\" class=\"data row14 col1\" >-1</td>\n",
       "    </tr>\n",
       "    <tr>\n",
       "      <th id=\"T_430f1_level0_row15\" class=\"row_heading level0 row15\" >15</th>\n",
       "      <td id=\"T_430f1_row15_col0\" class=\"data row15 col0\" >Use GPU</td>\n",
       "      <td id=\"T_430f1_row15_col1\" class=\"data row15 col1\" >False</td>\n",
       "    </tr>\n",
       "    <tr>\n",
       "      <th id=\"T_430f1_level0_row16\" class=\"row_heading level0 row16\" >16</th>\n",
       "      <td id=\"T_430f1_row16_col0\" class=\"data row16 col0\" >Log Experiment</td>\n",
       "      <td id=\"T_430f1_row16_col1\" class=\"data row16 col1\" >False</td>\n",
       "    </tr>\n",
       "    <tr>\n",
       "      <th id=\"T_430f1_level0_row17\" class=\"row_heading level0 row17\" >17</th>\n",
       "      <td id=\"T_430f1_row17_col0\" class=\"data row17 col0\" >Experiment Name</td>\n",
       "      <td id=\"T_430f1_row17_col1\" class=\"data row17 col1\" >reg-default-name</td>\n",
       "    </tr>\n",
       "    <tr>\n",
       "      <th id=\"T_430f1_level0_row18\" class=\"row_heading level0 row18\" >18</th>\n",
       "      <td id=\"T_430f1_row18_col0\" class=\"data row18 col0\" >USI</td>\n",
       "      <td id=\"T_430f1_row18_col1\" class=\"data row18 col1\" >d772</td>\n",
       "    </tr>\n",
       "  </tbody>\n",
       "</table>\n"
      ],
      "text/plain": [
       "<pandas.io.formats.style.Styler at 0x1992c2a3490>"
      ]
     },
     "metadata": {},
     "output_type": "display_data"
    }
   ],
   "source": [
    "#Hacemos un setup del data diciendole que la target age es mi objetivo\n",
    "setup = setup(data = df, target = 'yield_hg/ha', session_id = 357)\t"
   ]
  },
  {
   "cell_type": "code",
   "execution_count": 26,
   "metadata": {},
   "outputs": [
    {
     "data": {
      "text/html": [],
      "text/plain": [
       "<IPython.core.display.HTML object>"
      ]
     },
     "metadata": {},
     "output_type": "display_data"
    },
    {
     "data": {
      "text/html": [
       "<style type=\"text/css\">\n",
       "#T_82712 th {\n",
       "  text-align: left;\n",
       "}\n",
       "#T_82712_row0_col0, #T_82712_row0_col1, #T_82712_row0_col5, #T_82712_row0_col6, #T_82712_row1_col0, #T_82712_row1_col2, #T_82712_row1_col3, #T_82712_row1_col4, #T_82712_row1_col6, #T_82712_row2_col0, #T_82712_row2_col1, #T_82712_row2_col2, #T_82712_row2_col3, #T_82712_row2_col4, #T_82712_row2_col5, #T_82712_row2_col6, #T_82712_row3_col0, #T_82712_row3_col1, #T_82712_row3_col2, #T_82712_row3_col3, #T_82712_row3_col4, #T_82712_row3_col5, #T_82712_row4_col0, #T_82712_row4_col1, #T_82712_row4_col2, #T_82712_row4_col3, #T_82712_row4_col4, #T_82712_row4_col5, #T_82712_row4_col6, #T_82712_row5_col0, #T_82712_row5_col1, #T_82712_row5_col2, #T_82712_row5_col3, #T_82712_row5_col4, #T_82712_row5_col5, #T_82712_row5_col6, #T_82712_row6_col0, #T_82712_row6_col1, #T_82712_row6_col2, #T_82712_row6_col3, #T_82712_row6_col4, #T_82712_row6_col5, #T_82712_row6_col6, #T_82712_row7_col0, #T_82712_row7_col1, #T_82712_row7_col2, #T_82712_row7_col3, #T_82712_row7_col4, #T_82712_row7_col5, #T_82712_row7_col6, #T_82712_row8_col0, #T_82712_row8_col1, #T_82712_row8_col2, #T_82712_row8_col3, #T_82712_row8_col4, #T_82712_row8_col5, #T_82712_row8_col6, #T_82712_row9_col0, #T_82712_row9_col1, #T_82712_row9_col2, #T_82712_row9_col3, #T_82712_row9_col4, #T_82712_row9_col5, #T_82712_row9_col6, #T_82712_row10_col0, #T_82712_row10_col1, #T_82712_row10_col2, #T_82712_row10_col3, #T_82712_row10_col4, #T_82712_row10_col5, #T_82712_row10_col6, #T_82712_row11_col0, #T_82712_row11_col1, #T_82712_row11_col2, #T_82712_row11_col3, #T_82712_row11_col4, #T_82712_row11_col5, #T_82712_row11_col6, #T_82712_row12_col0, #T_82712_row12_col1, #T_82712_row12_col2, #T_82712_row12_col3, #T_82712_row12_col4, #T_82712_row12_col5, #T_82712_row12_col6, #T_82712_row13_col0, #T_82712_row13_col1, #T_82712_row13_col2, #T_82712_row13_col3, #T_82712_row13_col4, #T_82712_row13_col5, #T_82712_row13_col6, #T_82712_row14_col0, #T_82712_row14_col1, #T_82712_row14_col2, #T_82712_row14_col3, #T_82712_row14_col4, #T_82712_row14_col5, #T_82712_row14_col6, #T_82712_row15_col0, #T_82712_row15_col1, #T_82712_row15_col2, #T_82712_row15_col3, #T_82712_row15_col4, #T_82712_row15_col5, #T_82712_row15_col6, #T_82712_row16_col0, #T_82712_row16_col1, #T_82712_row16_col2, #T_82712_row16_col3, #T_82712_row16_col4, #T_82712_row16_col5, #T_82712_row16_col6, #T_82712_row17_col0, #T_82712_row17_col1, #T_82712_row17_col2, #T_82712_row17_col3, #T_82712_row17_col4, #T_82712_row17_col5, #T_82712_row17_col6, #T_82712_row18_col0, #T_82712_row18_col1, #T_82712_row18_col2, #T_82712_row18_col3, #T_82712_row18_col4, #T_82712_row18_col5, #T_82712_row18_col6 {\n",
       "  text-align: left;\n",
       "}\n",
       "#T_82712_row0_col2, #T_82712_row0_col3, #T_82712_row0_col4, #T_82712_row1_col1, #T_82712_row1_col5, #T_82712_row3_col6 {\n",
       "  text-align: left;\n",
       "  background-color: yellow;\n",
       "}\n",
       "#T_82712_row0_col7, #T_82712_row1_col7, #T_82712_row2_col7, #T_82712_row3_col7, #T_82712_row4_col7, #T_82712_row5_col7, #T_82712_row6_col7, #T_82712_row7_col7, #T_82712_row8_col7, #T_82712_row9_col7, #T_82712_row10_col7, #T_82712_row11_col7, #T_82712_row12_col7, #T_82712_row13_col7, #T_82712_row16_col7, #T_82712_row17_col7, #T_82712_row18_col7 {\n",
       "  text-align: left;\n",
       "  background-color: lightgrey;\n",
       "}\n",
       "#T_82712_row14_col7, #T_82712_row15_col7 {\n",
       "  text-align: left;\n",
       "  background-color: yellow;\n",
       "  background-color: lightgrey;\n",
       "}\n",
       "</style>\n",
       "<table id=\"T_82712\">\n",
       "  <thead>\n",
       "    <tr>\n",
       "      <th class=\"blank level0\" >&nbsp;</th>\n",
       "      <th id=\"T_82712_level0_col0\" class=\"col_heading level0 col0\" >Model</th>\n",
       "      <th id=\"T_82712_level0_col1\" class=\"col_heading level0 col1\" >MAE</th>\n",
       "      <th id=\"T_82712_level0_col2\" class=\"col_heading level0 col2\" >MSE</th>\n",
       "      <th id=\"T_82712_level0_col3\" class=\"col_heading level0 col3\" >RMSE</th>\n",
       "      <th id=\"T_82712_level0_col4\" class=\"col_heading level0 col4\" >R2</th>\n",
       "      <th id=\"T_82712_level0_col5\" class=\"col_heading level0 col5\" >RMSLE</th>\n",
       "      <th id=\"T_82712_level0_col6\" class=\"col_heading level0 col6\" >MAPE</th>\n",
       "      <th id=\"T_82712_level0_col7\" class=\"col_heading level0 col7\" >TT (Sec)</th>\n",
       "    </tr>\n",
       "  </thead>\n",
       "  <tbody>\n",
       "    <tr>\n",
       "      <th id=\"T_82712_level0_row0\" class=\"row_heading level0 row0\" >et</th>\n",
       "      <td id=\"T_82712_row0_col0\" class=\"data row0 col0\" >Extra Trees Regressor</td>\n",
       "      <td id=\"T_82712_row0_col1\" class=\"data row0 col1\" >3587.9656</td>\n",
       "      <td id=\"T_82712_row0_col2\" class=\"data row0 col2\" >551087628.0609</td>\n",
       "      <td id=\"T_82712_row0_col3\" class=\"data row0 col3\" >22972.4220</td>\n",
       "      <td id=\"T_82712_row0_col4\" class=\"data row0 col4\" >0.9940</td>\n",
       "      <td id=\"T_82712_row0_col5\" class=\"data row0 col5\" >0.0927</td>\n",
       "      <td id=\"T_82712_row0_col6\" class=\"data row0 col6\" >0.0534</td>\n",
       "      <td id=\"T_82712_row0_col7\" class=\"data row0 col7\" >40.7160</td>\n",
       "    </tr>\n",
       "    <tr>\n",
       "      <th id=\"T_82712_level0_row1\" class=\"row_heading level0 row1\" >rf</th>\n",
       "      <td id=\"T_82712_row1_col0\" class=\"data row1 col0\" >Random Forest Regressor</td>\n",
       "      <td id=\"T_82712_row1_col1\" class=\"data row1 col1\" >2977.6208</td>\n",
       "      <td id=\"T_82712_row1_col2\" class=\"data row1 col2\" >714065649.0696</td>\n",
       "      <td id=\"T_82712_row1_col3\" class=\"data row1 col3\" >25650.0471</td>\n",
       "      <td id=\"T_82712_row1_col4\" class=\"data row1 col4\" >0.9922</td>\n",
       "      <td id=\"T_82712_row1_col5\" class=\"data row1 col5\" >0.0719</td>\n",
       "      <td id=\"T_82712_row1_col6\" class=\"data row1 col6\" >0.0625</td>\n",
       "      <td id=\"T_82712_row1_col7\" class=\"data row1 col7\" >31.5980</td>\n",
       "    </tr>\n",
       "    <tr>\n",
       "      <th id=\"T_82712_level0_row2\" class=\"row_heading level0 row2\" >xgboost</th>\n",
       "      <td id=\"T_82712_row2_col0\" class=\"data row2 col0\" >Extreme Gradient Boosting</td>\n",
       "      <td id=\"T_82712_row2_col1\" class=\"data row2 col1\" >9994.5439</td>\n",
       "      <td id=\"T_82712_row2_col2\" class=\"data row2 col2\" >1257521315.2000</td>\n",
       "      <td id=\"T_82712_row2_col3\" class=\"data row2 col3\" >34140.1443</td>\n",
       "      <td id=\"T_82712_row2_col4\" class=\"data row2 col4\" >0.9859</td>\n",
       "      <td id=\"T_82712_row2_col5\" class=\"data row2 col5\" >0.2789</td>\n",
       "      <td id=\"T_82712_row2_col6\" class=\"data row2 col6\" >0.2835</td>\n",
       "      <td id=\"T_82712_row2_col7\" class=\"data row2 col7\" >0.5540</td>\n",
       "    </tr>\n",
       "    <tr>\n",
       "      <th id=\"T_82712_level0_row3\" class=\"row_heading level0 row3\" >dt</th>\n",
       "      <td id=\"T_82712_row3_col0\" class=\"data row3 col0\" >Decision Tree Regressor</td>\n",
       "      <td id=\"T_82712_row3_col1\" class=\"data row3 col1\" >5441.2855</td>\n",
       "      <td id=\"T_82712_row3_col2\" class=\"data row3 col2\" >1372350959.0094</td>\n",
       "      <td id=\"T_82712_row3_col3\" class=\"data row3 col3\" >35995.9830</td>\n",
       "      <td id=\"T_82712_row3_col4\" class=\"data row3 col4\" >0.9848</td>\n",
       "      <td id=\"T_82712_row3_col5\" class=\"data row3 col5\" >0.0745</td>\n",
       "      <td id=\"T_82712_row3_col6\" class=\"data row3 col6\" >0.0341</td>\n",
       "      <td id=\"T_82712_row3_col7\" class=\"data row3 col7\" >0.4760</td>\n",
       "    </tr>\n",
       "    <tr>\n",
       "      <th id=\"T_82712_level0_row4\" class=\"row_heading level0 row4\" >lightgbm</th>\n",
       "      <td id=\"T_82712_row4_col0\" class=\"data row4 col0\" >Light Gradient Boosting Machine</td>\n",
       "      <td id=\"T_82712_row4_col1\" class=\"data row4 col1\" >11130.7669</td>\n",
       "      <td id=\"T_82712_row4_col2\" class=\"data row4 col2\" >1733388028.7206</td>\n",
       "      <td id=\"T_82712_row4_col3\" class=\"data row4 col3\" >40786.9464</td>\n",
       "      <td id=\"T_82712_row4_col4\" class=\"data row4 col4\" >0.9810</td>\n",
       "      <td id=\"T_82712_row4_col5\" class=\"data row4 col5\" >0.2851</td>\n",
       "      <td id=\"T_82712_row4_col6\" class=\"data row4 col6\" >0.2854</td>\n",
       "      <td id=\"T_82712_row4_col7\" class=\"data row4 col7\" >0.6410</td>\n",
       "    </tr>\n",
       "    <tr>\n",
       "      <th id=\"T_82712_level0_row5\" class=\"row_heading level0 row5\" >gbr</th>\n",
       "      <td id=\"T_82712_row5_col0\" class=\"data row5 col0\" >Gradient Boosting Regressor</td>\n",
       "      <td id=\"T_82712_row5_col1\" class=\"data row5 col1\" >26642.0504</td>\n",
       "      <td id=\"T_82712_row5_col2\" class=\"data row5 col2\" >5004817391.0190</td>\n",
       "      <td id=\"T_82712_row5_col3\" class=\"data row5 col3\" >70306.0941</td>\n",
       "      <td id=\"T_82712_row5_col4\" class=\"data row5 col4\" >0.9442</td>\n",
       "      <td id=\"T_82712_row5_col5\" class=\"data row5 col5\" >0.5729</td>\n",
       "      <td id=\"T_82712_row5_col6\" class=\"data row5 col6\" >0.6909</td>\n",
       "      <td id=\"T_82712_row5_col7\" class=\"data row5 col7\" >8.1730</td>\n",
       "    </tr>\n",
       "    <tr>\n",
       "      <th id=\"T_82712_level0_row6\" class=\"row_heading level0 row6\" >knn</th>\n",
       "      <td id=\"T_82712_row6_col0\" class=\"data row6 col0\" >K Neighbors Regressor</td>\n",
       "      <td id=\"T_82712_row6_col1\" class=\"data row6 col1\" >16107.1401</td>\n",
       "      <td id=\"T_82712_row6_col2\" class=\"data row6 col2\" >20706975129.6000</td>\n",
       "      <td id=\"T_82712_row6_col3\" class=\"data row6 col3\" >142650.6422</td>\n",
       "      <td id=\"T_82712_row6_col4\" class=\"data row6 col4\" >0.7708</td>\n",
       "      <td id=\"T_82712_row6_col5\" class=\"data row6 col5\" >0.1021</td>\n",
       "      <td id=\"T_82712_row6_col6\" class=\"data row6 col6\" >0.0369</td>\n",
       "      <td id=\"T_82712_row6_col7\" class=\"data row6 col7\" >0.1630</td>\n",
       "    </tr>\n",
       "    <tr>\n",
       "      <th id=\"T_82712_level0_row7\" class=\"row_heading level0 row7\" >llar</th>\n",
       "      <td id=\"T_82712_row7_col0\" class=\"data row7 col0\" >Lasso Least Angle Regression</td>\n",
       "      <td id=\"T_82712_row7_col1\" class=\"data row7 col1\" >125156.0719</td>\n",
       "      <td id=\"T_82712_row7_col2\" class=\"data row7 col2\" >87068599910.4000</td>\n",
       "      <td id=\"T_82712_row7_col3\" class=\"data row7 col3\" >294384.0250</td>\n",
       "      <td id=\"T_82712_row7_col4\" class=\"data row7 col4\" >0.0241</td>\n",
       "      <td id=\"T_82712_row7_col5\" class=\"data row7 col5\" >1.5135</td>\n",
       "      <td id=\"T_82712_row7_col6\" class=\"data row7 col6\" >4.9326</td>\n",
       "      <td id=\"T_82712_row7_col7\" class=\"data row7 col7\" >0.0630</td>\n",
       "    </tr>\n",
       "    <tr>\n",
       "      <th id=\"T_82712_level0_row8\" class=\"row_heading level0 row8\" >lar</th>\n",
       "      <td id=\"T_82712_row8_col0\" class=\"data row8 col0\" >Least Angle Regression</td>\n",
       "      <td id=\"T_82712_row8_col1\" class=\"data row8 col1\" >125156.0805</td>\n",
       "      <td id=\"T_82712_row8_col2\" class=\"data row8 col2\" >87068599910.4000</td>\n",
       "      <td id=\"T_82712_row8_col3\" class=\"data row8 col3\" >294384.0266</td>\n",
       "      <td id=\"T_82712_row8_col4\" class=\"data row8 col4\" >0.0241</td>\n",
       "      <td id=\"T_82712_row8_col5\" class=\"data row8 col5\" >1.5135</td>\n",
       "      <td id=\"T_82712_row8_col6\" class=\"data row8 col6\" >4.9326</td>\n",
       "      <td id=\"T_82712_row8_col7\" class=\"data row8 col7\" >0.0600</td>\n",
       "    </tr>\n",
       "    <tr>\n",
       "      <th id=\"T_82712_level0_row9\" class=\"row_heading level0 row9\" >en</th>\n",
       "      <td id=\"T_82712_row9_col0\" class=\"data row9 col0\" >Elastic Net</td>\n",
       "      <td id=\"T_82712_row9_col1\" class=\"data row9 col1\" >125138.7250</td>\n",
       "      <td id=\"T_82712_row9_col2\" class=\"data row9 col2\" >87068676915.2000</td>\n",
       "      <td id=\"T_82712_row9_col3\" class=\"data row9 col3\" >294383.9047</td>\n",
       "      <td id=\"T_82712_row9_col4\" class=\"data row9 col4\" >0.0241</td>\n",
       "      <td id=\"T_82712_row9_col5\" class=\"data row9 col5\" >1.5136</td>\n",
       "      <td id=\"T_82712_row9_col6\" class=\"data row9 col6\" >4.9353</td>\n",
       "      <td id=\"T_82712_row9_col7\" class=\"data row9 col7\" >0.3040</td>\n",
       "    </tr>\n",
       "    <tr>\n",
       "      <th id=\"T_82712_level0_row10\" class=\"row_heading level0 row10\" >ridge</th>\n",
       "      <td id=\"T_82712_row10_col0\" class=\"data row10 col0\" >Ridge Regression</td>\n",
       "      <td id=\"T_82712_row10_col1\" class=\"data row10 col1\" >125156.0836</td>\n",
       "      <td id=\"T_82712_row10_col2\" class=\"data row10 col2\" >87068599910.4000</td>\n",
       "      <td id=\"T_82712_row10_col3\" class=\"data row10 col3\" >294384.0266</td>\n",
       "      <td id=\"T_82712_row10_col4\" class=\"data row10 col4\" >0.0241</td>\n",
       "      <td id=\"T_82712_row10_col5\" class=\"data row10 col5\" >1.5135</td>\n",
       "      <td id=\"T_82712_row10_col6\" class=\"data row10 col6\" >4.9326</td>\n",
       "      <td id=\"T_82712_row10_col7\" class=\"data row10 col7\" >0.0610</td>\n",
       "    </tr>\n",
       "    <tr>\n",
       "      <th id=\"T_82712_level0_row11\" class=\"row_heading level0 row11\" >lasso</th>\n",
       "      <td id=\"T_82712_row11_col0\" class=\"data row11 col0\" >Lasso Regression</td>\n",
       "      <td id=\"T_82712_row11_col1\" class=\"data row11 col1\" >125156.0727</td>\n",
       "      <td id=\"T_82712_row11_col2\" class=\"data row11 col2\" >87068599091.2000</td>\n",
       "      <td id=\"T_82712_row11_col3\" class=\"data row11 col3\" >294384.0250</td>\n",
       "      <td id=\"T_82712_row11_col4\" class=\"data row11 col4\" >0.0241</td>\n",
       "      <td id=\"T_82712_row11_col5\" class=\"data row11 col5\" >1.5135</td>\n",
       "      <td id=\"T_82712_row11_col6\" class=\"data row11 col6\" >4.9326</td>\n",
       "      <td id=\"T_82712_row11_col7\" class=\"data row11 col7\" >0.2660</td>\n",
       "    </tr>\n",
       "    <tr>\n",
       "      <th id=\"T_82712_level0_row12\" class=\"row_heading level0 row12\" >lr</th>\n",
       "      <td id=\"T_82712_row12_col0\" class=\"data row12 col0\" >Linear Regression</td>\n",
       "      <td id=\"T_82712_row12_col1\" class=\"data row12 col1\" >125207.8406</td>\n",
       "      <td id=\"T_82712_row12_col2\" class=\"data row12 col2\" >87072481280.0000</td>\n",
       "      <td id=\"T_82712_row12_col3\" class=\"data row12 col3\" >294391.0031</td>\n",
       "      <td id=\"T_82712_row12_col4\" class=\"data row12 col4\" >0.0240</td>\n",
       "      <td id=\"T_82712_row12_col5\" class=\"data row12 col5\" >1.5145</td>\n",
       "      <td id=\"T_82712_row12_col6\" class=\"data row12 col6\" >4.9375</td>\n",
       "      <td id=\"T_82712_row12_col7\" class=\"data row12 col7\" >1.5030</td>\n",
       "    </tr>\n",
       "    <tr>\n",
       "      <th id=\"T_82712_level0_row13\" class=\"row_heading level0 row13\" >br</th>\n",
       "      <td id=\"T_82712_row13_col0\" class=\"data row13 col0\" >Bayesian Ridge</td>\n",
       "      <td id=\"T_82712_row13_col1\" class=\"data row13 col1\" >126187.6633</td>\n",
       "      <td id=\"T_82712_row13_col2\" class=\"data row13 col2\" >88510994022.4000</td>\n",
       "      <td id=\"T_82712_row13_col3\" class=\"data row13 col3\" >296811.1766</td>\n",
       "      <td id=\"T_82712_row13_col4\" class=\"data row13 col4\" >0.0079</td>\n",
       "      <td id=\"T_82712_row13_col5\" class=\"data row13 col5\" >1.5410</td>\n",
       "      <td id=\"T_82712_row13_col6\" class=\"data row13 col6\" >5.2663</td>\n",
       "      <td id=\"T_82712_row13_col7\" class=\"data row13 col7\" >0.0640</td>\n",
       "    </tr>\n",
       "    <tr>\n",
       "      <th id=\"T_82712_level0_row14\" class=\"row_heading level0 row14\" >omp</th>\n",
       "      <td id=\"T_82712_row14_col0\" class=\"data row14 col0\" >Orthogonal Matching Pursuit</td>\n",
       "      <td id=\"T_82712_row14_col1\" class=\"data row14 col1\" >127519.2953</td>\n",
       "      <td id=\"T_82712_row14_col2\" class=\"data row14 col2\" >89046095462.4000</td>\n",
       "      <td id=\"T_82712_row14_col3\" class=\"data row14 col3\" >297716.3000</td>\n",
       "      <td id=\"T_82712_row14_col4\" class=\"data row14 col4\" >0.0018</td>\n",
       "      <td id=\"T_82712_row14_col5\" class=\"data row14 col5\" >1.5535</td>\n",
       "      <td id=\"T_82712_row14_col6\" class=\"data row14 col6\" >5.3174</td>\n",
       "      <td id=\"T_82712_row14_col7\" class=\"data row14 col7\" >0.0590</td>\n",
       "    </tr>\n",
       "    <tr>\n",
       "      <th id=\"T_82712_level0_row15\" class=\"row_heading level0 row15\" >dummy</th>\n",
       "      <td id=\"T_82712_row15_col0\" class=\"data row15 col0\" >Dummy Regressor</td>\n",
       "      <td id=\"T_82712_row15_col1\" class=\"data row15 col1\" >127849.4242</td>\n",
       "      <td id=\"T_82712_row15_col2\" class=\"data row15 col2\" >89204505804.8000</td>\n",
       "      <td id=\"T_82712_row15_col3\" class=\"data row15 col3\" >297989.8828</td>\n",
       "      <td id=\"T_82712_row15_col4\" class=\"data row15 col4\" >-0.0001</td>\n",
       "      <td id=\"T_82712_row15_col5\" class=\"data row15 col5\" >1.5565</td>\n",
       "      <td id=\"T_82712_row15_col6\" class=\"data row15 col6\" >5.3520</td>\n",
       "      <td id=\"T_82712_row15_col7\" class=\"data row15 col7\" >0.0590</td>\n",
       "    </tr>\n",
       "    <tr>\n",
       "      <th id=\"T_82712_level0_row16\" class=\"row_heading level0 row16\" >huber</th>\n",
       "      <td id=\"T_82712_row16_col0\" class=\"data row16 col0\" >Huber Regressor</td>\n",
       "      <td id=\"T_82712_row16_col1\" class=\"data row16 col1\" >140005.8071</td>\n",
       "      <td id=\"T_82712_row16_col2\" class=\"data row16 col2\" >109105049581.1798</td>\n",
       "      <td id=\"T_82712_row16_col3\" class=\"data row16 col3\" >329749.9476</td>\n",
       "      <td id=\"T_82712_row16_col4\" class=\"data row16 col4\" >-0.2264</td>\n",
       "      <td id=\"T_82712_row16_col5\" class=\"data row16 col5\" >6.8235</td>\n",
       "      <td id=\"T_82712_row16_col6\" class=\"data row16 col6\" >1.0059</td>\n",
       "      <td id=\"T_82712_row16_col7\" class=\"data row16 col7\" >0.2290</td>\n",
       "    </tr>\n",
       "    <tr>\n",
       "      <th id=\"T_82712_level0_row17\" class=\"row_heading level0 row17\" >ada</th>\n",
       "      <td id=\"T_82712_row17_col0\" class=\"data row17 col0\" >AdaBoost Regressor</td>\n",
       "      <td id=\"T_82712_row17_col1\" class=\"data row17 col1\" >273671.8616</td>\n",
       "      <td id=\"T_82712_row17_col2\" class=\"data row17 col2\" >111593149351.3142</td>\n",
       "      <td id=\"T_82712_row17_col3\" class=\"data row17 col3\" >332558.4280</td>\n",
       "      <td id=\"T_82712_row17_col4\" class=\"data row17 col4\" >-0.2604</td>\n",
       "      <td id=\"T_82712_row17_col5\" class=\"data row17 col5\" >2.0505</td>\n",
       "      <td id=\"T_82712_row17_col6\" class=\"data row17 col6\" >11.5265</td>\n",
       "      <td id=\"T_82712_row17_col7\" class=\"data row17 col7\" >3.1160</td>\n",
       "    </tr>\n",
       "    <tr>\n",
       "      <th id=\"T_82712_level0_row18\" class=\"row_heading level0 row18\" >par</th>\n",
       "      <td id=\"T_82712_row18_col0\" class=\"data row18 col0\" >Passive Aggressive Regressor</td>\n",
       "      <td id=\"T_82712_row18_col1\" class=\"data row18 col1\" >39298263.6274</td>\n",
       "      <td id=\"T_82712_row18_col2\" class=\"data row18 col2\" >411730675939413696.0000</td>\n",
       "      <td id=\"T_82712_row18_col3\" class=\"data row18 col3\" >365163987.8529</td>\n",
       "      <td id=\"T_82712_row18_col4\" class=\"data row18 col4\" >-5047001.9964</td>\n",
       "      <td id=\"T_82712_row18_col5\" class=\"data row18 col5\" >3.3637</td>\n",
       "      <td id=\"T_82712_row18_col6\" class=\"data row18 col6\" >633.5216</td>\n",
       "      <td id=\"T_82712_row18_col7\" class=\"data row18 col7\" >0.1490</td>\n",
       "    </tr>\n",
       "  </tbody>\n",
       "</table>\n"
      ],
      "text/plain": [
       "<pandas.io.formats.style.Styler at 0x20422fa3a60>"
      ]
     },
     "metadata": {},
     "output_type": "display_data"
    },
    {
     "data": {
      "text/html": [],
      "text/plain": [
       "<IPython.core.display.HTML object>"
      ]
     },
     "metadata": {},
     "output_type": "display_data"
    }
   ],
   "source": [
    "# Comparamos modelos y elegimos el que mejor de \n",
    "best = compare_models()"
   ]
  },
  {
   "cell_type": "code",
   "execution_count": 27,
   "metadata": {},
   "outputs": [
    {
     "data": {
      "text/html": [],
      "text/plain": [
       "<IPython.core.display.HTML object>"
      ]
     },
     "metadata": {},
     "output_type": "display_data"
    },
    {
     "data": {
      "text/html": [
       "<style type=\"text/css\">\n",
       "#T_40c03_row10_col0, #T_40c03_row10_col1, #T_40c03_row10_col2, #T_40c03_row10_col3, #T_40c03_row10_col4, #T_40c03_row10_col5 {\n",
       "  background: yellow;\n",
       "}\n",
       "</style>\n",
       "<table id=\"T_40c03\">\n",
       "  <thead>\n",
       "    <tr>\n",
       "      <th class=\"blank level0\" >&nbsp;</th>\n",
       "      <th id=\"T_40c03_level0_col0\" class=\"col_heading level0 col0\" >MAE</th>\n",
       "      <th id=\"T_40c03_level0_col1\" class=\"col_heading level0 col1\" >MSE</th>\n",
       "      <th id=\"T_40c03_level0_col2\" class=\"col_heading level0 col2\" >RMSE</th>\n",
       "      <th id=\"T_40c03_level0_col3\" class=\"col_heading level0 col3\" >R2</th>\n",
       "      <th id=\"T_40c03_level0_col4\" class=\"col_heading level0 col4\" >RMSLE</th>\n",
       "      <th id=\"T_40c03_level0_col5\" class=\"col_heading level0 col5\" >MAPE</th>\n",
       "    </tr>\n",
       "    <tr>\n",
       "      <th class=\"index_name level0\" >Fold</th>\n",
       "      <th class=\"blank col0\" >&nbsp;</th>\n",
       "      <th class=\"blank col1\" >&nbsp;</th>\n",
       "      <th class=\"blank col2\" >&nbsp;</th>\n",
       "      <th class=\"blank col3\" >&nbsp;</th>\n",
       "      <th class=\"blank col4\" >&nbsp;</th>\n",
       "      <th class=\"blank col5\" >&nbsp;</th>\n",
       "    </tr>\n",
       "  </thead>\n",
       "  <tbody>\n",
       "    <tr>\n",
       "      <th id=\"T_40c03_level0_row0\" class=\"row_heading level0 row0\" >0</th>\n",
       "      <td id=\"T_40c03_row0_col0\" class=\"data row0 col0\" >3614.7493</td>\n",
       "      <td id=\"T_40c03_row0_col1\" class=\"data row0 col1\" >600481172.2876</td>\n",
       "      <td id=\"T_40c03_row0_col2\" class=\"data row0 col2\" >24504.7173</td>\n",
       "      <td id=\"T_40c03_row0_col3\" class=\"data row0 col3\" >0.9941</td>\n",
       "      <td id=\"T_40c03_row0_col4\" class=\"data row0 col4\" >0.0868</td>\n",
       "      <td id=\"T_40c03_row0_col5\" class=\"data row0 col5\" >0.0321</td>\n",
       "    </tr>\n",
       "    <tr>\n",
       "      <th id=\"T_40c03_level0_row1\" class=\"row_heading level0 row1\" >1</th>\n",
       "      <td id=\"T_40c03_row1_col0\" class=\"data row1 col0\" >3758.4647</td>\n",
       "      <td id=\"T_40c03_row1_col1\" class=\"data row1 col1\" >783103961.5283</td>\n",
       "      <td id=\"T_40c03_row1_col2\" class=\"data row1 col2\" >27983.9947</td>\n",
       "      <td id=\"T_40c03_row1_col3\" class=\"data row1 col3\" >0.9925</td>\n",
       "      <td id=\"T_40c03_row1_col4\" class=\"data row1 col4\" >0.0910</td>\n",
       "      <td id=\"T_40c03_row1_col5\" class=\"data row1 col5\" >0.0320</td>\n",
       "    </tr>\n",
       "    <tr>\n",
       "      <th id=\"T_40c03_level0_row2\" class=\"row_heading level0 row2\" >2</th>\n",
       "      <td id=\"T_40c03_row2_col0\" class=\"data row2 col0\" >3336.6149</td>\n",
       "      <td id=\"T_40c03_row2_col1\" class=\"data row2 col1\" >567265181.0088</td>\n",
       "      <td id=\"T_40c03_row2_col2\" class=\"data row2 col2\" >23817.3294</td>\n",
       "      <td id=\"T_40c03_row2_col3\" class=\"data row2 col3\" >0.9939</td>\n",
       "      <td id=\"T_40c03_row2_col4\" class=\"data row2 col4\" >0.0822</td>\n",
       "      <td id=\"T_40c03_row2_col5\" class=\"data row2 col5\" >0.0305</td>\n",
       "    </tr>\n",
       "    <tr>\n",
       "      <th id=\"T_40c03_level0_row3\" class=\"row_heading level0 row3\" >3</th>\n",
       "      <td id=\"T_40c03_row3_col0\" class=\"data row3 col0\" >3318.2125</td>\n",
       "      <td id=\"T_40c03_row3_col1\" class=\"data row3 col1\" >465711087.5900</td>\n",
       "      <td id=\"T_40c03_row3_col2\" class=\"data row3 col2\" >21580.3403</td>\n",
       "      <td id=\"T_40c03_row3_col3\" class=\"data row3 col3\" >0.9947</td>\n",
       "      <td id=\"T_40c03_row3_col4\" class=\"data row3 col4\" >0.0872</td>\n",
       "      <td id=\"T_40c03_row3_col5\" class=\"data row3 col5\" >0.0315</td>\n",
       "    </tr>\n",
       "    <tr>\n",
       "      <th id=\"T_40c03_level0_row4\" class=\"row_heading level0 row4\" >4</th>\n",
       "      <td id=\"T_40c03_row4_col0\" class=\"data row4 col0\" >3660.4308</td>\n",
       "      <td id=\"T_40c03_row4_col1\" class=\"data row4 col1\" >673902344.7499</td>\n",
       "      <td id=\"T_40c03_row4_col2\" class=\"data row4 col2\" >25959.6291</td>\n",
       "      <td id=\"T_40c03_row4_col3\" class=\"data row4 col3\" >0.9926</td>\n",
       "      <td id=\"T_40c03_row4_col4\" class=\"data row4 col4\" >0.1229</td>\n",
       "      <td id=\"T_40c03_row4_col5\" class=\"data row4 col5\" >0.2370</td>\n",
       "    </tr>\n",
       "    <tr>\n",
       "      <th id=\"T_40c03_level0_row5\" class=\"row_heading level0 row5\" >5</th>\n",
       "      <td id=\"T_40c03_row5_col0\" class=\"data row5 col0\" >3556.0046</td>\n",
       "      <td id=\"T_40c03_row5_col1\" class=\"data row5 col1\" >367305413.0275</td>\n",
       "      <td id=\"T_40c03_row5_col2\" class=\"data row5 col2\" >19165.2136</td>\n",
       "      <td id=\"T_40c03_row5_col3\" class=\"data row5 col3\" >0.9951</td>\n",
       "      <td id=\"T_40c03_row5_col4\" class=\"data row5 col4\" >0.0966</td>\n",
       "      <td id=\"T_40c03_row5_col5\" class=\"data row5 col5\" >0.0347</td>\n",
       "    </tr>\n",
       "    <tr>\n",
       "      <th id=\"T_40c03_level0_row6\" class=\"row_heading level0 row6\" >6</th>\n",
       "      <td id=\"T_40c03_row6_col0\" class=\"data row6 col0\" >4039.5940</td>\n",
       "      <td id=\"T_40c03_row6_col1\" class=\"data row6 col1\" >564945235.6064</td>\n",
       "      <td id=\"T_40c03_row6_col2\" class=\"data row6 col2\" >23768.5766</td>\n",
       "      <td id=\"T_40c03_row6_col3\" class=\"data row6 col3\" >0.9945</td>\n",
       "      <td id=\"T_40c03_row6_col4\" class=\"data row6 col4\" >0.0916</td>\n",
       "      <td id=\"T_40c03_row6_col5\" class=\"data row6 col5\" >0.0346</td>\n",
       "    </tr>\n",
       "    <tr>\n",
       "      <th id=\"T_40c03_level0_row7\" class=\"row_heading level0 row7\" >7</th>\n",
       "      <td id=\"T_40c03_row7_col0\" class=\"data row7 col0\" >3958.7096</td>\n",
       "      <td id=\"T_40c03_row7_col1\" class=\"data row7 col1\" >937730884.1123</td>\n",
       "      <td id=\"T_40c03_row7_col2\" class=\"data row7 col2\" >30622.3919</td>\n",
       "      <td id=\"T_40c03_row7_col3\" class=\"data row7 col3\" >0.9896</td>\n",
       "      <td id=\"T_40c03_row7_col4\" class=\"data row7 col4\" >0.0968</td>\n",
       "      <td id=\"T_40c03_row7_col5\" class=\"data row7 col5\" >0.0352</td>\n",
       "    </tr>\n",
       "    <tr>\n",
       "      <th id=\"T_40c03_level0_row8\" class=\"row_heading level0 row8\" >8</th>\n",
       "      <td id=\"T_40c03_row8_col0\" class=\"data row8 col0\" >3068.4907</td>\n",
       "      <td id=\"T_40c03_row8_col1\" class=\"data row8 col1\" >154117228.7294</td>\n",
       "      <td id=\"T_40c03_row8_col2\" class=\"data row8 col2\" >12414.3960</td>\n",
       "      <td id=\"T_40c03_row8_col3\" class=\"data row8 col3\" >0.9977</td>\n",
       "      <td id=\"T_40c03_row8_col4\" class=\"data row8 col4\" >0.0952</td>\n",
       "      <td id=\"T_40c03_row8_col5\" class=\"data row8 col5\" >0.0360</td>\n",
       "    </tr>\n",
       "    <tr>\n",
       "      <th id=\"T_40c03_level0_row9\" class=\"row_heading level0 row9\" >9</th>\n",
       "      <td id=\"T_40c03_row9_col0\" class=\"data row9 col0\" >3568.3847</td>\n",
       "      <td id=\"T_40c03_row9_col1\" class=\"data row9 col1\" >396313771.9686</td>\n",
       "      <td id=\"T_40c03_row9_col2\" class=\"data row9 col2\" >19907.6310</td>\n",
       "      <td id=\"T_40c03_row9_col3\" class=\"data row9 col3\" >0.9950</td>\n",
       "      <td id=\"T_40c03_row9_col4\" class=\"data row9 col4\" >0.0765</td>\n",
       "      <td id=\"T_40c03_row9_col5\" class=\"data row9 col5\" >0.0302</td>\n",
       "    </tr>\n",
       "    <tr>\n",
       "      <th id=\"T_40c03_level0_row10\" class=\"row_heading level0 row10\" >Mean</th>\n",
       "      <td id=\"T_40c03_row10_col0\" class=\"data row10 col0\" >3587.9656</td>\n",
       "      <td id=\"T_40c03_row10_col1\" class=\"data row10 col1\" >551087628.0609</td>\n",
       "      <td id=\"T_40c03_row10_col2\" class=\"data row10 col2\" >22972.4220</td>\n",
       "      <td id=\"T_40c03_row10_col3\" class=\"data row10 col3\" >0.9940</td>\n",
       "      <td id=\"T_40c03_row10_col4\" class=\"data row10 col4\" >0.0927</td>\n",
       "      <td id=\"T_40c03_row10_col5\" class=\"data row10 col5\" >0.0534</td>\n",
       "    </tr>\n",
       "    <tr>\n",
       "      <th id=\"T_40c03_level0_row11\" class=\"row_heading level0 row11\" >Std</th>\n",
       "      <td id=\"T_40c03_row11_col0\" class=\"data row11 col0\" >279.9394</td>\n",
       "      <td id=\"T_40c03_row11_col1\" class=\"data row11 col1\" >210691008.4695</td>\n",
       "      <td id=\"T_40c03_row11_col2\" class=\"data row11 col2\" >4832.7482</td>\n",
       "      <td id=\"T_40c03_row11_col3\" class=\"data row11 col3\" >0.0020</td>\n",
       "      <td id=\"T_40c03_row11_col4\" class=\"data row11 col4\" >0.0118</td>\n",
       "      <td id=\"T_40c03_row11_col5\" class=\"data row11 col5\" >0.0612</td>\n",
       "    </tr>\n",
       "  </tbody>\n",
       "</table>\n"
      ],
      "text/plain": [
       "<pandas.io.formats.style.Styler at 0x20424101f60>"
      ]
     },
     "metadata": {},
     "output_type": "display_data"
    },
    {
     "data": {
      "text/html": [],
      "text/plain": [
       "<IPython.core.display.HTML object>"
      ]
     },
     "metadata": {},
     "output_type": "display_data"
    }
   ],
   "source": [
    "#nos quedamos con Extra Trees Regressor. Creamos variable con el modelo elegido\n",
    "et = create_model('et')"
   ]
  },
  {
   "cell_type": "code",
   "execution_count": 28,
   "metadata": {},
   "outputs": [
    {
     "data": {
      "text/html": [
       "<div>\n",
       "<style scoped>\n",
       "    .dataframe tbody tr th:only-of-type {\n",
       "        vertical-align: middle;\n",
       "    }\n",
       "\n",
       "    .dataframe tbody tr th {\n",
       "        vertical-align: top;\n",
       "    }\n",
       "\n",
       "    .dataframe thead th {\n",
       "        text-align: right;\n",
       "    }\n",
       "</style>\n",
       "<table border=\"1\" class=\"dataframe\">\n",
       "  <thead>\n",
       "    <tr style=\"text-align: right;\">\n",
       "      <th></th>\n",
       "      <th></th>\n",
       "      <th></th>\n",
       "    </tr>\n",
       "    <tr>\n",
       "      <th></th>\n",
       "      <th></th>\n",
       "      <th></th>\n",
       "    </tr>\n",
       "  </thead>\n",
       "  <tbody>\n",
       "    <tr>\n",
       "      <th>Initiated</th>\n",
       "      <td>. . . . . . . . . . . . . . . . . .</td>\n",
       "      <td>20:19:16</td>\n",
       "    </tr>\n",
       "    <tr>\n",
       "      <th>Status</th>\n",
       "      <td>. . . . . . . . . . . . . . . . . .</td>\n",
       "      <td>Searching Hyperparameters</td>\n",
       "    </tr>\n",
       "    <tr>\n",
       "      <th>Estimator</th>\n",
       "      <td>. . . . . . . . . . . . . . . . . .</td>\n",
       "      <td>Extra Trees Regressor</td>\n",
       "    </tr>\n",
       "  </tbody>\n",
       "</table>\n",
       "</div>"
      ],
      "text/plain": [
       "                                                                         \n",
       "                                                                         \n",
       "Initiated  . . . . . . . . . . . . . . . . . .                   20:19:16\n",
       "Status     . . . . . . . . . . . . . . . . . .  Searching Hyperparameters\n",
       "Estimator  . . . . . . . . . . . . . . . . . .      Extra Trees Regressor"
      ]
     },
     "metadata": {},
     "output_type": "display_data"
    },
    {
     "data": {
      "text/html": [],
      "text/plain": [
       "<IPython.core.display.HTML object>"
      ]
     },
     "metadata": {},
     "output_type": "display_data"
    },
    {
     "data": {
      "application/vnd.jupyter.widget-view+json": {
       "model_id": "7d01e8a47c24495b928fda4161595dc0",
       "version_major": 2,
       "version_minor": 0
      },
      "text/plain": [
       "Processing:   0%|          | 0/7 [00:00<?, ?it/s]"
      ]
     },
     "metadata": {},
     "output_type": "display_data"
    },
    {
     "name": "stdout",
     "output_type": "stream",
     "text": [
      "Fitting 10 folds for each of 10 candidates, totalling 100 fits\n"
     ]
    },
    {
     "ename": "KeyboardInterrupt",
     "evalue": "",
     "output_type": "error",
     "traceback": [
      "\u001b[1;31m---------------------------------------------------------------------------\u001b[0m",
      "\u001b[1;31mKeyboardInterrupt\u001b[0m                         Traceback (most recent call last)",
      "Cell \u001b[1;32mIn[28], line 2\u001b[0m\n\u001b[0;32m      1\u001b[0m \u001b[38;5;66;03m#mejoramos sus hiperparametros de forma automática y vemos como baja considerablemente el MSE\u001b[39;00m\n\u001b[1;32m----> 2\u001b[0m tuned_et \u001b[38;5;241m=\u001b[39m \u001b[43mtune_model\u001b[49m\u001b[43m(\u001b[49m\u001b[43met\u001b[49m\u001b[43m)\u001b[49m\n",
      "File \u001b[1;32mc:\\Users\\kina5\\Desktop\\Bootcamp\\mi_entorno\\lib\\site-packages\\pycaret\\utils\\generic.py:964\u001b[0m, in \u001b[0;36mcheck_if_global_is_not_none.<locals>.decorator.<locals>.wrapper\u001b[1;34m(*args, **kwargs)\u001b[0m\n\u001b[0;32m    962\u001b[0m     \u001b[38;5;28;01mif\u001b[39;00m globals_d[name] \u001b[38;5;129;01mis\u001b[39;00m \u001b[38;5;28;01mNone\u001b[39;00m:\n\u001b[0;32m    963\u001b[0m         \u001b[38;5;28;01mraise\u001b[39;00m \u001b[38;5;167;01mValueError\u001b[39;00m(message)\n\u001b[1;32m--> 964\u001b[0m \u001b[38;5;28;01mreturn\u001b[39;00m func(\u001b[38;5;241m*\u001b[39margs, \u001b[38;5;241m*\u001b[39m\u001b[38;5;241m*\u001b[39mkwargs)\n",
      "File \u001b[1;32mc:\\Users\\kina5\\Desktop\\Bootcamp\\mi_entorno\\lib\\site-packages\\pycaret\\regression\\functional.py:1197\u001b[0m, in \u001b[0;36mtune_model\u001b[1;34m(estimator, fold, round, n_iter, custom_grid, optimize, custom_scorer, search_library, search_algorithm, early_stopping, early_stopping_max_iters, choose_better, fit_kwargs, groups, return_tuner, verbose, tuner_verbose, return_train_score, **kwargs)\u001b[0m\n\u001b[0;32m   1005\u001b[0m \u001b[38;5;129m@check_if_global_is_not_none\u001b[39m(\u001b[38;5;28mglobals\u001b[39m(), _CURRENT_EXPERIMENT_DECORATOR_DICT)\n\u001b[0;32m   1006\u001b[0m \u001b[38;5;28;01mdef\u001b[39;00m \u001b[38;5;21mtune_model\u001b[39m(\n\u001b[0;32m   1007\u001b[0m     estimator,\n\u001b[1;32m   (...)\u001b[0m\n\u001b[0;32m   1025\u001b[0m     \u001b[38;5;241m*\u001b[39m\u001b[38;5;241m*\u001b[39mkwargs,\n\u001b[0;32m   1026\u001b[0m ):\n\u001b[0;32m   1027\u001b[0m \u001b[38;5;250m    \u001b[39m\u001b[38;5;124;03m\"\"\"\u001b[39;00m\n\u001b[0;32m   1028\u001b[0m \u001b[38;5;124;03m    This function tunes the hyperparameters of a given estimator. The output of\u001b[39;00m\n\u001b[0;32m   1029\u001b[0m \u001b[38;5;124;03m    this function is a score grid with CV scores by fold of the best selected\u001b[39;00m\n\u001b[1;32m   (...)\u001b[0m\n\u001b[0;32m   1194\u001b[0m \n\u001b[0;32m   1195\u001b[0m \u001b[38;5;124;03m    \"\"\"\u001b[39;00m\n\u001b[1;32m-> 1197\u001b[0m     \u001b[38;5;28;01mreturn\u001b[39;00m _CURRENT_EXPERIMENT\u001b[38;5;241m.\u001b[39mtune_model(\n\u001b[0;32m   1198\u001b[0m         estimator\u001b[38;5;241m=\u001b[39mestimator,\n\u001b[0;32m   1199\u001b[0m         fold\u001b[38;5;241m=\u001b[39mfold,\n\u001b[0;32m   1200\u001b[0m         \u001b[38;5;28mround\u001b[39m\u001b[38;5;241m=\u001b[39m\u001b[38;5;28mround\u001b[39m,\n\u001b[0;32m   1201\u001b[0m         n_iter\u001b[38;5;241m=\u001b[39mn_iter,\n\u001b[0;32m   1202\u001b[0m         custom_grid\u001b[38;5;241m=\u001b[39mcustom_grid,\n\u001b[0;32m   1203\u001b[0m         optimize\u001b[38;5;241m=\u001b[39moptimize,\n\u001b[0;32m   1204\u001b[0m         custom_scorer\u001b[38;5;241m=\u001b[39mcustom_scorer,\n\u001b[0;32m   1205\u001b[0m         search_library\u001b[38;5;241m=\u001b[39msearch_library,\n\u001b[0;32m   1206\u001b[0m         search_algorithm\u001b[38;5;241m=\u001b[39msearch_algorithm,\n\u001b[0;32m   1207\u001b[0m         early_stopping\u001b[38;5;241m=\u001b[39mearly_stopping,\n\u001b[0;32m   1208\u001b[0m         early_stopping_max_iters\u001b[38;5;241m=\u001b[39mearly_stopping_max_iters,\n\u001b[0;32m   1209\u001b[0m         choose_better\u001b[38;5;241m=\u001b[39mchoose_better,\n\u001b[0;32m   1210\u001b[0m         fit_kwargs\u001b[38;5;241m=\u001b[39mfit_kwargs,\n\u001b[0;32m   1211\u001b[0m         groups\u001b[38;5;241m=\u001b[39mgroups,\n\u001b[0;32m   1212\u001b[0m         return_tuner\u001b[38;5;241m=\u001b[39mreturn_tuner,\n\u001b[0;32m   1213\u001b[0m         verbose\u001b[38;5;241m=\u001b[39mverbose,\n\u001b[0;32m   1214\u001b[0m         tuner_verbose\u001b[38;5;241m=\u001b[39mtuner_verbose,\n\u001b[0;32m   1215\u001b[0m         return_train_score\u001b[38;5;241m=\u001b[39mreturn_train_score,\n\u001b[0;32m   1216\u001b[0m         \u001b[38;5;241m*\u001b[39m\u001b[38;5;241m*\u001b[39mkwargs,\n\u001b[0;32m   1217\u001b[0m     )\n",
      "File \u001b[1;32mc:\\Users\\kina5\\Desktop\\Bootcamp\\mi_entorno\\lib\\site-packages\\pycaret\\regression\\oop.py:1499\u001b[0m, in \u001b[0;36mRegressionExperiment.tune_model\u001b[1;34m(self, estimator, fold, round, n_iter, custom_grid, optimize, custom_scorer, search_library, search_algorithm, early_stopping, early_stopping_max_iters, choose_better, fit_kwargs, groups, return_tuner, verbose, tuner_verbose, return_train_score, **kwargs)\u001b[0m\n\u001b[0;32m   1307\u001b[0m \u001b[38;5;28;01mdef\u001b[39;00m \u001b[38;5;21mtune_model\u001b[39m(\n\u001b[0;32m   1308\u001b[0m     \u001b[38;5;28mself\u001b[39m,\n\u001b[0;32m   1309\u001b[0m     estimator,\n\u001b[1;32m   (...)\u001b[0m\n\u001b[0;32m   1327\u001b[0m     \u001b[38;5;241m*\u001b[39m\u001b[38;5;241m*\u001b[39mkwargs,\n\u001b[0;32m   1328\u001b[0m ):\n\u001b[0;32m   1329\u001b[0m \u001b[38;5;250m    \u001b[39m\u001b[38;5;124;03m\"\"\"\u001b[39;00m\n\u001b[0;32m   1330\u001b[0m \u001b[38;5;124;03m    This function tunes the hyperparameters of a given estimator. The output of\u001b[39;00m\n\u001b[0;32m   1331\u001b[0m \u001b[38;5;124;03m    this function is a score grid with CV scores by fold of the best selected\u001b[39;00m\n\u001b[1;32m   (...)\u001b[0m\n\u001b[0;32m   1496\u001b[0m \n\u001b[0;32m   1497\u001b[0m \u001b[38;5;124;03m    \"\"\"\u001b[39;00m\n\u001b[1;32m-> 1499\u001b[0m     \u001b[38;5;28;01mreturn\u001b[39;00m \u001b[38;5;28msuper\u001b[39m()\u001b[38;5;241m.\u001b[39mtune_model(\n\u001b[0;32m   1500\u001b[0m         estimator\u001b[38;5;241m=\u001b[39mestimator,\n\u001b[0;32m   1501\u001b[0m         fold\u001b[38;5;241m=\u001b[39mfold,\n\u001b[0;32m   1502\u001b[0m         \u001b[38;5;28mround\u001b[39m\u001b[38;5;241m=\u001b[39m\u001b[38;5;28mround\u001b[39m,\n\u001b[0;32m   1503\u001b[0m         n_iter\u001b[38;5;241m=\u001b[39mn_iter,\n\u001b[0;32m   1504\u001b[0m         custom_grid\u001b[38;5;241m=\u001b[39mcustom_grid,\n\u001b[0;32m   1505\u001b[0m         optimize\u001b[38;5;241m=\u001b[39moptimize,\n\u001b[0;32m   1506\u001b[0m         custom_scorer\u001b[38;5;241m=\u001b[39mcustom_scorer,\n\u001b[0;32m   1507\u001b[0m         search_library\u001b[38;5;241m=\u001b[39msearch_library,\n\u001b[0;32m   1508\u001b[0m         search_algorithm\u001b[38;5;241m=\u001b[39msearch_algorithm,\n\u001b[0;32m   1509\u001b[0m         early_stopping\u001b[38;5;241m=\u001b[39mearly_stopping,\n\u001b[0;32m   1510\u001b[0m         early_stopping_max_iters\u001b[38;5;241m=\u001b[39mearly_stopping_max_iters,\n\u001b[0;32m   1511\u001b[0m         choose_better\u001b[38;5;241m=\u001b[39mchoose_better,\n\u001b[0;32m   1512\u001b[0m         fit_kwargs\u001b[38;5;241m=\u001b[39mfit_kwargs,\n\u001b[0;32m   1513\u001b[0m         groups\u001b[38;5;241m=\u001b[39mgroups,\n\u001b[0;32m   1514\u001b[0m         return_tuner\u001b[38;5;241m=\u001b[39mreturn_tuner,\n\u001b[0;32m   1515\u001b[0m         verbose\u001b[38;5;241m=\u001b[39mverbose,\n\u001b[0;32m   1516\u001b[0m         tuner_verbose\u001b[38;5;241m=\u001b[39mtuner_verbose,\n\u001b[0;32m   1517\u001b[0m         return_train_score\u001b[38;5;241m=\u001b[39mreturn_train_score,\n\u001b[0;32m   1518\u001b[0m         \u001b[38;5;241m*\u001b[39m\u001b[38;5;241m*\u001b[39mkwargs,\n\u001b[0;32m   1519\u001b[0m     )\n",
      "File \u001b[1;32mc:\\Users\\kina5\\Desktop\\Bootcamp\\mi_entorno\\lib\\site-packages\\pycaret\\internal\\pycaret_experiment\\supervised_experiment.py:2680\u001b[0m, in \u001b[0;36m_SupervisedExperiment.tune_model\u001b[1;34m(self, estimator, fold, round, n_iter, custom_grid, optimize, custom_scorer, search_library, search_algorithm, early_stopping, early_stopping_max_iters, choose_better, fit_kwargs, groups, return_tuner, verbose, tuner_verbose, return_train_score, **kwargs)\u001b[0m\n\u001b[0;32m   2672\u001b[0m     \u001b[38;5;28;01mwith\u001b[39;00m patch(\n\u001b[0;32m   2673\u001b[0m         \u001b[38;5;124m\"\u001b[39m\u001b[38;5;124msklearn.model_selection._search.sample_without_replacement\u001b[39m\u001b[38;5;124m\"\u001b[39m,\n\u001b[0;32m   2674\u001b[0m         pycaret\u001b[38;5;241m.\u001b[39minternal\u001b[38;5;241m.\u001b[39mpatches\u001b[38;5;241m.\u001b[39msklearn\u001b[38;5;241m.\u001b[39m_mp_sample_without_replacement,\n\u001b[0;32m   2675\u001b[0m     ):\n\u001b[0;32m   2676\u001b[0m         \u001b[38;5;28;01mwith\u001b[39;00m patch(\n\u001b[0;32m   2677\u001b[0m             \u001b[38;5;124m\"\u001b[39m\u001b[38;5;124msklearn.model_selection._search.ParameterGrid.__getitem__\u001b[39m\u001b[38;5;124m\"\u001b[39m,\n\u001b[0;32m   2678\u001b[0m             pycaret\u001b[38;5;241m.\u001b[39minternal\u001b[38;5;241m.\u001b[39mpatches\u001b[38;5;241m.\u001b[39msklearn\u001b[38;5;241m.\u001b[39m_mp_ParameterGrid_getitem,\n\u001b[0;32m   2679\u001b[0m         ):\n\u001b[1;32m-> 2680\u001b[0m             model_grid\u001b[38;5;241m.\u001b[39mfit(data_X, data_y, groups\u001b[38;5;241m=\u001b[39mgroups, \u001b[38;5;241m*\u001b[39m\u001b[38;5;241m*\u001b[39mfit_kwargs)\n\u001b[0;32m   2681\u001b[0m \u001b[38;5;28;01melse\u001b[39;00m:\n\u001b[0;32m   2682\u001b[0m     model_grid\u001b[38;5;241m.\u001b[39mfit(data_X, data_y, groups\u001b[38;5;241m=\u001b[39mgroups, \u001b[38;5;241m*\u001b[39m\u001b[38;5;241m*\u001b[39mfit_kwargs)\n",
      "File \u001b[1;32mc:\\Users\\kina5\\Desktop\\Bootcamp\\mi_entorno\\lib\\site-packages\\sklearn\\base.py:1474\u001b[0m, in \u001b[0;36m_fit_context.<locals>.decorator.<locals>.wrapper\u001b[1;34m(estimator, *args, **kwargs)\u001b[0m\n\u001b[0;32m   1467\u001b[0m     estimator\u001b[38;5;241m.\u001b[39m_validate_params()\n\u001b[0;32m   1469\u001b[0m \u001b[38;5;28;01mwith\u001b[39;00m config_context(\n\u001b[0;32m   1470\u001b[0m     skip_parameter_validation\u001b[38;5;241m=\u001b[39m(\n\u001b[0;32m   1471\u001b[0m         prefer_skip_nested_validation \u001b[38;5;129;01mor\u001b[39;00m global_skip_validation\n\u001b[0;32m   1472\u001b[0m     )\n\u001b[0;32m   1473\u001b[0m ):\n\u001b[1;32m-> 1474\u001b[0m     \u001b[38;5;28;01mreturn\u001b[39;00m fit_method(estimator, \u001b[38;5;241m*\u001b[39margs, \u001b[38;5;241m*\u001b[39m\u001b[38;5;241m*\u001b[39mkwargs)\n",
      "File \u001b[1;32mc:\\Users\\kina5\\Desktop\\Bootcamp\\mi_entorno\\lib\\site-packages\\sklearn\\model_selection\\_search.py:970\u001b[0m, in \u001b[0;36mBaseSearchCV.fit\u001b[1;34m(self, X, y, **params)\u001b[0m\n\u001b[0;32m    964\u001b[0m     results \u001b[38;5;241m=\u001b[39m \u001b[38;5;28mself\u001b[39m\u001b[38;5;241m.\u001b[39m_format_results(\n\u001b[0;32m    965\u001b[0m         all_candidate_params, n_splits, all_out, all_more_results\n\u001b[0;32m    966\u001b[0m     )\n\u001b[0;32m    968\u001b[0m     \u001b[38;5;28;01mreturn\u001b[39;00m results\n\u001b[1;32m--> 970\u001b[0m \u001b[38;5;28;43mself\u001b[39;49m\u001b[38;5;241;43m.\u001b[39;49m\u001b[43m_run_search\u001b[49m\u001b[43m(\u001b[49m\u001b[43mevaluate_candidates\u001b[49m\u001b[43m)\u001b[49m\n\u001b[0;32m    972\u001b[0m \u001b[38;5;66;03m# multimetric is determined here because in the case of a callable\u001b[39;00m\n\u001b[0;32m    973\u001b[0m \u001b[38;5;66;03m# self.scoring the return type is only known after calling\u001b[39;00m\n\u001b[0;32m    974\u001b[0m first_test_score \u001b[38;5;241m=\u001b[39m all_out[\u001b[38;5;241m0\u001b[39m][\u001b[38;5;124m\"\u001b[39m\u001b[38;5;124mtest_scores\u001b[39m\u001b[38;5;124m\"\u001b[39m]\n",
      "File \u001b[1;32mc:\\Users\\kina5\\Desktop\\Bootcamp\\mi_entorno\\lib\\site-packages\\sklearn\\model_selection\\_search.py:1914\u001b[0m, in \u001b[0;36mRandomizedSearchCV._run_search\u001b[1;34m(self, evaluate_candidates)\u001b[0m\n\u001b[0;32m   1912\u001b[0m \u001b[38;5;28;01mdef\u001b[39;00m \u001b[38;5;21m_run_search\u001b[39m(\u001b[38;5;28mself\u001b[39m, evaluate_candidates):\n\u001b[0;32m   1913\u001b[0m \u001b[38;5;250m    \u001b[39m\u001b[38;5;124;03m\"\"\"Search n_iter candidates from param_distributions\"\"\"\u001b[39;00m\n\u001b[1;32m-> 1914\u001b[0m     \u001b[43mevaluate_candidates\u001b[49m\u001b[43m(\u001b[49m\n\u001b[0;32m   1915\u001b[0m \u001b[43m        \u001b[49m\u001b[43mParameterSampler\u001b[49m\u001b[43m(\u001b[49m\n\u001b[0;32m   1916\u001b[0m \u001b[43m            \u001b[49m\u001b[38;5;28;43mself\u001b[39;49m\u001b[38;5;241;43m.\u001b[39;49m\u001b[43mparam_distributions\u001b[49m\u001b[43m,\u001b[49m\u001b[43m \u001b[49m\u001b[38;5;28;43mself\u001b[39;49m\u001b[38;5;241;43m.\u001b[39;49m\u001b[43mn_iter\u001b[49m\u001b[43m,\u001b[49m\u001b[43m \u001b[49m\u001b[43mrandom_state\u001b[49m\u001b[38;5;241;43m=\u001b[39;49m\u001b[38;5;28;43mself\u001b[39;49m\u001b[38;5;241;43m.\u001b[39;49m\u001b[43mrandom_state\u001b[49m\n\u001b[0;32m   1917\u001b[0m \u001b[43m        \u001b[49m\u001b[43m)\u001b[49m\n\u001b[0;32m   1918\u001b[0m \u001b[43m    \u001b[49m\u001b[43m)\u001b[49m\n",
      "File \u001b[1;32mc:\\Users\\kina5\\Desktop\\Bootcamp\\mi_entorno\\lib\\site-packages\\sklearn\\model_selection\\_search.py:916\u001b[0m, in \u001b[0;36mBaseSearchCV.fit.<locals>.evaluate_candidates\u001b[1;34m(candidate_params, cv, more_results)\u001b[0m\n\u001b[0;32m    908\u001b[0m \u001b[38;5;28;01mif\u001b[39;00m \u001b[38;5;28mself\u001b[39m\u001b[38;5;241m.\u001b[39mverbose \u001b[38;5;241m>\u001b[39m \u001b[38;5;241m0\u001b[39m:\n\u001b[0;32m    909\u001b[0m     \u001b[38;5;28mprint\u001b[39m(\n\u001b[0;32m    910\u001b[0m         \u001b[38;5;124m\"\u001b[39m\u001b[38;5;124mFitting \u001b[39m\u001b[38;5;132;01m{0}\u001b[39;00m\u001b[38;5;124m folds for each of \u001b[39m\u001b[38;5;132;01m{1}\u001b[39;00m\u001b[38;5;124m candidates,\u001b[39m\u001b[38;5;124m\"\u001b[39m\n\u001b[0;32m    911\u001b[0m         \u001b[38;5;124m\"\u001b[39m\u001b[38;5;124m totalling \u001b[39m\u001b[38;5;132;01m{2}\u001b[39;00m\u001b[38;5;124m fits\u001b[39m\u001b[38;5;124m\"\u001b[39m\u001b[38;5;241m.\u001b[39mformat(\n\u001b[0;32m    912\u001b[0m             n_splits, n_candidates, n_candidates \u001b[38;5;241m*\u001b[39m n_splits\n\u001b[0;32m    913\u001b[0m         )\n\u001b[0;32m    914\u001b[0m     )\n\u001b[1;32m--> 916\u001b[0m out \u001b[38;5;241m=\u001b[39m \u001b[43mparallel\u001b[49m\u001b[43m(\u001b[49m\n\u001b[0;32m    917\u001b[0m \u001b[43m    \u001b[49m\u001b[43mdelayed\u001b[49m\u001b[43m(\u001b[49m\u001b[43m_fit_and_score\u001b[49m\u001b[43m)\u001b[49m\u001b[43m(\u001b[49m\n\u001b[0;32m    918\u001b[0m \u001b[43m        \u001b[49m\u001b[43mclone\u001b[49m\u001b[43m(\u001b[49m\u001b[43mbase_estimator\u001b[49m\u001b[43m)\u001b[49m\u001b[43m,\u001b[49m\n\u001b[0;32m    919\u001b[0m \u001b[43m        \u001b[49m\u001b[43mX\u001b[49m\u001b[43m,\u001b[49m\n\u001b[0;32m    920\u001b[0m \u001b[43m        \u001b[49m\u001b[43my\u001b[49m\u001b[43m,\u001b[49m\n\u001b[0;32m    921\u001b[0m \u001b[43m        \u001b[49m\u001b[43mtrain\u001b[49m\u001b[38;5;241;43m=\u001b[39;49m\u001b[43mtrain\u001b[49m\u001b[43m,\u001b[49m\n\u001b[0;32m    922\u001b[0m \u001b[43m        \u001b[49m\u001b[43mtest\u001b[49m\u001b[38;5;241;43m=\u001b[39;49m\u001b[43mtest\u001b[49m\u001b[43m,\u001b[49m\n\u001b[0;32m    923\u001b[0m \u001b[43m        \u001b[49m\u001b[43mparameters\u001b[49m\u001b[38;5;241;43m=\u001b[39;49m\u001b[43mparameters\u001b[49m\u001b[43m,\u001b[49m\n\u001b[0;32m    924\u001b[0m \u001b[43m        \u001b[49m\u001b[43msplit_progress\u001b[49m\u001b[38;5;241;43m=\u001b[39;49m\u001b[43m(\u001b[49m\u001b[43msplit_idx\u001b[49m\u001b[43m,\u001b[49m\u001b[43m \u001b[49m\u001b[43mn_splits\u001b[49m\u001b[43m)\u001b[49m\u001b[43m,\u001b[49m\n\u001b[0;32m    925\u001b[0m \u001b[43m        \u001b[49m\u001b[43mcandidate_progress\u001b[49m\u001b[38;5;241;43m=\u001b[39;49m\u001b[43m(\u001b[49m\u001b[43mcand_idx\u001b[49m\u001b[43m,\u001b[49m\u001b[43m \u001b[49m\u001b[43mn_candidates\u001b[49m\u001b[43m)\u001b[49m\u001b[43m,\u001b[49m\n\u001b[0;32m    926\u001b[0m \u001b[43m        \u001b[49m\u001b[38;5;241;43m*\u001b[39;49m\u001b[38;5;241;43m*\u001b[39;49m\u001b[43mfit_and_score_kwargs\u001b[49m\u001b[43m,\u001b[49m\n\u001b[0;32m    927\u001b[0m \u001b[43m    \u001b[49m\u001b[43m)\u001b[49m\n\u001b[0;32m    928\u001b[0m \u001b[43m    \u001b[49m\u001b[38;5;28;43;01mfor\u001b[39;49;00m\u001b[43m \u001b[49m\u001b[43m(\u001b[49m\u001b[43mcand_idx\u001b[49m\u001b[43m,\u001b[49m\u001b[43m \u001b[49m\u001b[43mparameters\u001b[49m\u001b[43m)\u001b[49m\u001b[43m,\u001b[49m\u001b[43m \u001b[49m\u001b[43m(\u001b[49m\u001b[43msplit_idx\u001b[49m\u001b[43m,\u001b[49m\u001b[43m \u001b[49m\u001b[43m(\u001b[49m\u001b[43mtrain\u001b[49m\u001b[43m,\u001b[49m\u001b[43m \u001b[49m\u001b[43mtest\u001b[49m\u001b[43m)\u001b[49m\u001b[43m)\u001b[49m\u001b[43m \u001b[49m\u001b[38;5;129;43;01min\u001b[39;49;00m\u001b[43m \u001b[49m\u001b[43mproduct\u001b[49m\u001b[43m(\u001b[49m\n\u001b[0;32m    929\u001b[0m \u001b[43m        \u001b[49m\u001b[38;5;28;43menumerate\u001b[39;49m\u001b[43m(\u001b[49m\u001b[43mcandidate_params\u001b[49m\u001b[43m)\u001b[49m\u001b[43m,\u001b[49m\n\u001b[0;32m    930\u001b[0m \u001b[43m        \u001b[49m\u001b[38;5;28;43menumerate\u001b[39;49m\u001b[43m(\u001b[49m\u001b[43mcv\u001b[49m\u001b[38;5;241;43m.\u001b[39;49m\u001b[43msplit\u001b[49m\u001b[43m(\u001b[49m\u001b[43mX\u001b[49m\u001b[43m,\u001b[49m\u001b[43m \u001b[49m\u001b[43my\u001b[49m\u001b[43m,\u001b[49m\u001b[43m \u001b[49m\u001b[38;5;241;43m*\u001b[39;49m\u001b[38;5;241;43m*\u001b[39;49m\u001b[43mrouted_params\u001b[49m\u001b[38;5;241;43m.\u001b[39;49m\u001b[43msplitter\u001b[49m\u001b[38;5;241;43m.\u001b[39;49m\u001b[43msplit\u001b[49m\u001b[43m)\u001b[49m\u001b[43m)\u001b[49m\u001b[43m,\u001b[49m\n\u001b[0;32m    931\u001b[0m \u001b[43m    \u001b[49m\u001b[43m)\u001b[49m\n\u001b[0;32m    932\u001b[0m \u001b[43m\u001b[49m\u001b[43m)\u001b[49m\n\u001b[0;32m    934\u001b[0m \u001b[38;5;28;01mif\u001b[39;00m \u001b[38;5;28mlen\u001b[39m(out) \u001b[38;5;241m<\u001b[39m \u001b[38;5;241m1\u001b[39m:\n\u001b[0;32m    935\u001b[0m     \u001b[38;5;28;01mraise\u001b[39;00m \u001b[38;5;167;01mValueError\u001b[39;00m(\n\u001b[0;32m    936\u001b[0m         \u001b[38;5;124m\"\u001b[39m\u001b[38;5;124mNo fits were performed. \u001b[39m\u001b[38;5;124m\"\u001b[39m\n\u001b[0;32m    937\u001b[0m         \u001b[38;5;124m\"\u001b[39m\u001b[38;5;124mWas the CV iterator empty? \u001b[39m\u001b[38;5;124m\"\u001b[39m\n\u001b[0;32m    938\u001b[0m         \u001b[38;5;124m\"\u001b[39m\u001b[38;5;124mWere there no candidates?\u001b[39m\u001b[38;5;124m\"\u001b[39m\n\u001b[0;32m    939\u001b[0m     )\n",
      "File \u001b[1;32mc:\\Users\\kina5\\Desktop\\Bootcamp\\mi_entorno\\lib\\site-packages\\sklearn\\utils\\parallel.py:67\u001b[0m, in \u001b[0;36mParallel.__call__\u001b[1;34m(self, iterable)\u001b[0m\n\u001b[0;32m     62\u001b[0m config \u001b[38;5;241m=\u001b[39m get_config()\n\u001b[0;32m     63\u001b[0m iterable_with_config \u001b[38;5;241m=\u001b[39m (\n\u001b[0;32m     64\u001b[0m     (_with_config(delayed_func, config), args, kwargs)\n\u001b[0;32m     65\u001b[0m     \u001b[38;5;28;01mfor\u001b[39;00m delayed_func, args, kwargs \u001b[38;5;129;01min\u001b[39;00m iterable\n\u001b[0;32m     66\u001b[0m )\n\u001b[1;32m---> 67\u001b[0m \u001b[38;5;28;01mreturn\u001b[39;00m \u001b[38;5;28;43msuper\u001b[39;49m\u001b[43m(\u001b[49m\u001b[43m)\u001b[49m\u001b[38;5;241;43m.\u001b[39;49m\u001b[38;5;21;43m__call__\u001b[39;49m\u001b[43m(\u001b[49m\u001b[43miterable_with_config\u001b[49m\u001b[43m)\u001b[49m\n",
      "File \u001b[1;32mc:\\Users\\kina5\\Desktop\\Bootcamp\\mi_entorno\\lib\\site-packages\\joblib\\parallel.py:1952\u001b[0m, in \u001b[0;36mParallel.__call__\u001b[1;34m(self, iterable)\u001b[0m\n\u001b[0;32m   1946\u001b[0m \u001b[38;5;66;03m# The first item from the output is blank, but it makes the interpreter\u001b[39;00m\n\u001b[0;32m   1947\u001b[0m \u001b[38;5;66;03m# progress until it enters the Try/Except block of the generator and\u001b[39;00m\n\u001b[0;32m   1948\u001b[0m \u001b[38;5;66;03m# reach the first `yield` statement. This starts the aynchronous\u001b[39;00m\n\u001b[0;32m   1949\u001b[0m \u001b[38;5;66;03m# dispatch of the tasks to the workers.\u001b[39;00m\n\u001b[0;32m   1950\u001b[0m \u001b[38;5;28mnext\u001b[39m(output)\n\u001b[1;32m-> 1952\u001b[0m \u001b[38;5;28;01mreturn\u001b[39;00m output \u001b[38;5;28;01mif\u001b[39;00m \u001b[38;5;28mself\u001b[39m\u001b[38;5;241m.\u001b[39mreturn_generator \u001b[38;5;28;01melse\u001b[39;00m \u001b[38;5;28;43mlist\u001b[39;49m\u001b[43m(\u001b[49m\u001b[43moutput\u001b[49m\u001b[43m)\u001b[49m\n",
      "File \u001b[1;32mc:\\Users\\kina5\\Desktop\\Bootcamp\\mi_entorno\\lib\\site-packages\\joblib\\parallel.py:1595\u001b[0m, in \u001b[0;36mParallel._get_outputs\u001b[1;34m(self, iterator, pre_dispatch)\u001b[0m\n\u001b[0;32m   1592\u001b[0m     \u001b[38;5;28;01myield\u001b[39;00m\n\u001b[0;32m   1594\u001b[0m     \u001b[38;5;28;01mwith\u001b[39;00m \u001b[38;5;28mself\u001b[39m\u001b[38;5;241m.\u001b[39m_backend\u001b[38;5;241m.\u001b[39mretrieval_context():\n\u001b[1;32m-> 1595\u001b[0m         \u001b[38;5;28;01myield from\u001b[39;00m \u001b[38;5;28mself\u001b[39m\u001b[38;5;241m.\u001b[39m_retrieve()\n\u001b[0;32m   1597\u001b[0m \u001b[38;5;28;01mexcept\u001b[39;00m \u001b[38;5;167;01mGeneratorExit\u001b[39;00m:\n\u001b[0;32m   1598\u001b[0m     \u001b[38;5;66;03m# The generator has been garbage collected before being fully\u001b[39;00m\n\u001b[0;32m   1599\u001b[0m     \u001b[38;5;66;03m# consumed. This aborts the remaining tasks if possible and warn\u001b[39;00m\n\u001b[0;32m   1600\u001b[0m     \u001b[38;5;66;03m# the user if necessary.\u001b[39;00m\n\u001b[0;32m   1601\u001b[0m     \u001b[38;5;28mself\u001b[39m\u001b[38;5;241m.\u001b[39m_exception \u001b[38;5;241m=\u001b[39m \u001b[38;5;28;01mTrue\u001b[39;00m\n",
      "File \u001b[1;32mc:\\Users\\kina5\\Desktop\\Bootcamp\\mi_entorno\\lib\\site-packages\\joblib\\parallel.py:1707\u001b[0m, in \u001b[0;36mParallel._retrieve\u001b[1;34m(self)\u001b[0m\n\u001b[0;32m   1702\u001b[0m \u001b[38;5;66;03m# If the next job is not ready for retrieval yet, we just wait for\u001b[39;00m\n\u001b[0;32m   1703\u001b[0m \u001b[38;5;66;03m# async callbacks to progress.\u001b[39;00m\n\u001b[0;32m   1704\u001b[0m \u001b[38;5;28;01mif\u001b[39;00m ((\u001b[38;5;28mlen\u001b[39m(\u001b[38;5;28mself\u001b[39m\u001b[38;5;241m.\u001b[39m_jobs) \u001b[38;5;241m==\u001b[39m \u001b[38;5;241m0\u001b[39m) \u001b[38;5;129;01mor\u001b[39;00m\n\u001b[0;32m   1705\u001b[0m     (\u001b[38;5;28mself\u001b[39m\u001b[38;5;241m.\u001b[39m_jobs[\u001b[38;5;241m0\u001b[39m]\u001b[38;5;241m.\u001b[39mget_status(\n\u001b[0;32m   1706\u001b[0m         timeout\u001b[38;5;241m=\u001b[39m\u001b[38;5;28mself\u001b[39m\u001b[38;5;241m.\u001b[39mtimeout) \u001b[38;5;241m==\u001b[39m TASK_PENDING)):\n\u001b[1;32m-> 1707\u001b[0m     \u001b[43mtime\u001b[49m\u001b[38;5;241;43m.\u001b[39;49m\u001b[43msleep\u001b[49m\u001b[43m(\u001b[49m\u001b[38;5;241;43m0.01\u001b[39;49m\u001b[43m)\u001b[49m\n\u001b[0;32m   1708\u001b[0m     \u001b[38;5;28;01mcontinue\u001b[39;00m\n\u001b[0;32m   1710\u001b[0m \u001b[38;5;66;03m# We need to be careful: the job list can be filling up as\u001b[39;00m\n\u001b[0;32m   1711\u001b[0m \u001b[38;5;66;03m# we empty it and Python list are not thread-safe by\u001b[39;00m\n\u001b[0;32m   1712\u001b[0m \u001b[38;5;66;03m# default hence the use of the lock\u001b[39;00m\n",
      "\u001b[1;31mKeyboardInterrupt\u001b[0m: "
     ]
    }
   ],
   "source": [
    "#mejoramos sus hiperparametros de forma automática y vemos como baja considerablemente el MSE\n",
    "tuned_et = tune_model(et)"
   ]
  },
  {
   "cell_type": "code",
   "execution_count": null,
   "metadata": {},
   "outputs": [],
   "source": [
    "#vemos la importancia de las variables\n",
    "plot_model(tuned_et, plot = 'feature')"
   ]
  },
  {
   "cell_type": "code",
   "execution_count": null,
   "metadata": {},
   "outputs": [],
   "source": [
    "#vemos sus residuos\n",
    "plot_model(tuned_et, plot = 'residuals')"
   ]
  },
  {
   "cell_type": "code",
   "execution_count": null,
   "metadata": {},
   "outputs": [],
   "source": [
    "#finalizamos el modelo con los hiperparámetros\n",
    "final_et = finalize_model(tuned_et)"
   ]
  },
  {
   "cell_type": "code",
   "execution_count": null,
   "metadata": {},
   "outputs": [],
   "source": [
    "#guardamos el modelo\n",
    "save_model(final_et, 'models/pycaret_ET')"
   ]
  }
 ],
 "metadata": {
  "kernelspec": {
   "display_name": "mi_entorno",
   "language": "python",
   "name": "python3"
  },
  "language_info": {
   "codemirror_mode": {
    "name": "ipython",
    "version": 3
   },
   "file_extension": ".py",
   "mimetype": "text/x-python",
   "name": "python",
   "nbconvert_exporter": "python",
   "pygments_lexer": "ipython3",
   "version": "3.10.10"
  }
 },
 "nbformat": 4,
 "nbformat_minor": 2
}
